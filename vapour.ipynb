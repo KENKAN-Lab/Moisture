{
 "cells": [
  {
   "cell_type": "code",
   "execution_count": 1,
   "metadata": {},
   "outputs": [
    {
     "name": "stdout",
     "output_type": "stream",
     "text": [
      "Importing Jupyter notebook from moisture_conversion.ipynb\n",
      "Importing Jupyter notebook from vapour_pressure.ipynb\n"
     ]
    }
   ],
   "source": [
    "import nbimporter\n",
    "import moisture_conversion as mc"
   ]
  },
  {
   "cell_type": "markdown",
   "metadata": {},
   "source": [
    "# 水蒸気温度・水分の状態を保持するモジュール"
   ]
  },
  {
   "cell_type": "code",
   "execution_count": 11,
   "metadata": {},
   "outputs": [],
   "source": [
    "class info():\n",
    "    \n",
    "    # 初期に値を与える必要はないと思い削除しました\n",
    "    #def __init__(self, temp, miu):\n",
    "    #    self.temp = temp\n",
    "    #    self.miu = miu\n",
    "    \n",
    "    # temp\n",
    "    \n",
    "    def set_temp(self, temp):\n",
    "        self.temp = temp\n",
    "    \n",
    "    def get_temp(self):\n",
    "        return self.temp\n",
    "\n",
    "    # miu\n",
    "    \n",
    "    def set_miu(self, miu):\n",
    "        self.miu = miu\n",
    "        # 水蒸気の水分化学ポテンシャルは飽和水蒸気圧に対する相対的な値であるのでmiu - pv - rhは必ず一対一対応となる。\n",
    "        self.pv  = mc.convertMiu2Pv( self.temp, self.miu )\n",
    "        self.rh  = mc.convertMiu2RH( self.temp, self.miu )\n",
    "        \n",
    "    def get_miu(self):\n",
    "        return self.miu\n",
    "\n",
    "        # 以下同じ\n",
    "    \n",
    "    # pv\n",
    "    \n",
    "    def set_pv(self, pv):\n",
    "        self.pv  = pv\n",
    "        self.miu = mc.convertPv2Miu(self.temp, pv)\n",
    "        self.rh  = mc.convertPv2RH (self.temp, pv)\n",
    "    \n",
    "    def get_pv(self):\n",
    "        return self.pv\n",
    "    \n",
    "    # RH\n",
    "    \n",
    "    def set_RH(self, rh):\n",
    "        self.rh  = rh\n",
    "        self.miu = mc.convertRH2Miu(self.temp, self.rh)\n",
    "        self.pv  = mc.convertRH2Pv (self.temp, self.rh)\n",
    "        \n",
    "    def get_RH(self):\n",
    "        return self.rh   "
   ]
  },
  {
   "cell_type": "code",
   "execution_count": 16,
   "metadata": {},
   "outputs": [
    {
     "data": {
      "text/plain": [
       "-69122.37948733423"
      ]
     },
     "execution_count": 16,
     "metadata": {},
     "output_type": "execute_result"
    }
   ],
   "source": [
    "# 使用例\n",
    "v = info()\n",
    "v.set_temp( 293.15 )\n",
    "v.set_RH( 0.6 )\n",
    "v.get_miu()"
   ]
  },
  {
   "cell_type": "code",
   "execution_count": null,
   "metadata": {},
   "outputs": [],
   "source": []
  }
 ],
 "metadata": {
  "kernelspec": {
   "display_name": "Python 3",
   "language": "python",
   "name": "python3"
  },
  "language_info": {
   "codemirror_mode": {
    "name": "ipython",
    "version": 3
   },
   "file_extension": ".py",
   "mimetype": "text/x-python",
   "name": "python",
   "nbconvert_exporter": "python",
   "pygments_lexer": "ipython3",
   "version": "3.6.5"
  }
 },
 "nbformat": 4,
 "nbformat_minor": 2
}
