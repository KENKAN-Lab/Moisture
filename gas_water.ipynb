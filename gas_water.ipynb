{
 "cells": [
  {
   "cell_type": "code",
   "execution_count": 1,
   "metadata": {},
   "outputs": [
    {
     "name": "stdout",
     "output_type": "stream",
     "text": [
      "Importing Jupyter notebook from moisture_conversion.ipynb\n",
      "Importing Jupyter notebook from vapour_pressure.ipynb\n"
     ]
    }
   ],
   "source": [
    "import nbimporter\n",
    "import moisture_conversion as mc"
   ]
  },
  {
   "cell_type": "markdown",
   "metadata": {},
   "source": [
    "# 温度・水分の状態を保持するモジュール"
   ]
  },
  {
   "cell_type": "markdown",
   "metadata": {},
   "source": [
    "水蒸気の状態を保持するクラスを作成する。  \n",
    "水蒸気の状態を表す方法として以下の4つの方法が挙げられる。  \n",
    "\n",
    "- $RH$ 相対湿度(0.0~1.0)\n",
    "- $\\mu$ 水分化学ポテンシャル, J kg<sup>-1<sup>\n",
    "- $P_v$ 水蒸気圧, Pa\n",
    "- $X$ 絶対湿度, kg kg<sup>-1</sup>DA  \n",
    "\n",
    "ここでは、相対湿度・水分化学ポテンシャル・水蒸気圧　の3つの方法で状態を保持するクラスを用意し、変数を作る時に使い分けることにする。3つのクラスのどれを使用しても計算結果にほとんど差は見られないが、内部的にコンバートする処理をなるべく少なくし計算を高速化させる意味でも、プログラム内で最も良く使う水分状態量と同じクラスを使用することが望ましい。"
   ]
  },
  {
   "cell_type": "markdown",
   "metadata": {},
   "source": [
    "## クラス定義"
   ]
  },
  {
   "cell_type": "markdown",
   "metadata": {},
   "source": [
    "### 1) 水分化学ポテンシャルベース  \n",
    "\n",
    "各コマンドの用途と名称  \n",
    "\n",
    "class = MiuBasedMoisture( temp, miu )　とする。    \n",
    "\n",
    "- class.temp　：　温度を出力する。  \n",
    "- class.miu　：　水分化学ポテンシャルを出力する。  \n",
    "- class.rh　：　相対湿度を計算する。  \n",
    "- class.pv　：　水蒸気圧を計算する。  \n",
    "\n",
    "\n",
    "- class.set_temp　：　クラスに温度を再設定する。  \n",
    "- class.set_miu　：　クラスに水分化学ポテンシャルを再設定する。  \n",
    "- class.set_rh　：　クラスに相対湿度から算出した水分化学ポテンシャルを再設定する。  \n",
    "- class.set_pv　：　クラスに水蒸気圧から算出した水分化学ポテンシャルを再設定する。"
   ]
  },
  {
   "cell_type": "code",
   "execution_count": 2,
   "metadata": {},
   "outputs": [],
   "source": [
    "class MiuBasedMoisture():\n",
    "    \n",
    "    def __init__(self, temp, miu):\n",
    "        self._temp = temp\n",
    "        self._miu = miu\n",
    "    \n",
    "    # temp\n",
    "    \n",
    "    def set_temp(self, temp):\n",
    "        self._temp = temp\n",
    "    \n",
    "    def get_temp(self):\n",
    "        return self._temp\n",
    "    \n",
    "    temp = property(get_temp, set_temp)\n",
    "\n",
    "    # miu\n",
    "    \n",
    "    def set_miu(self, miu):\n",
    "        self._miu = miu\n",
    "        \n",
    "    def get_miu(self):\n",
    "        return self._miu\n",
    "    \n",
    "    miu = property(get_miu, set_miu)\n",
    "    \n",
    "    # pv\n",
    "    \n",
    "    def set_pv(self, pv):\n",
    "        self._miu = mc.convertPv2Miu(self._temp, pv)\n",
    "    \n",
    "    def get_pv(self):\n",
    "        return mc.convertMiu2Pv(self._temp, self._miu)\n",
    "    \n",
    "    pv = property(get_pv, set_pv)\n",
    "    \n",
    "    # RH\n",
    "    \n",
    "    def set_RH(self, rh):\n",
    "        self._miu = mc.convertRH2Miu(self._temp, rh)\n",
    "        \n",
    "    def get_RH(self):\n",
    "        return mc.convertMiu2RH(self._temp, self._miu)    \n",
    "    \n",
    "    rh = property(get_RH, set_RH)"
   ]
  },
  {
   "cell_type": "markdown",
   "metadata": {},
   "source": [
    "### 2) 相対湿度ベース"
   ]
  },
  {
   "cell_type": "code",
   "execution_count": 3,
   "metadata": {},
   "outputs": [],
   "source": [
    "class RHBasedMoisture():\n",
    "    \n",
    "    def __init__(self, temp, rh):\n",
    "        self._temp = temp\n",
    "        self._rh = rh\n",
    "    \n",
    "    # temp\n",
    "    \n",
    "    def set_temp(self, temp):\n",
    "        self._temp = temp\n",
    "    \n",
    "    def get_temp(self):\n",
    "        return self._temp\n",
    "\n",
    "    temp = property(get_temp, set_temp)\n",
    "\n",
    "    # miu\n",
    "    \n",
    "    def set_miu(self, miu):\n",
    "        self._rh = mc.convertMiu2RH(self._temp, miu)\n",
    "        \n",
    "    def get_miu(self):\n",
    "        return mc.convertRH2Miu(self._temp, self._rh)\n",
    "    \n",
    "    miu = property(get_miu, set_miu)\n",
    "\n",
    "    # pv\n",
    "    \n",
    "    def set_pv(self, pv):\n",
    "        self._rh = mc.convertPv2RH(self._temp, pv)\n",
    "    \n",
    "    def get_pv(self):\n",
    "        return mc.convertRH2Pv(self._temp, self._rh)\n",
    "    \n",
    "    pv = property(get_pv, set_pv)\n",
    "\n",
    "    # RH\n",
    "    \n",
    "    def set_RH(self, rh):\n",
    "        self._rh = rh\n",
    "        \n",
    "    def get_RH(self):\n",
    "        return self._rh\n",
    "\n",
    "    rh = property(get_RH, set_RH)"
   ]
  },
  {
   "cell_type": "markdown",
   "metadata": {},
   "source": [
    "### 3) 水蒸気圧ベース"
   ]
  },
  {
   "cell_type": "code",
   "execution_count": 4,
   "metadata": {},
   "outputs": [],
   "source": [
    "class PVBasedMoisture():\n",
    "    \n",
    "    def __init__(self, temp, pv):\n",
    "        self._temp = temp\n",
    "        self._pv = pv\n",
    "    \n",
    "    # temp\n",
    "    \n",
    "    def set_temp(self, temp):\n",
    "        self._temp = temp\n",
    "    \n",
    "    def get_temp(self):\n",
    "        return self._temp\n",
    "\n",
    "    temp = property(get_temp, set_temp)\n",
    "\n",
    "    # miu\n",
    "    \n",
    "    def set_miu(self, miu):\n",
    "        self._pv = mc.convertMiu2Pv(self._temp, miu)\n",
    "        \n",
    "    def get_miu(self):\n",
    "        return mc.convertPv2Miu(self._temp, self._pv)\n",
    "    \n",
    "    miu = property(get_miu, set_miu)\n",
    "\n",
    "    # pv\n",
    "    \n",
    "    def set_pv(self, pv):\n",
    "        self._pv = pv\n",
    "    \n",
    "    def get_pv(self):\n",
    "        return self._pv\n",
    "    \n",
    "    pv = property(get_pv, set_pv)\n",
    "\n",
    "    # RH\n",
    "    \n",
    "    def set_RH(self, rh):\n",
    "        self._pv = mc.convertRH2Pv(self._temp, rh)\n",
    "        \n",
    "    def get_RH(self):\n",
    "        return mc.convertPv2RH(self._temp, self._pv)\n",
    "    \n",
    "    rh = property(get_RH, set_RH)"
   ]
  },
  {
   "cell_type": "markdown",
   "metadata": {},
   "source": [
    "## 使い方"
   ]
  },
  {
   "cell_type": "markdown",
   "metadata": {},
   "source": [
    "変数の宣言  \n",
    "例として、\n",
    "\n",
    "- 絶対温度 300 K\n",
    "- 相対湿度 0.5(50%)  \n",
    "\n",
    "とする。"
   ]
  },
  {
   "cell_type": "code",
   "execution_count": 5,
   "metadata": {},
   "outputs": [],
   "source": [
    "m1 = RHBasedMoisture(temp=300.0, rh=0.5)"
   ]
  },
  {
   "cell_type": "markdown",
   "metadata": {},
   "source": [
    "温度の取得"
   ]
  },
  {
   "cell_type": "code",
   "execution_count": 6,
   "metadata": {},
   "outputs": [
    {
     "data": {
      "text/plain": [
       "300.0"
      ]
     },
     "execution_count": 6,
     "metadata": {},
     "output_type": "execute_result"
    }
   ],
   "source": [
    "m1.temp"
   ]
  },
  {
   "cell_type": "markdown",
   "metadata": {},
   "source": [
    "相対湿度の取得"
   ]
  },
  {
   "cell_type": "code",
   "execution_count": 7,
   "metadata": {},
   "outputs": [
    {
     "data": {
      "text/plain": [
       "0.5"
      ]
     },
     "execution_count": 7,
     "metadata": {},
     "output_type": "execute_result"
    }
   ],
   "source": [
    "m1.rh"
   ]
  },
  {
   "cell_type": "markdown",
   "metadata": {},
   "source": [
    "水分化学ポテンシャルの取得"
   ]
  },
  {
   "cell_type": "code",
   "execution_count": 8,
   "metadata": {},
   "outputs": [
    {
     "data": {
      "text/plain": [
       "-95984.87933286809"
      ]
     },
     "execution_count": 8,
     "metadata": {},
     "output_type": "execute_result"
    }
   ],
   "source": [
    "m1.miu"
   ]
  },
  {
   "cell_type": "markdown",
   "metadata": {},
   "source": [
    "水蒸気圧の取得"
   ]
  },
  {
   "cell_type": "code",
   "execution_count": 9,
   "metadata": {},
   "outputs": [
    {
     "data": {
      "text/plain": [
       "1768.0065133034425"
      ]
     },
     "execution_count": 9,
     "metadata": {},
     "output_type": "execute_result"
    }
   ],
   "source": [
    "m1.pv"
   ]
  },
  {
   "cell_type": "markdown",
   "metadata": {},
   "source": [
    "同様に、水分化学ポテンシャルベースで以下の状態量を宣言する。\n",
    "\n",
    "- 絶対温度 300.0 K\n",
    "- 水分化学ポテンシャル -95984.87933286809\n",
    "\n",
    "なお、上記の値は、300K, RH = 50% の状態と同じである。 "
   ]
  },
  {
   "cell_type": "code",
   "execution_count": 10,
   "metadata": {},
   "outputs": [],
   "source": [
    "m2 = MiuBasedMoisture(temp=300.0, miu=-95984.87933286809)"
   ]
  },
  {
   "cell_type": "markdown",
   "metadata": {},
   "source": [
    "相対湿度の取得"
   ]
  },
  {
   "cell_type": "code",
   "execution_count": 11,
   "metadata": {},
   "outputs": [
    {
     "data": {
      "text/plain": [
       "0.5000000000000001"
      ]
     },
     "execution_count": 11,
     "metadata": {},
     "output_type": "execute_result"
    }
   ],
   "source": [
    "m2.rh"
   ]
  },
  {
   "cell_type": "markdown",
   "metadata": {},
   "source": [
    "水分化学ポテンシャルの取得"
   ]
  },
  {
   "cell_type": "code",
   "execution_count": 12,
   "metadata": {},
   "outputs": [
    {
     "data": {
      "text/plain": [
       "-95984.87933286809"
      ]
     },
     "execution_count": 12,
     "metadata": {},
     "output_type": "execute_result"
    }
   ],
   "source": [
    "m2.miu"
   ]
  },
  {
   "cell_type": "markdown",
   "metadata": {},
   "source": [
    "水蒸気圧の取得"
   ]
  },
  {
   "cell_type": "code",
   "execution_count": 13,
   "metadata": {},
   "outputs": [
    {
     "data": {
      "text/plain": [
       "1768.006513303443"
      ]
     },
     "execution_count": 13,
     "metadata": {},
     "output_type": "execute_result"
    }
   ],
   "source": [
    "m2.pv"
   ]
  },
  {
   "cell_type": "markdown",
   "metadata": {},
   "source": [
    "同様に、水蒸気圧ベースで以下の状態量を宣言する。\n",
    "\n",
    "- 絶対温度 300.0 K\n",
    "- 水蒸気圧 1768.006513303443 Pa\n",
    "\n",
    "なお、上記の値は、300K, RH = 50% の状態と同じである。 "
   ]
  },
  {
   "cell_type": "code",
   "execution_count": 14,
   "metadata": {},
   "outputs": [],
   "source": [
    "m3 = PVBasedMoisture(temp=300.0, pv=1768.006513303443)"
   ]
  },
  {
   "cell_type": "markdown",
   "metadata": {},
   "source": [
    "相対湿度の取得"
   ]
  },
  {
   "cell_type": "code",
   "execution_count": 15,
   "metadata": {},
   "outputs": [
    {
     "data": {
      "text/plain": [
       "0.5000000000000001"
      ]
     },
     "execution_count": 15,
     "metadata": {},
     "output_type": "execute_result"
    }
   ],
   "source": [
    "m3.rh"
   ]
  },
  {
   "cell_type": "markdown",
   "metadata": {},
   "source": [
    "水分化学ポテンシャルの取得"
   ]
  },
  {
   "cell_type": "code",
   "execution_count": 16,
   "metadata": {},
   "outputs": [
    {
     "data": {
      "text/plain": [
       "-95984.87933286806"
      ]
     },
     "execution_count": 16,
     "metadata": {},
     "output_type": "execute_result"
    }
   ],
   "source": [
    "m3.miu"
   ]
  },
  {
   "cell_type": "markdown",
   "metadata": {},
   "source": [
    "水蒸気圧の取得"
   ]
  },
  {
   "cell_type": "code",
   "execution_count": 17,
   "metadata": {},
   "outputs": [
    {
     "data": {
      "text/plain": [
       "1768.006513303443"
      ]
     },
     "execution_count": 17,
     "metadata": {},
     "output_type": "execute_result"
    }
   ],
   "source": [
    "m3.pv"
   ]
  },
  {
   "cell_type": "markdown",
   "metadata": {},
   "source": [
    "どの方法で宣言しても、計算結果は同じになる。ただし、それぞれ、内部的に水分状態をコンバートしているか否かはクラスごとに異なる。"
   ]
  },
  {
   "cell_type": "markdown",
   "metadata": {},
   "source": [
    "また、このクラスはさまざまな関数で利用されることが想定される。例えば以下のように水蒸気圧差を出す関数があったとしよう。"
   ]
  },
  {
   "cell_type": "code",
   "execution_count": 18,
   "metadata": {},
   "outputs": [],
   "source": [
    "def get_pv_dif(m1, m2):\n",
    "    return m1.pv - m2.pv"
   ]
  },
  {
   "cell_type": "markdown",
   "metadata": {},
   "source": [
    "3つのクラスの全てで同じ名前の関数を用意しているため、どのタイプのクラスを引数にしようが、変数宣言後は内部的に何の値で水分状態を保持しているのかを全く意識せずにコーディング可能である。"
   ]
  },
  {
   "cell_type": "code",
   "execution_count": 19,
   "metadata": {},
   "outputs": [],
   "source": [
    "m_a1 = RHBasedMoisture(temp=300.0, rh=0.5)\n",
    "m_a2 = MiuBasedMoisture(temp=300.0, miu=-95984.87933286809)\n",
    "m_a3 = PVBasedMoisture(temp=300.0, pv=1768.006513303443)"
   ]
  },
  {
   "cell_type": "code",
   "execution_count": 20,
   "metadata": {},
   "outputs": [],
   "source": [
    "m_b1 = RHBasedMoisture(temp=300.0, rh=0.3)\n",
    "m_b2 = MiuBasedMoisture(temp=300.0, miu=-166722.43296138686)\n",
    "m_b3 = PVBasedMoisture(temp=300.0, pv=1060.8039079820655)"
   ]
  },
  {
   "cell_type": "markdown",
   "metadata": {},
   "source": [
    "変数 m_a1, m_a2, m_a3 はどれも表現方法が異なるだけで、同じ状態である。  \n",
    "m_b1, m_b2, m_b3 も同様である。\n",
    "これらを組み合わせた結果をどれも同じである。"
   ]
  },
  {
   "cell_type": "code",
   "execution_count": 21,
   "metadata": {},
   "outputs": [
    {
     "data": {
      "text/plain": [
       "707.202605321377"
      ]
     },
     "execution_count": 21,
     "metadata": {},
     "output_type": "execute_result"
    }
   ],
   "source": [
    "get_pv_dif(m_a1, m_b1)"
   ]
  },
  {
   "cell_type": "code",
   "execution_count": 22,
   "metadata": {},
   "outputs": [
    {
     "data": {
      "text/plain": [
       "707.2026053213774"
      ]
     },
     "execution_count": 22,
     "metadata": {},
     "output_type": "execute_result"
    }
   ],
   "source": [
    "get_pv_dif(m_a2, m_b2)"
   ]
  },
  {
   "cell_type": "code",
   "execution_count": 23,
   "metadata": {},
   "outputs": [
    {
     "data": {
      "text/plain": [
       "707.2026053213774"
      ]
     },
     "execution_count": 23,
     "metadata": {},
     "output_type": "execute_result"
    }
   ],
   "source": [
    "get_pv_dif(m_a3, m_b3)"
   ]
  },
  {
   "cell_type": "markdown",
   "metadata": {},
   "source": [
    "異なるクラスをミックスして使用することも可能である。"
   ]
  },
  {
   "cell_type": "code",
   "execution_count": 24,
   "metadata": {},
   "outputs": [
    {
     "data": {
      "text/plain": [
       "707.202605321377"
      ]
     },
     "execution_count": 24,
     "metadata": {},
     "output_type": "execute_result"
    }
   ],
   "source": [
    "get_pv_dif(m_a1, m_b2)"
   ]
  },
  {
   "cell_type": "code",
   "execution_count": 25,
   "metadata": {},
   "outputs": [
    {
     "data": {
      "text/plain": [
       "707.202605321377"
      ]
     },
     "execution_count": 25,
     "metadata": {},
     "output_type": "execute_result"
    }
   ],
   "source": [
    "get_pv_dif(m_a1, m_b3)"
   ]
  },
  {
   "cell_type": "code",
   "execution_count": 26,
   "metadata": {},
   "outputs": [
    {
     "data": {
      "text/plain": [
       "707.2026053213774"
      ]
     },
     "execution_count": 26,
     "metadata": {},
     "output_type": "execute_result"
    }
   ],
   "source": [
    "get_pv_dif(m_a2, m_b1)"
   ]
  },
  {
   "cell_type": "code",
   "execution_count": 27,
   "metadata": {},
   "outputs": [
    {
     "data": {
      "text/plain": [
       "707.2026053213774"
      ]
     },
     "execution_count": 27,
     "metadata": {},
     "output_type": "execute_result"
    }
   ],
   "source": [
    "get_pv_dif(m_a2, m_b3)"
   ]
  },
  {
   "cell_type": "code",
   "execution_count": 28,
   "metadata": {},
   "outputs": [
    {
     "data": {
      "text/plain": [
       "707.2026053213774"
      ]
     },
     "execution_count": 28,
     "metadata": {},
     "output_type": "execute_result"
    }
   ],
   "source": [
    "get_pv_dif(m_a3, m_b1)"
   ]
  },
  {
   "cell_type": "code",
   "execution_count": 29,
   "metadata": {},
   "outputs": [
    {
     "data": {
      "text/plain": [
       "707.2026053213774"
      ]
     },
     "execution_count": 29,
     "metadata": {},
     "output_type": "execute_result"
    }
   ],
   "source": [
    "get_pv_dif(m_a3, m_b2)"
   ]
  },
  {
   "cell_type": "code",
   "execution_count": null,
   "metadata": {},
   "outputs": [],
   "source": []
  },
  {
   "cell_type": "markdown",
   "metadata": {},
   "source": [
    "## Description"
   ]
  },
  {
   "cell_type": "markdown",
   "metadata": {},
   "source": [
    "水蒸気の状態量は以下の4つの方法で表現が可能である。  \n",
    "\n",
    "- $RH$ 相対湿度(0.0~1.0)\n",
    "- $\\mu$ 水分化学ポテンシャル, J kg<sup>-1<sup>\n",
    "- $P_v$ 水蒸気圧, Pa\n",
    "- $X$ 絶対湿度, kg kg<sup>-1</sup>DA  \n",
    "    \n",
    "それぞれの物理的意味は、鉾井修一ら；エース建築環境工学Ⅱより  \n",
    "### $RH$：相対湿度\n",
    "空中の水蒸気圧fの、その温度における飽和水蒸気圧fsに対する割合を百分率で表したものであり、  \n",
    "\n",
    "$RH = \\frac{f}{f_s}×100$  \n",
    "    \n",
    "### $P_v$：水蒸気圧\n",
    "空気中に含まれている水蒸気の分圧を水蒸気圧（vapour pressure）f[Pa]という。  \n",
    "空間1m<sup>3</sup>中に含みうる水蒸気の量は、温度に応じて限界あり、その温度における限界量を含んだときの水蒸気圧を飽和水蒸気圧という。  \n",
    "これをfs[Pa]とすると、fsは温度[T]とともに大きくなるが、その関係式についてはゴフ―グラッチ（Goff-Gratch）、ゾンタック（Sonntag）、ウェクスラーハイランド（Wexler-Hyland）などが有名であろう。\n",
    "    \n",
    "- Goff-Gratchの飽和水蒸気圧式：  \n",
    "    $log(f_s) = -7.90298 (373.16/T-1) + 5.02808 log(373.16/T) - 1.3816 10^{-7}(10^{11.344 (1-T/373.16)} -1) + 8.1328 10^{-3} (10{-3.49149(373.16/T-1)} -1) + log(1013.246)$ \n",
    "  \n",
    "  \n",
    "- Sonntagの飽和水蒸気圧式：  \n",
    "    $ln(f_s) = -6096.9385 / T + 16.635794 - 2.711193 10^{-2} T + 1.673952 10^{-5} T^{2} + 2.433502 ln(T)$  \n",
    "  \n",
    "  \n",
    "- Wexler-Hylandの飽和水蒸気圧式：  \n",
    "    $ln(f_s) = -0.58002206104 / T + 0.13914993 10^1 - 0.48640239 10^{-1} T + 0.41764768 10^{-4} T^{2} - 0.14452093 10^{-7} T^{3} + 0.65459673 10^{1}ln(T) $\n",
    "\n",
    "### $X$ ：絶対湿度\n",
    "湿り空気中の乾燥空気1kg'当りに含まれる水分量がX[kg]のとき、この空気の絶対湿度（absolute humidity）はX[kg/kg']であるという。水分が水蒸気のみである場合には、絶対湿度と水蒸気圧の関係は、  \n",
    "\n",
    "$X = 0.622×f/(F-f)$\n",
    "\n",
    "ここでFは大気圧である。\n",
    "絶対湿度は空気が除湿または吸湿されない限り、温度が変わっても変化しない。  \n",
    "\n",
    "### $\\mu$：水分化学ポテンシャル  \n",
    "化学ポテンシャルはJ.W.Gibbsにより提唱された状態変数の一つであり、1molあたりのギブスの自由エネルギーと定義される。  \n",
    "ここで一般に1kg当たりのエネルギー量とした方が簡便であることから、水蒸気の化学ポテンシャルは飽和時の水蒸気圧を基準として以下のように定められる。 \n",
    "\n",
    "$\\mu = R_v T log(RH)$ [J/kg] \n",
    "\n",
    "Rvは水蒸気の気体定数である。"
   ]
  },
  {
   "cell_type": "code",
   "execution_count": null,
   "metadata": {},
   "outputs": [],
   "source": []
  }
 ],
 "metadata": {
  "kernelspec": {
   "display_name": "Python 3",
   "language": "python",
   "name": "python3"
  },
  "language_info": {
   "codemirror_mode": {
    "name": "ipython",
    "version": 3
   },
   "file_extension": ".py",
   "mimetype": "text/x-python",
   "name": "python",
   "nbconvert_exporter": "python",
   "pygments_lexer": "ipython3",
   "version": "3.6.5"
  }
 },
 "nbformat": 4,
 "nbformat_minor": 2
}
