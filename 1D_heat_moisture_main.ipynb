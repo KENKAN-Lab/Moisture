{
 "cells": [
  {
   "cell_type": "code",
   "execution_count": 1,
   "metadata": {},
   "outputs": [
    {
     "name": "stdout",
     "output_type": "stream",
     "text": [
      "Importing Jupyter notebook from balance_equation.ipynb\n",
      "Importing Jupyter notebook from property_conversion.ipynb\n",
      "Importing Jupyter notebook from vapour_pressure.ipynb\n",
      "Importing Jupyter notebook from moisture_conversion.ipynb\n"
     ]
    }
   ],
   "source": [
    "import nbimporter\n",
    "import numpy as np\n",
    "import matplotlib.pyplot as plt\n",
    "import time\n",
    "import balance_equation\n",
    "import property_conversion  as prop\n",
    "import moisture_conversion as mc"
   ]
  },
  {
   "cell_type": "markdown",
   "metadata": {},
   "source": [
    "### 1次元モデルの差分計算をするためのモデュール"
   ]
  },
  {
   "cell_type": "markdown",
   "metadata": {},
   "source": [
    "#### クラス：Cell( i )  \n",
    "構造体としてのクラス  \n",
    "\n",
    "物理情報  \n",
    "・i：セルの位置    \n",
    "・dx：セルの大きさ  \n",
    "・material：材料の種類  \n",
    "\n",
    "環境情報  \n",
    "・temp：温度  \n",
    "・rh：相対湿度  \n",
    "・miu：水分化学ポテンシャル  \n",
    "・pv：水蒸気圧  \n",
    "\n",
    "物性情報  \n",
    "・crow：熱容量（比熱×密度）  \n",
    "・lam：熱伝達率  \n",
    "・phi：含水率\n",
    "・dphi：含水率の水分化学ポテンシャル微分  \n",
    "・ldp：透湿率  \n",
    "・ldml：水分化学ポテンシャル勾配に対する液相水分伝導率"
   ]
  },
  {
   "cell_type": "code",
   "execution_count": 2,
   "metadata": {},
   "outputs": [],
   "source": [
    "class  Cell():\n",
    "    def __init__( self, i ):\n",
    "        self.position = i\n",
    "    \n",
    "    # cell information\n",
    "    def setMaterial( self, initial=0.0 ):\n",
    "        self.material = initial\n",
    "    def setDx( self, initial = 0.0 ):\n",
    "        self.dx = initial \n",
    "    \n",
    "    # initial condition\n",
    "    def setTemp( self, initial = 0.0 ):\n",
    "        self.temp = initial\n",
    "    def setRH( self, initial=0.0  ):\n",
    "        self.rh = initial\n",
    "    def setMiu( self, initial=0.0 ):\n",
    "        self.miu = initial\n",
    "    def setPv( self, initial=0.0 ):\n",
    "        self.pv = initial\n",
    "        \n",
    "    # physical property\n",
    "    def setCRow( self, initial=0.0):\n",
    "        self.crow = initial\n",
    "    def setLAM( self, initial=0.0):\n",
    "        self.lam = initial\n",
    "    def setPhi( self, initial=0.0):\n",
    "        self.phi = initial\n",
    "    def setDPhi( self, initial=0.0):\n",
    "        self.dphi = initial\n",
    "    def setLDP(self,initial=0.0):\n",
    "        self.ldp = initial\n",
    "    def setLDML( self, initial=0.0):\n",
    "        self.ldml = initial\n",
    "    "
   ]
  },
  {
   "cell_type": "code",
   "execution_count": 3,
   "metadata": {},
   "outputs": [
    {
     "ename": "AttributeError",
     "evalue": "module 'moisture_conversion' has no attribute 'cal_RHtoPv'",
     "output_type": "error",
     "traceback": [
      "\u001b[1;31m---------------------------------------------------------------------------\u001b[0m",
      "\u001b[1;31mAttributeError\u001b[0m                            Traceback (most recent call last)",
      "\u001b[1;32m<ipython-input-3-f1f81d64e8fa>\u001b[0m in \u001b[0;36m<module>\u001b[1;34m()\u001b[0m\n\u001b[0;32m      4\u001b[0m \u001b[1;33m[\u001b[0m \u001b[0mc\u001b[0m\u001b[1;33m[\u001b[0m\u001b[0mi\u001b[0m\u001b[1;33m]\u001b[0m\u001b[1;33m.\u001b[0m\u001b[0msetDx\u001b[0m\u001b[1;33m(\u001b[0m\u001b[1;36m0.01\u001b[0m\u001b[1;33m*\u001b[0m\u001b[0mi\u001b[0m\u001b[1;33m)\u001b[0m \u001b[1;32mfor\u001b[0m \u001b[0mi\u001b[0m \u001b[1;32min\u001b[0m \u001b[0mrange\u001b[0m\u001b[1;33m(\u001b[0m\u001b[1;36m10\u001b[0m\u001b[1;33m)\u001b[0m\u001b[1;33m]\u001b[0m\u001b[1;33m\u001b[0m\u001b[0m\n\u001b[0;32m      5\u001b[0m \u001b[1;33m[\u001b[0m \u001b[0mc\u001b[0m\u001b[1;33m[\u001b[0m\u001b[0mi\u001b[0m\u001b[1;33m]\u001b[0m\u001b[1;33m.\u001b[0m\u001b[0msetTemp\u001b[0m\u001b[1;33m(\u001b[0m\u001b[1;36m293.16\u001b[0m\u001b[1;33m+\u001b[0m\u001b[0mi\u001b[0m\u001b[1;33m)\u001b[0m \u001b[1;32mfor\u001b[0m \u001b[0mi\u001b[0m \u001b[1;32min\u001b[0m \u001b[0mrange\u001b[0m\u001b[1;33m(\u001b[0m\u001b[1;36m10\u001b[0m\u001b[1;33m)\u001b[0m\u001b[1;33m]\u001b[0m\u001b[1;33m\u001b[0m\u001b[0m\n\u001b[1;32m----> 6\u001b[1;33m \u001b[1;33m[\u001b[0m \u001b[0mc\u001b[0m\u001b[1;33m[\u001b[0m\u001b[0mi\u001b[0m\u001b[1;33m]\u001b[0m\u001b[1;33m.\u001b[0m\u001b[0msetPv\u001b[0m\u001b[1;33m(\u001b[0m \u001b[0mmc\u001b[0m\u001b[1;33m.\u001b[0m\u001b[0mcal_RHtoPv\u001b[0m\u001b[1;33m(\u001b[0m \u001b[0mc\u001b[0m\u001b[1;33m[\u001b[0m\u001b[0mi\u001b[0m\u001b[1;33m]\u001b[0m\u001b[1;33m.\u001b[0m\u001b[0mtemp\u001b[0m\u001b[1;33m,\u001b[0m \u001b[1;36m0.6\u001b[0m \u001b[1;33m)\u001b[0m \u001b[1;33m)\u001b[0m \u001b[1;32mfor\u001b[0m \u001b[0mi\u001b[0m \u001b[1;32min\u001b[0m \u001b[0mrange\u001b[0m\u001b[1;33m(\u001b[0m\u001b[1;36m10\u001b[0m\u001b[1;33m)\u001b[0m\u001b[1;33m]\u001b[0m\u001b[1;33m\u001b[0m\u001b[0m\n\u001b[0m\u001b[0;32m      7\u001b[0m \u001b[1;33m[\u001b[0m \u001b[0mc\u001b[0m\u001b[1;33m[\u001b[0m\u001b[0mi\u001b[0m\u001b[1;33m]\u001b[0m\u001b[1;33m.\u001b[0m\u001b[0msetMiu\u001b[0m\u001b[1;33m(\u001b[0m \u001b[0mmc\u001b[0m\u001b[1;33m.\u001b[0m\u001b[0mcal_RHtoMiu\u001b[0m\u001b[1;33m(\u001b[0m \u001b[0mc\u001b[0m\u001b[1;33m[\u001b[0m\u001b[0mi\u001b[0m\u001b[1;33m]\u001b[0m\u001b[1;33m.\u001b[0m\u001b[0mtemp\u001b[0m\u001b[1;33m,\u001b[0m \u001b[1;36m0.6\u001b[0m \u001b[1;33m)\u001b[0m \u001b[1;33m)\u001b[0m \u001b[1;32mfor\u001b[0m \u001b[0mi\u001b[0m \u001b[1;32min\u001b[0m \u001b[0mrange\u001b[0m\u001b[1;33m(\u001b[0m\u001b[1;36m10\u001b[0m\u001b[1;33m)\u001b[0m\u001b[1;33m]\u001b[0m\u001b[1;33m\u001b[0m\u001b[0m\n\u001b[0;32m      8\u001b[0m \u001b[1;33m[\u001b[0m \u001b[0mc\u001b[0m\u001b[1;33m[\u001b[0m\u001b[0mi\u001b[0m\u001b[1;33m]\u001b[0m\u001b[1;33m.\u001b[0m\u001b[0msetLAM\u001b[0m\u001b[1;33m(\u001b[0m  \u001b[1;36m10\u001b[0m  \u001b[1;33m)\u001b[0m \u001b[1;32mfor\u001b[0m \u001b[0mi\u001b[0m \u001b[1;32min\u001b[0m \u001b[0mrange\u001b[0m\u001b[1;33m(\u001b[0m \u001b[1;36m10\u001b[0m \u001b[1;33m)\u001b[0m\u001b[1;33m]\u001b[0m\u001b[1;33m\u001b[0m\u001b[0m\n",
      "\u001b[1;32m<ipython-input-3-f1f81d64e8fa>\u001b[0m in \u001b[0;36m<listcomp>\u001b[1;34m(.0)\u001b[0m\n\u001b[0;32m      4\u001b[0m \u001b[1;33m[\u001b[0m \u001b[0mc\u001b[0m\u001b[1;33m[\u001b[0m\u001b[0mi\u001b[0m\u001b[1;33m]\u001b[0m\u001b[1;33m.\u001b[0m\u001b[0msetDx\u001b[0m\u001b[1;33m(\u001b[0m\u001b[1;36m0.01\u001b[0m\u001b[1;33m*\u001b[0m\u001b[0mi\u001b[0m\u001b[1;33m)\u001b[0m \u001b[1;32mfor\u001b[0m \u001b[0mi\u001b[0m \u001b[1;32min\u001b[0m \u001b[0mrange\u001b[0m\u001b[1;33m(\u001b[0m\u001b[1;36m10\u001b[0m\u001b[1;33m)\u001b[0m\u001b[1;33m]\u001b[0m\u001b[1;33m\u001b[0m\u001b[0m\n\u001b[0;32m      5\u001b[0m \u001b[1;33m[\u001b[0m \u001b[0mc\u001b[0m\u001b[1;33m[\u001b[0m\u001b[0mi\u001b[0m\u001b[1;33m]\u001b[0m\u001b[1;33m.\u001b[0m\u001b[0msetTemp\u001b[0m\u001b[1;33m(\u001b[0m\u001b[1;36m293.16\u001b[0m\u001b[1;33m+\u001b[0m\u001b[0mi\u001b[0m\u001b[1;33m)\u001b[0m \u001b[1;32mfor\u001b[0m \u001b[0mi\u001b[0m \u001b[1;32min\u001b[0m \u001b[0mrange\u001b[0m\u001b[1;33m(\u001b[0m\u001b[1;36m10\u001b[0m\u001b[1;33m)\u001b[0m\u001b[1;33m]\u001b[0m\u001b[1;33m\u001b[0m\u001b[0m\n\u001b[1;32m----> 6\u001b[1;33m \u001b[1;33m[\u001b[0m \u001b[0mc\u001b[0m\u001b[1;33m[\u001b[0m\u001b[0mi\u001b[0m\u001b[1;33m]\u001b[0m\u001b[1;33m.\u001b[0m\u001b[0msetPv\u001b[0m\u001b[1;33m(\u001b[0m \u001b[0mmc\u001b[0m\u001b[1;33m.\u001b[0m\u001b[0mcal_RHtoPv\u001b[0m\u001b[1;33m(\u001b[0m \u001b[0mc\u001b[0m\u001b[1;33m[\u001b[0m\u001b[0mi\u001b[0m\u001b[1;33m]\u001b[0m\u001b[1;33m.\u001b[0m\u001b[0mtemp\u001b[0m\u001b[1;33m,\u001b[0m \u001b[1;36m0.6\u001b[0m \u001b[1;33m)\u001b[0m \u001b[1;33m)\u001b[0m \u001b[1;32mfor\u001b[0m \u001b[0mi\u001b[0m \u001b[1;32min\u001b[0m \u001b[0mrange\u001b[0m\u001b[1;33m(\u001b[0m\u001b[1;36m10\u001b[0m\u001b[1;33m)\u001b[0m\u001b[1;33m]\u001b[0m\u001b[1;33m\u001b[0m\u001b[0m\n\u001b[0m\u001b[0;32m      7\u001b[0m \u001b[1;33m[\u001b[0m \u001b[0mc\u001b[0m\u001b[1;33m[\u001b[0m\u001b[0mi\u001b[0m\u001b[1;33m]\u001b[0m\u001b[1;33m.\u001b[0m\u001b[0msetMiu\u001b[0m\u001b[1;33m(\u001b[0m \u001b[0mmc\u001b[0m\u001b[1;33m.\u001b[0m\u001b[0mcal_RHtoMiu\u001b[0m\u001b[1;33m(\u001b[0m \u001b[0mc\u001b[0m\u001b[1;33m[\u001b[0m\u001b[0mi\u001b[0m\u001b[1;33m]\u001b[0m\u001b[1;33m.\u001b[0m\u001b[0mtemp\u001b[0m\u001b[1;33m,\u001b[0m \u001b[1;36m0.6\u001b[0m \u001b[1;33m)\u001b[0m \u001b[1;33m)\u001b[0m \u001b[1;32mfor\u001b[0m \u001b[0mi\u001b[0m \u001b[1;32min\u001b[0m \u001b[0mrange\u001b[0m\u001b[1;33m(\u001b[0m\u001b[1;36m10\u001b[0m\u001b[1;33m)\u001b[0m\u001b[1;33m]\u001b[0m\u001b[1;33m\u001b[0m\u001b[0m\n\u001b[0;32m      8\u001b[0m \u001b[1;33m[\u001b[0m \u001b[0mc\u001b[0m\u001b[1;33m[\u001b[0m\u001b[0mi\u001b[0m\u001b[1;33m]\u001b[0m\u001b[1;33m.\u001b[0m\u001b[0msetLAM\u001b[0m\u001b[1;33m(\u001b[0m  \u001b[1;36m10\u001b[0m  \u001b[1;33m)\u001b[0m \u001b[1;32mfor\u001b[0m \u001b[0mi\u001b[0m \u001b[1;32min\u001b[0m \u001b[0mrange\u001b[0m\u001b[1;33m(\u001b[0m \u001b[1;36m10\u001b[0m \u001b[1;33m)\u001b[0m\u001b[1;33m]\u001b[0m\u001b[1;33m\u001b[0m\u001b[0m\n",
      "\u001b[1;31mAttributeError\u001b[0m: module 'moisture_conversion' has no attribute 'cal_RHtoPv'"
     ]
    }
   ],
   "source": [
    "# 使用例\n",
    "c = [ Cell(i) for i in range(10)]\n",
    "\n",
    "[ c[i].setDx(0.01*i) for i in range(10)] \n",
    "[ c[i].setTemp(293.16+i) for i in range(10)]  \n",
    "[ c[i].setPv( mc.cal_RHtoPv( c[i].temp, 0.6 ) ) for i in range(10)] \n",
    "[ c[i].setMiu( mc.cal_RHtoMiu( c[i].temp, 0.6 ) ) for i in range(10)] \n",
    "[ c[i].setLAM(  10  ) for i in range( 10 )]\n",
    "[ c[i].setLDP(  10   ) for i in range( 10 )]\n",
    "[ c[i].setLDML( 10 ) for i in range( 10 )]\n",
    "\n",
    "print(c[2].temp)"
   ]
  },
  {
   "cell_type": "markdown",
   "metadata": {},
   "source": [
    "#### クラス：Flus( mns, pls )  \n",
    "流量計算のためのクラス  \n",
    "mns：前のセル情報  \n",
    "pls：後のセル情報  \n",
    "dtemp：セル間の温度差（前－後）  \n",
    "dmoisture：セル間の水分量差（前－後）  \n",
    "dx2：セルの質点間の距離（前－後）  "
   ]
  },
  {
   "cell_type": "markdown",
   "metadata": {},
   "source": [
    "#### 材料物性値の調和平均を取る関数"
   ]
  },
  {
   "cell_type": "code",
   "execution_count": null,
   "metadata": {},
   "outputs": [],
   "source": [
    "def average( val_mns, val_pls, len_mns, len_pls):\n",
    "    return ( val_mns * len_mns + val_pls * len_pls ) / ( len_mns + len_pls )"
   ]
  },
  {
   "cell_type": "markdown",
   "metadata": {},
   "source": [
    "#### フーリエの熱伝導  \n",
    "定義：$\\dot q = -\\lambda\\nabla・T$  \n",
    "$\\dot q$：単位時間当たりの熱流量の密度[W/m2]  \n",
    "$\\lambda$：熱伝導率[W/mK]  \n",
    "$T$：絶対温度[K]  "
   ]
  },
  {
   "cell_type": "code",
   "execution_count": null,
   "metadata": {},
   "outputs": [],
   "source": [
    "def heatConduction( LAM, dtemp, dx2 ):\n",
    "    return LAM * dtemp / dx2"
   ]
  },
  {
   "cell_type": "markdown",
   "metadata": {},
   "source": [
    "#### 気相水分流（水蒸気圧勾配・固体内）  \n",
    "定義：$J_v = -\\lambda^{'}_{p}\\nabla・P_v$  \n",
    "$J_v$：気相水分流量[kg/m2s]  \n",
    "$\\lambda^{'}_{p}$：水蒸気圧勾配に関する気相水分伝導率[kg/msPa]  \n",
    "$P_v$：水蒸気圧[Pa]  "
   ]
  },
  {
   "cell_type": "code",
   "execution_count": null,
   "metadata": {},
   "outputs": [],
   "source": [
    "def vapourTransfer_pressure( LDP, dpv, dx2 ):\n",
    "    return LDP * dpv /dx2"
   ]
  },
  {
   "cell_type": "markdown",
   "metadata": {},
   "source": [
    "#### 液相水分流（水分化学ポテンシャル勾配・固体内）  \n",
    "定義：$J_l = -\\lambda^{'}_{\\mu l}(\\nabla・\\mu+n_x g)$  \n",
    "$\\lambda^{'}_{\\mu l}$：水分化学ポテンシャル勾配に関する液相水分伝導率[kg/ms(J/kg)]  "
   ]
  },
  {
   "cell_type": "code",
   "execution_count": null,
   "metadata": {},
   "outputs": [],
   "source": [
    "def liquidTransfer_potential( LDML, dmiu, dx2, nx ):\n",
    "    grav = 9.806650\n",
    "    return LDML * ( dmiu / dx2 - nx * grav )"
   ]
  },
  {
   "cell_type": "markdown",
   "metadata": {},
   "source": [
    "#### Fluxクラス"
   ]
  },
  {
   "cell_type": "code",
   "execution_count": null,
   "metadata": {},
   "outputs": [],
   "source": [
    "class Flux():\n",
    "    def __init__( self, Length, mns, pls, nx ):\n",
    "        self.mns = mns\n",
    "        self.pls = pls\n",
    "        self.nx  = nx # 重力に対する応答方向\n",
    "        \n",
    "        # 質点間の距離\n",
    "        if self.mns.position == 0:\n",
    "            self.dx2 = self.mns.dx + self.pls.dx / 2.0\n",
    "        elif self.pls.position == Length-1 :\n",
    "            self.dx2 = self.mns.dx / 2.0 + self.pls.dx\n",
    "        else :\n",
    "            self.dx2 = self.mns.dx / 2.0 + self.pls.dx / 2.0\n",
    "        \n",
    "    # 熱流計算\n",
    "    def heat( self ):\n",
    "        self.dtemp = self.mns.temp - self.pls.temp\n",
    "        self.dlam  = average( val_mns = self.mns.lam, val_pls = self.pls.lam, len_mns = self.mns.dx, len_pls = self.pls.dx )\n",
    "        self.qs   = heatConduction( LAM = self.dlam , dtemp = self.dtemp, dx2 = self.dx2 )\n",
    "\n",
    "    # 水蒸気流計算\n",
    "    def vapour( self ):\n",
    "        self.dpv = self.mns.pv - self.pls.pv\n",
    "        self.dldp = average( val_mns = self.mns.ldp, val_pls = self.pls.ldp, len_mns = self.mns.dx, len_pls = self.pls.dx )\n",
    "        self.jv = vapourTransfer_pressure( LDP = self.dldp, dpv = self.dpv, dx2 = self.dx2 )\n",
    "            \n",
    "    # 液水流計算\n",
    "    def liquid( self ):\n",
    "        self.dmiu = self.mns.miu - self.pls.miu\n",
    "        self.dldml= average( val_mns = self.mns.ldml,val_pls = self.pls.ldml,len_mns = self.mns.dx, len_pls = self.pls.dx )\n",
    "        self.jl = liquidTransfer_potential( LDML = self.dldml, dmiu = self.dmiu, dx2 = self.dx2, nx = self.nx )\n",
    "            "
   ]
  },
  {
   "cell_type": "code",
   "execution_count": null,
   "metadata": {},
   "outputs": [],
   "source": [
    "# 使用例\n",
    "diff = [ Flux( 10, c[i], c[i+1], 0.0 ) for i in range ( 9 ) ]\n",
    "[ diff[i].heat() for i in range (9)]\n",
    "[ diff[i].qs for i in range( 9 ) ] "
   ]
  },
  {
   "cell_type": "markdown",
   "metadata": {},
   "source": [
    "####  関数：calc( cell, boundary_start, boundary_end,  dt )\n",
    "ここでは気相は水蒸気圧で、液相は水分化学ポテンシャル勾配で移動するとした\n",
    "\n",
    "コンストラクタ（__init__）:  \n",
    "差分計算用に温湿度・物性情報を差分化する  \n",
    "\n",
    "Flux():  \n",
    "セル間の流量を計算する\n",
    "流量自体は「クラス名.q」や「クラス名.j」で取得できる  \n",
    "\n",
    "balanceEquation():  \n",
    "セルにおける熱・水分の収支計算を行う  \n",
    "\n",
    "replace():\n",
    "セルの温度・水分情報の更新を行う\n"
   ]
  },
  {
   "cell_type": "code",
   "execution_count": null,
   "metadata": {},
   "outputs": [],
   "source": [
    "def calc( cell, boundary_start, boundary_end, dt ):\n",
    "\n",
    "    # 物性値の取得 \n",
    "    pro  = [ prop.PhysicalProperty( cell[i].material, cell[i].temp, cell[i].miu )  for i in range( len(cell) )]\n",
    "    [ cell[i].setCRow( pro[i].CRow() ) for i in range( len(cell) )]\n",
    "    [ cell[i].setDPhi( pro[i].DPhi() ) for i in range( len(cell) )]\n",
    "    [ cell[i].setLAM(  pro[i].LAM()  ) for i in range( len(cell) )]\n",
    "    [ cell[i].setLDP(  pro[i].DP()  ) for i in range( len(cell) )]\n",
    "    [ cell[i].setLDML( pro[i].LDML() ) for i in range( len(cell) )]\n",
    "    \n",
    "    #########################\n",
    "    # 流量計算\n",
    "    flux = [ Flux( Length = len(cell), mns = cell[i], pls = cell[i+1], nx = 0.0 ) for i in range ( len(cell) - 1 ) ]\n",
    "    [ flux[i].heat()   for i in range( len(cell)  -1 ) ]\n",
    "    [ flux[i].vapour() for i in range( len(cell)  -1 ) ]\n",
    "    [ flux[i].liquid() for i in range( len(cell)  -1 ) ]\n",
    "        \n",
    "    #########################\n",
    "    # 収支計算\n",
    "    newvalue = [ BalanceEquation.Calculation( cell[i], dt ) for i in range( len(cell) ) ]\n",
    "    [ newvalue[i+1].differenceOfFlux( flux_mns = flux[i], flux_pls = flux[i+1] ) for i in range( len(cell) - 2 ) ]\n",
    "        \n",
    "    # 境界以外のセル\n",
    "    [ newvalue[i+1].newTemp() for i in range( len(cell) - 2 ) ]\n",
    "    [ newvalue[i+1].newMiu () for i in range( len(cell) - 2 ) ]\n",
    "    \n",
    "    # 境界セル\n",
    "    newvalue[0].boundaryCell_Miu ( boundaryFlux = flux[0], boundary = boundary_start )\n",
    "    newvalue[0].boundaryCell_temp( boundaryFlux = flux[0], boundary = boundary_start ) \n",
    "    \n",
    "    newvalue[len(cell)-1].boundaryCell_Miu ( boundaryFlux = flux[len(cell)-2], boundary = boundary_end )\n",
    "    newvalue[len(cell)-1].boundaryCell_temp( boundaryFlux = flux[len(cell)-2], boundary = boundary_end )\n",
    "\n",
    "    #########################    \n",
    "    # 値の換算\n",
    "    [ cell[i].setTemp( newvalue[i].temp ) for i in range( len(cell) )]\n",
    "    [ cell[i].setMiu ( newvalue[i].miu  ) for i in range( len(cell) )]\n",
    "    [ cell[i].setPv  ( mc.cal_MiutoPv( cell[i].temp, cell[i].miu )  ) for i in range( len(cell) )]\n",
    "    [ cell[i].setRH  ( mc.cal_MiutoRH( cell[i].temp, cell[i].miu )  ) for i in range( len(cell) )]\n",
    "    "
   ]
  },
  {
   "cell_type": "markdown",
   "metadata": {},
   "source": [
    "### 値を取得するクラス  \n",
    "#### クラス : logger()  \n",
    "ある点の温度をlogging間隔ごとに取得するクラス  \n",
    "\n",
    "#### クラス：CrossSection()  \n",
    "ある時刻における全セルの状態を取得するクラス  "
   ]
  },
  {
   "cell_type": "code",
   "execution_count": null,
   "metadata": {},
   "outputs": [],
   "source": [
    "class CrossSection():\n",
    "    def __init__( self, interval ):\n",
    "        self.interval = interval\n",
    "        self.times = []\n",
    "        self.cell  = []\n",
    "        \n",
    "    def writeData( self, t, cell, dt):\n",
    "        if t % self.interval == 0:\n",
    "            self.times.append( t * dt)\n",
    "            self.cell.append(cell)"
   ]
  },
  {
   "cell_type": "markdown",
   "metadata": {},
   "source": [
    "### Draw Graph（グラフの描画をする関数）  "
   ]
  },
  {
   "cell_type": "code",
   "execution_count": null,
   "metadata": {},
   "outputs": [],
   "source": [
    "# draw graph\n",
    "def drawGraph( cell, time ):\n",
    "    temp = [ cell[i].temp - 273.15 for i in range(L) ]\n",
    "    dx   = [ cell[i].position*cell[i].dx for i in range(L) ]\n",
    "\n",
    "    fig = plt.figure(figsize=(15,4))\n",
    "    ax = fig.add_subplot(1,1,1)\n",
    "    ax.plot( dx, temp, label = time )\n",
    "    ax.set_xlabel( 'xlength[m]', fontsize = 12 )\n",
    "    ax.set_ylabel( 'temp[K]', fontsize = 12 )\n",
    "    plt.ylim([10.0, 20.0])\n",
    "    plt.legend()\n",
    "    plt.show()"
   ]
  },
  {
   "cell_type": "markdown",
   "metadata": {},
   "source": [
    "### 計算  \n",
    "\n",
    "#### 全体の流れ  \n",
    "\n",
    "・壁体構成の入力（物性情報、セルの大きさ・個数、初期温湿度）  \n",
    "・計算条件の入力（熱・水分の計算方法、境界条件）  \n",
    "・計算に必要な物性値の決定\n",
    "\n",
    "ループ計算内  \n",
    "\n",
    "・物性値の取得→換算（差分型へ）  \n",
    "・流量計算  \n",
    "・収支計算→値の変換  \n",
    "・値の取得（logging）  \n",
    "\n",
    "終了　→　グラフ化など\n"
   ]
  },
  {
   "cell_type": "code",
   "execution_count": null,
   "metadata": {},
   "outputs": [],
   "source": [
    "# セル情報のセッティング\n",
    "L = 20\n",
    "dt = 0.1\n",
    "\n",
    "cell = [ Cell(i) for i in range( L ) ]\n",
    "\n",
    "# セルの環境情報の入力\n",
    "[ cell[i].setTemp( 288.15 ) for i in range( len(cell) ) ]\n",
    "[ cell[i].setRH  ( 0.8 )    for i in range( len(cell) ) ]\n",
    "[ cell[i].setMiu( mc.cal_RHtoMiu( cell[i].temp, cell[i].rh )) for i in range( len(cell) ) ]\n",
    "[ cell[i].setPv(  mc.cal_RHtoPv(  cell[i].temp, cell[i].rh )) for i in range( len(cell) ) ]\n",
    "\n",
    "# セル情報・環境情報の入力\n",
    "[ cell[i].setMaterial( 'BentheimerSandstone' )for i in range( len(cell) ) ]\n",
    "[ cell[i].setDx(0.001) for i in range( len(cell) )]\n",
    "\n",
    "# initialtemp is the initial temperatures at the cells in the wall\n",
    "# surfCond is the surface conductance at the both side surface of the wall (W/m2K)\n",
    "# composition is the material of the cells in the wall\n",
    "# material_porp is the material property list written in the dictionary style\n",
    "\n",
    "# 境界条件\n",
    "# 開始側境界条件\n",
    "boundary_start = BalanceEquation.BoundaryCondition( 0 )\n",
    "boundary_start.setHeatCondition( 'robin' ) \n",
    "boundary_start.setVapourCondition( 'robin' )\n",
    "boundary_start.setLiquidCondition( 'neumann' )\n",
    "boundary_start.setTemp( 283.15 )\n",
    "boundary_start.setAL  ( 19.0 + 4.4 )\n",
    "boundary_start.setPv  ( mc.cal_RHtoPv( boundary_start.temp, 0.85 ) )\n",
    "boundary_start.setALDP( 19.0 / ( 1005.0 * 1.205 * ( 8314.41 / 18.02 ) * boundary_start.temp ) )\n",
    "boundary_start.setJl  ( 0.0 )\n",
    "\n",
    "# 終了側境界条件\n",
    "boundary_end = BalanceEquation.BoundaryCondition( len(cell)-1 )\n",
    "boundary_end.setHeatCondition( 'robin' ) \n",
    "boundary_end.setVapourCondition( 'robin' )\n",
    "boundary_end.setLiquidCondition( 'neumann' )\n",
    "boundary_end.setTemp( 293.15 )\n",
    "boundary_end.setAL  ( 19.0 + 4.4 )\n",
    "boundary_end.setPv  ( mc.cal_RHtoPv( boundary_start.temp, 0.7 ) )\n",
    "boundary_end.setALDP( 19.0 / ( 1005.0 * 1.205 * ( 8314.41 / 18.02 ) * boundary_start.temp ) )\n",
    "boundary_end.setJl  ( 0.0 )\n",
    "\n",
    "# logging情報  \n",
    "flux = [ Flux( L, cell[i], cell[i+1], 0.0 ) for i in range ( len(cell)-1 ) ]\n",
    "log = CrossSection (60.0/dt)\n",
    "\n",
    "print('Initialization')"
   ]
  },
  {
   "cell_type": "code",
   "execution_count": null,
   "metadata": {},
   "outputs": [],
   "source": [
    "import time\n",
    "start = time.time()\n",
    "for i in range( 360000 ):\n",
    "    # 境界条件はループの外に \n",
    "    calc( cell, boundary_start, boundary_end, dt )\n",
    "    #log.writeData( i, cell, dt )\n",
    "    if i % 3000 == 0 :\n",
    "        print( i * dt / 60.0,\"min\")\n",
    "        #print( cell[0].vol / cell[0].dx, cell[0].miulc, time.time()-start )\n",
    "        drawGraph( cell, i*dt/60.0 )\n",
    "        \n",
    "print('time',time.time() - start)"
   ]
  },
  {
   "cell_type": "code",
   "execution_count": null,
   "metadata": {},
   "outputs": [],
   "source": [
    "# draw graph\n",
    "time = len(log.times)\n",
    "c = log.cell[time-1]\n",
    "temp = [ c[i].temp-273.15 for i in range(L) ]\n",
    "dx =   [ c[i].position*c[i].dx for i in range(L) ]\n",
    "\n",
    "fig = plt.figure(figsize=(15,4))\n",
    "ax = fig.add_subplot(1,1,1)\n",
    "ax.plot( dx, temp , label = log.times[time-1] )\n",
    "ax.set_xlabel( 'xlength', fontsize = 12 )\n",
    "ax.set_ylabel( 'temperature(K)', fontsize = 12 )\n",
    "plt.legend()\n",
    "plt.show()\n"
   ]
  },
  {
   "cell_type": "code",
   "execution_count": null,
   "metadata": {},
   "outputs": [],
   "source": []
  }
 ],
 "metadata": {
  "kernelspec": {
   "display_name": "Python 3",
   "language": "python",
   "name": "python3"
  },
  "language_info": {
   "codemirror_mode": {
    "name": "ipython",
    "version": 3
   },
   "file_extension": ".py",
   "mimetype": "text/x-python",
   "name": "python",
   "nbconvert_exporter": "python",
   "pygments_lexer": "ipython3",
   "version": "3.6.5"
  }
 },
 "nbformat": 4,
 "nbformat_minor": 2
}
