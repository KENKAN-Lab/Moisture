{
 "cells": [
  {
   "cell_type": "code",
   "execution_count": 1,
   "metadata": {},
   "outputs": [
    {
     "name": "stdout",
     "output_type": "stream",
     "text": [
      "Importing Jupyter notebook from gas_water.ipynb\n",
      "Importing Jupyter notebook from moisture_conversion.ipynb\n",
      "Importing Jupyter notebook from vapour_pressure.ipynb\n",
      "Importing Jupyter notebook from liquid_water.ipynb\n",
      "Importing Jupyter notebook from property_conversion.ipynb\n",
      "Importing Jupyter notebook from solid_material.ipynb\n",
      "Importing Jupyter notebook from flux.ipynb\n",
      "Importing Jupyter notebook from balance_equation.ipynb\n"
     ]
    }
   ],
   "source": [
    "import nbimporter\n",
    "import numpy as np\n",
    "import matplotlib.pyplot as plt\n",
    "\n",
    "import gas_water\n",
    "import liquid_water\n",
    "import solid_material\n",
    "\n",
    "import flux\n",
    "import balance_equation\n",
    "import property_conversion  as prop\n",
    "import moisture_conversion as mc"
   ]
  },
  {
   "cell_type": "markdown",
   "metadata": {},
   "source": [
    "## 1次元モデルの差分計算をするためのモジュール  \n"
   ]
  },
  {
   "cell_type": "markdown",
   "metadata": {},
   "source": [
    "### クラス：Cell( i )  \n",
    "差分法におけるコントロールボリューム（CV）に相当する構造体。  \n",
    "固相・液相・気相の情報から構成され、CVの大きさ、位置などの情報を有する。  \n",
    "示量変数はCellクラスに内包され、示強変数はそれぞれの相情報に保持される。\n",
    "\n",
    "- cell情報  \n",
    "    i：セルの位置    \n",
    "    dx：セルの大きさ    \n",
    "    \n",
    "    - 熱・水分・物質移動係数\n",
    "        各種移動係数は後述のcellの構成情報に影響を受けるためcellクラスが保有する\n",
    "\n",
    "- 気相情報(Gas)  \n",
    "    - 水蒸気(gas_water)  \n",
    "        temp：温度[K]  \n",
    "        rh：相対湿度[-]  \n",
    "        miu：水分化学ポテンシャル[J/kg]  \n",
    "        pv：水蒸気圧[Pa]  \n",
    "    - 空気（未実装）\n",
    "\n",
    "\n",
    "- 液相情報(Liquid)  \n",
    "    - 純水(liquid_water)  \n",
    "        temp：温度[K]  \n",
    "        miu：水分化学ポテンシャル[J/kg]  \n",
    "        phi：含水率[-]  \n",
    "        pl：水圧[Pa]  \n",
    "    - 塩溶液（未実装）  \n",
    "        \n",
    "\n",
    "- 固相情報(Solid)  \n",
    "    - 材料骨格部(solid_material)  \n",
    "        material：材料の名称  \n",
    "        crow：熱容量（比熱×密度）  \n",
    "        ※以下は液相・気相の影響を受ける  \n",
    "        lam：熱伝達率  \n",
    "        phi：含水率  \n",
    "        dphi：含水率の水分化学ポテンシャル微分  \n",
    "        ldp：透湿率  \n",
    "        ldml：水分化学ポテンシャル勾配に対する液相水分伝導率  \n",
    "    - 氷（未実装）   \n",
    "    - 塩（未実装）  \n"
   ]
  },
  {
   "cell_type": "code",
   "execution_count": 2,
   "metadata": {},
   "outputs": [],
   "source": [
    "class  Cell():\n",
    "    def __init__( self, i ):\n",
    "        self.position = i\n",
    "    \n",
    "    # cell information\n",
    "    # Length of cell\n",
    "    def set_dx( self, initial = 0.0 ):\n",
    "        self.dx = initial \n",
    "    \n",
    "    # Gas condition（気相）\n",
    "    def set_Gas_Water_BasedMiu( self, temp = 0.0, miu = 0.0 ):\n",
    "        self.vapour = gas_water.MiuBasedMoisture( temp, miu )\n",
    "        \n",
    "    def set_Gas_Water_BasedRH( self, temp = 0.0, rh = 0.0 ):\n",
    "        self.vapour = gas_water.RHBasedMoisture( temp, rh )\n",
    "        \n",
    "    def set_Gas_Water_BasedPV( self, temp = 0.0, pv = 0.0 ):\n",
    "        self.vapour = gas_water.PVBasedMoisture( temp, pv )\n",
    "        \n",
    "    # Liquid condition（液相）\n",
    "    def set_Liquid_Water_BasedMiu( self, temp = 0.0, miu = 0.0 ):\n",
    "        self.water = liquid_water.MiuBasedWater( temp, miu )\n",
    "        \n",
    "    def set_Liquid_Water_BasedPhi( self, temp = 0.0, phi = 0.0 ):\n",
    "        self.water = liquid_water.PhiBasedWater( temp, phi )\n",
    "        \n",
    "    # Solid condition（固相）\n",
    "    def set_Solid_Material( self, temp, material_name ):\n",
    "        self.material = solid_material.TempBased( temp, material_name )\n",
    "        \n",
    "    # Transfer coefficient（セルの有する移動係数）        \n",
    "    # lam 熱伝導率\n",
    "    def get_lam(self):\n",
    "        return prop.Kernel_TransferCoefficient( self.material.name ).getLAM( self.water )\n",
    "    \n",
    "    lam = property(get_lam)\n",
    "        \n",
    "    # dp 湿気伝導率\n",
    "    def get_dp(self):\n",
    "        return prop.Kernel_TransferCoefficient( self.material.name ).getDP( self.water )\n",
    "    \n",
    "    dp = property(get_dp)\n",
    "        \n",
    "    # ldml 液水の水分伝導率\n",
    "    def get_ldml(self):\n",
    "        return prop.Kernel_TransferCoefficient( self.material.name ).getLDML( self.water )\n",
    "\n",
    "    ldml = property(get_ldml)\n",
    "    "
   ]
  },
  {
   "cell_type": "markdown",
   "metadata": {},
   "source": [
    "### 使用例"
   ]
  },
  {
   "cell_type": "markdown",
   "metadata": {},
   "source": [
    "セルの個数を決定する"
   ]
  },
  {
   "cell_type": "code",
   "execution_count": 3,
   "metadata": {},
   "outputs": [],
   "source": [
    "number = 5"
   ]
  },
  {
   "cell_type": "markdown",
   "metadata": {},
   "source": [
    "セルの作成・大きさを与える"
   ]
  },
  {
   "cell_type": "code",
   "execution_count": 11,
   "metadata": {},
   "outputs": [
    {
     "data": {
      "text/plain": [
       "[None, None, None, None, None]"
      ]
     },
     "execution_count": 11,
     "metadata": {},
     "output_type": "execute_result"
    }
   ],
   "source": [
    "wall = [ Cell(i) for i in range(number)]\n",
    "[ cell.set_dx(0.1) for cell in wall ]"
   ]
  },
  {
   "cell_type": "markdown",
   "metadata": {},
   "source": [
    "水蒸気の情報（温度20℃、相対湿度60%）を与える"
   ]
  },
  {
   "cell_type": "code",
   "execution_count": 17,
   "metadata": {},
   "outputs": [
    {
     "data": {
      "text/plain": [
       "[None, None, None, None, None]"
      ]
     },
     "execution_count": 17,
     "metadata": {},
     "output_type": "execute_result"
    }
   ],
   "source": [
    "[ cell.set_Gas_Water_BasedRH( temp = 293.15, rh = 0.6 ) for cell in wall ]"
   ]
  },
  {
   "cell_type": "markdown",
   "metadata": {},
   "source": [
    "材料情報を与える"
   ]
  },
  {
   "cell_type": "code",
   "execution_count": 18,
   "metadata": {},
   "outputs": [
    {
     "data": {
      "text/plain": [
       "[None, None, None, None, None]"
      ]
     },
     "execution_count": 18,
     "metadata": {},
     "output_type": "execute_result"
    }
   ],
   "source": [
    "[ cell.set_Solid_Material( temp = cell.vapour.temp, material_name = 'BentheimerSandstone' ) for cell in wall ]"
   ]
  },
  {
   "cell_type": "markdown",
   "metadata": {},
   "source": [
    "水蒸気・材料の情報から液水の情報を算出する"
   ]
  },
  {
   "cell_type": "code",
   "execution_count": 19,
   "metadata": {},
   "outputs": [
    {
     "data": {
      "text/plain": [
       "[None, None, None, None, None]"
      ]
     },
     "execution_count": 19,
     "metadata": {},
     "output_type": "execute_result"
    }
   ],
   "source": [
    "[ cell.set_Liquid_Water_BasedMiu( temp = cell.vapour.temp, miu = cell.vapour.miu ) for cell in wall ]\n",
    "[ cell.water.set_material( material_name = cell.material.name ) for cell in wall ]"
   ]
  },
  {
   "cell_type": "markdown",
   "metadata": {},
   "source": [
    "#### 値の確認\n",
    "セル情報の構築は以上となる。セル情報をいくつか引き出しみる。  \n",
    "例えば液水の含水率は"
   ]
  },
  {
   "cell_type": "code",
   "execution_count": 20,
   "metadata": {},
   "outputs": [
    {
     "name": "stdout",
     "output_type": "stream",
     "text": [
      "Importing Jupyter notebook from bentheimer_sandstone.ipynb\n",
      "Importing Jupyter notebook from van_genuchten.ipynb\n"
     ]
    },
    {
     "data": {
      "text/plain": [
       "3.2608830802176583e-05"
      ]
     },
     "execution_count": 20,
     "metadata": {},
     "output_type": "execute_result"
    }
   ],
   "source": [
    "wall[1].water.phi"
   ]
  },
  {
   "cell_type": "markdown",
   "metadata": {},
   "source": [
    "セルの液相水分伝導率は"
   ]
  },
  {
   "cell_type": "code",
   "execution_count": 21,
   "metadata": {},
   "outputs": [
    {
     "data": {
      "text/plain": [
       "2.4529155342643628e-23"
      ]
     },
     "execution_count": 21,
     "metadata": {},
     "output_type": "execute_result"
    }
   ],
   "source": [
    "wall[1].ldml"
   ]
  },
  {
   "cell_type": "markdown",
   "metadata": {},
   "source": [
    "### クラス：Air( i )  \n",
    "材料境界などに位置する室空気のクラス。  \n",
    "Cellクラスと基本概念は同じであるが固相・液相情報は持たず気相情報のみを持つものとする。  \n",
    "また、Cellクラス同様に空間の容積などの示量変数はAirクラスに内包され、示強変数はそれぞれの相情報に保持される。  \n",
    "現状、室空気は温度と水分情報しか持たないことが多いため、gas_waterのクラスのみを用いることで代用した。\n",
    "\n",
    "- Air情報     \n",
    "    i : Airの名称（基本的には何でもよい）  \n",
    "    vol：Airの容積[m3]\n",
    "    \n",
    "    \n",
    "    - 熱・水分・物質伝達係数\n",
    "\n",
    "- 気相情報(Gas)  \n",
    "    - 水蒸気(gas_water)  \n",
    "        temp：温度[K]  \n",
    "        rh：相対湿度[-]  \n",
    "        miu：水分化学ポテンシャル[J/kg]  \n",
    "        pv：水蒸気圧[Pa]  \n",
    "    - 空気（未実装）\n"
   ]
  },
  {
   "cell_type": "code",
   "execution_count": null,
   "metadata": {},
   "outputs": [],
   "source": [
    "class  Air():\n",
    "    def __init__( self, i ):\n",
    "        self.position = i\n",
    "    \n",
    "    # cell information\n",
    "    # Length of cell\n",
    "    def set_volume( self, volume = 0.0 ):\n",
    "        self.vol = volume \n",
    "    \n",
    "    # Gas condition（気相）\n",
    "    def set_Air_BasedMiu( self, temp = 0.0, miu = 0.0 ):\n",
    "        self.air = gas_water.MiuBasedMoisture( temp, miu )\n",
    "        \n",
    "    def set_Air_BasedRH( self, temp = 0.0, rh = 0.0 ):\n",
    "        self.air = gas_water.RHBasedMoisture( temp, rh )\n",
    "        \n",
    "    def set_Air_BasedPV( self, temp = 0.0, pv = 0.0 ):\n",
    "        self.air = gas_water.PVBasedMoisture( temp, pv )\n",
    "        \n",
    "    # Transfer coefficient（セルの有する移動係数）\n",
    "    def set_HeatTransferCoefficient( self, alpha ):\n",
    "        self.alpha = alpha\n",
    "        \n",
    "    def set_MoistureTransferCoefficient( self, aldm ):\n",
    "        self.aldm = aldm\n",
    "        "
   ]
  },
  {
   "cell_type": "markdown",
   "metadata": {},
   "source": [
    "### 使用例\n",
    "基本はCellクラスと同じなので"
   ]
  },
  {
   "cell_type": "code",
   "execution_count": null,
   "metadata": {},
   "outputs": [],
   "source": [
    "# 使用例\n",
    "a = Air('室空気')"
   ]
  },
  {
   "cell_type": "code",
   "execution_count": null,
   "metadata": {},
   "outputs": [],
   "source": [
    "a.set_volume(100.0)\n",
    "a.set_Air_BasedRH( temp = 283.15, rh = 0.8 ) \n",
    "a.set_HeatTransferCoefficient( alpha = 9.3 )\n",
    "a.set_MoistureTransferCoefficient( aldm = 9.3e-10 )"
   ]
  },
  {
   "cell_type": "markdown",
   "metadata": {},
   "source": [
    "#### 値の確認"
   ]
  },
  {
   "cell_type": "code",
   "execution_count": null,
   "metadata": {},
   "outputs": [],
   "source": [
    "a.air.pv"
   ]
  },
  {
   "cell_type": "markdown",
   "metadata": {},
   "source": [
    "## 流量計算  "
   ]
  },
  {
   "cell_type": "markdown",
   "metadata": {},
   "source": [
    "Fluxモジュールは2つのCellを与えることでその間の熱・水分流を計算する。  \n",
    "例えばcell[1]とcell[2]間の流量は、"
   ]
  },
  {
   "cell_type": "code",
   "execution_count": null,
   "metadata": {},
   "outputs": [],
   "source": [
    "flux1 = flux.RobinBoundaryCondition( cell_mns = c[1], cell_pls = c[2], nx =0.0 )"
   ]
  },
  {
   "cell_type": "markdown",
   "metadata": {},
   "source": [
    "熱流の計算結果は、"
   ]
  },
  {
   "cell_type": "code",
   "execution_count": null,
   "metadata": {},
   "outputs": [],
   "source": [
    "flux1.qs"
   ]
  },
  {
   "cell_type": "markdown",
   "metadata": {},
   "source": [
    "水蒸気流の計算結果は、"
   ]
  },
  {
   "cell_type": "code",
   "execution_count": null,
   "metadata": {},
   "outputs": [],
   "source": [
    "flux1.jv"
   ]
  },
  {
   "cell_type": "markdown",
   "metadata": {},
   "source": [
    "液水流の計算結果は、"
   ]
  },
  {
   "cell_type": "code",
   "execution_count": null,
   "metadata": {},
   "outputs": [],
   "source": [
    "flux1.jl"
   ]
  },
  {
   "cell_type": "markdown",
   "metadata": {},
   "source": [
    "同様に空気層との流量計算もでき、"
   ]
  },
  {
   "cell_type": "code",
   "execution_count": null,
   "metadata": {},
   "outputs": [],
   "source": [
    "flux2 = flux.RobinBoundaryCondition( cell_mns = a, cell_pls = c[0], nx =0.0 )"
   ]
  },
  {
   "cell_type": "markdown",
   "metadata": {},
   "source": [
    "熱流"
   ]
  },
  {
   "cell_type": "code",
   "execution_count": null,
   "metadata": {},
   "outputs": [],
   "source": [
    "flux2.qs"
   ]
  },
  {
   "cell_type": "markdown",
   "metadata": {},
   "source": [
    "水蒸気流"
   ]
  },
  {
   "cell_type": "code",
   "execution_count": null,
   "metadata": {},
   "outputs": [],
   "source": [
    "flux2.jv"
   ]
  },
  {
   "cell_type": "code",
   "execution_count": null,
   "metadata": {},
   "outputs": [],
   "source": [
    "flux2.jl"
   ]
  },
  {
   "cell_type": "markdown",
   "metadata": {},
   "source": [
    "これを一括計算しようとすると以下のようになる。  \n",
    "例えば  \n",
    "\n",
    "空気　―　壁（cell[0] ～　cell[end]）　―　空気  \n",
    "\n",
    "のような状況を想定する。  \n",
    "\n",
    "※wall = c とするとmutableなオブジェクトとしてコピーされるのでスライスで対処"
   ]
  },
  {
   "cell_type": "code",
   "execution_count": null,
   "metadata": {},
   "outputs": [],
   "source": [
    "wall1 = c[:]\n",
    "wall1.insert(0,a)\n",
    "wall1.insert(len(wall1),a)"
   ]
  },
  {
   "cell_type": "markdown",
   "metadata": {},
   "source": [
    "wall1のコンストラクタを確認してみる。まずは空気層のある場所について、"
   ]
  },
  {
   "cell_type": "code",
   "execution_count": null,
   "metadata": {},
   "outputs": [],
   "source": [
    "[ hasattr(wall1[i], 'air') for i in range(len(wall1)) ]"
   ]
  },
  {
   "cell_type": "markdown",
   "metadata": {},
   "source": [
    "次に多孔質材料の有無、"
   ]
  },
  {
   "cell_type": "code",
   "execution_count": null,
   "metadata": {},
   "outputs": [],
   "source": [
    "[ hasattr(wall1[i], 'material') for i in range(len(wall1)) ]"
   ]
  },
  {
   "cell_type": "markdown",
   "metadata": {},
   "source": [
    "\n",
    "流量を計算してみる。  \n",
    "※第二種と第三種境界条件の複合条件とすると、\n"
   ]
  },
  {
   "cell_type": "code",
   "execution_count": null,
   "metadata": {},
   "outputs": [],
   "source": [
    "flux3 = [ flux.CombinationBoundaryCondition( cell_mns = wall1[i], cell_pls = wall1[i+1], nx =0.0 ) for i in range(len(wall1)-1) ]"
   ]
  },
  {
   "cell_type": "markdown",
   "metadata": {},
   "source": [
    "#### 値の確認  \n",
    "熱流"
   ]
  },
  {
   "cell_type": "code",
   "execution_count": null,
   "metadata": {},
   "outputs": [],
   "source": [
    "[ flux3[i].qs for i in range(len(flux3)) ]"
   ]
  },
  {
   "cell_type": "markdown",
   "metadata": {},
   "source": [
    "第二種境界条件として境界に日射量10[W/m2]を足してみる。"
   ]
  },
  {
   "cell_type": "code",
   "execution_count": null,
   "metadata": {},
   "outputs": [],
   "source": [
    "flux3[0].set_qs( 10.0 )"
   ]
  },
  {
   "cell_type": "code",
   "execution_count": null,
   "metadata": {},
   "outputs": [],
   "source": [
    "[ flux3[i].qs for i in range(len(flux3)) ]"
   ]
  },
  {
   "cell_type": "markdown",
   "metadata": {},
   "source": [
    "水蒸気流"
   ]
  },
  {
   "cell_type": "code",
   "execution_count": null,
   "metadata": {},
   "outputs": [],
   "source": [
    "[ flux3[i].jv for i in range(len(flux3)) ]"
   ]
  },
  {
   "cell_type": "markdown",
   "metadata": {},
   "source": [
    "液相水分流"
   ]
  },
  {
   "cell_type": "code",
   "execution_count": null,
   "metadata": {},
   "outputs": [],
   "source": [
    "[ flux3[i].jl for i in range(len(flux3)) ]"
   ]
  },
  {
   "cell_type": "markdown",
   "metadata": {},
   "source": [
    "## 熱・水分の収支計算"
   ]
  },
  {
   "cell_type": "markdown",
   "metadata": {},
   "source": [
    "収支計算モジュールはcellとcell両端に流出入するflux、時間刻みdtを入力することで計算できる。  \n",
    "ここでは上述のwall1とflux3を使うことで以下のように計算する。  \n",
    "まずはwall1の表面[1]について"
   ]
  },
  {
   "cell_type": "code",
   "execution_count": null,
   "metadata": {},
   "outputs": [],
   "source": [
    "new = balance_equation.MiuBased( cell = wall1[1], flux_mns = flux3[0], flux_pls = flux3[1], dt = 0.01 )"
   ]
  },
  {
   "cell_type": "markdown",
   "metadata": {},
   "source": [
    "#### 値の確認  \n",
    "温度の計算結果は、"
   ]
  },
  {
   "cell_type": "code",
   "execution_count": null,
   "metadata": {},
   "outputs": [],
   "source": [
    "new.temp"
   ]
  },
  {
   "cell_type": "markdown",
   "metadata": {},
   "source": [
    "水分化学ポテンシャルの計算結果は、"
   ]
  },
  {
   "cell_type": "code",
   "execution_count": null,
   "metadata": {},
   "outputs": [],
   "source": [
    "new.miu"
   ]
  },
  {
   "cell_type": "markdown",
   "metadata": {},
   "source": [
    "壁全体（境界の空気は除く）に適応すると、"
   ]
  },
  {
   "cell_type": "code",
   "execution_count": null,
   "metadata": {},
   "outputs": [],
   "source": [
    "new1 = [ balance_equation.MiuBased( cell = wall1[i+1], flux_mns = flux3[i], flux_pls = flux3[i+1], dt = 0.01 ) for i in range(len(wall1)-2)]"
   ]
  },
  {
   "cell_type": "markdown",
   "metadata": {},
   "source": [
    "温度は、"
   ]
  },
  {
   "cell_type": "code",
   "execution_count": null,
   "metadata": {},
   "outputs": [],
   "source": [
    "[ new1[i].temp for i in range(len(new1))]"
   ]
  },
  {
   "cell_type": "markdown",
   "metadata": {},
   "source": [
    "水分化学ポテンシャルは、"
   ]
  },
  {
   "cell_type": "code",
   "execution_count": null,
   "metadata": {},
   "outputs": [],
   "source": [
    "[ new1[i].miu for i in range(len(new1))]"
   ]
  },
  {
   "cell_type": "markdown",
   "metadata": {},
   "source": [
    "あとは計算結果をcellクラスに代入しループ計算をすれば完成。  \n",
    "以上の計算を簡単にまとめると、単一材料系における計算は、"
   ]
  },
  {
   "cell_type": "markdown",
   "metadata": {},
   "source": [
    "#### セルの構成"
   ]
  },
  {
   "cell_type": "code",
   "execution_count": null,
   "metadata": {},
   "outputs": [],
   "source": [
    "def set_cell( number, length ):\n",
    "    cell = [ Cell(i) for i in range(number)]\n",
    "    [ cell[i].set_dx(0.1) for i in range(number)]\n",
    "    return cell"
   ]
  },
  {
   "cell_type": "markdown",
   "metadata": {},
   "source": [
    "#### 初期温湿度、材料の設定"
   ]
  },
  {
   "cell_type": "code",
   "execution_count": null,
   "metadata": {},
   "outputs": [],
   "source": [
    "def set_condition( cell, temp, rh, material ):\n",
    "    [ cell[i].set_Gas_Water_BasedRH( temp, rh ) for i in range(len(cell)) ]\n",
    "    [ cell[i].set_Solid_Material( temp , material ) for i in range(len(cell))]\n",
    "    [ cell[i].set_Liquid_Water_BasedMiu( temp , miu = cell[i].vapour.miu ) for i in range(len(cell)) ]\n",
    "    [ cell[i].water.set_material( material ) for i in range(len(cell)) ]"
   ]
  },
  {
   "cell_type": "markdown",
   "metadata": {},
   "source": [
    "#### 室空気のセット"
   ]
  },
  {
   "cell_type": "code",
   "execution_count": null,
   "metadata": {},
   "outputs": [],
   "source": [
    "def set_air( name, volume, temp, rh, alpha, aldm ):\n",
    "    air = Air(name)\n",
    "    air.set_volume(temp)\n",
    "    air.set_Air_BasedRH( temp, rh ) \n",
    "    air.set_HeatTransferCoefficient( alpha )\n",
    "    air.set_MoistureTransferCoefficient( aldm )\n",
    "    return air"
   ]
  },
  {
   "cell_type": "markdown",
   "metadata": {},
   "source": [
    "#### 流量の計算"
   ]
  },
  {
   "cell_type": "code",
   "execution_count": null,
   "metadata": {},
   "outputs": [],
   "source": [
    "def cal_flux( air_in, cell, air_out, nx ):\n",
    "    wall = cell[:]\n",
    "    wall.insert(0,air_in)\n",
    "    wall.insert(len(wall1),air_out)\n",
    "    return [ flux.CombinationBoundaryCondition( wall[i], wall[i+1], nx ) for i in range(len(wall)-1) ]"
   ]
  },
  {
   "cell_type": "markdown",
   "metadata": {},
   "source": [
    "#### 収支計算"
   ]
  },
  {
   "cell_type": "code",
   "execution_count": null,
   "metadata": {},
   "outputs": [],
   "source": [
    "def new_value( cell, flux, dt ):\n",
    "    return [ balance_equation.MiuBased( cell[i], flux[i], flux[i+1], dt ) for i in range(len(cell)) ]"
   ]
  },
  {
   "cell_type": "markdown",
   "metadata": {},
   "source": [
    "#### 新しい温湿度のセット"
   ]
  },
  {
   "cell_type": "code",
   "execution_count": null,
   "metadata": {},
   "outputs": [],
   "source": [
    "def set_temp_miu( cell, new_value ):\n",
    "    [ cell[i].vapour.set_temp(new_value[i].temp) for i in range(len(cell)) ]\n",
    "    [ cell[i].water.set_temp(new_value[i].temp) for i in range(len(cell)) ]\n",
    "    [ cell[i].material.set_temp(new_value[i].temp) for i in range(len(cell)) ]\n",
    "    [ cell[i].vapour.set_miu(new_value[i].miu) for i in range(len(cell)) ]\n",
    "    [ cell[i].water.set_miu(new_value[i].miu) for i in range(len(cell)) ]"
   ]
  },
  {
   "cell_type": "markdown",
   "metadata": {},
   "source": [
    "### 使用例"
   ]
  },
  {
   "cell_type": "markdown",
   "metadata": {},
   "source": [
    "cellのセット"
   ]
  },
  {
   "cell_type": "code",
   "execution_count": null,
   "metadata": {},
   "outputs": [],
   "source": [
    "cell_test = set_cell( number = 10, length = 0.1 )\n",
    "set_condition( cell = cell_test, temp = 293.15, rh = 0.7, material = 'BentheimerSandstone' )"
   ]
  },
  {
   "cell_type": "markdown",
   "metadata": {},
   "source": [
    "境界（空気）の温湿度のセット"
   ]
  },
  {
   "cell_type": "code",
   "execution_count": null,
   "metadata": {},
   "outputs": [],
   "source": [
    "inner_air = set_air( \"室空気\", volume = 100.0 , temp = 288.15, rh = 0.7, alpha = 9.0,  aldm = 3.0e-10 )\n",
    "outer_air = set_air( \"外気\",   volume = 100.0 , temp = 298.15, rh = 0.65,alpha = 23.0, aldm = 9.3e-10 )"
   ]
  },
  {
   "cell_type": "markdown",
   "metadata": {},
   "source": [
    "流量計算及び収支計算並びに温湿度のセット"
   ]
  },
  {
   "cell_type": "code",
   "execution_count": null,
   "metadata": {},
   "outputs": [],
   "source": [
    "for i in range(1000):\n",
    "    flux_test  = cal_flux ( air_in = inner_air, cell = cell_test, air_out = outer_air , nx = 0.0 )\n",
    "    nvalue_test = new_value( cell = cell_test  , flux = flux_test, dt = 0.1 )\n",
    "    set_temp_miu( cell = cell_test, new_value = nvalue_test )"
   ]
  },
  {
   "cell_type": "code",
   "execution_count": null,
   "metadata": {},
   "outputs": [],
   "source": [
    "[ cell_test[i].material.temp for i in range(len(cell_test)) ]"
   ]
  },
  {
   "cell_type": "code",
   "execution_count": null,
   "metadata": {},
   "outputs": [],
   "source": []
  }
 ],
 "metadata": {
  "kernelspec": {
   "display_name": "Python 3",
   "language": "python",
   "name": "python3"
  },
  "language_info": {
   "codemirror_mode": {
    "name": "ipython",
    "version": 3
   },
   "file_extension": ".py",
   "mimetype": "text/x-python",
   "name": "python",
   "nbconvert_exporter": "python",
   "pygments_lexer": "ipython3",
   "version": "3.6.5"
  }
 },
 "nbformat": 4,
 "nbformat_minor": 2
}
