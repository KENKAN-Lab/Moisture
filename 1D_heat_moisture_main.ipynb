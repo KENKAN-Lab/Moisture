{
 "cells": [
  {
   "cell_type": "code",
   "execution_count": 1,
   "metadata": {},
   "outputs": [
    {
     "name": "stdout",
     "output_type": "stream",
     "text": [
      "Importing Jupyter notebook from moisture.ipynb\n",
      "Importing Jupyter notebook from moisture_conversion.ipynb\n",
      "Importing Jupyter notebook from vapour_pressure.ipynb\n",
      "Importing Jupyter notebook from flux.ipynb\n",
      "Importing Jupyter notebook from balance_equation.ipynb\n",
      "Importing Jupyter notebook from property_conversion.ipynb\n"
     ]
    }
   ],
   "source": [
    "import nbimporter\n",
    "import numpy as np\n",
    "import matplotlib.pyplot as plt\n",
    "import time\n",
    "import moisture\n",
    "import flux\n",
    "import balance_equation\n",
    "import property_conversion  as prop\n",
    "import moisture_conversion as mc"
   ]
  },
  {
   "cell_type": "markdown",
   "metadata": {},
   "source": [
    "## 1次元モデルの差分計算をするためのモジュール  \n",
    "目標：Cellを定義したらCell間の流量を計算してくれる  \n",
    "→境界条件を入力したら境界の流量も計算してくれる  \n",
    "→現在のCell情報と流量情報を入れたら新しい温度・水分状態を出してくれる  \n",
    "これができるだけで室の温湿度計算などは簡単にできる"
   ]
  },
  {
   "cell_type": "markdown",
   "metadata": {},
   "source": [
    "### クラス：Cell( i )  \n",
    "差分法におけるコントロールボリューム（CV）に相当する構造体。  \n",
    "固相・液相・気相の情報から構成され、CVの大きさ、位置などの情報を有する。  \n",
    "示量変数はCellクラスに内包され、示強変数はそれぞれの相情報に保持される。\n",
    "\n",
    "- cell情報  \n",
    "    i：セルの位置    \n",
    "    dx：セルの大きさ    \n",
    "\n",
    "\n",
    "- 気相情報  \n",
    "    - 水蒸気  \n",
    "        temp：温度[K]  \n",
    "        rh：相対湿度[-]  \n",
    "        miu：水分化学ポテンシャル[J/kg]  \n",
    "        pv：水蒸気圧[Pa]  \n",
    "    - 空気（未実装）\n",
    "\n",
    "\n",
    "- 液相情報  \n",
    "    - 純水  \n",
    "        temp：温度[K]  \n",
    "        miu：水分化学ポテンシャル[J/kg]  \n",
    "        phi：含水率[-]  \n",
    "        pl：水圧[Pa]（未実装）  \n",
    "    - 塩溶液（未実装）  \n",
    "        \n",
    "\n",
    "- 固相情報  \n",
    "    - 材料骨格部  \n",
    "        material：材料の名称  \n",
    "        crow：熱容量（比熱×密度）  \n",
    "        ※以下は液相・気相の影響を受ける  \n",
    "        lam：熱伝達率  \n",
    "        phi：含水率  \n",
    "        dphi：含水率の水分化学ポテンシャル微分  \n",
    "        ldp：透湿率  \n",
    "        ldml：水分化学ポテンシャル勾配に対する液相水分伝導率  \n",
    "    - 氷（未実装）   \n",
    "    - 塩（未実装）  \n"
   ]
  },
  {
   "cell_type": "code",
   "execution_count": 2,
   "metadata": {},
   "outputs": [],
   "source": [
    "class  Cell():\n",
    "    def __init__( self, i ):\n",
    "        self.position = i\n",
    "    \n",
    "    # cell information\n",
    "    # Length of cell\n",
    "    def setDx( self, initial = 0.0 ):\n",
    "        self.dx = initial \n",
    "    \n",
    "    # mass point(質点の位置)\n",
    "    def setMassPoint( self, initial = 0.0 ):\n",
    "        self.mp = initial\n",
    "    \n",
    "    # vapour condition（水蒸気の情報）\n",
    "    def setVapour_BasedMiu( self, temp = 0.0, miu = 0.0 ):\n",
    "        self.vapour = moisture.MiuBasedMoisture( temp, miu )\n",
    "        \n",
    "    def setVapour_BasedRH( self, temp = 0.0, rh = 0.0 ):\n",
    "        self.vapour = moisture.RHBasedMoisture( temp, rh )\n",
    "        \n",
    "    def setVapour_BasedPV( self, temp = 0.0, pv = 0.0 ):\n",
    "        self.vapour = moisture.PVBasedMoisture( temp, pv )\n",
    "        \n",
    "    # Liquid condition（液水・溶液の情報）\n",
    "    def setLiquidWater_Equilibrium( self ):\n",
    "        self.water = self.vapour # 含水率などの情報も\n",
    "        \n",
    "    # physical property（材料情報）\n",
    "    def setMaterial( self, name ):\n",
    "        self.material = prop.MaterialKernel( name )\n",
    "        \n",
    "    def setMaterial_temp( self ):\n",
    "        self.material.temp = self.vapour.temp\n",
    "    "
   ]
  },
  {
   "cell_type": "code",
   "execution_count": 3,
   "metadata": {},
   "outputs": [
    {
     "name": "stdout",
     "output_type": "stream",
     "text": [
      "Importing Jupyter notebook from bentheimer_sandstone.ipynb\n",
      "Importing Jupyter notebook from van_genuchten.ipynb\n",
      "-69593.96317819103 -69593.96317819103\n"
     ]
    }
   ],
   "source": [
    "# 使用例\n",
    "c = [ Cell(i) for i in range(10)]\n",
    "\n",
    "[ c[i].setDx(0.01*i) for i in range(10)]\n",
    "[ c[i].setMassPoint(0) for i in range(10)]\n",
    "[ c[i].setVapour_BasedRH( temp = 293.15+i, rh = 0.6 ) for i in range(10) ]\n",
    "[ c[i].setMaterial( 'BentheimerSandstone' ) for i in range( 10 )]\n",
    "[ c[i].setLiquidWater_Equilibrium() for i in range(10) ]\n",
    "[ c[i].setMaterial_temp() for i in range(10) ]\n",
    "\n",
    "print(c[2].vapour.get_miu(), c[2].vapour.miu )"
   ]
  },
  {
   "cell_type": "markdown",
   "metadata": {},
   "source": [
    "## 各種流量の計算  \n",
    "前後のセルを与えることでセル間の流量を計算するだけのモジュール  \n",
    "セルの質点から界面までの距離を計算するためmass pointという概念を導入した。  \n",
    "mp = 0 なら質点はセルの中央  \n",
    "mp = -1 なら質点はセルのマイナス側境界  \n",
    "mp = 1 なら質点はセルのプラス側境界  \n",
    "mns：前のセル情報  \n",
    "pls：後のセル情報    "
   ]
  },
  {
   "cell_type": "markdown",
   "metadata": {},
   "source": [
    "前のセルと後ろのセルを与えるだけで流量の計算をしてみる。"
   ]
  },
  {
   "cell_type": "code",
   "execution_count": 4,
   "metadata": {},
   "outputs": [],
   "source": [
    "# 熱流計算\n",
    "def flux_heat_v1( cell_mns, cell_pls ):\n",
    "    if cell_mns.mp == 0:\n",
    "        dx_mns = cell_mns.dx / 2.0\n",
    "    elif cell_mns.mp == -1:\n",
    "        dx_mns = cell_mns.dx\n",
    "    elif cell_mns.mp == 1:\n",
    "        dx_mns = 0.0\n",
    "    if cell_pls.mp == 0:\n",
    "        dx_pls = cell_pls.dx / 2.0\n",
    "    elif cell_mns.mp == -1:\n",
    "        dx_pls = cell_pls.dx\n",
    "    elif cell_mns.mp == 1:\n",
    "        dx_pls = 0.0\n",
    "    \n",
    "    return flux.heat_conduction_v2( lamL1 = cell_pls.material.getLAM(cell_pls.vapour), lamL = cell_mns.material.getLAM(cell_mns.vapour),\\\n",
    "                                   tempL1 = cell_pls.material.temp, tempL = cell_mns.material.temp, \\\n",
    "                                   dxL1   = dx_pls, dxL = dx_mns )"
   ]
  },
  {
   "cell_type": "code",
   "execution_count": 5,
   "metadata": {},
   "outputs": [
    {
     "data": {
      "text/plain": [
       "-80.0"
      ]
     },
     "execution_count": 5,
     "metadata": {},
     "output_type": "execute_result"
    }
   ],
   "source": [
    "flux_heat_v1( c[1], c[2] )"
   ]
  },
  {
   "cell_type": "markdown",
   "metadata": {},
   "source": [
    "計算式が大きくなりすぎており見づらい。質点からセル境界までの距離は予め別の関数で計算させてみる。"
   ]
  },
  {
   "cell_type": "code",
   "execution_count": 6,
   "metadata": {},
   "outputs": [],
   "source": [
    "def length_fromMassPoint( cell ):\n",
    "    if cell.mp == 0:\n",
    "        dx2 = cell.dx / 2.0\n",
    "    elif cell.mp == -1:\n",
    "        dx2 = cell.dx\n",
    "    elif cell.mp == 1:\n",
    "        dx2 = 0.0\n",
    "    return dx2"
   ]
  },
  {
   "cell_type": "code",
   "execution_count": 7,
   "metadata": {},
   "outputs": [],
   "source": [
    "def flux_heat_v2( cell_mns, cell_pls, dx2_mns, dx2_pls ):\n",
    "    return flux.heat_conduction_v2( lamL1 = cell_pls.material.getLAM(cell_pls.vapour), lamL = cell_mns.material.getLAM(cell_mns.vapour),\\\n",
    "                                   tempL1 = cell_pls.material.temp, tempL = cell_mns.material.temp, \\\n",
    "                                   dxL1   = dx2_pls, dxL = dx2_mns )"
   ]
  },
  {
   "cell_type": "code",
   "execution_count": 8,
   "metadata": {},
   "outputs": [
    {
     "data": {
      "text/plain": [
       "-80.0"
      ]
     },
     "execution_count": 8,
     "metadata": {},
     "output_type": "execute_result"
    }
   ],
   "source": [
    "dx2_mns = length_fromMassPoint( c[1] )\n",
    "dx2_pls = length_fromMassPoint( c[2] )\n",
    "flux_heat_v2( c[1], c[2], dx2_mns, dx2_pls )"
   ]
  },
  {
   "cell_type": "markdown",
   "metadata": {},
   "source": [
    "使いづらさが目立つ。クラス化することで整理してみる。"
   ]
  },
  {
   "cell_type": "code",
   "execution_count": 9,
   "metadata": {},
   "outputs": [],
   "source": [
    "class Flux():\n",
    "    def __init__( self, mns, pls ):\n",
    "        self.mns = mns\n",
    "        self.pls = pls\n",
    "        \n",
    "        # 質点間の距離 mns側の質点が右側境界にあること、その逆は基本的にない\n",
    "        if self.mns.mp == -1:\n",
    "            self.mns.dx2 = self.mns.dx\n",
    "        else:\n",
    "            self.mns.dx2 = self.mns.dx / 2.0\n",
    "        if self.pls.mp == 1:\n",
    "            self.pls.dx2 = self.pls.dx\n",
    "        else :\n",
    "            self.pls.dx2 = self.pls.dx / 2.0\n",
    "        \n",
    "    # 熱流計算\n",
    "    def heat( self ):\n",
    "        self.qs   = flux.heat_conduction_v2( lamL1 = self.pls.material.getLAM(self.pls.vapour), lamL = self.mns.material.getLAM(self.mns.vapour),\\\n",
    "                                   tempL1 = self.pls.material.temp, tempL = self.mns.material.temp, \\\n",
    "                                   dxL1   = self.pls.dx2, dxL = self.mns.dx2 )"
   ]
  },
  {
   "cell_type": "code",
   "execution_count": 10,
   "metadata": {},
   "outputs": [
    {
     "data": {
      "text/plain": [
       "[-240.0,\n",
       " -80.0,\n",
       " -47.99999999999999,\n",
       " -34.285714285714285,\n",
       " -26.666666666666664,\n",
       " -21.818181818181817,\n",
       " -18.46153846153846,\n",
       " -16.0,\n",
       " -14.117647058823529]"
      ]
     },
     "execution_count": 10,
     "metadata": {},
     "output_type": "execute_result"
    }
   ],
   "source": [
    "# 使用例\n",
    "cal_flux = [ Flux( c[i], c[i+1] ) for i in range ( 9 ) ]\n",
    "[ cal_flux[i].heat() for i in range (9)]\n",
    "[ cal_flux[i].qs for i in range( 9 ) ] "
   ]
  },
  {
   "cell_type": "markdown",
   "metadata": {},
   "source": [
    "####  関数：calc( cell, boundary_start, boundary_end,  dt )\n",
    "ここでは気相は水蒸気圧で、液相は水分化学ポテンシャル勾配で移動するとした\n",
    "\n",
    "コンストラクタ（__init__）:  \n",
    "差分計算用に温湿度・物性情報を差分化する  \n",
    "\n",
    "Flux():  \n",
    "セル間の流量を計算する\n",
    "流量自体は「クラス名.q」や「クラス名.j」で取得できる  \n",
    "\n",
    "balanceEquation():  \n",
    "セルにおける熱・水分の収支計算を行う  \n",
    "\n",
    "replace():\n",
    "セルの温度・水分情報の更新を行う\n"
   ]
  },
  {
   "cell_type": "code",
   "execution_count": null,
   "metadata": {},
   "outputs": [],
   "source": [
    "def calc( cell, boundary_start, boundary_end, dt ):\n",
    "\n",
    "    # 物性値の取得 \n",
    "    pro  = [ prop.PhysicalProperty( cell[i].material, cell[i].temp, cell[i].miu )  for i in range( len(cell) )]\n",
    "    [ cell[i].setCRow( pro[i].CRow() ) for i in range( len(cell) )]\n",
    "    [ cell[i].setDPhi( pro[i].DPhi() ) for i in range( len(cell) )]\n",
    "    [ cell[i].setLAM(  pro[i].LAM()  ) for i in range( len(cell) )]\n",
    "    [ cell[i].setLDP(  pro[i].DP()  ) for i in range( len(cell) )]\n",
    "    [ cell[i].setLDML( pro[i].LDML() ) for i in range( len(cell) )]\n",
    "    \n",
    "    #########################\n",
    "    # 流量計算\n",
    "    flux = [ Flux( Length = len(cell), mns = cell[i], pls = cell[i+1], nx = 0.0 ) for i in range ( len(cell) - 1 ) ]\n",
    "    [ flux[i].heat()   for i in range( len(cell)  -1 ) ]\n",
    "    [ flux[i].vapour() for i in range( len(cell)  -1 ) ]\n",
    "    [ flux[i].liquid() for i in range( len(cell)  -1 ) ]\n",
    "        \n",
    "    #########################\n",
    "    # 収支計算\n",
    "    newvalue = [ BalanceEquation.Calculation( cell[i], dt ) for i in range( len(cell) ) ]\n",
    "    [ newvalue[i+1].differenceOfFlux( flux_mns = flux[i], flux_pls = flux[i+1] ) for i in range( len(cell) - 2 ) ]\n",
    "        \n",
    "    # 境界以外のセル\n",
    "    [ newvalue[i+1].newTemp() for i in range( len(cell) - 2 ) ]\n",
    "    [ newvalue[i+1].newMiu () for i in range( len(cell) - 2 ) ]\n",
    "    \n",
    "    # 境界セル\n",
    "    newvalue[0].boundaryCell_Miu ( boundaryFlux = flux[0], boundary = boundary_start )\n",
    "    newvalue[0].boundaryCell_temp( boundaryFlux = flux[0], boundary = boundary_start ) \n",
    "    \n",
    "    newvalue[len(cell)-1].boundaryCell_Miu ( boundaryFlux = flux[len(cell)-2], boundary = boundary_end )\n",
    "    newvalue[len(cell)-1].boundaryCell_temp( boundaryFlux = flux[len(cell)-2], boundary = boundary_end )\n",
    "\n",
    "    #########################    \n",
    "    # 値の換算\n",
    "    [ cell[i].setTemp( newvalue[i].temp ) for i in range( len(cell) )]\n",
    "    [ cell[i].setMiu ( newvalue[i].miu  ) for i in range( len(cell) )]\n",
    "    [ cell[i].setPv  ( mc.cal_MiutoPv( cell[i].temp, cell[i].miu )  ) for i in range( len(cell) )]\n",
    "    [ cell[i].setRH  ( mc.cal_MiutoRH( cell[i].temp, cell[i].miu )  ) for i in range( len(cell) )]\n",
    "    "
   ]
  },
  {
   "cell_type": "markdown",
   "metadata": {},
   "source": [
    "### 値を取得するクラス  \n",
    "#### クラス : logger()  \n",
    "ある点の温度をlogging間隔ごとに取得するクラス  \n",
    "\n",
    "#### クラス：CrossSection()  \n",
    "ある時刻における全セルの状態を取得するクラス  "
   ]
  },
  {
   "cell_type": "code",
   "execution_count": null,
   "metadata": {},
   "outputs": [],
   "source": [
    "class CrossSection():\n",
    "    def __init__( self, interval ):\n",
    "        self.interval = interval\n",
    "        self.times = []\n",
    "        self.cell  = []\n",
    "        \n",
    "    def writeData( self, t, cell, dt):\n",
    "        if t % self.interval == 0:\n",
    "            self.times.append( t * dt)\n",
    "            self.cell.append(cell)"
   ]
  },
  {
   "cell_type": "markdown",
   "metadata": {},
   "source": [
    "### Draw Graph（グラフの描画をする関数）  "
   ]
  },
  {
   "cell_type": "code",
   "execution_count": null,
   "metadata": {},
   "outputs": [],
   "source": [
    "# draw graph\n",
    "def drawGraph( cell, time ):\n",
    "    temp = [ cell[i].temp - 273.15 for i in range(L) ]\n",
    "    dx   = [ cell[i].position*cell[i].dx for i in range(L) ]\n",
    "\n",
    "    fig = plt.figure(figsize=(15,4))\n",
    "    ax = fig.add_subplot(1,1,1)\n",
    "    ax.plot( dx, temp, label = time )\n",
    "    ax.set_xlabel( 'xlength[m]', fontsize = 12 )\n",
    "    ax.set_ylabel( 'temp[K]', fontsize = 12 )\n",
    "    plt.ylim([10.0, 20.0])\n",
    "    plt.legend()\n",
    "    plt.show()"
   ]
  },
  {
   "cell_type": "markdown",
   "metadata": {},
   "source": [
    "### 計算  \n",
    "\n",
    "#### 全体の流れ  \n",
    "\n",
    "・壁体構成の入力（物性情報、セルの大きさ・個数、初期温湿度）  \n",
    "・計算条件の入力（熱・水分の計算方法、境界条件）  \n",
    "・計算に必要な物性値の決定\n",
    "\n",
    "ループ計算内  \n",
    "\n",
    "・物性値の取得→換算（差分型へ）  \n",
    "・流量計算  \n",
    "・収支計算→値の変換  \n",
    "・値の取得（logging）  \n",
    "\n",
    "終了　→　グラフ化など\n"
   ]
  },
  {
   "cell_type": "code",
   "execution_count": null,
   "metadata": {},
   "outputs": [],
   "source": [
    "# セル情報のセッティング\n",
    "L = 20\n",
    "dt = 0.1\n",
    "\n",
    "cell = [ Cell(i) for i in range( L ) ]\n",
    "\n",
    "# セルの環境情報の入力\n",
    "[ cell[i].setTemp( 288.15 ) for i in range( len(cell) ) ]\n",
    "[ cell[i].setRH  ( 0.8 )    for i in range( len(cell) ) ]\n",
    "[ cell[i].setMiu( mc.cal_RHtoMiu( cell[i].temp, cell[i].rh )) for i in range( len(cell) ) ]\n",
    "[ cell[i].setPv(  mc.cal_RHtoPv(  cell[i].temp, cell[i].rh )) for i in range( len(cell) ) ]\n",
    "\n",
    "# セル情報・環境情報の入力\n",
    "[ cell[i].setMaterial( 'BentheimerSandstone' )for i in range( len(cell) ) ]\n",
    "[ cell[i].setDx(0.001) for i in range( len(cell) )]\n",
    "\n",
    "# initialtemp is the initial temperatures at the cells in the wall\n",
    "# surfCond is the surface conductance at the both side surface of the wall (W/m2K)\n",
    "# composition is the material of the cells in the wall\n",
    "# material_porp is the material property list written in the dictionary style\n",
    "\n",
    "# 境界条件\n",
    "# 開始側境界条件\n",
    "boundary_start = BalanceEquation.BoundaryCondition( 0 )\n",
    "boundary_start.setHeatCondition( 'robin' ) \n",
    "boundary_start.setVapourCondition( 'robin' )\n",
    "boundary_start.setLiquidCondition( 'neumann' )\n",
    "boundary_start.setTemp( 283.15 )\n",
    "boundary_start.setAL  ( 19.0 + 4.4 )\n",
    "boundary_start.setPv  ( mc.cal_RHtoPv( boundary_start.temp, 0.85 ) )\n",
    "boundary_start.setALDP( 19.0 / ( 1005.0 * 1.205 * ( 8314.41 / 18.02 ) * boundary_start.temp ) )\n",
    "boundary_start.setJl  ( 0.0 )\n",
    "\n",
    "# 終了側境界条件\n",
    "boundary_end = BalanceEquation.BoundaryCondition( len(cell)-1 )\n",
    "boundary_end.setHeatCondition( 'robin' ) \n",
    "boundary_end.setVapourCondition( 'robin' )\n",
    "boundary_end.setLiquidCondition( 'neumann' )\n",
    "boundary_end.setTemp( 293.15 )\n",
    "boundary_end.setAL  ( 19.0 + 4.4 )\n",
    "boundary_end.setPv  ( mc.cal_RHtoPv( boundary_start.temp, 0.7 ) )\n",
    "boundary_end.setALDP( 19.0 / ( 1005.0 * 1.205 * ( 8314.41 / 18.02 ) * boundary_start.temp ) )\n",
    "boundary_end.setJl  ( 0.0 )\n",
    "\n",
    "# logging情報  \n",
    "flux = [ Flux( L, cell[i], cell[i+1], 0.0 ) for i in range ( len(cell)-1 ) ]\n",
    "log = CrossSection (60.0/dt)\n",
    "\n",
    "print('Initialization')"
   ]
  },
  {
   "cell_type": "code",
   "execution_count": null,
   "metadata": {},
   "outputs": [],
   "source": [
    "import time\n",
    "start = time.time()\n",
    "for i in range( 360000 ):\n",
    "    # 境界条件はループの外に \n",
    "    calc( cell, boundary_start, boundary_end, dt )\n",
    "    #log.writeData( i, cell, dt )\n",
    "    if i % 3000 == 0 :\n",
    "        print( i * dt / 60.0,\"min\")\n",
    "        #print( cell[0].vol / cell[0].dx, cell[0].miulc, time.time()-start )\n",
    "        drawGraph( cell, i*dt/60.0 )\n",
    "        \n",
    "print('time',time.time() - start)"
   ]
  },
  {
   "cell_type": "code",
   "execution_count": null,
   "metadata": {},
   "outputs": [],
   "source": [
    "# draw graph\n",
    "time = len(log.times)\n",
    "c = log.cell[time-1]\n",
    "temp = [ c[i].temp-273.15 for i in range(L) ]\n",
    "dx =   [ c[i].position*c[i].dx for i in range(L) ]\n",
    "\n",
    "fig = plt.figure(figsize=(15,4))\n",
    "ax = fig.add_subplot(1,1,1)\n",
    "ax.plot( dx, temp , label = log.times[time-1] )\n",
    "ax.set_xlabel( 'xlength', fontsize = 12 )\n",
    "ax.set_ylabel( 'temperature(K)', fontsize = 12 )\n",
    "plt.legend()\n",
    "plt.show()\n"
   ]
  },
  {
   "cell_type": "code",
   "execution_count": null,
   "metadata": {},
   "outputs": [],
   "source": []
  }
 ],
 "metadata": {
  "kernelspec": {
   "display_name": "Python 3",
   "language": "python",
   "name": "python3"
  },
  "language_info": {
   "codemirror_mode": {
    "name": "ipython",
    "version": 3
   },
   "file_extension": ".py",
   "mimetype": "text/x-python",
   "name": "python",
   "nbconvert_exporter": "python",
   "pygments_lexer": "ipython3",
   "version": "3.6.5"
  }
 },
 "nbformat": 4,
 "nbformat_minor": 2
}
