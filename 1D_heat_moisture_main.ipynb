{
 "cells": [
  {
   "cell_type": "code",
   "execution_count": 1,
   "metadata": {},
   "outputs": [
    {
     "name": "stdout",
     "output_type": "stream",
     "text": [
      "Importing Jupyter notebook from gas_water.ipynb\n",
      "Importing Jupyter notebook from moisture_conversion.ipynb\n",
      "Importing Jupyter notebook from vapour_pressure.ipynb\n",
      "Importing Jupyter notebook from liquid_water.ipynb\n",
      "Importing Jupyter notebook from property_conversion.ipynb\n",
      "Importing Jupyter notebook from solid_material.ipynb\n",
      "Importing Jupyter notebook from flux.ipynb\n",
      "Importing Jupyter notebook from balance_equation.ipynb\n",
      "Importing Jupyter notebook from lewis_relation.ipynb\n"
     ]
    }
   ],
   "source": [
    "import nbimporter\n",
    "import numpy as np\n",
    "import matplotlib.pyplot as plt\n",
    "import pandas as pd\n",
    "\n",
    "import gas_water\n",
    "import liquid_water\n",
    "import solid_material\n",
    "\n",
    "import flux\n",
    "import balance_equation as be\n",
    "import property_conversion  as prop\n",
    "import moisture_conversion as mc\n",
    "import lewis_relation as lewis"
   ]
  },
  {
   "cell_type": "markdown",
   "metadata": {},
   "source": [
    "# 1次元モデルの差分計算をするためのモジュール  \n"
   ]
  },
  {
   "cell_type": "markdown",
   "metadata": {},
   "source": [
    "## 1. 壁体の分割"
   ]
  },
  {
   "cell_type": "markdown",
   "metadata": {},
   "source": [
    "### クラス：Cell( i )  \n",
    "差分法におけるコントロールボリューム（CV）に相当する構造体。  \n",
    "固相・液相・気相に関する各モジュール、およびCVの大きさ、位置、CV当たりに対する物性情報などを有する。  \n",
    "一般には示量変数はCellクラスそのものが保持し、示強変数はモジュール単位で管理することとする。  \n",
    "\n",
    "- cellクラス  \n",
    "    i：セルの位置    \n",
    "    dx：セルの大きさ    \n",
    "    \n",
    "    - 熱・水分・物質移動係数\n",
    "        各種移動係数は後述のcellの構成情報に影響を受けるためcellクラスが保有する\n",
    "\n",
    "- 気相情報(Gas)  \n",
    "    - 水蒸気(gas_water)  \n",
    "        temp：温度[K]  \n",
    "        rh：相対湿度[-]  \n",
    "        miu：水分化学ポテンシャル[J/kg]  \n",
    "        pv：水蒸気圧[Pa]  \n",
    "    - 空気（未実装）\n",
    "\n",
    "\n",
    "- 液相情報(Liquid)  \n",
    "    - 純水(liquid_water)  \n",
    "        temp：温度[K]  \n",
    "        miu：水分化学ポテンシャル[J/kg]  \n",
    "        phi：含水率[-]  \n",
    "        pl：水圧[Pa]  \n",
    "    - 塩溶液（未実装）  \n",
    "        \n",
    "\n",
    "- 固相情報(Solid)  \n",
    "    - 材料骨格部(solid_material)  \n",
    "        material：材料の名称  \n",
    "        crow：材料骨格部の熱容量（比熱×密度）  \n",
    "    - 氷（未実装）   \n",
    "    - 塩（未実装）  \n",
    "\n",
    "- Cellクラスが保有する物性情報\n",
    "    - crow：CVの熱容量（固相＋液相）\n",
    "    - lam：熱伝達率  \n",
    "    - ldp：透湿率  \n",
    "    - ldml：水分化学ポテンシャル勾配に対する液相水分伝導率  \n"
   ]
  },
  {
   "cell_type": "markdown",
   "metadata": {},
   "source": [
    "※　materialクラスに材料名を入力後、必ずwaterクラスに材料名を入れること　⇒　平衡含水率が出せなくなる"
   ]
  },
  {
   "cell_type": "code",
   "execution_count": 2,
   "metadata": {},
   "outputs": [],
   "source": [
    "class Cell():\n",
    "    def __init__( self, i ):\n",
    "        self.position = i\n",
    "    \n",
    "    ##############################################################\n",
    "    # cell information\n",
    "    # Length of cell\n",
    "    def set_dx( self, initial = 0.0 ):\n",
    "        self.dx = initial \n",
    "    \n",
    "    ##############################################################\n",
    "    # Gas condition（気相）\n",
    "    def set_Gas_Water_BasedMiu( self, temp = 0.0, miu = 0.0 ):\n",
    "        self.vapour = gas_water.MiuBasedMoisture( temp, miu )\n",
    "        \n",
    "    def set_Gas_Water_BasedRH( self, temp = 0.0, rh = 0.0 ):\n",
    "        self.vapour = gas_water.RHBasedMoisture( temp, rh )\n",
    "        \n",
    "    def set_Gas_Water_BasedPV( self, temp = 0.0, pv = 0.0 ):\n",
    "        self.vapour = gas_water.PVBasedMoisture( temp, pv )\n",
    "        \n",
    "    # Liquid condition（液相）\n",
    "    def set_Liquid_Water_BasedMiu( self, temp = 0.0, miu = 0.0 ):\n",
    "        self.water = liquid_water.MiuBasedWater( temp, miu )\n",
    "        \n",
    "    def set_Liquid_Water_BasedPhi( self, temp = 0.0, phi = 0.0 ):\n",
    "        self.water = liquid_water.PhiBasedWater( temp, phi )\n",
    "        \n",
    "    # Solid condition（固相）\n",
    "    def set_Solid_Material( self, temp, material_name ):\n",
    "        self.material = solid_material.TempBased( temp, material_name )\n",
    "        \n",
    "    ##############################################################\n",
    "    # Transfer coefficient（セルの有する移動係数）        \n",
    "    # lam 熱伝導率\n",
    "    def get_lam(self):\n",
    "        return prop.Kernel_TransferCoefficient( self.material.name ).getLAM( self.water )\n",
    "    \n",
    "    lam = property(get_lam)\n",
    "        \n",
    "    # dp 湿気伝導率\n",
    "    def get_dp(self):\n",
    "        return prop.Kernel_TransferCoefficient( self.material.name ).getDP( self.water )\n",
    "    \n",
    "    dp = property(get_dp)\n",
    "        \n",
    "    # ldml 液水の水分伝導率\n",
    "    def get_ldml(self):\n",
    "        return prop.Kernel_TransferCoefficient( self.material.name ).getLDML( self.water )\n",
    "\n",
    "    ldml = property(get_ldml)\n",
    "    \n",
    "    \n",
    "    #############################################################\n",
    "    # 3相の局所平衡が成り立っている場合における一括設定  \n",
    "    # cellの大きさ・温度・相対湿度・材料名の一括設定（初期設定）\n",
    "    def set_all( self, dx, temp, rh, material_name ):\n",
    "        self.dx = dx\n",
    "        self.vapour = gas_water.RHBasedMoisture( temp, rh )\n",
    "        self.water = liquid_water.MiuBasedWater( temp, self.vapour.miu )\n",
    "        self.material = solid_material.TempBased( temp, material_name )\n",
    "        self.water.set_material( material_name ) \n",
    "        \n",
    "    def set_all_by_miu( self, dx, temp, miu, material_name ):\n",
    "        self.dx = dx\n",
    "        self.vapour = gas_water.MiuBasedMoisture( temp, miu )\n",
    "        self.water = liquid_water.MiuBasedWater( temp, self.vapour.miu )\n",
    "        self.material = solid_material.TempBased( temp, material_name )\n",
    "        self.water.set_material( material_name ) \n",
    "    \n",
    "    # 温度の一括設定\n",
    "    def set_temp( self, temp ):\n",
    "        self.vapour.set_temp(temp)\n",
    "        self.water.set_temp(temp)\n",
    "        self.material.set_temp(temp)\n",
    "        \n",
    "    # 水分化学ポテンシャルの一括設定\n",
    "    def set_miu( self, miu ):\n",
    "        self.water.set_miu( miu )\n",
    "        self.vapour.set_miu( miu )\n",
    "    \n",
    "    # 含水率の一括設定\n",
    "    def set_phi( self, phi ):\n",
    "        self.water.set_phi( phi )\n",
    "        self.vapour.set_miu( self.water.miu )\n",
    "        \n",
    "    # 水蒸気圧の一括設定\n",
    "    def set_pv( self, pv ):\n",
    "        self.vapour.set_pv( pv )\n",
    "        self.water.set_miu( self.vapour.miu )\n",
    "    "
   ]
  },
  {
   "cell_type": "markdown",
   "metadata": {},
   "source": [
    "### 使用例"
   ]
  },
  {
   "cell_type": "markdown",
   "metadata": {},
   "source": [
    "セルの個数を決定する"
   ]
  },
  {
   "cell_type": "code",
   "execution_count": 3,
   "metadata": {},
   "outputs": [],
   "source": [
    "number = 5"
   ]
  },
  {
   "cell_type": "markdown",
   "metadata": {},
   "source": [
    "セルの作成・大きさを与える"
   ]
  },
  {
   "cell_type": "code",
   "execution_count": 4,
   "metadata": {},
   "outputs": [
    {
     "data": {
      "text/plain": [
       "[None, None, None, None, None]"
      ]
     },
     "execution_count": 4,
     "metadata": {},
     "output_type": "execute_result"
    }
   ],
   "source": [
    "wall = [ Cell(i) for i in range(number)]\n",
    "[ cell.set_dx(0.1) for cell in wall ]"
   ]
  },
  {
   "cell_type": "markdown",
   "metadata": {},
   "source": [
    "水蒸気の情報（温度20℃、相対湿度60%）を与える"
   ]
  },
  {
   "cell_type": "code",
   "execution_count": 5,
   "metadata": {},
   "outputs": [
    {
     "data": {
      "text/plain": [
       "[None, None, None, None, None]"
      ]
     },
     "execution_count": 5,
     "metadata": {},
     "output_type": "execute_result"
    }
   ],
   "source": [
    "[ cell.set_Gas_Water_BasedRH( temp = 293.15, rh = 0.6 ) for cell in wall ]"
   ]
  },
  {
   "cell_type": "markdown",
   "metadata": {},
   "source": [
    "材料情報を与える"
   ]
  },
  {
   "cell_type": "code",
   "execution_count": 6,
   "metadata": {},
   "outputs": [
    {
     "data": {
      "text/plain": [
       "[None, None, None, None, None]"
      ]
     },
     "execution_count": 6,
     "metadata": {},
     "output_type": "execute_result"
    }
   ],
   "source": [
    "[ cell.set_Solid_Material( temp = cell.vapour.temp, material_name = 'BentheimerSandstone' ) for cell in wall ]"
   ]
  },
  {
   "cell_type": "markdown",
   "metadata": {},
   "source": [
    "水蒸気・材料の情報から液水の情報を算出する"
   ]
  },
  {
   "cell_type": "code",
   "execution_count": 7,
   "metadata": {},
   "outputs": [
    {
     "data": {
      "text/plain": [
       "[None, None, None, None, None]"
      ]
     },
     "execution_count": 7,
     "metadata": {},
     "output_type": "execute_result"
    }
   ],
   "source": [
    "[ cell.set_Liquid_Water_BasedMiu( temp = cell.vapour.temp, miu = cell.vapour.miu ) for cell in wall ]\n",
    "[ cell.water.set_material( material_name = cell.material.name ) for cell in wall ]"
   ]
  },
  {
   "cell_type": "markdown",
   "metadata": {},
   "source": [
    "#### 値の確認\n",
    "セル情報の構築は以上となる。セル情報をいくつか引き出しみる。  \n",
    "例えば液水の含水率は"
   ]
  },
  {
   "cell_type": "code",
   "execution_count": 8,
   "metadata": {},
   "outputs": [
    {
     "name": "stdout",
     "output_type": "stream",
     "text": [
      "Importing Jupyter notebook from bentheimer_sandstone.ipynb\n",
      "Importing Jupyter notebook from van_genuchten.ipynb\n"
     ]
    },
    {
     "data": {
      "text/plain": [
       "3.2608830802176583e-05"
      ]
     },
     "execution_count": 8,
     "metadata": {},
     "output_type": "execute_result"
    }
   ],
   "source": [
    "wall[1].water.phi"
   ]
  },
  {
   "cell_type": "markdown",
   "metadata": {},
   "source": [
    "セルの液相水分伝導率は"
   ]
  },
  {
   "cell_type": "code",
   "execution_count": 9,
   "metadata": {},
   "outputs": [
    {
     "data": {
      "text/plain": [
       "2.4529155342643628e-23"
      ]
     },
     "execution_count": 9,
     "metadata": {},
     "output_type": "execute_result"
    }
   ],
   "source": [
    "wall[1].ldml"
   ]
  },
  {
   "cell_type": "markdown",
   "metadata": {},
   "source": [
    "### クラス：Air( i )  \n",
    "材料境界などに位置する室空気のクラス。  \n",
    "Cellクラスと基本概念は同じであるが固相・液相情報は持たず気相情報のみを持つものとする。  \n",
    "また、Cellクラス同様に空間の容積などの示量変数はAirクラスに内包され、示強変数はそれぞれの相情報に保持される。  \n",
    "現状、室空気は温度と水分情報しか持たないことが多いため、gas_waterのクラスのみを用いることで代用した。\n",
    "\n",
    "- Air情報     \n",
    "    i : Airの名称（基本的には何でもよい）  \n",
    "    vol：Airの容積[m3]\n",
    "    \n",
    "    \n",
    "    - 熱・水分・物質伝達係数\n",
    "\n",
    "- 気相情報(Gas)  \n",
    "    - 水蒸気(gas_water)  \n",
    "        temp：温度[K]  \n",
    "        rh：相対湿度[-]  \n",
    "        miu：水分化学ポテンシャル[J/kg]  \n",
    "        pv：水蒸気圧[Pa]  \n",
    "    - 空気（未実装）\n"
   ]
  },
  {
   "cell_type": "code",
   "execution_count": 10,
   "metadata": {},
   "outputs": [],
   "source": [
    "class  Air():\n",
    "    def __init__( self, i ):\n",
    "        self.position = i\n",
    "    \n",
    "    ##############################################################\n",
    "    # cell information\n",
    "    # cell volume（室空間の体積）\n",
    "    def set_volume( self, volume = 0.0 ):\n",
    "        self.vol = volume \n",
    "    \n",
    "    ##############################################################\n",
    "    # Gas condition（気相）\n",
    "    def set_Air_BasedMiu( self, temp = 0.0, miu = 0.0 ):\n",
    "        self.air = gas_water.MiuBasedMoisture( temp, miu )\n",
    "        \n",
    "    def set_Air_BasedRH( self, temp = 0.0, rh = 0.0 ):\n",
    "        self.air = gas_water.RHBasedMoisture( temp, rh )\n",
    "        \n",
    "    def set_Air_BasedPV( self, temp = 0.0, pv = 0.0 ):\n",
    "        self.air = gas_water.PVBasedMoisture( temp, pv )\n",
    "        \n",
    "    ##############################################################\n",
    "    # Transfer coefficient（空気空間における熱および水分の伝達係数）\n",
    "    def set_HeatTransferCoefficient( self, alpha ):\n",
    "        self.alpha = alpha\n",
    "        \n",
    "    def set_MoistureTransferCoefficient( self, aldm ):\n",
    "        self.aldm = aldm\n",
    "        \n",
    "    # Lewis関係による湿気伝達率のセット（対流熱伝達率を入力すること）\n",
    "    def set_MoistureTransferCoefficient_byLewis( self, alpha ):\n",
    "        self.aldm = lewis.cal_aldm( alpha, self.air.temp )\n",
    "        \n",
    "    # 対流熱伝達率(alphac)および放射熱伝達率(alphar)から各種係数をセットする場合\n",
    "    def set_AllTransferCoefficient( self, alphac, alphar ):\n",
    "        self.alpha = alphac + alphar\n",
    "        self.aldm = lewis.cal_aldm( alphac, self.air.temp )\n",
    "        "
   ]
  },
  {
   "cell_type": "markdown",
   "metadata": {},
   "source": [
    "### 使用例\n",
    "基本はCellクラスと同じなので"
   ]
  },
  {
   "cell_type": "code",
   "execution_count": 11,
   "metadata": {},
   "outputs": [],
   "source": [
    "# 使用例\n",
    "situ = Air('室空気')"
   ]
  },
  {
   "cell_type": "code",
   "execution_count": 12,
   "metadata": {},
   "outputs": [],
   "source": [
    "situ.set_volume(100.0)\n",
    "situ.set_Air_BasedRH( temp = 283.15, rh = 0.8 ) \n",
    "situ.set_HeatTransferCoefficient( alpha = 9.3 )\n",
    "situ.set_MoistureTransferCoefficient( aldm = lewis.cal_aldm( alpha = 9.3, temp = 283.15 ) )"
   ]
  },
  {
   "cell_type": "markdown",
   "metadata": {},
   "source": [
    "#### 値の確認"
   ]
  },
  {
   "cell_type": "code",
   "execution_count": 13,
   "metadata": {},
   "outputs": [
    {
     "data": {
      "text/plain": [
       "6.363481352179196e-08"
      ]
     },
     "execution_count": 13,
     "metadata": {},
     "output_type": "execute_result"
    }
   ],
   "source": [
    "situ.aldm"
   ]
  },
  {
   "cell_type": "markdown",
   "metadata": {},
   "source": [
    "## 2. 流量計算  "
   ]
  },
  {
   "cell_type": "markdown",
   "metadata": {},
   "source": [
    "### 2.1 材料内の計算\n",
    "壁体内部における流量の計算を行う。  \n",
    "wallの端から端までの熱流計算は、"
   ]
  },
  {
   "cell_type": "code",
   "execution_count": 14,
   "metadata": {},
   "outputs": [],
   "source": [
    "qs = [ flux.cal_heat_conduction_byCell(wall[i], wall[i+1]) for i in range(len(wall)-1)] "
   ]
  },
  {
   "cell_type": "markdown",
   "metadata": {},
   "source": [
    "同様に水蒸気流、液水の計算結果は、"
   ]
  },
  {
   "cell_type": "code",
   "execution_count": 15,
   "metadata": {},
   "outputs": [],
   "source": [
    "jv = [ flux.cal_vapour_permeance_pressure_byCell(wall[i], wall[i+1], 1.0) for i in range(len(wall)-1)] \n",
    "jl = [ flux.cal_liquid_conduction_potential_byCell(wall[i], wall[i+1], 1.0) for i in range(len(wall)-1)] "
   ]
  },
  {
   "cell_type": "markdown",
   "metadata": {},
   "source": [
    "### 2.2 境界における計算"
   ]
  },
  {
   "cell_type": "markdown",
   "metadata": {},
   "source": [
    "次に材料境界における計算を行う。"
   ]
  },
  {
   "cell_type": "markdown",
   "metadata": {},
   "source": [
    "材料端部（0側）の熱流は、"
   ]
  },
  {
   "cell_type": "code",
   "execution_count": 16,
   "metadata": {},
   "outputs": [],
   "source": [
    "qs.insert( 0, flux.cal_heat_transfer_byCell( cell_mns = situ, cell_pls = wall[0] ) )"
   ]
  },
  {
   "cell_type": "markdown",
   "metadata": {},
   "source": [
    "材料端部（終端側）の熱流は、"
   ]
  },
  {
   "cell_type": "code",
   "execution_count": 17,
   "metadata": {},
   "outputs": [],
   "source": [
    "qs.insert( len(qs),flux.cal_heat_transfer_byCell( cell_mns = wall[len(wall)-1], cell_pls = situ ) )"
   ]
  },
  {
   "cell_type": "markdown",
   "metadata": {},
   "source": [
    "同様に水蒸気流、液相水分流は、"
   ]
  },
  {
   "cell_type": "code",
   "execution_count": 18,
   "metadata": {},
   "outputs": [],
   "source": [
    "jv.insert( 0, flux.cal_vapour_transfer_pressure_byCell( cell_mns = situ, cell_pls = wall[0], nx_dir = 1.0 ) )\n",
    "jv.insert( len(jv), flux.cal_vapour_transfer_pressure_byCell( cell_mns = wall[len(wall)-1], cell_pls = situ, nx_dir = 1.0 ) )\n",
    "jl.insert( 0, 0.0 )\n",
    "jl.insert( len(jl), 0.0 )"
   ]
  },
  {
   "cell_type": "markdown",
   "metadata": {},
   "source": [
    "## 3. 熱・水分の収支計算"
   ]
  },
  {
   "cell_type": "markdown",
   "metadata": {},
   "source": [
    "収支計算モジュールはcellとcell両端に流出入するflux、時間刻みdtを入力することで計算できる。  \n",
    "ここでは上述のwall1とflux3を使うことで以下のように計算する。  \n",
    "まずはwall1の表面[1]について"
   ]
  },
  {
   "cell_type": "markdown",
   "metadata": {},
   "source": [
    "時間刻みは、"
   ]
  },
  {
   "cell_type": "code",
   "execution_count": 19,
   "metadata": {},
   "outputs": [],
   "source": [
    "dt = 0.1"
   ]
  },
  {
   "cell_type": "markdown",
   "metadata": {},
   "source": [
    "熱収支式は、"
   ]
  },
  {
   "cell_type": "code",
   "execution_count": 20,
   "metadata": {},
   "outputs": [],
   "source": [
    "ntemp = [ be.cal_newtemp_byCell(cell = wall[i], qs_mns = qs[i], qs_pls = qs[i+1],\\\n",
    "                                jv_mns = jv[i], jv_pls = jv[i+1], time = dt ) for i in range(len(wall)) ]"
   ]
  },
  {
   "cell_type": "markdown",
   "metadata": {},
   "source": [
    "水分収支式は、"
   ]
  },
  {
   "cell_type": "code",
   "execution_count": 21,
   "metadata": {},
   "outputs": [],
   "source": [
    "nmiu = [ be.cal_newmiu_byCell(cell = wall[i], jv_mns = jv[i], jv_pls = jv[i+1],\\\n",
    "                              jl_mns = jv[i], jl_pls = jv[i+1], time = dt ) for i in range(len(wall)) ]"
   ]
  },
  {
   "cell_type": "markdown",
   "metadata": {},
   "source": [
    "#### 値の確認  \n",
    "温度の計算結果は、"
   ]
  },
  {
   "cell_type": "code",
   "execution_count": 22,
   "metadata": {},
   "outputs": [
    {
     "name": "stdout",
     "output_type": "stream",
     "text": [
      "[293.14993608875534, 293.15, 293.15, 293.15, 293.14993608875534]\n"
     ]
    }
   ],
   "source": [
    "print(ntemp)"
   ]
  },
  {
   "cell_type": "markdown",
   "metadata": {},
   "source": [
    "水分化学ポテンシャルは、"
   ]
  },
  {
   "cell_type": "code",
   "execution_count": 23,
   "metadata": {},
   "outputs": [
    {
     "name": "stdout",
     "output_type": "stream",
     "text": [
      "[-69129.09393456156, -69122.37948733423, -69122.37948733423, -69122.37948733423, -69129.09393456156]\n"
     ]
    }
   ],
   "source": [
    "print(nmiu)"
   ]
  },
  {
   "cell_type": "markdown",
   "metadata": {},
   "source": [
    "ここまでが熱・水分の計算を行う一連の流れである。  \n",
    "この後は流量計算から収支計算までの流れをループ計算すればよい。  \n",
    "ただし現段階では計算の発散や振動を検知するエラーチェックプログラムは未実装である。"
   ]
  },
  {
   "cell_type": "markdown",
   "metadata": {},
   "source": [
    "## 4. Cellクラスへの値の再セット  \n",
    "熱・水分の収支計算の結果を確認した後、Cellクラスに新値をセットする必要がある。  \n",
    "この工程は省略し、上述の収支計算をntempやnmiuとして保持せずそのままセットしても良い。"
   ]
  },
  {
   "cell_type": "markdown",
   "metadata": {},
   "source": [
    "温度のセット"
   ]
  },
  {
   "cell_type": "code",
   "execution_count": 24,
   "metadata": {},
   "outputs": [
    {
     "data": {
      "text/plain": [
       "[None, None, None, None, None]"
      ]
     },
     "execution_count": 24,
     "metadata": {},
     "output_type": "execute_result"
    }
   ],
   "source": [
    "[ wall[i].set_temp(ntemp[i]) for i in range(len(wall)) ]"
   ]
  },
  {
   "cell_type": "markdown",
   "metadata": {},
   "source": [
    "水分化学ポテンシャルのセット"
   ]
  },
  {
   "cell_type": "code",
   "execution_count": 25,
   "metadata": {},
   "outputs": [
    {
     "data": {
      "text/plain": [
       "[None, None, None, None, None]"
      ]
     },
     "execution_count": 25,
     "metadata": {},
     "output_type": "execute_result"
    }
   ],
   "source": [
    "[ wall[i].set_miu(nmiu[i]) for i in range(len(wall)) ]"
   ]
  },
  {
   "cell_type": "markdown",
   "metadata": {},
   "source": [
    "## 5. 一連の流れのまとめ  \n",
    "一連の流れを関数でまとめてみる。"
   ]
  },
  {
   "cell_type": "code",
   "execution_count": 26,
   "metadata": {},
   "outputs": [],
   "source": [
    "def calculation( air_in, wall, air_out, nx, dt ):\n",
    "    # 熱流計算\n",
    "    qs = [ flux.cal_heat_conduction_byCell(wall[i], wall[i+1]) for i in range(len(wall)-1)]     \n",
    "    qs.insert( 0, flux.cal_heat_transfer_byCell( cell_mns = air_in, cell_pls = wall[0] ) )\n",
    "    qs.insert( len(qs),flux.cal_heat_transfer_byCell( cell_mns = wall[len(wall)-1], cell_pls = air_out ) )\n",
    "\n",
    "    # 水蒸気流計算\n",
    "    jv = [ flux.cal_vapour_permeance_pressure_byCell(wall[i], wall[i+1], nx) for i in range(len(wall)-1)]\n",
    "    jv.insert( 0, flux.cal_vapour_transfer_pressure_byCell( cell_mns = air_in, cell_pls = wall[0], nx_dir = nx ) )\n",
    "    jv.insert( len(jv), flux.cal_vapour_transfer_pressure_byCell( cell_mns = wall[len(wall)-1], cell_pls = air_out, nx_dir = nx ) )\n",
    "    \n",
    "    # 液水流計算\n",
    "    jl = [ flux.cal_liquid_conduction_potential_byCell(wall[i], wall[i+1], nx) for i in range(len(wall)-1)]\n",
    "    jl.insert( 0, 0.0 )\n",
    "    jl.insert( len(jl), 0.0 )\n",
    "    \n",
    "    # 熱・水分収支式\n",
    "    ntemp = [ be.cal_newtemp_byCell(cell = wall[i], qs_mns = qs[i], qs_pls = qs[i+1],\\\n",
    "                                    jv_mns = jv[i], jv_pls = jv[i+1], time = dt ) for i in range(len(wall)) ]\n",
    "    nmiu = [ be.cal_newmiu_byCell(cell = wall[i], jv_mns = jv[i], jv_pls = jv[i+1],\\\n",
    "                                  jl_mns = jv[i], jl_pls = jv[i+1], time = dt ) for i in range(len(wall)) ]\n",
    "    \n",
    "    # 値の入れ替え\n",
    "    [ wall[i].set_temp(ntemp[i]) for i in range(len(wall)) ]\n",
    "    [ wall[i].set_miu(nmiu[i]) for i in range(len(wall)) ]"
   ]
  },
  {
   "cell_type": "markdown",
   "metadata": {},
   "source": [
    "## 実際の使用例"
   ]
  },
  {
   "cell_type": "markdown",
   "metadata": {},
   "source": [
    "壁体の分割数、初期条件、材料情報を入力する。  \n",
    "- 分割数：10  \n",
    "- cellの大きさ：10mm  \n",
    "- 初期温度：20℃  \n",
    "- 初期相対湿度：60%  \n",
    "- 材料：'Sandstone'  \n",
    "としてみる"
   ]
  },
  {
   "cell_type": "code",
   "execution_count": 27,
   "metadata": {},
   "outputs": [
    {
     "data": {
      "text/plain": [
       "[None,\n",
       " None,\n",
       " None,\n",
       " None,\n",
       " None,\n",
       " None,\n",
       " None,\n",
       " None,\n",
       " None,\n",
       " None,\n",
       " None,\n",
       " None,\n",
       " None,\n",
       " None,\n",
       " None,\n",
       " None,\n",
       " None,\n",
       " None,\n",
       " None,\n",
       " None]"
      ]
     },
     "execution_count": 27,
     "metadata": {},
     "output_type": "execute_result"
    }
   ],
   "source": [
    "number = 20\n",
    "wall = [ Cell(i) for i in range(number)]\n",
    "[ cell.set_all( dx = 0.001, temp = 293.15, rh = 0.65, material_name = 'BentheimerSandstone' ) for cell in wall ]"
   ]
  },
  {
   "cell_type": "markdown",
   "metadata": {},
   "source": [
    "室内側境界のセット  \n",
    "- 名称：室空気  \n",
    "- 温度：17℃  \n",
    "- 相対湿度：60%  \n",
    "- 総合熱伝達率：9.3（うち対流熱伝達率4.9）"
   ]
  },
  {
   "cell_type": "code",
   "execution_count": 28,
   "metadata": {},
   "outputs": [],
   "source": [
    "inner_air = Air('室空気')\n",
    "inner_air.set_Air_BasedRH( temp = 290.15, rh = 0.6 ) \n",
    "inner_air.set_HeatTransferCoefficient( alpha = 9.3 )\n",
    "inner_air.set_MoistureTransferCoefficient_byLewis( alpha = 4.9 )"
   ]
  },
  {
   "cell_type": "markdown",
   "metadata": {},
   "source": [
    "外気側境界のセット  \n",
    "- 名称：外気  \n",
    "- 温度：30℃  \n",
    "- 相対湿度：70%  \n",
    "- 総合熱伝達率：23.3（うち対流熱伝達率19.0）"
   ]
  },
  {
   "cell_type": "code",
   "execution_count": 29,
   "metadata": {},
   "outputs": [],
   "source": [
    "outer_air = Air('外気')\n",
    "outer_air.set_Air_BasedRH( temp = 303.15, rh = 0.7 ) \n",
    "outer_air.set_HeatTransferCoefficient( alpha = 23.3 )\n",
    "outer_air.set_MoistureTransferCoefficient_byLewis( alpha = 19.0 )"
   ]
  },
  {
   "cell_type": "markdown",
   "metadata": {},
   "source": [
    "計算方向（重力方向に対する応答）、計算刻みのセット"
   ]
  },
  {
   "cell_type": "code",
   "execution_count": 30,
   "metadata": {},
   "outputs": [],
   "source": [
    "dt = 0.05\n",
    "nx = 0.0"
   ]
  },
  {
   "cell_type": "markdown",
   "metadata": {},
   "source": [
    "ループ計算"
   ]
  },
  {
   "cell_type": "code",
   "execution_count": 52,
   "metadata": {},
   "outputs": [
    {
     "name": "stdout",
     "output_type": "stream",
     "text": [
      "elapsed_time 115.96505928039551 [sec]\n"
     ]
    }
   ],
   "source": [
    "import time \n",
    "start = time.time()\n",
    "df = pd.DataFrame( index=[ 'T(' + str(i*2) + ')' for i in range (len(wall) // 2) ], columns=[] )\n",
    "for i in range(7200):\n",
    "    calculation( inner_air, wall, outer_air, nx, dt )\n",
    "    if i % (1.0 / dt * 10) == 0: # 10秒ごとにロギング  \n",
    "        df[i/(1.0 / dt)] = [ wall[j*2].material.temp - 273.15 for j in range(len(wall) // 2) ]\n",
    "    \n",
    "print (\"elapsed_time\", time.time() - start , \"[sec]\")"
   ]
  },
  {
   "cell_type": "markdown",
   "metadata": {},
   "source": [
    "### グラフの描画  \n",
    "matplotlibでのプロットの基本：https://qiita.com/KntKnk0328/items/5ef40d9e77308dd0d0a4"
   ]
  },
  {
   "cell_type": "code",
   "execution_count": 53,
   "metadata": {},
   "outputs": [
    {
     "data": {
      "image/png": "[encoded data removed]",
      "text/plain": [
       "<matplotlib.figure.Figure at 0x210006b4668>"
      ]
     },
     "metadata": {},
     "output_type": "display_data"
    }
   ],
   "source": [
    "# Data for plotting\n",
    "ax = df.T.plot()\n",
    "\n",
    "#ax.set_xticks([ n * 10 + 273.15 for n in range(0, 6) ])\n",
    "#ax.set_yticks([ n * 2000 for n in range(0, 7) ])\n",
    "#ax.set_xlabel('Distance form the surface [mm]', fontsize = 12 )\n",
    "ax.set_xlabel('elapsed time[s]', fontsize = 12 )\n",
    "ax.set_ylabel('Temperature [C]', fontsize = 12 )\n",
    "ax.set_title( 'calculation results', fontsize = 12 )\n",
    "\n",
    "ax.grid()\n",
    "#fig.savefig(\"test.png\")\n",
    "plt.show()"
   ]
  },
  {
   "cell_type": "code",
   "execution_count": 54,
   "metadata": {},
   "outputs": [
    {
     "data": {
      "text/plain": [
       "[-68.60358590074611,\n",
       " -83.78587494441943,\n",
       " -82.10148326304534,\n",
       " -91.06679065196204,\n",
       " -88.53058337945185,\n",
       " -90.58039450587785,\n",
       " -90.12395145407481,\n",
       " -90.59112225327226,\n",
       " -90.73668200544489,\n",
       " -90.97865120863842,\n",
       " -91.19589530571375,\n",
       " -91.41895113450572,\n",
       " -91.64049516898558,\n",
       " -91.86158014829289,\n",
       " -92.08163745900038,\n",
       " -92.3004051145881,\n",
       " -92.51760605980053,\n",
       " -92.73300732240841,\n",
       " -92.94642620768627]"
      ]
     },
     "execution_count": 54,
     "metadata": {},
     "output_type": "execute_result"
    }
   ],
   "source": [
    "[ flux.cal_heat_conduction_byCell(wall[i], wall[i+1]) for i in range(len(wall)-1)] "
   ]
  },
  {
   "cell_type": "code",
   "execution_count": 55,
   "metadata": {},
   "outputs": [
    {
     "name": "stdout",
     "output_type": "stream",
     "text": [
      "-69.9424384538965 -93.15774960974045\n"
     ]
    }
   ],
   "source": [
    "print(flux.cal_heat_transfer_byCell( cell_mns = inner_air, cell_pls = wall[0] ) ,\n",
    "      flux.cal_heat_transfer_byCell( cell_mns = wall[len(wall)-1], cell_pls = outer_air ) )"
   ]
  },
  {
   "cell_type": "code",
   "execution_count": null,
   "metadata": {},
   "outputs": [],
   "source": []
  }
 ],
 "metadata": {
  "kernelspec": {
   "display_name": "Python 3",
   "language": "python",
   "name": "python3"
  },
  "language_info": {
   "codemirror_mode": {
    "name": "ipython",
    "version": 3
   },
   "file_extension": ".py",
   "mimetype": "text/x-python",
   "name": "python",
   "nbconvert_exporter": "python",
   "pygments_lexer": "ipython3",
   "version": "3.6.4"
  }
 },
 "nbformat": 4,
 "nbformat_minor": 2
}
