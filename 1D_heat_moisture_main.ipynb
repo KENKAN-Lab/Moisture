{
 "cells": [
  {
   "cell_type": "code",
   "execution_count": 1,
   "metadata": {},
   "outputs": [
    {
     "name": "stdout",
     "output_type": "stream",
     "text": [
      "Importing Jupyter notebook from gas_water.ipynb\n",
      "Importing Jupyter notebook from moisture_conversion.ipynb\n",
      "Importing Jupyter notebook from vapour_pressure.ipynb\n",
      "Importing Jupyter notebook from liquid_water.ipynb\n",
      "Importing Jupyter notebook from property_conversion.ipynb\n",
      "Importing Jupyter notebook from solid_material.ipynb\n",
      "Importing Jupyter notebook from flux.ipynb\n",
      "Importing Jupyter notebook from balance_equation.ipynb\n"
     ]
    }
   ],
   "source": [
    "import nbimporter\n",
    "import numpy as np\n",
    "import matplotlib.pyplot as plt\n",
    "import time\n",
    "\n",
    "import gas_water\n",
    "import liquid_water\n",
    "import solid_material\n",
    "\n",
    "import flux\n",
    "import balance_equation\n",
    "import property_conversion  as prop\n",
    "import moisture_conversion as mc"
   ]
  },
  {
   "cell_type": "markdown",
   "metadata": {},
   "source": [
    "## 1次元モデルの差分計算をするためのモジュール  \n"
   ]
  },
  {
   "cell_type": "markdown",
   "metadata": {},
   "source": [
    "### クラス：Cell( i )  \n",
    "差分法におけるコントロールボリューム（CV）に相当する構造体。  \n",
    "固相・液相・気相の情報から構成され、CVの大きさ、位置などの情報を有する。  \n",
    "示量変数はCellクラスに内包され、示強変数はそれぞれの相情報に保持される。\n",
    "\n",
    "- cell情報  \n",
    "    i：セルの位置    \n",
    "    dx：セルの大きさ    \n",
    "    \n",
    "    - 熱・水分・物質移動係数\n",
    "        各種移動係数は後述のcellの構成情報に影響を受けるためcellクラスが保有する\n",
    "\n",
    "- 気相情報(Gas)  \n",
    "    - 水蒸気(gas_water)  \n",
    "        temp：温度[K]  \n",
    "        rh：相対湿度[-]  \n",
    "        miu：水分化学ポテンシャル[J/kg]  \n",
    "        pv：水蒸気圧[Pa]  \n",
    "    - 空気（未実装）\n",
    "\n",
    "\n",
    "- 液相情報(Liquid)  \n",
    "    - 純水(liquid_water)  \n",
    "        temp：温度[K]  \n",
    "        miu：水分化学ポテンシャル[J/kg]  \n",
    "        phi：含水率[-]  \n",
    "        pl：水圧[Pa]  \n",
    "    - 塩溶液（未実装）  \n",
    "        \n",
    "\n",
    "- 固相情報(Solid)  \n",
    "    - 材料骨格部(solid_material)  \n",
    "        material：材料の名称  \n",
    "        crow：熱容量（比熱×密度）  \n",
    "        ※以下は液相・気相の影響を受ける  \n",
    "        lam：熱伝達率  \n",
    "        phi：含水率  \n",
    "        dphi：含水率の水分化学ポテンシャル微分  \n",
    "        ldp：透湿率  \n",
    "        ldml：水分化学ポテンシャル勾配に対する液相水分伝導率  \n",
    "    - 氷（未実装）   \n",
    "    - 塩（未実装）  \n"
   ]
  },
  {
   "cell_type": "code",
   "execution_count": 2,
   "metadata": {},
   "outputs": [],
   "source": [
    "class  Cell():\n",
    "    def __init__( self, i ):\n",
    "        self.position = i\n",
    "    \n",
    "    # cell information\n",
    "    # Length of cell\n",
    "    def set_dx( self, initial = 0.0 ):\n",
    "        self.dx = initial \n",
    "    \n",
    "    # Gas condition（気相）\n",
    "    def set_Gas_Water_BasedMiu( self, temp = 0.0, miu = 0.0 ):\n",
    "        self.vapour = gas_water.MiuBasedMoisture( temp, miu )\n",
    "        \n",
    "    def set_Gas_Water_BasedRH( self, temp = 0.0, rh = 0.0 ):\n",
    "        self.vapour = gas_water.RHBasedMoisture( temp, rh )\n",
    "        \n",
    "    def set_Gas_Water_BasedPV( self, temp = 0.0, pv = 0.0 ):\n",
    "        self.vapour = gas_water.PVBasedMoisture( temp, pv )\n",
    "        \n",
    "    # Liquid condition（液相）\n",
    "    def set_Liquid_Water_BasedMiu( self, temp = 0.0, miu = 0.0 ):\n",
    "        self.water = liquid_water.MiuBasedWater( temp, miu )\n",
    "        \n",
    "    def set_Liquid_Water_BasedPhi( self, temp = 0.0, phi = 0.0 ):\n",
    "        self.water = liquid_water.PhiBasedWater( temp, phi )\n",
    "        \n",
    "    # Solid condition（固相）\n",
    "    def set_Solid_Material( self, temp, material_name ):\n",
    "        self.material = solid_material.TempBased( temp, material_name )\n",
    "        \n",
    "    # Transfer coefficient（セルの有する移動係数）\n",
    "    def set_TransferCoefficient( self ):\n",
    "        self.lam = prop.Kernel_TransferCoefficient( self.material.name ).getLAM( self.water )\n",
    "        self.ldml= prop.Kernel_TransferCoefficient( self.material.name ).getLDML( self.water )\n",
    "        self.dp  = prop.Kernel_TransferCoefficient( self.material.name ).getDP( self.water )\n",
    "        "
   ]
  },
  {
   "cell_type": "markdown",
   "metadata": {},
   "source": [
    "### 使用例"
   ]
  },
  {
   "cell_type": "markdown",
   "metadata": {},
   "source": [
    "セルの個数を決定する"
   ]
  },
  {
   "cell_type": "code",
   "execution_count": 3,
   "metadata": {},
   "outputs": [],
   "source": [
    "number = 5"
   ]
  },
  {
   "cell_type": "markdown",
   "metadata": {},
   "source": [
    "セルの作成・大きさを与える"
   ]
  },
  {
   "cell_type": "code",
   "execution_count": 4,
   "metadata": {},
   "outputs": [
    {
     "data": {
      "text/plain": [
       "[None, None, None, None, None]"
      ]
     },
     "execution_count": 4,
     "metadata": {},
     "output_type": "execute_result"
    }
   ],
   "source": [
    "c = [ Cell(i) for i in range(number)]\n",
    "[ c[i].set_dx(0.01*i) for i in range(number)]"
   ]
  },
  {
   "cell_type": "markdown",
   "metadata": {},
   "source": [
    "水蒸気の情報（温度20℃、相対湿度60%）を与える"
   ]
  },
  {
   "cell_type": "code",
   "execution_count": 5,
   "metadata": {},
   "outputs": [
    {
     "data": {
      "text/plain": [
       "[None, None, None, None, None]"
      ]
     },
     "execution_count": 5,
     "metadata": {},
     "output_type": "execute_result"
    }
   ],
   "source": [
    "[ c[i].set_Gas_Water_BasedRH( temp = 293.15+i, rh = 0.6 ) for i in range(len(c)) ]"
   ]
  },
  {
   "cell_type": "markdown",
   "metadata": {},
   "source": [
    "材料情報を与える"
   ]
  },
  {
   "cell_type": "code",
   "execution_count": 6,
   "metadata": {},
   "outputs": [
    {
     "data": {
      "text/plain": [
       "[None, None, None, None, None]"
      ]
     },
     "execution_count": 6,
     "metadata": {},
     "output_type": "execute_result"
    }
   ],
   "source": [
    "[ c[i].set_Solid_Material( temp = c[i].vapour.temp, material_name = 'BentheimerSandstone' ) for i in range(len(c))]"
   ]
  },
  {
   "cell_type": "markdown",
   "metadata": {},
   "source": [
    "水蒸気・材料の情報から液水の情報を算出する"
   ]
  },
  {
   "cell_type": "code",
   "execution_count": 7,
   "metadata": {},
   "outputs": [
    {
     "data": {
      "text/plain": [
       "[None, None, None, None, None]"
      ]
     },
     "execution_count": 7,
     "metadata": {},
     "output_type": "execute_result"
    }
   ],
   "source": [
    "[ c[i].set_Liquid_Water_BasedMiu( temp = c[i].vapour.temp, miu = c[i].vapour.miu ) for i in range(len(c)) ]\n",
    "[ c[i].water.set_material( material_name = c[i].material.name ) for i in range(len(c)) ]"
   ]
  },
  {
   "cell_type": "markdown",
   "metadata": {},
   "source": [
    "セルが持つ各種移動係数を計算する"
   ]
  },
  {
   "cell_type": "code",
   "execution_count": 8,
   "metadata": {},
   "outputs": [
    {
     "name": "stdout",
     "output_type": "stream",
     "text": [
      "Importing Jupyter notebook from bentheimer_sandstone.ipynb\n",
      "Importing Jupyter notebook from van_genuchten.ipynb\n"
     ]
    },
    {
     "data": {
      "text/plain": [
       "[None, None, None, None, None]"
      ]
     },
     "execution_count": 8,
     "metadata": {},
     "output_type": "execute_result"
    }
   ],
   "source": [
    "[ c[i].set_TransferCoefficient() for i in range(len(c)) ]"
   ]
  },
  {
   "cell_type": "markdown",
   "metadata": {},
   "source": [
    "#### 値の確認\n",
    "セル情報の構築は以上となる。セル情報をいくつか引き出しみる。  \n",
    "例えば液水の含水率は"
   ]
  },
  {
   "cell_type": "code",
   "execution_count": 9,
   "metadata": {},
   "outputs": [
    {
     "data": {
      "text/plain": [
       "3.249797297402751e-05"
      ]
     },
     "execution_count": 9,
     "metadata": {},
     "output_type": "execute_result"
    }
   ],
   "source": [
    "c[1].water.phi"
   ]
  },
  {
   "cell_type": "markdown",
   "metadata": {},
   "source": [
    "セルの液相水分伝導率は"
   ]
  },
  {
   "cell_type": "code",
   "execution_count": 10,
   "metadata": {},
   "outputs": [
    {
     "data": {
      "text/plain": [
       "2.415612652351753e-23"
      ]
     },
     "execution_count": 10,
     "metadata": {},
     "output_type": "execute_result"
    }
   ],
   "source": [
    "c[1].ldml"
   ]
  },
  {
   "cell_type": "markdown",
   "metadata": {},
   "source": [
    "### クラス：Air( i )  \n",
    "材料境界などに位置する室空気のクラス。  \n",
    "Cellクラスと基本概念は同じであるが固相・液相情報は持たず気相情報のみを持つものとする。  \n",
    "また、Cellクラス同様に空間の容積などの示量変数はAirクラスに内包され、示強変数はそれぞれの相情報に保持される。  \n",
    "現状、室空気は温度と水分情報しか持たないことが多いため、gas_waterのクラスのみを用いることで代用した。\n",
    "\n",
    "- Air情報     \n",
    "    i : Airの名称（基本的には何でもよい）\n",
    "    vol：Airの容積[m3]    \n",
    "    \n",
    "    - 熱・水分・物質伝達係数\\\n",
    "\n",
    "- 気相情報(Gas)  \n",
    "    - 水蒸気(gas_water)  \n",
    "        temp：温度[K]  \n",
    "        rh：相対湿度[-]  \n",
    "        miu：水分化学ポテンシャル[J/kg]  \n",
    "        pv：水蒸気圧[Pa]  \n",
    "    - 空気（未実装）\n"
   ]
  },
  {
   "cell_type": "code",
   "execution_count": 11,
   "metadata": {},
   "outputs": [],
   "source": [
    "class  Air():\n",
    "    def __init__( self, i ):\n",
    "        self.position = i\n",
    "    \n",
    "    # cell information\n",
    "    # Length of cell\n",
    "    def set_volume( self, volume = 0.0 ):\n",
    "        self.vol = volume \n",
    "    \n",
    "    # Gas condition（気相）\n",
    "    def set_Air_BasedMiu( self, temp = 0.0, miu = 0.0 ):\n",
    "        self.air = gas_water.MiuBasedMoisture( temp, miu )\n",
    "        \n",
    "    def set_Air_BasedRH( self, temp = 0.0, rh = 0.0 ):\n",
    "        self.air = gas_water.RHBasedMoisture( temp, rh )\n",
    "        \n",
    "    def set_Air_BasedPV( self, temp = 0.0, pv = 0.0 ):\n",
    "        self.air = gas_water.PVBasedMoisture( temp, pv )\n",
    "        \n",
    "    # Transfer coefficient（セルの有する移動係数）\n",
    "    def set_HeatTransferCoefficient( self, alpha ):\n",
    "        self.alpha = alpha\n",
    "        \n",
    "    def set_MoistureTransferCoefficient( self, aldm ):\n",
    "        self.aldm = aldm\n",
    "        "
   ]
  },
  {
   "cell_type": "markdown",
   "metadata": {},
   "source": [
    "### 使用例\n",
    "基本はCellクラスと同じなので"
   ]
  },
  {
   "cell_type": "code",
   "execution_count": 12,
   "metadata": {},
   "outputs": [],
   "source": [
    "# 使用例\n",
    "a = Air('室空気')"
   ]
  },
  {
   "cell_type": "code",
   "execution_count": 13,
   "metadata": {},
   "outputs": [],
   "source": [
    "a.set_volume(100.0)\n",
    "a.set_Air_BasedRH( temp = 283.15, rh = 0.8 ) \n",
    "a.set_HeatTransferCoefficient( alpha = 9.3 )\n",
    "a.set_MoistureTransferCoefficient( aldm = 9.3e-10 )"
   ]
  },
  {
   "cell_type": "markdown",
   "metadata": {},
   "source": [
    "#### 値の確認"
   ]
  },
  {
   "cell_type": "code",
   "execution_count": 14,
   "metadata": {},
   "outputs": [
    {
     "data": {
      "text/plain": [
       "982.3962203526237"
      ]
     },
     "execution_count": 14,
     "metadata": {},
     "output_type": "execute_result"
    }
   ],
   "source": [
    "a.air.pv"
   ]
  },
  {
   "cell_type": "markdown",
   "metadata": {},
   "source": [
    "## 流量計算  "
   ]
  },
  {
   "cell_type": "markdown",
   "metadata": {},
   "source": [
    "Fluxモジュールは2つのCellを与えることでその間の熱・水分流を計算する。  \n",
    "例えばcell[1]とcell[2]間の流量は、"
   ]
  },
  {
   "cell_type": "code",
   "execution_count": 15,
   "metadata": {},
   "outputs": [],
   "source": [
    "flux1 = flux.HeatAndMoisture_VapourFluxBasedPv( cell_mns = c[1], cell_pls = c[2], nx =0.0 )"
   ]
  },
  {
   "cell_type": "markdown",
   "metadata": {},
   "source": [
    "熱流の計算結果は、"
   ]
  },
  {
   "cell_type": "code",
   "execution_count": 16,
   "metadata": {},
   "outputs": [
    {
     "data": {
      "text/plain": [
       "-80.0"
      ]
     },
     "execution_count": 16,
     "metadata": {},
     "output_type": "execute_result"
    }
   ],
   "source": [
    "flux1.qs"
   ]
  },
  {
   "cell_type": "markdown",
   "metadata": {},
   "source": [
    "水蒸気流の計算結果は、"
   ]
  },
  {
   "cell_type": "code",
   "execution_count": 17,
   "metadata": {},
   "outputs": [
    {
     "data": {
      "text/plain": [
       "-1.2565291386843607e-06"
      ]
     },
     "execution_count": 17,
     "metadata": {},
     "output_type": "execute_result"
    }
   ],
   "source": [
    "flux1.jv"
   ]
  },
  {
   "cell_type": "markdown",
   "metadata": {},
   "source": [
    "液水流の計算結果は、"
   ]
  },
  {
   "cell_type": "code",
   "execution_count": 18,
   "metadata": {},
   "outputs": [
    {
     "data": {
      "text/plain": [
       "3.7586490858133714e-19"
      ]
     },
     "execution_count": 18,
     "metadata": {},
     "output_type": "execute_result"
    }
   ],
   "source": [
    "flux1.jl"
   ]
  },
  {
   "cell_type": "markdown",
   "metadata": {},
   "source": [
    "同様に空気層との流量計算もでき、"
   ]
  },
  {
   "cell_type": "code",
   "execution_count": 19,
   "metadata": {},
   "outputs": [],
   "source": [
    "flux2 = flux.HeatAndMoisture_VapourFluxBasedPv( cell_mns = a, cell_pls = c[0], nx =0.0 )"
   ]
  },
  {
   "cell_type": "markdown",
   "metadata": {},
   "source": [
    "熱流"
   ]
  },
  {
   "cell_type": "code",
   "execution_count": 20,
   "metadata": {},
   "outputs": [
    {
     "data": {
      "text/plain": [
       "-93.0"
      ]
     },
     "execution_count": 20,
     "metadata": {},
     "output_type": "execute_result"
    }
   ],
   "source": [
    "flux2.qs"
   ]
  },
  {
   "cell_type": "markdown",
   "metadata": {},
   "source": [
    "水蒸気流"
   ]
  },
  {
   "cell_type": "code",
   "execution_count": 21,
   "metadata": {},
   "outputs": [
    {
     "data": {
      "text/plain": [
       "-3.914239797133416e-07"
      ]
     },
     "execution_count": 21,
     "metadata": {},
     "output_type": "execute_result"
    }
   ],
   "source": [
    "flux2.jv"
   ]
  },
  {
   "cell_type": "code",
   "execution_count": 22,
   "metadata": {},
   "outputs": [
    {
     "data": {
      "text/plain": [
       "0.0"
      ]
     },
     "execution_count": 22,
     "metadata": {},
     "output_type": "execute_result"
    }
   ],
   "source": [
    "flux2.jl"
   ]
  },
  {
   "cell_type": "markdown",
   "metadata": {},
   "source": [
    "これを一括計算しようとすると以下のようになる。  \n",
    "例えば  \n",
    "\n",
    "空気　―　壁（cell[0] ～　cell[end]）　―　空気  \n",
    "\n",
    "のような状況を想定する。  \n",
    "\n",
    "※wall = c とするとmutableなオブジェクトとしてコピーされるのでスライスで対処"
   ]
  },
  {
   "cell_type": "code",
   "execution_count": 23,
   "metadata": {},
   "outputs": [],
   "source": [
    "wall1 = c[:]\n",
    "wall1.insert(0,a)\n",
    "wall1.insert(len(wall1),a)"
   ]
  },
  {
   "cell_type": "markdown",
   "metadata": {},
   "source": [
    "wall1のコンストラクタを確認してみる。まずは空気層のある場所について、"
   ]
  },
  {
   "cell_type": "code",
   "execution_count": 24,
   "metadata": {},
   "outputs": [
    {
     "data": {
      "text/plain": [
       "[True, False, False, False, False, False, True]"
      ]
     },
     "execution_count": 24,
     "metadata": {},
     "output_type": "execute_result"
    }
   ],
   "source": [
    "[ hasattr(wall1[i], 'air') for i in range(len(wall1)) ]"
   ]
  },
  {
   "cell_type": "markdown",
   "metadata": {},
   "source": [
    "次に多孔質材料の有無、"
   ]
  },
  {
   "cell_type": "code",
   "execution_count": 25,
   "metadata": {},
   "outputs": [
    {
     "data": {
      "text/plain": [
       "[False, True, True, True, True, True, False]"
      ]
     },
     "execution_count": 25,
     "metadata": {},
     "output_type": "execute_result"
    }
   ],
   "source": [
    "[ hasattr(wall1[i], 'material') for i in range(len(wall1)) ]"
   ]
  },
  {
   "cell_type": "markdown",
   "metadata": {},
   "source": [
    "\n",
    "流量を計算してみる。"
   ]
  },
  {
   "cell_type": "code",
   "execution_count": 26,
   "metadata": {},
   "outputs": [],
   "source": [
    "flux3 = [ flux.HeatAndMoisture_VapourFluxBasedPv( cell_mns = wall1[i], cell_pls = wall1[i+1], nx =0.0 ) for i in range(len(wall1)-1) ]"
   ]
  },
  {
   "cell_type": "markdown",
   "metadata": {},
   "source": [
    "#### 値の確認  \n",
    "熱流"
   ]
  },
  {
   "cell_type": "code",
   "execution_count": 27,
   "metadata": {},
   "outputs": [
    {
     "data": {
      "text/plain": [
       "[-93.0,\n",
       " -240.0,\n",
       " -80.0,\n",
       " -47.99999999999999,\n",
       " -34.285714285714285,\n",
       " 112.72727272727273]"
      ]
     },
     "execution_count": 27,
     "metadata": {},
     "output_type": "execute_result"
    }
   ],
   "source": [
    "[ flux3[i].qs for i in range(len(flux3)) ]"
   ]
  },
  {
   "cell_type": "markdown",
   "metadata": {},
   "source": [
    "水蒸気流"
   ]
  },
  {
   "cell_type": "code",
   "execution_count": 28,
   "metadata": {},
   "outputs": [
    {
     "data": {
      "text/plain": [
       "[-3.914239797133416e-07,\n",
       " -3.5722675755550987e-06,\n",
       " -1.2565291386843607e-06,\n",
       " -7.952053338607731e-07,\n",
       " -5.988450050732532e-07,\n",
       " 6.880735248531062e-07]"
      ]
     },
     "execution_count": 28,
     "metadata": {},
     "output_type": "execute_result"
    }
   ],
   "source": [
    "[ flux3[i].jv for i in range(len(flux3)) ]"
   ]
  },
  {
   "cell_type": "markdown",
   "metadata": {},
   "source": [
    "液相水分流"
   ]
  },
  {
   "cell_type": "code",
   "execution_count": 29,
   "metadata": {},
   "outputs": [
    {
     "data": {
      "text/plain": [
       "[0.0,\n",
       " 1.1391635302763927e-18,\n",
       " 3.7586490858133714e-19,\n",
       " 2.2233362044433623e-19,\n",
       " 1.5648339625526345e-19,\n",
       " 0.0]"
      ]
     },
     "execution_count": 29,
     "metadata": {},
     "output_type": "execute_result"
    }
   ],
   "source": [
    "[ flux3[i].jl for i in range(len(flux3)) ]"
   ]
  },
  {
   "cell_type": "markdown",
   "metadata": {},
   "source": [
    "## 熱・水分の収支計算"
   ]
  },
  {
   "cell_type": "code",
   "execution_count": null,
   "metadata": {},
   "outputs": [],
   "source": []
  },
  {
   "cell_type": "markdown",
   "metadata": {},
   "source": [
    "### 値を取得するクラス  \n",
    "#### クラス : logger()  \n",
    "ある点の温度をlogging間隔ごとに取得するクラス  \n",
    "\n",
    "#### クラス：CrossSection()  \n",
    "ある時刻における全セルの状態を取得するクラス  "
   ]
  },
  {
   "cell_type": "code",
   "execution_count": 30,
   "metadata": {},
   "outputs": [],
   "source": [
    "class CrossSection():\n",
    "    def __init__( self, interval ):\n",
    "        self.interval = interval\n",
    "        self.times = []\n",
    "        self.cell  = []\n",
    "        \n",
    "    def writeData( self, t, cell, dt):\n",
    "        if t % self.interval == 0:\n",
    "            self.times.append( t * dt)\n",
    "            self.cell.append(cell)"
   ]
  },
  {
   "cell_type": "markdown",
   "metadata": {},
   "source": [
    "### Draw Graph（グラフの描画をする関数）  "
   ]
  },
  {
   "cell_type": "code",
   "execution_count": 31,
   "metadata": {},
   "outputs": [],
   "source": [
    "# draw graph\n",
    "def drawGraph( cell, time ):\n",
    "    temp = [ cell[i].temp - 273.15 for i in range(L) ]\n",
    "    dx   = [ cell[i].position*cell[i].dx for i in range(L) ]\n",
    "\n",
    "    fig = plt.figure(figsize=(15,4))\n",
    "    ax = fig.add_subplot(1,1,1)\n",
    "    ax.plot( dx, temp, label = time )\n",
    "    ax.set_xlabel( 'xlength[m]', fontsize = 12 )\n",
    "    ax.set_ylabel( 'temp[K]', fontsize = 12 )\n",
    "    plt.ylim([10.0, 20.0])\n",
    "    plt.legend()\n",
    "    plt.show()"
   ]
  },
  {
   "cell_type": "code",
   "execution_count": null,
   "metadata": {},
   "outputs": [],
   "source": []
  }
 ],
 "metadata": {
  "kernelspec": {
   "display_name": "Python 3",
   "language": "python",
   "name": "python3"
  },
  "language_info": {
   "codemirror_mode": {
    "name": "ipython",
    "version": 3
   },
   "file_extension": ".py",
   "mimetype": "text/x-python",
   "name": "python",
   "nbconvert_exporter": "python",
   "pygments_lexer": "ipython3",
   "version": "3.6.5"
  }
 },
 "nbformat": 4,
 "nbformat_minor": 2
}
