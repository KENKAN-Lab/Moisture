{
 "cells": [
  {
   "cell_type": "code",
   "execution_count": null,
   "metadata": {},
   "outputs": [],
   "source": []
  },
  {
   "cell_type": "markdown",
   "metadata": {},
   "source": [
    "## 流量を管理するモジュール  \n",
    "\n",
    "本モジュールで計算できる流量は2018/10/9現在以下の3つである。\n",
    "\n",
    "- $q_s$ 熱流（固体熱伝導）[J/m2s]\n",
    "- $j_v$ 水蒸気流 [kg/m2s]\n",
    "- $j_l$ 液水流 [kg/m2s]\n",
    "  "
   ]
  },
  {
   "cell_type": "markdown",
   "metadata": {},
   "source": [
    "流量の与え方は大まかに  \n",
    "\n",
    "- 第二種境界条件；一定値を与える方法  \n",
    "- 第三種境界条件；両端のセル情報から流量を計算する方法  \n",
    "\n",
    "の2種類がある。しかしながら外壁表面などでは第二種と第三種境界条件を組み合わせた条件などが存在する。（日射や降雨が当たる場合など）  \n",
    "そのため流量の管理モジュールは以下の三種類を有する必要がある。\n",
    "\n",
    "- 第二種境界条件\n",
    "- 第三種境界条件（流量計算）  \n",
    "- 第二種＋第三種境界条件  \n",
    "\n",
    "ここでは第二種境界条件のクラスと第三種境界条件のクラスを分けることでそれぞれのクラスを作成した。\n"
   ]
  },
  {
   "cell_type": "markdown",
   "metadata": {},
   "source": [
    "### 第二種境界条件  \n",
    "\n",
    "第二種境界条件のクラスではそれぞれ熱流・水蒸気流・液水流を保持するだけのクラスとする。\n"
   ]
  },
  {
   "cell_type": "code",
   "execution_count": 1,
   "metadata": {},
   "outputs": [],
   "source": [
    "class NeumannBoundaryCondition():\n",
    "    \n",
    "    def __init__( self ):\n",
    "        \n",
    "        self.qs = 0.0\n",
    "        self.jv = 0.0\n",
    "        self.jl = 0.0\n",
    "        \n",
    "    # qs\n",
    "    \n",
    "    def set_qs(self, qs):\n",
    "        self.qs = qs\n",
    "\n",
    "    # jv\n",
    "    \n",
    "    def set_jv(self, jv):\n",
    "        self.jv = jv\n",
    "    \n",
    "    # jl\n",
    "    \n",
    "    def set_jl(self, jl):\n",
    "        self.jl = jl\n",
    "    "
   ]
  },
  {
   "cell_type": "markdown",
   "metadata": {},
   "source": [
    "### 第三種境界条件\n",
    "\n",
    "第三種境界条件として2つのセル情報からセル間の流量を計算するクラス。  \n",
    "流量の具体的な計算方法については下記の\"流量の計算方法\"に定義することとした。\n",
    "\n",
    "流量を計算するにあたり、材料間の質点の距離、物性値の平均値、セル間の重力に対する応答方向などを取る必要がある。\n",
    "特に質点間の距離については質点の設定という工程を省略するため、\n",
    "ここでは全てのセルの質点を中央に取ることにより質点間の距離を簡単に計算できる方式を採用した。  \n",
    "\n",
    "そのため空気と接する材料境界では熱及び水分の移動は、  \n",
    "\n",
    "空気から材料表面のへの熱・水分流　＋　材料表面からの材料の質点までの熱・水分流\n",
    "\n",
    "という形で表した。なお材料表面から空気への水分流は水蒸気のみになるとし、液相水分流は生じないものとした。\n"
   ]
  },
  {
   "cell_type": "code",
   "execution_count": 2,
   "metadata": {},
   "outputs": [],
   "source": [
    "class RobinBoundaryCondition():\n",
    "    \n",
    "    def __init__( self, cell_mns, cell_pls, nx ):\n",
    "        \n",
    "        self.cell_mns = cell_mns\n",
    "        self.cell_pls = cell_pls\n",
    "        self.nx = nx\n",
    "        \n",
    "    # dx2 質点間の距離\n",
    "    def cal_dx2(self):\n",
    "        return self.cell_mns.dx / 2.0 + self.cell_pls.dx / 2.0\n",
    "    dx2 = property(cal_dx2)\n",
    "    \n",
    "    ################################\n",
    "    # 物性値の平均化\n",
    "    # lam 熱伝導率\n",
    "    def cal_lam(self):\n",
    "        return sum_resistance( val_mns=self.cell_mns.lam, val_pls=self.cell_pls.lam, len_mns=self.cell_mns.dx, len_pls=self.cell_pls.dx )\n",
    "    lam = property(cal_lam)\n",
    "        \n",
    "    # dp 湿気伝導率\n",
    "    def cal_dp(self):\n",
    "        return sum_resistance( val_mns=self.cell_mns.dp, val_pls=self.cell_pls.dp, len_mns=self.cell_mns.dx, len_pls=self.cell_pls.dx )\n",
    "    dp = property(cal_dp)\n",
    "        \n",
    "    # ldml 液水の水分伝導率\n",
    "    def cal_ldml(self):\n",
    "        return sum_resistance( val_mns=self.cell_mns.ldml, val_pls=self.cell_pls.ldml, len_mns=self.cell_mns.dx, len_pls=self.cell_pls.dx )\n",
    "    ldml = property(cal_ldml)\n",
    "        \n",
    "    ################################\n",
    "    # 熱流計算\n",
    "    \n",
    "    def cal_heat_conduction( self ):\n",
    "        \n",
    "        # 両方のセルがともに多孔質材料である場合\n",
    "        if hasattr(self.cell_mns, 'material') and hasattr(self.cell_pls, 'material'):\n",
    "            dtemp  = self.cell_pls.material.temp - self.cell_mns.material.temp\n",
    "            return heat_conduction( self.lam, dtemp, self.dx2 )\n",
    "        \n",
    "        # 片方（pls側）のセルに多孔質材料がセットされてない場合\n",
    "        elif hasattr(self.cell_pls, 'material'):\n",
    "            K = transmittance( self.cell_mns.alpha, self.cell_pls.lam, self.cell_pls.dx )\n",
    "            return heat_transfer( K, self.cell_mns.air.temp, self.cell_pls.material.temp )\n",
    "        \n",
    "        # 片方（mns側）のセルに多孔質材料がセットされてない場合\n",
    "        elif hasattr(self.cell_mns, 'material'):\n",
    "            K = transmittance( self.cell_pls.alpha, self.cell_mns.lam, self.cell_mns.dx )\n",
    "            return - heat_transfer( K, self.cell_pls.air.temp, self.cell_mns.material.temp )\n",
    "        \n",
    "        else:\n",
    "            raise NameError('Cellクラスの設定が適切ではありません。')\n",
    "    \n",
    "    qs = property(cal_heat_conduction)\n",
    "    \n",
    "    # 水蒸気流計算（水蒸気圧差）\n",
    "    \n",
    "    def cal_vapour_permeance( self ):\n",
    "        \n",
    "        # 両方のセルがともに多孔質材料である場合\n",
    "        if hasattr(self.cell_mns, 'material') and hasattr(self.cell_pls, 'material'):\n",
    "            dpv  = self.cell_pls.vapour.pv - self.cell_mns.vapour.pv\n",
    "            return vapour_permeance_pressure( self.dp, dpv, self.dx2 )\n",
    "        \n",
    "        # 片方（pls側）のセルに多孔質材料がセットされてない場合\n",
    "        elif hasattr(self.cell_pls, 'material'):\n",
    "            Kp = transmittance( self.cell_mns.aldm, self.cell_pls.dp, self.cell_pls.dx )\n",
    "            return vapour_transfer_pressure( Kp, self.cell_mns.air.pv, self.cell_pls.vapour.pv )\n",
    "        \n",
    "        # 片方（mns側）のセルに多孔質材料がセットされてない場合\n",
    "        elif hasattr(self.cell_mns, 'material'):\n",
    "            Kp = transmittance( self.cell_pls.aldm, self.cell_mns.dp, self.cell_mns.dx )\n",
    "            return - vapour_transfer_pressure( Kp, self.cell_pls.air.pv, self.cell_mns.vapour.pv )\n",
    "        \n",
    "        else:\n",
    "            raise NameError('Cellクラスの設定が適切ではありません。')\n",
    "    \n",
    "    jv = property(cal_vapour_permeance)\n",
    "    \n",
    "    # 液水流計算（水分化学ポテンシャル差）\n",
    "    \n",
    "    def cal_liquid_conduction( self ):\n",
    "    \n",
    "        # 両方のセルがともに多孔質材料である場合\n",
    "        if hasattr(self.cell_mns, 'material') and hasattr(self.cell_pls, 'material'):\n",
    "            dmiu  = self.cell_pls.water.miu - self.cell_mns.water.miu\n",
    "            return liquid_conduction_potential( self.ldml, dmiu, self.dx2, self.nx )\n",
    "\n",
    "        else:\n",
    "            return 0.0\n",
    "    \n",
    "    jl = property(cal_liquid_conduction)\n",
    "    "
   ]
  },
  {
   "cell_type": "markdown",
   "metadata": {},
   "source": [
    "### 第二種 + 第三種境界条件  \n",
    "\n",
    "熱伝達＋日射というような形の境界条件の場合こちらを用いる。（等価外気温の形を用いても良いが）  \n",
    "\n",
    "基本構造は第二種と第三種のクラスの組み合わせである。"
   ]
  },
  {
   "cell_type": "code",
   "execution_count": 3,
   "metadata": {},
   "outputs": [],
   "source": [
    "class CombinationBoundaryCondition():\n",
    "    \n",
    "    def __init__( self, cell_mns, cell_pls, nx ):\n",
    "        self.neumann = NeumannBoundaryCondition()\n",
    "        self.robin   = RobinBoundaryCondition(cell_mns, cell_pls, nx)\n",
    "        \n",
    "    # Neumann qs\n",
    "    def set_qs(self, qs):\n",
    "        self.neumann.set_qs(qs) \n",
    "\n",
    "    # Neumann jv\n",
    "    def set_jv(self, jv):\n",
    "        self.neumann.set_jv(jv)\n",
    "    \n",
    "    # Neumann jl\n",
    "    def set_jl(self, jl):\n",
    "        self.neumann.set_jl(jl)\n",
    "    \n",
    "    ################################\n",
    "    # 熱流計算\n",
    "    \n",
    "    def sum_heat_conduction( self ):\n",
    "        return self.neumann.qs + self.robin.qs\n",
    "    \n",
    "    qs = property(sum_heat_conduction)\n",
    "    \n",
    "    # 水蒸気流計算（水蒸気圧差）\n",
    "    \n",
    "    def sum_vapour_permeance( self ):\n",
    "        return self.neumann.jv + self.robin.jv\n",
    "    \n",
    "    jv = property(sum_vapour_permeance)\n",
    "    \n",
    "    # 液水流計算（水分化学ポテンシャル差）\n",
    "    \n",
    "    def sum_liquid_conduction( self ):\n",
    "        return self.neumann.jl + self.robin.jl\n",
    "        \n",
    "    jl = property(sum_liquid_conduction)\n",
    "    "
   ]
  },
  {
   "cell_type": "markdown",
   "metadata": {},
   "source": [
    "#### 重力加速度"
   ]
  },
  {
   "cell_type": "code",
   "execution_count": 4,
   "metadata": {},
   "outputs": [],
   "source": [
    "def grav():\n",
    "    return 9.806650"
   ]
  },
  {
   "cell_type": "markdown",
   "metadata": {},
   "source": [
    "# 流量の計算方法"
   ]
  },
  {
   "cell_type": "markdown",
   "metadata": {},
   "source": [
    "### 物性値の平均化   \n",
    "セル間の物性値を計算するにあたり2つのセルの物性値を平均化する必要がある。  \n",
    "この際、平均化の方法についてはいくつかやり方が存在するがここでは以下の2つの方法について示す。"
   ]
  },
  {
   "cell_type": "markdown",
   "metadata": {},
   "source": [
    "#### 抵抗値として重ね合わせる  \n",
    "セル間の流量が一定の場合、その間の物性値は各セルの物性値の抵抗値の和として表すことができる。したがって、  \n",
    "\n",
    "熱伝導抵抗：  $R[m^2K/W] =\\frac{ dx_{l+1} } { \\lambda_{l+1} } + \\frac{ dx_{l} }{ \\lambda_{l} }  $  \n",
    "\n",
    "同様に水分に関しても抵抗値の和として計算することで物性値を平均化することができる。  \n",
    "ここで熱伝導率・水分伝導率を合わせて$\\lambda$と表記すると、平均の伝導率は以下のように表すことができる。  \n",
    "\n",
    "平均の伝導率：  $\\lambda =\\frac{ dx_{l+1} + dx_{l} }{\\frac{ dx_{l+1} } { \\lambda_{l+1} } + \\frac{ dx_{l} }{ \\lambda_{l} } } $  \n"
   ]
  },
  {
   "cell_type": "code",
   "execution_count": 5,
   "metadata": {},
   "outputs": [],
   "source": [
    "def sum_resistance( val_mns, val_pls, len_mns, len_pls ):\n",
    "    return (len_mns + len_pls) / ( len_mns / val_mns + len_pls / val_pls )"
   ]
  },
  {
   "cell_type": "code",
   "execution_count": 6,
   "metadata": {},
   "outputs": [
    {
     "data": {
      "text/plain": [
       "1.8181818181818183"
      ]
     },
     "execution_count": 6,
     "metadata": {},
     "output_type": "execute_result"
    }
   ],
   "source": [
    "# 使用例\n",
    "sum_resistance( val_mns = 10.0, val_pls = 1.0, len_mns = 0.1, len_pls = 0.1 )"
   ]
  },
  {
   "cell_type": "markdown",
   "metadata": {},
   "source": [
    "#### 補足：片方が空気の場合  \n",
    "材料が空気と接する場合、空気から材料表面への熱移動は熱伝達及び放射により生じ、材料中から材料表面までは熱伝導によって生じる。  \n",
    "このような場合、材料表面に質点を置くことが一般的であるが、質点の位置をCellクラスに入れることは非常に手間がかかる。  \n",
    "そのためここでは空気から材料中への熱流が定常状態であるとし、熱抵抗の和として計算を行うこととする。   \n",
    "空気および材料の熱貫流率は以下の式で表される。  \n",
    "\n",
    "熱貫流率：$K =\\frac{ 1 }{ \\frac{ 1 }{ \\alpha } + \\frac{ dx_{l} }{ 2\\lambda_{l} } } $  \n"
   ]
  },
  {
   "cell_type": "code",
   "execution_count": 7,
   "metadata": {},
   "outputs": [],
   "source": [
    "def transmittance( alpha, lam, dx ):\n",
    "    return ( 1.0 ) / ( 1.0 / alpha + dx / ( 2.0 * lam ) )"
   ]
  },
  {
   "cell_type": "markdown",
   "metadata": {},
   "source": [
    "#### 調和平均を取る  \n",
    "一方でセルの長さに応じた物性値の調和平均を取るという考え方もある。\n",
    "この平均化の仕方は伝導率の差が小さい時は問題ないが、差が大きくなると抵抗値の考え方と大きくずれてくる。\n",
    "\n",
    "物性値の調和平均：　　$\\lambda_{ave}=\\frac{\\lambda_{l+1} dx_{l+1} + \\lambda_{l} dx_{l} }{ dx_{l+1} + dx_{l} }$  \n"
   ]
  },
  {
   "cell_type": "code",
   "execution_count": 8,
   "metadata": {},
   "outputs": [],
   "source": [
    "def mean_average( val_mns, val_pls, len_mns, len_pls ):\n",
    "    return ( val_mns * len_mns + val_pls * len_pls ) / ( len_mns + len_pls )"
   ]
  },
  {
   "cell_type": "code",
   "execution_count": 9,
   "metadata": {},
   "outputs": [
    {
     "data": {
      "text/plain": [
       "5.5"
      ]
     },
     "execution_count": 9,
     "metadata": {},
     "output_type": "execute_result"
    }
   ],
   "source": [
    "# 使用例\n",
    "mean_average( val_mns = 10.0, val_pls = 1.0, len_mns = 0.1, len_pls = 0.1 )"
   ]
  },
  {
   "cell_type": "markdown",
   "metadata": {},
   "source": [
    "### 熱伝導（フーリエの法則）  \n",
    "定義：$\\dot q = -\\lambda\\nabla・T$  \n",
    "$\\dot q$：単位時間当たりの熱流量の密度[W/m2]  \n",
    "$\\lambda$：熱伝導率[W/mK]  \n",
    "$T$：絶対温度[K]  "
   ]
  },
  {
   "cell_type": "code",
   "execution_count": 10,
   "metadata": {},
   "outputs": [],
   "source": [
    "def heat_conduction( lam, dtemp, dx2 ):\n",
    "    return - lam * dtemp / dx2"
   ]
  },
  {
   "cell_type": "markdown",
   "metadata": {},
   "source": [
    "#### 差分化その1：$\\dot q = -\\lambda_{ave.}\\frac{T_{l+1}-T_{l}}{dx_{l+1}+dx_{l}}$  \n",
    "$\\lambda_{ave.}$：平均の熱伝導率  \n",
    "$l, l+1$：ある点のセル・隣接する点のセル  \n",
    "$dx$：セルの質点からセル境界までの距離"
   ]
  },
  {
   "cell_type": "code",
   "execution_count": 11,
   "metadata": {},
   "outputs": [],
   "source": [
    "def heat_conduction_v1( lamL1, lamL, tempL1, tempL, dxL1, dxL ):\n",
    "    lamAve = mean_average( val_mns = lamL, val_pls = lamL1, len_mns = dxL, len_pls = dxL1 )\n",
    "    return - lamAve * ( tempL1 - tempL ) / ( dxL1 + dxL )"
   ]
  },
  {
   "cell_type": "markdown",
   "metadata": {},
   "source": [
    "#### 差分化その2：$\\dot q = -K(T_{l+1}-T_{l})$  \n",
    "$K$：熱貫流率[W/K]  \n",
    "一般的にはこちらを採用。異種材料間の熱の移動は熱抵抗値の和として計算。"
   ]
  },
  {
   "cell_type": "code",
   "execution_count": 12,
   "metadata": {},
   "outputs": [],
   "source": [
    "def heat_conduction_v2( lamL1, lamL, tempL1, tempL, dxL1, dxL ):\n",
    "    K = transmittance( val_mns = lamL, val_pls = lamL1, len_mns = dxL, len_pls = dxL1 )\n",
    "    return - K * ( tempL1 - tempL )"
   ]
  },
  {
   "cell_type": "markdown",
   "metadata": {},
   "source": [
    "### 熱伝達・熱貫流  \n",
    "\n",
    "定義：$\\dot q = \\alpha(T_{air} - T_{wall})$  \n",
    "空気に接する壁表面には空気の熱伝達層が存在すると考えた場合、もしくは質点間の熱貫流率として計算した場合の熱流。  \n",
    "ここでは便宜上、空気と壁表面の熱伝達を想定し、空気から壁表面への熱流を正とした。\n",
    "\n",
    "$\\dot q$：単位時間当たりの熱流量の密度[W/m2]  ]\n",
    "$\\alpha$：熱伝達率・熱貫流率[W/m2K]  \n",
    "$T_{air}$：空気の絶対温度[K]  \n",
    "$T_{wall}$：壁表面の絶対温度[K]  "
   ]
  },
  {
   "cell_type": "code",
   "execution_count": 13,
   "metadata": {},
   "outputs": [],
   "source": [
    "def heat_transfer( alpha, temp_air, temp_wall ):\n",
    "    return alpha * ( temp_air - temp_wall )"
   ]
  },
  {
   "cell_type": "markdown",
   "metadata": {},
   "source": [
    "## 水蒸気移動  \n",
    "元原理：Fickの拡散法則"
   ]
  },
  {
   "cell_type": "markdown",
   "metadata": {},
   "source": [
    "### 水蒸気移動（水蒸気圧勾配・固体内）  \n",
    "定義：$J_v = -\\lambda^{'}_{p}\\nabla・P_v$  \n",
    "$J_v$：気相水分流量[kg/m2s]  \n",
    "$\\lambda^{'}_{p}$：水蒸気圧勾配に関する気相水分伝導率[kg/msPa]  \n",
    "$P_v$：水蒸気圧[Pa]  "
   ]
  },
  {
   "cell_type": "code",
   "execution_count": 14,
   "metadata": {},
   "outputs": [],
   "source": [
    "def vapour_permeance_pressure( dp, dpv, dx2 ):\n",
    "    return - dp * dpv /dx2"
   ]
  },
  {
   "cell_type": "markdown",
   "metadata": {},
   "source": [
    "### 湿気伝達・湿気貫流  \n",
    "定義：$J_v = \\alpha^{'}_{m}(P_{v_{air}} - P_{v_{wall}})$  \n",
    "空気に接する壁表面には空気の湿気伝達層が存在すると考えた場合の水分流（水蒸気流）、もしくは質点間の湿気貫流率として計算した場合の水分流。  \n",
    "ここでは便宜上、空気と壁表面の水分伝達を想定し、空気から壁表面への水分流を正とした。\n",
    "\n",
    "$J_v$：単位時間当たりの水分流量[kg/m2s]  \n",
    "$\\alpha^{'}_{m}$：湿気伝達率[kg/m2s(Pa)]  \n",
    "$P_{v_{air}}$：空気の水蒸気圧[Pa]  \n",
    "$P_{v_{wall}}$：壁表面の水蒸気圧[Pa]  "
   ]
  },
  {
   "cell_type": "code",
   "execution_count": 15,
   "metadata": {},
   "outputs": [],
   "source": [
    "def vapour_transfer_pressure( alpha, pv_air, pv_wall ):\n",
    "    return alpha * ( pv_air - pv_wall )"
   ]
  },
  {
   "cell_type": "markdown",
   "metadata": {},
   "source": [
    "## 液水移動  \n",
    "原理：ダルシー則"
   ]
  },
  {
   "cell_type": "markdown",
   "metadata": {},
   "source": [
    "### 液水移動（水分化学ポテンシャル勾配・固体内）  \n",
    "定義：$J_l = -\\lambda^{'}_{\\mu_l}(\\nabla・\\mu - n_x g)$    \n",
    "\n",
    "$J_l$：液相水分流量[kg/m2s]  \n",
    "$\\lambda^{'}_{\\mu l}$：水分化学ポテンシャル勾配に関する液相水分伝導率[kg/ms(J/kg)]  \n",
    "$\\mu$：液水の化学ポテンシャル[J/kg]  \n",
    "$n_x$：重力加速度に対する応答（重力加速度に対して水平なら1、垂直なら0）"
   ]
  },
  {
   "cell_type": "code",
   "execution_count": 16,
   "metadata": {},
   "outputs": [],
   "source": [
    "def liquid_conduction_potential( ldml, dmiu, dx2, nx ):\n",
    "    return - ldml * ( dmiu / dx2 - nx * grav() )"
   ]
  },
  {
   "cell_type": "code",
   "execution_count": null,
   "metadata": {},
   "outputs": [],
   "source": []
  }
 ],
 "metadata": {
  "kernelspec": {
   "display_name": "Python 3",
   "language": "python",
   "name": "python3"
  },
  "language_info": {
   "codemirror_mode": {
    "name": "ipython",
    "version": 3
   },
   "file_extension": ".py",
   "mimetype": "text/x-python",
   "name": "python",
   "nbconvert_exporter": "python",
   "pygments_lexer": "ipython3",
   "version": "3.6.5"
  }
 },
 "nbformat": 4,
 "nbformat_minor": 2
}
