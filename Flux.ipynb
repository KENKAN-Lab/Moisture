{
 "cells": [
  {
   "cell_type": "code",
   "execution_count": null,
   "metadata": {},
   "outputs": [],
   "source": []
  },
  {
   "cell_type": "markdown",
   "metadata": {},
   "source": [
    "#### 重力加速度"
   ]
  },
  {
   "cell_type": "code",
   "execution_count": 5,
   "metadata": {},
   "outputs": [],
   "source": [
    "def grav():\n",
    "    return 9.806650"
   ]
  },
  {
   "cell_type": "markdown",
   "metadata": {},
   "source": [
    "# 流量を管理するモジュール  \n",
    "\n",
    "本モジュールで計算できる流量は2018/10/9現在以下の3つである。\n",
    "\n",
    "- $q_s$ 熱流（固体熱伝導）[J/m2s]\n",
    "- $j_v$ 水蒸気流 [kg/m2s]\n",
    "- $j_l$ 液水流 [kg/m2s]\n",
    "  \n",
    "1章では基本的な熱流、水分流の式を差分式で書いた。  \n",
    "2章では気相・液相・固相をまとめることでクラス化したCellモジュールを用いた場合における計算式を示した。  \n",
    "3章では2章の内容に加え、境界における第三種境界条件時（対流で熱・水分が移動する場合）の計算式を示した。  \n",
    "4章では上述の内容を包括した流量を管理するクラスを作成した。  \n",
    "5章ではCellクラスを用いた使用例について示す。\n",
    "\n",
    "基本的には2章までの内容を用いることとし、用途に応じて3章、4章の内容をアップグレードすると良いものと考えられる。"
   ]
  },
  {
   "cell_type": "markdown",
   "metadata": {},
   "source": [
    "## 1. 流量の計算式"
   ]
  },
  {
   "cell_type": "markdown",
   "metadata": {},
   "source": [
    "\n",
    "### 1.1 熱伝導（フーリエの法則）  \n",
    "定義：$\\dot q = -\\lambda\\nabla・T$  \n",
    "$\\dot q$：単位時間当たりの熱流量の密度[W/m2]  \n",
    "$\\lambda$：熱伝導率[W/mK]  \n",
    "$T$：絶対温度[K]  "
   ]
  },
  {
   "cell_type": "code",
   "execution_count": 1,
   "metadata": {},
   "outputs": [],
   "source": [
    "def cal_heat_conduction( lam, dtemp, dx2 ):\n",
    "    return - lam * dtemp / dx2"
   ]
  },
  {
   "cell_type": "markdown",
   "metadata": {},
   "source": [
    "#### 差分化その1：$\\dot q = -\\lambda_{ave.}\\frac{T_{l+1}-T_{l}}{dx_{l+1}+dx_{l}}$  \n",
    "$\\lambda_{ave.}$：平均の熱伝導率  \n",
    "$l, l+1$：ある点のセル・隣接する点のセル  \n",
    "$dx$：セルの質点からセル境界までの距離"
   ]
  },
  {
   "cell_type": "code",
   "execution_count": 2,
   "metadata": {},
   "outputs": [],
   "source": [
    "def cal_heat_conduction_v1( lamL1, lamL, tempL1, tempL, dxL1, dxL ):\n",
    "    lamAve = mean_average( val_mns = lamL, val_pls = lamL1, len_mns = dxL, len_pls = dxL1 )\n",
    "    return - lamAve * ( tempL1 - tempL ) / ( dxL1 + dxL )"
   ]
  },
  {
   "cell_type": "markdown",
   "metadata": {},
   "source": [
    "#### 差分化その2：$\\dot q = -K(T_{l+1}-T_{l})$  \n",
    "$K$：熱貫流率[W/K]  \n",
    "一般的にはこちらを採用。異種材料間の熱の移動は熱抵抗値の和として計算。"
   ]
  },
  {
   "cell_type": "code",
   "execution_count": 3,
   "metadata": {},
   "outputs": [],
   "source": [
    "def cal_heat_conduction_v2( lamL1, lamL, tempL1, tempL, dxL1, dxL ):\n",
    "    K = transmittance( val_mns = lamL, val_pls = lamL1, len_mns = dxL, len_pls = dxL1 )\n",
    "    return - K * ( tempL1 - tempL )"
   ]
  },
  {
   "cell_type": "markdown",
   "metadata": {},
   "source": [
    "### 熱伝達・熱貫流  \n",
    "\n",
    "定義：$\\dot q = \\alpha(T_{air} - T_{wall})$  \n",
    "空気に接する壁表面には空気の熱伝達層が存在すると考えた場合、もしくは質点間の熱貫流率として計算した場合の熱流。  \n",
    "ここでは便宜上、空気と壁表面の熱伝達を想定し、空気から壁表面への熱流を正とした。\n",
    "\n",
    "$\\dot q$：単位時間当たりの熱流量の密度[W/m2]  ]\n",
    "$\\alpha$：熱伝達率・熱貫流率[W/m2K]  \n",
    "$T_{air}$：空気の絶対温度[K]  \n",
    "$T_{wall}$：壁表面の絶対温度[K]  "
   ]
  },
  {
   "cell_type": "code",
   "execution_count": 4,
   "metadata": {},
   "outputs": [],
   "source": [
    "def cal_heat_transfer( alpha, temp_air, temp_wall ):\n",
    "    return alpha * ( temp_air - temp_wall )"
   ]
  },
  {
   "cell_type": "markdown",
   "metadata": {},
   "source": [
    "\n",
    "<br />\n",
    "\n",
    "### 1.2 水蒸気移動  \n",
    "\n",
    "元原理：6.1節を参照"
   ]
  },
  {
   "cell_type": "markdown",
   "metadata": {},
   "source": [
    "### 水蒸気移動（水蒸気圧勾配・固体内）  \n",
    "定義：$J_v = -\\lambda^{'}_{p}\\nabla・P_v$  \n",
    "$J_v$：気相水分流量[kg/m2s]  \n",
    "$\\lambda^{'}_{p}$：水蒸気圧勾配に関する気相水分伝導率[kg/msPa]  \n",
    "$P_v$：水蒸気圧[Pa]  "
   ]
  },
  {
   "cell_type": "code",
   "execution_count": 6,
   "metadata": {},
   "outputs": [],
   "source": [
    "def cal_vapour_permeance_pressure( dp, dpv, dx2 ):\n",
    "    return - dp * dpv / dx2"
   ]
  },
  {
   "cell_type": "markdown",
   "metadata": {},
   "source": [
    "### 水蒸気移動（水分化学ポテンシャル・温度勾配・固体内）  \n",
    "定義：$J_v = -\\lambda ^{'}_{\\mu g}\\nabla \\mu - \\lambda ^{'}_{T g}\\nabla T$  \n",
    "$J_v$：気相水分流量[kg/m2s]  \n",
    "$\\mu$：水分化学ポテンシャル[J/kg]  \n",
    "$T$：絶対温度[K]  \n",
    "$\\lambda ^{'}_{\\mu g}$：水分化学ポテンシャル勾配に対する気相水分伝導率[kg/ms(J/kg)]  \n",
    "$\\lambda ^{'}_{T g}$：温度勾配に対する気相水分伝導率[kg/ms(K)]  "
   ]
  },
  {
   "cell_type": "code",
   "execution_count": 43,
   "metadata": {},
   "outputs": [],
   "source": [
    "def cal_vapour_permeance_potential( ldmg, ldtg, dmiu, dtemp, dx2 ):\n",
    "    return - ( ldmg * dmiu / dx2 + ldtg * dtemp / dx2 )"
   ]
  },
  {
   "cell_type": "markdown",
   "metadata": {},
   "source": [
    "### 湿気伝達・湿気貫流  \n",
    "定義：$J_v = \\alpha^{'}_{m}(P_{v_{air}} - P_{v_{wall}})$  \n",
    "空気に接する壁表面には空気の湿気伝達層が存在すると考えた場合の水分流（水蒸気流）、もしくは質点間の湿気貫流率として計算した場合の水分流。  \n",
    "ここでは便宜上、空気と壁表面の水分伝達を想定し、空気から壁表面への水分流を正とした。\n",
    "\n",
    "$J_v$：単位時間当たりの水分流量[kg/m2s]  \n",
    "$\\alpha^{'}_{m}$：湿気伝達率[kg/m2s(Pa)]  \n",
    "$P_{v_{air}}$：空気の水蒸気圧[Pa]  \n",
    "$P_{v_{wall}}$：壁表面の水蒸気圧[Pa]  "
   ]
  },
  {
   "cell_type": "code",
   "execution_count": 7,
   "metadata": {},
   "outputs": [],
   "source": [
    "def cal_vapour_transfer_pressure( aldm, pv_air, pv_wall ):\n",
    "    return aldm * ( pv_air - pv_wall )"
   ]
  },
  {
   "cell_type": "markdown",
   "metadata": {},
   "source": [
    "\n",
    "<br />\n",
    "\n",
    "### 1.3 液水移動  \n",
    "元原理：ダルシー則　補足6.2節を参照"
   ]
  },
  {
   "cell_type": "markdown",
   "metadata": {},
   "source": [
    "### 液水移動（水分化学ポテンシャル勾配・固体内）  \n",
    "定義：$J_l = -\\lambda^{'}_{\\mu_l}(\\nabla・\\mu - n_x g)$    \n",
    "\n",
    "$J_l$：液相水分流量[kg/m2s]  \n",
    "$\\lambda^{'}_{\\mu l}$：水分化学ポテンシャル勾配に関する液相水分伝導率[kg/ms(J/kg)]  \n",
    "$\\mu$：液水の化学ポテンシャル[J/kg]  \n",
    "$n_x$：重力加速度に対する応答（重力加速度に対して水平なら1、垂直なら0）"
   ]
  },
  {
   "cell_type": "code",
   "execution_count": 8,
   "metadata": {},
   "outputs": [],
   "source": [
    "def cal_liquid_conduction_potential( ldml, dmiu, dx2, nx ):\n",
    "    return - ldml * ( dmiu / dx2 - nx * grav() )"
   ]
  },
  {
   "cell_type": "markdown",
   "metadata": {},
   "source": [
    "\n",
    "<br />\n",
    "<br />\n",
    "\n",
    "### 1.4 物性値の平均化   \n",
    "セル間の物性値を計算するにあたり2つのセルの物性値を平均化する必要がある。  \n",
    "この際、平均化の方法についてはいくつかやり方が存在するがここでは以下の2つの方法について示す。"
   ]
  },
  {
   "cell_type": "markdown",
   "metadata": {},
   "source": [
    "#### 抵抗値として重ね合わせる  \n",
    "セル間の流量が一定の場合、その間の物性値は各セルの物性値の抵抗値の和として表すことができる。したがって、  \n",
    "\n",
    "熱伝導抵抗：  $R[m^2K/W] =\\frac{ dx_{l+1} } { \\lambda_{l+1} } + \\frac{ dx_{l} }{ \\lambda_{l} }  $  \n",
    "\n",
    "同様に水分に関しても抵抗値の和として計算することで物性値を平均化することができる。  \n",
    "ここで熱伝導率・水分伝導率を合わせて$\\lambda$と表記すると、平均の伝導率は以下のように表すことができる。  \n",
    "\n",
    "平均の伝導率：  $\\lambda =\\frac{ dx_{l+1} + dx_{l} }{\\frac{ dx_{l+1} } { \\lambda_{l+1} } + \\frac{ dx_{l} }{ \\lambda_{l} } } $  \n",
    "\n",
    "※　伝導率が0の場合、エラー出力とした。"
   ]
  },
  {
   "cell_type": "code",
   "execution_count": 1,
   "metadata": {},
   "outputs": [],
   "source": [
    "def sum_resistance( val_mns, val_pls, len_mns, len_pls ):\n",
    "    if val_mns <= 0 or val_pls <= 0:\n",
    "        lam = 0.0 \n",
    "    else:\n",
    "        lam = (len_mns + len_pls) / ( len_mns / val_mns + len_pls / val_pls )\n",
    "    return lam"
   ]
  },
  {
   "cell_type": "code",
   "execution_count": 2,
   "metadata": {},
   "outputs": [
    {
     "data": {
      "text/plain": [
       "1.8181818181818183"
      ]
     },
     "execution_count": 2,
     "metadata": {},
     "output_type": "execute_result"
    }
   ],
   "source": [
    "# 使用例\n",
    "sum_resistance( val_mns = 10.0, val_pls = 1.0, len_mns = 0.1, len_pls = 0.1 )"
   ]
  },
  {
   "cell_type": "markdown",
   "metadata": {},
   "source": [
    "#### ※片方が空気の場合  \n",
    "材料が空気と接する場合、空気から材料表面への熱移動は熱伝達及び放射により生じ、材料中から材料表面までは熱伝導によって生じる。  \n",
    "このような場合、材料表面に質点を置くことが一般的であるが、質点の位置をCellクラスに入れることは非常に手間がかかる。  \n",
    "そのためここでは空気から材料中への熱流が定常状態であるとし、熱抵抗の和として計算を行うこととする。   \n",
    "空気および材料の熱貫流率は以下の式で表される。  \n",
    "\n",
    "熱貫流率：$K =\\frac{ 1 }{ \\frac{ 1 }{ \\alpha } + \\frac{ dx_{l} }{ 2\\lambda_{l} } } $  \n"
   ]
  },
  {
   "cell_type": "code",
   "execution_count": 11,
   "metadata": {},
   "outputs": [],
   "source": [
    "def cal_transmittance( alpha, lam, dx ):\n",
    "    return ( 1.0 ) / ( 1.0 / alpha + dx / ( 2.0 * lam ) )"
   ]
  },
  {
   "cell_type": "markdown",
   "metadata": {},
   "source": [
    "#### 調和平均を取る  \n",
    "一方でセルの長さに応じた物性値の調和平均を取るという考え方もある。\n",
    "この平均化の仕方は伝導率の差が小さい時は問題ないが、差が大きくなると抵抗値の考え方と大きくずれてくる。\n",
    "\n",
    "物性値の調和平均：　　$\\lambda_{ave}=\\frac{\\lambda_{l+1} dx_{l+1} + \\lambda_{l} dx_{l} }{ dx_{l+1} + dx_{l} }$  \n"
   ]
  },
  {
   "cell_type": "code",
   "execution_count": 12,
   "metadata": {},
   "outputs": [],
   "source": [
    "def cal_mean_average( val_mns, val_pls, len_mns, len_pls ):\n",
    "    return ( val_mns * len_mns + val_pls * len_pls ) / ( len_mns + len_pls )"
   ]
  },
  {
   "cell_type": "code",
   "execution_count": 13,
   "metadata": {},
   "outputs": [
    {
     "data": {
      "text/plain": [
       "5.5"
      ]
     },
     "execution_count": 13,
     "metadata": {},
     "output_type": "execute_result"
    }
   ],
   "source": [
    "# 使用例\n",
    "cal_mean_average( val_mns = 10.0, val_pls = 1.0, len_mns = 0.1, len_pls = 0.1 )"
   ]
  },
  {
   "cell_type": "markdown",
   "metadata": {},
   "source": [
    "\n",
    "<br />\n",
    "<br />\n",
    "\n",
    "## 2. Cellクラスを用いて計算を行う場合  \n",
    "流量の計算を行うにあたり、気相・液相・固相の状態量を保持したCellクラスを作成しておくと物性値の平均化などの計算が簡略化できるであろう。  \n",
    "ここでは水蒸気（vapour）、液水（water）、材料骨格部（material）がそれぞれ保持されたCellクラスを用いた計算方法について示す。  \n",
    "なお流量の計算式については1章の関数を用い簡略化した。  \n",
    "\n",
    "\n",
    "#### 注意点：\n",
    "\n",
    "- 流量を計算するにあたり、材料間の質点の距離、物性値の平均値、セル間の重力に対する応答方向などを取る必要がある。\n",
    "- 特に質点間の距離については質点の設定という工程を省略するため、ここでは全てのセルの質点を中央に取ることにより質点間の距離を簡単に計算できる方式を採用した。  \n",
    "- そのため空気と接する材料境界では、空気から材料表面までの伝達率および材料表面から質点までの伝導率を抵抗とみなすことで足し合わせた。\n",
    "- なお材料表面から空気への水分流は水蒸気のみになるとし、液相水分流は生じないものとした。"
   ]
  },
  {
   "cell_type": "markdown",
   "metadata": {},
   "source": [
    "### 2.1.1 固体熱伝導"
   ]
  },
  {
   "cell_type": "code",
   "execution_count": 14,
   "metadata": {},
   "outputs": [],
   "source": [
    "def cal_heat_conduction_byCell(cell_mns, cell_pls):\n",
    "    return cal_heat_conduction(lam = sum_resistance( val_mns=cell_mns.lam, val_pls=cell_pls.lam, len_mns=cell_mns.dx, len_pls=cell_pls.dx ),\\\n",
    "                               dtemp= cell_pls.material.temp - cell_mns.material.temp,\\\n",
    "                               dx2  = cell_mns.dx / 2.0 + cell_pls.dx / 2.0 )"
   ]
  },
  {
   "cell_type": "markdown",
   "metadata": {},
   "source": [
    "### 2.1.2 材料境界熱熱移動"
   ]
  },
  {
   "cell_type": "code",
   "execution_count": 15,
   "metadata": {},
   "outputs": [],
   "source": [
    "def cal_heat_transfer_byCell( cell_mns, cell_pls ):\n",
    "    # mns側が空気である場合（mnsのセルにairがセットされている場合）\n",
    "    if hasattr(cell_mns, 'air'):\n",
    "        return cal_heat_transfer( alpha  = cal_transmittance( cell_mns.alpha, cell_pls.lam, cell_pls.dx ),\\\n",
    "                                 temp_air = cell_mns.air.temp,\\\n",
    "                                 temp_wall= cell_pls.material.temp )\n",
    "    # pls側が空気である場合（plsのセルにairがセットされている場合）\n",
    "    elif hasattr(cell_pls, 'air'):\n",
    "        return - cal_heat_transfer( alpha  = cal_transmittance( cell_pls.alpha, cell_mns.lam, cell_mns.dx ),\\\n",
    "                                   temp_air = cell_pls.air.temp,\\\n",
    "                                   temp_wall= cell_mns.material.temp )"
   ]
  },
  {
   "cell_type": "markdown",
   "metadata": {},
   "source": [
    "### 2.2.1 材料内水蒸気拡散（水蒸気圧勾配）"
   ]
  },
  {
   "cell_type": "code",
   "execution_count": 16,
   "metadata": {},
   "outputs": [],
   "source": [
    "def cal_vapour_permeance_pressure_byCell( cell_mns, cell_pls, nx_dir ):\n",
    "    return cal_vapour_permeance_pressure( dp = sum_resistance( val_mns=cell_mns.dp, val_pls=cell_pls.dp, len_mns=cell_mns.dx, len_pls=cell_pls.dx ),\\\n",
    "                                         dpv = cell_pls.vapour.pv - cell_mns.vapour.pv,\\\n",
    "                                         dx2 = cell_mns.dx / 2.0 + cell_pls.dx / 2.0 )"
   ]
  },
  {
   "cell_type": "markdown",
   "metadata": {},
   "source": [
    "### 2.2.2 対流による水蒸気移動"
   ]
  },
  {
   "cell_type": "code",
   "execution_count": 17,
   "metadata": {},
   "outputs": [],
   "source": [
    "def cal_vapour_transfer_pressure_byCell( cell_mns, cell_pls, nx_dir ):\n",
    "    # mns側が空気である場合（mnsのセルにairがセットされている場合）\n",
    "    if hasattr(cell_mns, 'air'):\n",
    "        return cal_vapour_transfer_pressure( aldm = cal_transmittance( cell_mns.aldm, cell_pls.dp, cell_pls.dx ),\\\n",
    "                                            pv_air = cell_mns.air.pv,\\\n",
    "                                            pv_wall= cell_pls.vapour.pv )\n",
    "    # pls側が空気である場合（plsのセルにairがセットされている場合）\n",
    "    elif hasattr(cell_pls, 'air'):\n",
    "        return - cal_vapour_transfer_pressure( aldm = cal_transmittance( cell_pls.aldm, cell_mns.dp, cell_mns.dx ),\\\n",
    "                                              pv_air = cell_pls.air.pv,\\\n",
    "                                              pv_wall= cell_mns.vapour.pv )"
   ]
  },
  {
   "cell_type": "markdown",
   "metadata": {},
   "source": [
    "### 2.3.1 材料内液水移動"
   ]
  },
  {
   "cell_type": "code",
   "execution_count": 18,
   "metadata": {},
   "outputs": [],
   "source": [
    "def cal_liquid_conduction_potential_byCell( cell_mns, cell_pls, nx_dir ):\n",
    "    return cal_liquid_conduction_potential(ldml= sum_resistance( val_mns=cell_mns.ldml, val_pls=cell_pls.ldml, len_mns=cell_mns.dx, len_pls=cell_pls.dx ),\\\n",
    "                                           dmiu = cell_pls.water.miu - cell_mns.water.miu,\\\n",
    "                                           dx2  = cell_mns.dx / 2.0 + cell_pls.dx / 2.0,\\\n",
    "                                           nx   = nx_dir )"
   ]
  },
  {
   "cell_type": "markdown",
   "metadata": {},
   "source": [
    "\n",
    "<br />\n",
    "<br />\n",
    "\n",
    "## 3. 境界面を自動的に判別する場合  \n",
    "Airクラスを用いることで材料の境界面を判別し、流量の計算式を自動で変更する方式。"
   ]
  },
  {
   "cell_type": "markdown",
   "metadata": {},
   "source": [
    "### 3.1 熱移動"
   ]
  },
  {
   "cell_type": "code",
   "execution_count": 19,
   "metadata": {},
   "outputs": [],
   "source": [
    "def cal_qs(cell_mns, cell_pls ):\n",
    "    # 両方のセルがともに多孔質材料である場合\n",
    "    if hasattr(cell_mns, 'material') and hasattr(cell_pls, 'material'):\n",
    "        return cal_heat_conduction_byCell( cell_mns, cell_pls )\n",
    "    # 一方が空気境界である場合\n",
    "    elif hasattr(cell_pls, 'air') or hasattr(cell_mns, 'air'):\n",
    "        return cal_heat_transfer_byCell( cell_mns, cell_pls )\n",
    "    else:\n",
    "        raise NameError('Cellクラスの設定が適切ではありません。')"
   ]
  },
  {
   "cell_type": "markdown",
   "metadata": {},
   "source": [
    "### 3.2 水蒸気移動"
   ]
  },
  {
   "cell_type": "code",
   "execution_count": 20,
   "metadata": {},
   "outputs": [],
   "source": [
    "def cal_jv( cell_mns, cell_pls, nx_dir ):\n",
    "    # 両方のセルがともに多孔質材料である場合\n",
    "    if hasattr(cell_mns, 'material') and hasattr(cell_pls, 'material'):\n",
    "        return cal_vapour_permeance_pressure_byCell( cell_mns, cell_pls, nx_dir )\n",
    "    # 一方が空気境界である場合\n",
    "    elif hasattr(cell_pls, 'air') or hasattr(cell_mns, 'air'):\n",
    "        return cal_vapour_transfer_pressure_byCell( cell_mns, cell_pls, nx_dir )\n",
    "    else:\n",
    "        raise NameError('Cellクラスの設定が適切ではありません。')"
   ]
  },
  {
   "cell_type": "markdown",
   "metadata": {},
   "source": [
    "### 3.3 液水移動"
   ]
  },
  {
   "cell_type": "code",
   "execution_count": 21,
   "metadata": {},
   "outputs": [],
   "source": [
    "def cal_jl( cell_mns, cell_pls, nx_dir ):\n",
    "    # 両方のセルがともに多孔質材料である場合\n",
    "    if hasattr(cell_mns, 'material') and hasattr(cell_pls, 'material'):\n",
    "        return cal_liquid_conduction_potential_byCell( cell_mns, cell_pls, nx_dir )\n",
    "    # 一方が空気境界である場合\n",
    "    elif hasattr(cell_pls, 'air') or hasattr(cell_mns, 'air'):\n",
    "        return 0.0\n",
    "    else:\n",
    "        raise NameError('Cellクラスの設定が適切ではありません。')"
   ]
  },
  {
   "cell_type": "markdown",
   "metadata": {},
   "source": [
    "\n",
    "<br />\n",
    "<br />\n",
    "\n",
    "## 4. クラスを用いた流量計算\n",
    "\n",
    "3節までの計算を流用し、流量をクラスによって管理する方法について示す。\n",
    "流量をクラスで管理する場合、第三種境界条件における流量計算結果のみならず第二種境界条件を考慮する必要がある。\n",
    "\n",
    "- 第二種境界条件；一定値を与える方法  \n",
    "- 第三種境界条件；両端のセル情報から流量を計算する方法  \n",
    "\n",
    "特に外壁表面などでは第二種と第三種境界条件を組み合わせた条件などが存在する。（日射や降雨が当たる場合など）  \n",
    "そのため流量の管理モジュールは以下の三種類を有する必要がある。\n",
    "\n",
    "- 第二種境界条件\n",
    "- 第三種境界条件（流量計算）  \n",
    "- 第二種＋第三種境界条件  \n",
    "\n",
    "クラス化して管理するとmainプログラムが整理され見やすくなる分、計算方法がカプセル化され分かりづらくなるため使用には注意が必要である。\n"
   ]
  },
  {
   "cell_type": "markdown",
   "metadata": {},
   "source": [
    "### 4.1 第二種境界条件  \n",
    "\n",
    "第二種境界条件のクラスではそれぞれ熱流・水蒸気流・液水流を保持するだけのクラスとする。\n"
   ]
  },
  {
   "cell_type": "code",
   "execution_count": 22,
   "metadata": {},
   "outputs": [],
   "source": [
    "class NeumannBoundaryCondition():\n",
    "    \n",
    "    def __init__( self ):\n",
    "        \n",
    "        self.qs = 0.0\n",
    "        self.jv = 0.0\n",
    "        self.jl = 0.0\n",
    "        \n",
    "    # qs\n",
    "    \n",
    "    def set_qs(self, qs):\n",
    "        self.qs = qs\n",
    "\n",
    "    # jv\n",
    "    \n",
    "    def set_jv(self, jv):\n",
    "        self.jv = jv\n",
    "    \n",
    "    # jl\n",
    "    \n",
    "    def set_jl(self, jl):\n",
    "        self.jl = jl\n",
    "    "
   ]
  },
  {
   "cell_type": "markdown",
   "metadata": {},
   "source": [
    "### 4.2 第三種境界条件\n",
    "第三種境界条件では上述の3節までの式を用い流量をプロパティ化した。"
   ]
  },
  {
   "cell_type": "code",
   "execution_count": 23,
   "metadata": {},
   "outputs": [],
   "source": [
    "class RobinBoundaryCondition():\n",
    "    \n",
    "    def __init__( self, cell_mns, cell_pls, nx ):\n",
    "        \n",
    "        self.cell_mns = cell_mns\n",
    "        self.cell_pls = cell_pls\n",
    "        self.nx  = nx\n",
    "        \n",
    "    ################################\n",
    "    # 熱流計算\n",
    "    \n",
    "    def cal_heat_conduction( self ):\n",
    "        return cal_qs(self.cell_mns, self.cell_pls)\n",
    "    \n",
    "    qs = property(cal_heat_conduction)\n",
    "    \n",
    "    ################################\n",
    "    # 水蒸気流計算（水蒸気圧差）\n",
    "    \n",
    "    def cal_vapour_permeance( self ):\n",
    "        return cal_jv( self.cell_mns, self.cell_pls, self.nx )\n",
    "    \n",
    "    jv = property(cal_vapour_permeance)\n",
    "    \n",
    "    ################################\n",
    "    # 液水流計算（水分化学ポテンシャル差）\n",
    "    \n",
    "    def cal_liquid_conduction( self ):\n",
    "        return cal_jl( self.cell_mns, self.cell_pls, self.nx )\n",
    "    \n",
    "    jl = property(cal_liquid_conduction)\n",
    "    "
   ]
  },
  {
   "cell_type": "markdown",
   "metadata": {},
   "source": [
    "### 4.3 第二種 + 第三種境界条件  \n",
    "\n",
    "熱伝達＋日射というような形の境界条件の場合こちらを用いる。（等価外気温の形を用いても良いが）  \n",
    "\n",
    "基本構造は第二種と第三種のクラスの組み合わせである。"
   ]
  },
  {
   "cell_type": "code",
   "execution_count": 24,
   "metadata": {},
   "outputs": [],
   "source": [
    "class CombinationBoundaryCondition():\n",
    "    \n",
    "    def __init__( self, cell_mns, cell_pls, nx ):\n",
    "        self.neumann = NeumannBoundaryCondition()\n",
    "        self.robin   = RobinBoundaryCondition(cell_mns, cell_pls, nx)\n",
    "        \n",
    "    # Neumann qs\n",
    "    def set_qs(self, qs):\n",
    "        self.neumann.set_qs(qs)\n",
    "\n",
    "    # Neumann jv\n",
    "    def set_jv(self, jv):\n",
    "        self.neumann.set_jv(jv)\n",
    "    \n",
    "    # Neumann jl\n",
    "    def set_jl(self, jl):\n",
    "        self.neumann.set_jl(jl)\n",
    "    \n",
    "    ################################\n",
    "    # 熱流計算\n",
    "    \n",
    "    def sum_heat_conduction( self ):\n",
    "        return self.neumann.qs + self.robin.qs\n",
    "    \n",
    "    qs = property(sum_heat_conduction)\n",
    "    \n",
    "    # 水蒸気流計算（水蒸気圧差）\n",
    "    \n",
    "    def sum_vapour_permeance( self ):\n",
    "        return self.neumann.jv + self.robin.jv\n",
    "    \n",
    "    jv = property(sum_vapour_permeance)\n",
    "    \n",
    "    # 液水流計算（水分化学ポテンシャル差）\n",
    "    \n",
    "    def sum_liquid_conduction( self ):\n",
    "        return self.neumann.jl + self.robin.jl\n",
    "        \n",
    "    jl = property(sum_liquid_conduction)\n",
    "    "
   ]
  },
  {
   "cell_type": "markdown",
   "metadata": {},
   "source": [
    "\n",
    "<br/>\n",
    "\n",
    "## 5. 使用例"
   ]
  },
  {
   "cell_type": "markdown",
   "metadata": {},
   "source": [
    "Cellクラスの基本形は各相のモジュールを用いて以下のように書き表される。"
   ]
  },
  {
   "cell_type": "code",
   "execution_count": 25,
   "metadata": {},
   "outputs": [
    {
     "name": "stdout",
     "output_type": "stream",
     "text": [
      "Importing Jupyter notebook from gas_water.ipynb\n",
      "Importing Jupyter notebook from moisture_conversion.ipynb\n",
      "Importing Jupyter notebook from vapour_pressure.ipynb\n",
      "Importing Jupyter notebook from liquid_water.ipynb\n",
      "Importing Jupyter notebook from property_conversion.ipynb\n",
      "Importing Jupyter notebook from solid_material.ipynb\n"
     ]
    }
   ],
   "source": [
    "import nbimporter\n",
    "import gas_water\n",
    "import liquid_water\n",
    "import solid_material\n",
    "import property_conversion  as prop\n",
    "\n",
    "class  Cell():\n",
    "    def __init__( self, i ):\n",
    "        self.position = i\n",
    "    \n",
    "    # cell information\n",
    "    # Length of cell\n",
    "    def set_dx( self, initial = 0.0 ):\n",
    "        self.dx = initial \n",
    "    \n",
    "    # Gas condition（気相）\n",
    "    def set_Gas_Water_BasedMiu( self, temp = 0.0, miu = 0.0 ):\n",
    "        self.vapour = gas_water.MiuBasedMoisture( temp, miu )\n",
    "        \n",
    "    def set_Gas_Water_BasedRH( self, temp = 0.0, rh = 0.0 ):\n",
    "        self.vapour = gas_water.RHBasedMoisture( temp, rh )\n",
    "        \n",
    "    def set_Gas_Water_BasedPV( self, temp = 0.0, pv = 0.0 ):\n",
    "        self.vapour = gas_water.PVBasedMoisture( temp, pv )\n",
    "        \n",
    "    # Liquid condition（液相）\n",
    "    def set_Liquid_Water_BasedMiu( self, temp = 0.0, miu = 0.0 ):\n",
    "        self.water = liquid_water.MiuBasedWater( temp, miu )\n",
    "        \n",
    "    def set_Liquid_Water_BasedPhi( self, temp = 0.0, phi = 0.0 ):\n",
    "        self.water = liquid_water.PhiBasedWater( temp, phi )\n",
    "        \n",
    "    # Solid condition（固相）\n",
    "    def set_Solid_Material( self, temp, material_name ):\n",
    "        self.material = solid_material.TempBased( temp, material_name )\n",
    "        \n",
    "    # Transfer coefficient（セルの有する移動係数）        \n",
    "    # lam 熱伝導率\n",
    "    def get_lam(self):\n",
    "        return prop.Kernel_TransferCoefficient( self.material.name ).getLAM( self.water )\n",
    "    \n",
    "    lam = property(get_lam)\n",
    "        \n",
    "    # dp 湿気伝導率\n",
    "    def get_dp(self):\n",
    "        return prop.Kernel_TransferCoefficient( self.material.name ).getDP( self.water )\n",
    "    \n",
    "    dp = property(get_dp)\n",
    "        \n",
    "    # ldml 液水の水分伝導率\n",
    "    def get_ldml(self):\n",
    "        return prop.Kernel_TransferCoefficient( self.material.name ).getLDML( self.water )\n",
    "\n",
    "    ldml = property(get_ldml)"
   ]
  },
  {
   "cell_type": "markdown",
   "metadata": {},
   "source": [
    "同様に空気に関するクラスは"
   ]
  },
  {
   "cell_type": "code",
   "execution_count": 26,
   "metadata": {},
   "outputs": [],
   "source": [
    "class  Air():\n",
    "    def __init__( self, i ):\n",
    "        self.position = i\n",
    "    \n",
    "    # cell information\n",
    "    # Length of cell\n",
    "    def set_volume( self, volume = 0.0 ):\n",
    "        self.vol = volume \n",
    "    \n",
    "    # Gas condition（気相）\n",
    "    def set_Air_BasedMiu( self, temp = 0.0, miu = 0.0 ):\n",
    "        self.air = gas_water.MiuBasedMoisture( temp, miu )\n",
    "        \n",
    "    def set_Air_BasedRH( self, temp = 0.0, rh = 0.0 ):\n",
    "        self.air = gas_water.RHBasedMoisture( temp, rh )\n",
    "        \n",
    "    def set_Air_BasedPV( self, temp = 0.0, pv = 0.0 ):\n",
    "        self.air = gas_water.PVBasedMoisture( temp, pv )\n",
    "        \n",
    "    # Transfer coefficient（セルの有する移動係数）\n",
    "    def set_HeatTransferCoefficient( self, alpha ):\n",
    "        self.alpha = alpha\n",
    "        \n",
    "    def set_MoistureTransferCoefficient( self, aldm ):\n",
    "        self.aldm = aldm\n",
    "        "
   ]
  },
  {
   "cell_type": "markdown",
   "metadata": {},
   "source": [
    "セルクラスを用いて壁の情報を与える"
   ]
  },
  {
   "cell_type": "code",
   "execution_count": 27,
   "metadata": {},
   "outputs": [
    {
     "data": {
      "text/plain": [
       "[None, None, None, None, None]"
      ]
     },
     "execution_count": 27,
     "metadata": {},
     "output_type": "execute_result"
    }
   ],
   "source": [
    "wall = [ Cell(i) for i in range(5)]\n",
    "[ cell.set_dx(0.1) for cell in wall ]"
   ]
  },
  {
   "cell_type": "markdown",
   "metadata": {},
   "source": [
    "各相の情報を与える"
   ]
  },
  {
   "cell_type": "code",
   "execution_count": 28,
   "metadata": {},
   "outputs": [
    {
     "data": {
      "text/plain": [
       "[None, None, None, None, None]"
      ]
     },
     "execution_count": 28,
     "metadata": {},
     "output_type": "execute_result"
    }
   ],
   "source": [
    "[ cell.set_Gas_Water_BasedRH( temp = 293.15 + cell.position, rh = 0.9 ) for cell in wall ]\n",
    "[ cell.set_Solid_Material( temp = cell.vapour.temp, material_name = 'BentheimerSandstone' ) for cell in wall ]\n",
    "[ cell.set_Liquid_Water_BasedMiu( temp = cell.vapour.temp, miu = cell.vapour.miu ) for cell in wall ]\n",
    "[ cell.water.set_material( material_name = cell.material.name ) for cell in wall ]"
   ]
  },
  {
   "cell_type": "markdown",
   "metadata": {},
   "source": [
    "2章の流量式を用いて計算してみる。  \n",
    "熱流"
   ]
  },
  {
   "cell_type": "code",
   "execution_count": 29,
   "metadata": {},
   "outputs": [
    {
     "name": "stdout",
     "output_type": "stream",
     "text": [
      "Importing Jupyter notebook from bentheimer_sandstone.ipynb\n",
      "Importing Jupyter notebook from van_genuchten.ipynb\n"
     ]
    },
    {
     "data": {
      "text/plain": [
       "-11.999999999999998"
      ]
     },
     "execution_count": 29,
     "metadata": {},
     "output_type": "execute_result"
    }
   ],
   "source": [
    "cal_heat_conduction_byCell(wall[1], wall[2])"
   ]
  },
  {
   "cell_type": "markdown",
   "metadata": {},
   "source": [
    "水蒸気流"
   ]
  },
  {
   "cell_type": "code",
   "execution_count": 30,
   "metadata": {},
   "outputs": [
    {
     "data": {
      "text/plain": [
       "-2.825808956389858e-07"
      ]
     },
     "execution_count": 30,
     "metadata": {},
     "output_type": "execute_result"
    }
   ],
   "source": [
    "cal_vapour_permeance_pressure_byCell( wall[1], wall[2], 1.0 )"
   ]
  },
  {
   "cell_type": "markdown",
   "metadata": {},
   "source": [
    "液相水分流"
   ]
  },
  {
   "cell_type": "code",
   "execution_count": 31,
   "metadata": {},
   "outputs": [
    {
     "data": {
      "text/plain": [
       "1.4470337824315163e-17"
      ]
     },
     "execution_count": 31,
     "metadata": {},
     "output_type": "execute_result"
    }
   ],
   "source": [
    "cal_liquid_conduction_potential_byCell( wall[1], wall[2], 1.0 )"
   ]
  },
  {
   "cell_type": "markdown",
   "metadata": {},
   "source": [
    "次に材料表面における対流移動を考える。空気に関するクラスを保持しておくと便利であるため、ここではAirクラスを用い以下のように設定する。"
   ]
  },
  {
   "cell_type": "code",
   "execution_count": 32,
   "metadata": {},
   "outputs": [],
   "source": [
    "# 使用例\n",
    "air = Air('室空気')\n",
    "air.set_volume(100.0)\n",
    "air.set_Air_BasedRH( temp = 283.15, rh = 0.8 ) \n",
    "air.set_HeatTransferCoefficient( alpha = 9.3 )\n",
    "air.set_MoistureTransferCoefficient( aldm = 9.3e-10 )"
   ]
  },
  {
   "cell_type": "markdown",
   "metadata": {},
   "source": [
    "材料表面における対流熱伝達は、"
   ]
  },
  {
   "cell_type": "code",
   "execution_count": 33,
   "metadata": {},
   "outputs": [
    {
     "data": {
      "text/plain": [
       "-67.02702702702703"
      ]
     },
     "execution_count": 33,
     "metadata": {},
     "output_type": "execute_result"
    }
   ],
   "source": [
    "cal_heat_transfer_byCell( air, wall[0] )"
   ]
  },
  {
   "cell_type": "markdown",
   "metadata": {},
   "source": [
    "対流水分伝達は、"
   ]
  },
  {
   "cell_type": "code",
   "execution_count": 34,
   "metadata": {},
   "outputs": [
    {
     "data": {
      "text/plain": [
       "-8.469195286993343e-07"
      ]
     },
     "execution_count": 34,
     "metadata": {},
     "output_type": "execute_result"
    }
   ],
   "source": [
    "cal_vapour_transfer_pressure_byCell( air, wall[0], 1.0 )"
   ]
  },
  {
   "cell_type": "markdown",
   "metadata": {},
   "source": [
    "これを一括計算しようとすると以下のようになる。  \n",
    "例えば  \n",
    "\n",
    "空気　―　壁（cell[0] ～　cell[end]）　―　空気  \n",
    "\n",
    "のような状況を想定する。  \n",
    "\n",
    "※walls = wall とするとmutableなオブジェクトとしてコピーされるのでスライスで対処"
   ]
  },
  {
   "cell_type": "code",
   "execution_count": 35,
   "metadata": {},
   "outputs": [],
   "source": [
    "walls = wall[:]\n",
    "walls.insert(0,air)\n",
    "walls.insert(len(walls),air)"
   ]
  },
  {
   "cell_type": "markdown",
   "metadata": {},
   "source": [
    "3章を用いて熱流・水分流を計算すると、  \n",
    "熱流"
   ]
  },
  {
   "cell_type": "code",
   "execution_count": 36,
   "metadata": {},
   "outputs": [
    {
     "name": "stdout",
     "output_type": "stream",
     "text": [
      "[-67.02702702702703, -11.999999999999998, -11.999999999999998, -11.999999999999998, -11.999999999999998, 93.83783783783785]\n"
     ]
    }
   ],
   "source": [
    "print( [ cal_qs( walls[i], walls[i+1] ) for i in range(len(walls)-1) ] )"
   ]
  },
  {
   "cell_type": "markdown",
   "metadata": {},
   "source": [
    "水蒸気流"
   ]
  },
  {
   "cell_type": "code",
   "execution_count": 37,
   "metadata": {},
   "outputs": [
    {
     "name": "stdout",
     "output_type": "stream",
     "text": [
      "[-8.469195286993343e-07, -2.677886549281336e-07, -2.825808956389858e-07, -2.9805677489491806e-07, -3.142410370496965e-07, 1.285793351498962e-06]\n"
     ]
    }
   ],
   "source": [
    "print( [ cal_jv( walls[i], walls[i+1], 1.0 ) for i in range(len(walls)-1) ] )"
   ]
  },
  {
   "cell_type": "code",
   "execution_count": 38,
   "metadata": {},
   "outputs": [
    {
     "name": "stdout",
     "output_type": "stream",
     "text": [
      "[0.0, 1.4693409479976377e-17, 1.4470337824315163e-17, 1.4251391429668355e-17, 1.4036480441592857e-17, 0.0]\n"
     ]
    }
   ],
   "source": [
    "print( [ cal_jl( walls[i], walls[i+1], 1.0 ) for i in range(len(walls)-1) ] )"
   ]
  },
  {
   "cell_type": "markdown",
   "metadata": {},
   "source": [
    "最後に4章クラス型の計算方法を用いると、"
   ]
  },
  {
   "cell_type": "code",
   "execution_count": 39,
   "metadata": {},
   "outputs": [],
   "source": [
    "flux = [ RobinBoundaryCondition(walls[i], walls[i+1], 1.0) for i in range(len(walls)-1) ]"
   ]
  },
  {
   "cell_type": "markdown",
   "metadata": {},
   "source": [
    "熱流"
   ]
  },
  {
   "cell_type": "code",
   "execution_count": 40,
   "metadata": {},
   "outputs": [
    {
     "name": "stdout",
     "output_type": "stream",
     "text": [
      "[-67.02702702702703, -11.999999999999998, -11.999999999999998, -11.999999999999998, -11.999999999999998, 93.83783783783785]\n"
     ]
    }
   ],
   "source": [
    "print([ flux[i].qs for i in range (len(flux)) ])"
   ]
  },
  {
   "cell_type": "markdown",
   "metadata": {},
   "source": [
    "水蒸気流"
   ]
  },
  {
   "cell_type": "code",
   "execution_count": 41,
   "metadata": {},
   "outputs": [
    {
     "name": "stdout",
     "output_type": "stream",
     "text": [
      "[-8.469195286993343e-07, -2.677886549281336e-07, -2.825808956389858e-07, -2.9805677489491806e-07, -3.142410370496965e-07, 1.285793351498962e-06]\n"
     ]
    }
   ],
   "source": [
    "print([ flux[i].jv for i in range (len(flux)) ])"
   ]
  },
  {
   "cell_type": "markdown",
   "metadata": {},
   "source": [
    "液水流"
   ]
  },
  {
   "cell_type": "code",
   "execution_count": 42,
   "metadata": {},
   "outputs": [
    {
     "name": "stdout",
     "output_type": "stream",
     "text": [
      "[0.0, 1.4693409479976377e-17, 1.4470337824315163e-17, 1.4251391429668355e-17, 1.4036480441592857e-17, 0.0]\n"
     ]
    }
   ],
   "source": [
    "print([ flux[i].jl for i in range (len(flux)) ])"
   ]
  },
  {
   "cell_type": "code",
   "execution_count": null,
   "metadata": {},
   "outputs": [],
   "source": []
  },
  {
   "cell_type": "markdown",
   "metadata": {},
   "source": [
    "## 6. 補足 \n",
    "以下雑記になるため、参考資料として用いる際には十分検証してから扱うこと。"
   ]
  },
  {
   "cell_type": "markdown",
   "metadata": {},
   "source": [
    "## 6.1 水蒸気移動について\n",
    "水蒸気の駆動がどのような原理で生じるかについては導入方法含め所説あるが、\n",
    "建築・土壌の分野では水蒸気圧差・絶対湿度差・水蒸気密度差を水蒸気の駆動力とするのが一般的である。  \n",
    "例えばPhilip and De Vries(1957)に立ち返ると（参考：坂井　勝、取出伸夫；古典を読むJ.R.Philip and D.A.de Vries著「温度勾配下における多孔質体中の水分移動について」,2006）、  \n",
    "Penman(1940)、Krischer and Rohnalter(1940)、van Bavel(1952)、Rollins and others(19540)は多孔質材料中における水蒸気移動を以下のように修正したとある。  \n",
    "\n",
    "$q_{vap} = - D_{atm}\\nu \\alpha a \\nabla \\rho_v$  \n",
    "\n",
    "$q_{vap}$：水蒸気流[g cm<sup>-2</sup>sec<sup>-1</sup>]、$D_{atm}$：空気中の水蒸気のモル拡散係数[cm<sup>2</sup>sec<sup>-1</sup>]、$\\alpha$：屈曲度[-]、$a$：空気の体積容量（空隙率）[cm<sup>3</sup>of air/cm<sup>3</sup>]、$\\rho_v$：水蒸気密度[g cm<sup>-3</sup>]、$\\nu$：水蒸気の一方拡散による促進を示すマスフローファクター（常温でほぼ1）\n",
    "\n",
    "ここで水蒸気密度$\\rho_v$は飽和水蒸気圧と相対湿度の関数であり、前者は温度による関数、後者は多孔質材料中においては温度と含水率の関数であるため、上式を以下のように分離できる。  \n",
    "\n",
    "$q_{vap} = -D_{T{vap}}\\nabla T - D_{\\theta{vap}}\\nabla \\theta $\n",
    "\n",
    "<br/>\n",
    "\n",
    "一方で、空気調和・衛生工学便覧によると、（新建築学大系10, pp121参照）  \n",
    "気相水分（水蒸気）の流動はステファン則に従うとすると以下のように表される。\n",
    "\n",
    "$J_{1w}= D \\frac{P}{P-p_v}\\frac{1}{R_v T}\\nabla p_v$\n",
    "\n",
    "$J_{1w}$:水蒸気流[kg/m<sup>2</sup>s]、$P$:気相の圧力[Pa]、$p_v$：水蒸気圧[Pa]、$R_v$：水の気体定数、$T$：絶対温度[K]\n",
    "\n",
    "<br/>\n",
    "\n",
    "上述の2式の差について、筆者（高取）は2018/11現在明確なを回答を持ち合わせていないが、以下のように説明ができると考えている。  \n",
    "\n",
    "Penman(1940)が示すように、水蒸気の移動は基本的にFickの拡散法則にしたがうと考えられる。  \n",
    "\n",
    "$q_{vap} = - D \\nabla \\rho_v$\n",
    "\n",
    "ここで気体の状態方程式に従うと、$\\rho = p_{v} / R T$であることから、水蒸気の密度は温度と圧力に依存する。  \n",
    "そのため、上述の式を微分の連鎖法則を用いて変形すると、  \n",
    "\n",
    "$q_{vap} = - D \\frac{\\partial \\rho_v}{\\partial p_v}\\nabla p_v - D \\frac{\\partial \\rho_v}{\\partial T}\\nabla T$\n",
    "\n",
    "ただし常温では$\\frac{\\partial \\rho_v}{\\partial T} \\fallingdotseq 0 $と考えられるので上式は、\n",
    "\n",
    "$q_{vap} = - D \\frac{\\partial \\rho_v}{\\partial p_v}\\nabla p_v$\n",
    "\n",
    "と変形して差し支えないものと考えられる。  \n",
    "また鉾井修一：エース環境工学Ⅱには絶対湿度差$\\nabla X$によって水蒸気が駆動するものとし、 \n",
    "\n",
    "\n",
    "$q_{vap} = - \\alpha \\nabla X$\n",
    "\n",
    "上述のような式を採用している。"
   ]
  },
  {
   "cell_type": "markdown",
   "metadata": {},
   "source": [
    "### 6.2 液水移動について  \n",
    "水蒸気移動と同様に液水の移動原理についてもいくつか所説ある。  \n",
    "ここではおそらく多孔質材料中におけるもっとも一般的な移動則はダルシー則による液水移動について示す。  \n",
    "\n",
    "Philip and De Vriesにもあるように、液水移動がダルシー則で与えられるとすると液水流は、  \n",
    "\n",
    "$q_{liq} = - K \\nabla h $\n",
    "\n",
    "$q_{liq}$：液水の移動量[m<sup>3</sup>/m<sup>2</sup>s]、$K$：透水係数[m/s]、$h$動水勾配（水頭差）[-]\n",
    "\n",
    "動水勾配は体積含水率$\\psi$と温度$T$に依存するため、上式を2成分に分離して表現すると、  \n",
    "\n",
    "$q_{liq} = - K ( \\frac{\\partial h}{\\partial \\psi}\\nabla \\psi + \\frac{\\partial h}{\\partial T}\\nabla T) $  \n",
    "\n",
    "それぞれ$\\frac{\\partial h}{\\partial \\psi}$、$\\frac{\\partial h}{\\partial T}$を定数とすると、  \n",
    "\n",
    "$q_{liq} = - D_{\\psi} \\nabla \\psi - D_{T} \\nabla T$\n",
    "\n",
    "$\\frac{\\partial h}{\\partial T}$は表面張力の温度依存性に基づき評価できる。\n",
    "\n",
    "<br/>\n",
    "\n",
    "一方で非平衡熱力学に基づくと、平衡状態からの偏りが存在する場合、系に生じている温度、圧力、水分化学ポテンシャルなどの移動ポテンシャル勾配によって液水の移動は以下のように表される。（松本衛ら：新建築学大系、pp116-117）  \n",
    "\n",
    "$J_{2w} = -\\lambda^{'}_{Tl}\\nabla T - \\lambda^{'}_{\\mu l}( \\nabla \\mu_l - F_w ) - \\lambda^{'}_{Pl}\\nabla P$  \n",
    "\n",
    "含水率が十分に大きいとき上式は広義のダルシー則であり、$\\lambda^{'}_{\\mu l}$はダルシー式の水分伝導率の値と一致する。なお$\\lambda^{'}_{\\mu l} / \\rho_{w0} = \\lambda^{'}_{Pl}$であり、$\\lambda^{'}_{Tl}$の項については温度勾配に対する液相の移動現象についてはsoret効果として知られているが、その影響は非常に小さいとして0とするのが一般的である。  \n",
    "\n",
    "従って液水の移動量については水分化学ポテンシャルを用いることで一般的に以下のように表される。  \n",
    "\n",
    "$J_l = -\\lambda^{'}_{\\mu_l}(\\nabla・\\mu - n_x g)$\n",
    "\n",
    "なお液相水分の流れについては、熱力学的平衡であることが基本的な条件であるため単に含水率勾配によって流れるとすることは難しい（特に材料が異なる場合は）。そのため後述の水分化学ポテンシャル差によって水分が流れるとする方が適切であると考えられる。（熱拡散soret効果については要検討ではあるが）  \n",
    "\n",
    "<br />\n",
    "高取補足：  \n",
    "上述のようにDe Vriesの方法では、異種材料での流量を計算するのに不適当であろう。  \n",
    "例えば等温場において、異なる材料間（異なる平衡含水率曲線を持つ材料）において含水率が等しい場合、液水の流れが生じるかという問題につながる。  \n",
    "これは動水勾配を体積含水率$\\psi$と温度$T$に分離する際に、微分の連鎖法則が成り立たないためだと考察する。  \n",
    "つまり$\\nabla h = \\frac{\\partial h}{\\partial \\psi}\\nabla \\psi + \\frac{\\partial h}{\\partial T}\\nabla T$（特に左辺）は成り立たないことが問題と考えられる。  \n",
    "\n",
    "そのためダルシー則もしくは非平衡熱力学に従った誘導過程に従い液水流れを決定するのが適切であろう。  \n",
    "非平衡熱力学による流れについては非常に難解であるためここでは説明を省くが、基本的には熱力学的非平衡（エントロピーの不釣り合い）が生じるとき、系が平衡に近ければ\"流れ\"は\"力\"の線形関数となる、という線形現象論法則に従っている。（参考；イリヤ・プリゴジン、ディリプ・コンデプディ：現代熱力学）  \n",
    "この法則はPeltier効果、Seebeck効果、交差拡散、熱拡散（soret効果・Dufour効果）など様々な物理現象を説明する有効な手法となっている。"
   ]
  },
  {
   "cell_type": "code",
   "execution_count": null,
   "metadata": {},
   "outputs": [],
   "source": []
  }
 ],
 "metadata": {
  "kernelspec": {
   "display_name": "Python 3",
   "language": "python",
   "name": "python3"
  },
  "language_info": {
   "codemirror_mode": {
    "name": "ipython",
    "version": 3
   },
   "file_extension": ".py",
   "mimetype": "text/x-python",
   "name": "python",
   "nbconvert_exporter": "python",
   "pygments_lexer": "ipython3",
   "version": "3.6.5"
  }
 },
 "nbformat": 4,
 "nbformat_minor": 2
}
