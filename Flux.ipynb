{
 "cells": [
  {
   "cell_type": "code",
   "execution_count": null,
   "metadata": {},
   "outputs": [],
   "source": []
  },
  {
   "cell_type": "markdown",
   "metadata": {},
   "source": [
    "# 流量を管理するモジュール  \n",
    "\n",
    "本モジュールで計算できる流量は2018/10/9現在以下の3つである。\n",
    "\n",
    "- $q_s$ 熱流（固体熱伝導）[J/m2s]\n",
    "- $j_v$ 水蒸気流 [kg/m2s]\n",
    "- $j_l$ 液水流 [kg/m2s]\n",
    "  "
   ]
  },
  {
   "cell_type": "markdown",
   "metadata": {},
   "source": [
    "## 1. 流量の計算方法"
   ]
  },
  {
   "cell_type": "markdown",
   "metadata": {},
   "source": [
    "\n",
    "### 1.1 熱伝導（フーリエの法則）  \n",
    "定義：$\\dot q = -\\lambda\\nabla・T$  \n",
    "$\\dot q$：単位時間当たりの熱流量の密度[W/m2]  \n",
    "$\\lambda$：熱伝導率[W/mK]  \n",
    "$T$：絶対温度[K]  "
   ]
  },
  {
   "cell_type": "code",
   "execution_count": 1,
   "metadata": {},
   "outputs": [],
   "source": [
    "def cal_heat_conduction( lam, dtemp, dx2 ):\n",
    "    return - lam * dtemp / dx2"
   ]
  },
  {
   "cell_type": "markdown",
   "metadata": {},
   "source": [
    "#### 差分化その1：$\\dot q = -\\lambda_{ave.}\\frac{T_{l+1}-T_{l}}{dx_{l+1}+dx_{l}}$  \n",
    "$\\lambda_{ave.}$：平均の熱伝導率  \n",
    "$l, l+1$：ある点のセル・隣接する点のセル  \n",
    "$dx$：セルの質点からセル境界までの距離"
   ]
  },
  {
   "cell_type": "code",
   "execution_count": 2,
   "metadata": {},
   "outputs": [],
   "source": [
    "def cal_heat_conduction_v1( lamL1, lamL, tempL1, tempL, dxL1, dxL ):\n",
    "    lamAve = mean_average( val_mns = lamL, val_pls = lamL1, len_mns = dxL, len_pls = dxL1 )\n",
    "    return - lamAve * ( tempL1 - tempL ) / ( dxL1 + dxL )"
   ]
  },
  {
   "cell_type": "markdown",
   "metadata": {},
   "source": [
    "#### 差分化その2：$\\dot q = -K(T_{l+1}-T_{l})$  \n",
    "$K$：熱貫流率[W/K]  \n",
    "一般的にはこちらを採用。異種材料間の熱の移動は熱抵抗値の和として計算。"
   ]
  },
  {
   "cell_type": "code",
   "execution_count": 3,
   "metadata": {},
   "outputs": [],
   "source": [
    "def cal_heat_conduction_v2( lamL1, lamL, tempL1, tempL, dxL1, dxL ):\n",
    "    K = transmittance( val_mns = lamL, val_pls = lamL1, len_mns = dxL, len_pls = dxL1 )\n",
    "    return - K * ( tempL1 - tempL )"
   ]
  },
  {
   "cell_type": "markdown",
   "metadata": {},
   "source": [
    "### 熱伝達・熱貫流  \n",
    "\n",
    "定義：$\\dot q = \\alpha(T_{air} - T_{wall})$  \n",
    "空気に接する壁表面には空気の熱伝達層が存在すると考えた場合、もしくは質点間の熱貫流率として計算した場合の熱流。  \n",
    "ここでは便宜上、空気と壁表面の熱伝達を想定し、空気から壁表面への熱流を正とした。\n",
    "\n",
    "$\\dot q$：単位時間当たりの熱流量の密度[W/m2]  ]\n",
    "$\\alpha$：熱伝達率・熱貫流率[W/m2K]  \n",
    "$T_{air}$：空気の絶対温度[K]  \n",
    "$T_{wall}$：壁表面の絶対温度[K]  "
   ]
  },
  {
   "cell_type": "code",
   "execution_count": 4,
   "metadata": {},
   "outputs": [],
   "source": [
    "def cal_heat_transfer( alpha, temp_air, temp_wall ):\n",
    "    return alpha * ( temp_air - temp_wall )"
   ]
  },
  {
   "cell_type": "markdown",
   "metadata": {},
   "source": [
    "\n",
    "<br />\n",
    "\n",
    "### 1.2 水蒸気移動  \n",
    "元原理：Fickの拡散法則"
   ]
  },
  {
   "cell_type": "markdown",
   "metadata": {},
   "source": [
    "#### 重力加速度"
   ]
  },
  {
   "cell_type": "code",
   "execution_count": 5,
   "metadata": {},
   "outputs": [],
   "source": [
    "def grav():\n",
    "    return 9.806650"
   ]
  },
  {
   "cell_type": "markdown",
   "metadata": {},
   "source": [
    "### 水蒸気移動（水蒸気圧勾配・固体内）  \n",
    "定義：$J_v = -\\lambda^{'}_{p}\\nabla・P_v$  \n",
    "$J_v$：気相水分流量[kg/m2s]  \n",
    "$\\lambda^{'}_{p}$：水蒸気圧勾配に関する気相水分伝導率[kg/msPa]  \n",
    "$P_v$：水蒸気圧[Pa]  "
   ]
  },
  {
   "cell_type": "code",
   "execution_count": 6,
   "metadata": {},
   "outputs": [],
   "source": [
    "def cal_vapour_permeance_pressure( dp, dpv, dx2 ):\n",
    "    return - dp * dpv /dx2"
   ]
  },
  {
   "cell_type": "markdown",
   "metadata": {},
   "source": [
    "### 湿気伝達・湿気貫流  \n",
    "定義：$J_v = \\alpha^{'}_{m}(P_{v_{air}} - P_{v_{wall}})$  \n",
    "空気に接する壁表面には空気の湿気伝達層が存在すると考えた場合の水分流（水蒸気流）、もしくは質点間の湿気貫流率として計算した場合の水分流。  \n",
    "ここでは便宜上、空気と壁表面の水分伝達を想定し、空気から壁表面への水分流を正とした。\n",
    "\n",
    "$J_v$：単位時間当たりの水分流量[kg/m2s]  \n",
    "$\\alpha^{'}_{m}$：湿気伝達率[kg/m2s(Pa)]  \n",
    "$P_{v_{air}}$：空気の水蒸気圧[Pa]  \n",
    "$P_{v_{wall}}$：壁表面の水蒸気圧[Pa]  "
   ]
  },
  {
   "cell_type": "code",
   "execution_count": 7,
   "metadata": {},
   "outputs": [],
   "source": [
    "def cal_vapour_transfer_pressure( aldm, pv_air, pv_wall ):\n",
    "    return aldm * ( pv_air - pv_wall )"
   ]
  },
  {
   "cell_type": "markdown",
   "metadata": {},
   "source": [
    "\n",
    "<br />\n",
    "\n",
    "### 1.3 液水移動  \n",
    "原理：ダルシー則"
   ]
  },
  {
   "cell_type": "markdown",
   "metadata": {},
   "source": [
    "### 液水移動（水分化学ポテンシャル勾配・固体内）  \n",
    "定義：$J_l = -\\lambda^{'}_{\\mu_l}(\\nabla・\\mu - n_x g)$    \n",
    "\n",
    "$J_l$：液相水分流量[kg/m2s]  \n",
    "$\\lambda^{'}_{\\mu l}$：水分化学ポテンシャル勾配に関する液相水分伝導率[kg/ms(J/kg)]  \n",
    "$\\mu$：液水の化学ポテンシャル[J/kg]  \n",
    "$n_x$：重力加速度に対する応答（重力加速度に対して水平なら1、垂直なら0）"
   ]
  },
  {
   "cell_type": "code",
   "execution_count": 8,
   "metadata": {},
   "outputs": [],
   "source": [
    "def cal_liquid_conduction_potential( ldml, dmiu, dx2, nx ):\n",
    "    return - ldml * ( dmiu / dx2 - nx * grav() )"
   ]
  },
  {
   "cell_type": "markdown",
   "metadata": {},
   "source": [
    "\n",
    "<br />\n",
    "<br />\n",
    "\n",
    "### 補足：物性値の平均化   \n",
    "セル間の物性値を計算するにあたり2つのセルの物性値を平均化する必要がある。  \n",
    "この際、平均化の方法についてはいくつかやり方が存在するがここでは以下の2つの方法について示す。"
   ]
  },
  {
   "cell_type": "markdown",
   "metadata": {},
   "source": [
    "#### 抵抗値として重ね合わせる  \n",
    "セル間の流量が一定の場合、その間の物性値は各セルの物性値の抵抗値の和として表すことができる。したがって、  \n",
    "\n",
    "熱伝導抵抗：  $R[m^2K/W] =\\frac{ dx_{l+1} } { \\lambda_{l+1} } + \\frac{ dx_{l} }{ \\lambda_{l} }  $  \n",
    "\n",
    "同様に水分に関しても抵抗値の和として計算することで物性値を平均化することができる。  \n",
    "ここで熱伝導率・水分伝導率を合わせて$\\lambda$と表記すると、平均の伝導率は以下のように表すことができる。  \n",
    "\n",
    "平均の伝導率：  $\\lambda =\\frac{ dx_{l+1} + dx_{l} }{\\frac{ dx_{l+1} } { \\lambda_{l+1} } + \\frac{ dx_{l} }{ \\lambda_{l} } } $  \n"
   ]
  },
  {
   "cell_type": "code",
   "execution_count": 9,
   "metadata": {},
   "outputs": [],
   "source": [
    "def sum_resistance( val_mns, val_pls, len_mns, len_pls ):\n",
    "    return (len_mns + len_pls) / ( len_mns / val_mns + len_pls / val_pls )"
   ]
  },
  {
   "cell_type": "code",
   "execution_count": 10,
   "metadata": {},
   "outputs": [
    {
     "data": {
      "text/plain": [
       "1.8181818181818183"
      ]
     },
     "execution_count": 10,
     "metadata": {},
     "output_type": "execute_result"
    }
   ],
   "source": [
    "# 使用例\n",
    "sum_resistance( val_mns = 10.0, val_pls = 1.0, len_mns = 0.1, len_pls = 0.1 )"
   ]
  },
  {
   "cell_type": "markdown",
   "metadata": {},
   "source": [
    "#### ※片方が空気の場合  \n",
    "材料が空気と接する場合、空気から材料表面への熱移動は熱伝達及び放射により生じ、材料中から材料表面までは熱伝導によって生じる。  \n",
    "このような場合、材料表面に質点を置くことが一般的であるが、質点の位置をCellクラスに入れることは非常に手間がかかる。  \n",
    "そのためここでは空気から材料中への熱流が定常状態であるとし、熱抵抗の和として計算を行うこととする。   \n",
    "空気および材料の熱貫流率は以下の式で表される。  \n",
    "\n",
    "熱貫流率：$K =\\frac{ 1 }{ \\frac{ 1 }{ \\alpha } + \\frac{ dx_{l} }{ 2\\lambda_{l} } } $  \n"
   ]
  },
  {
   "cell_type": "code",
   "execution_count": 11,
   "metadata": {},
   "outputs": [],
   "source": [
    "def cal_transmittance( alpha, lam, dx ):\n",
    "    return ( 1.0 ) / ( 1.0 / alpha + dx / ( 2.0 * lam ) )"
   ]
  },
  {
   "cell_type": "markdown",
   "metadata": {},
   "source": [
    "#### 調和平均を取る  \n",
    "一方でセルの長さに応じた物性値の調和平均を取るという考え方もある。\n",
    "この平均化の仕方は伝導率の差が小さい時は問題ないが、差が大きくなると抵抗値の考え方と大きくずれてくる。\n",
    "\n",
    "物性値の調和平均：　　$\\lambda_{ave}=\\frac{\\lambda_{l+1} dx_{l+1} + \\lambda_{l} dx_{l} }{ dx_{l+1} + dx_{l} }$  \n"
   ]
  },
  {
   "cell_type": "code",
   "execution_count": 12,
   "metadata": {},
   "outputs": [],
   "source": [
    "def cal_mean_average( val_mns, val_pls, len_mns, len_pls ):\n",
    "    return ( val_mns * len_mns + val_pls * len_pls ) / ( len_mns + len_pls )"
   ]
  },
  {
   "cell_type": "code",
   "execution_count": 14,
   "metadata": {},
   "outputs": [
    {
     "data": {
      "text/plain": [
       "5.5"
      ]
     },
     "execution_count": 14,
     "metadata": {},
     "output_type": "execute_result"
    }
   ],
   "source": [
    "# 使用例\n",
    "cal_mean_average( val_mns = 10.0, val_pls = 1.0, len_mns = 0.1, len_pls = 0.1 )"
   ]
  },
  {
   "cell_type": "markdown",
   "metadata": {},
   "source": [
    "\n",
    "<br />\n",
    "<br />\n",
    "\n",
    "## 2. Cellクラスを用いて計算を行う場合  \n",
    "流量の計算を行うにあたり、上位のクラスにCellクラスと呼ばれる気相・液相・固相の状態量を保持したクラスを作成しておくと計算が簡略化できる。  \n",
    "ここでは水蒸気（vapour）、液水（water）、材料骨格部（material）がそれぞれ保持されたCellクラスを用いた計算方法について示す。  \n",
    "なお流量の計算式については1節の関数を用い簡略化した。  \n",
    "\n",
    "\n",
    "注意点：\n",
    "\n",
    "- 流量を計算するにあたり、材料間の質点の距離、物性値の平均値、セル間の重力に対する応答方向などを取る必要がある。\n",
    "- 特に質点間の距離については質点の設定という工程を省略するため、ここでは全てのセルの質点を中央に取ることにより質点間の距離を簡単に計算できる方式を採用した。  \n",
    "- そのため空気と接する材料境界では熱及び水分の移動は、\"空気から材料表面のへの熱・水分流　＋　材料表面からの材料の質点までの熱・水分流 \"とした\n",
    "- 材料表面から空気への水分流は水蒸気のみになるとし、液相水分流は生じないものとした。"
   ]
  },
  {
   "cell_type": "markdown",
   "metadata": {},
   "source": [
    "#### 固体熱伝導"
   ]
  },
  {
   "cell_type": "code",
   "execution_count": 26,
   "metadata": {},
   "outputs": [],
   "source": [
    "def cal_heat_conduction_byCell(cell_mns, cell_pls):\n",
    "    return cal_heat_conduction(lam = sum_resistance( val_mns=cell_mns.lam, val_pls=cell_pls.lam, len_mns=cell_mns.dx, len_pls=cell_pls.dx ),\\\n",
    "                               dtemp= cell_pls.material.temp - cell_mns.material.temp,\\\n",
    "                               dx2  = cell_mns.dx / 2.0 + cell_pls.dx / 2.0 )"
   ]
  },
  {
   "cell_type": "markdown",
   "metadata": {},
   "source": [
    "#### 熱伝達"
   ]
  },
  {
   "cell_type": "code",
   "execution_count": 27,
   "metadata": {},
   "outputs": [],
   "source": [
    "def cal_heat_transfer_byCell( cell_mns, cell_pls ):\n",
    "    # mns側が空気である場合（mnsのセルにairがセットされている場合）\n",
    "    if hasattr(cell_mns, 'air'):\n",
    "        return cal_heat_transfer( alpha  = cal_transmittance( cell_mns.alpha, cell_pls.lam, cell_pls.dx ),\\\n",
    "                                 temp_air = cell_mns.air.temp,\\\n",
    "                                 temp_wall= cell_pls.material.temp )\n",
    "    # pls側が空気である場合（plsのセルにairがセットされている場合）\n",
    "    elif hasattr(cell_pls, 'air'):\n",
    "        return - cal_heat_transfer( alpha  = cal_transmittance( cell_pls.alpha, cell_mns.lam, cell_mns.dx ),\\\n",
    "                                   temp_air = cell_pls.air.temp,\\\n",
    "                                   temp_wall= cell_mns.material.temp )"
   ]
  },
  {
   "cell_type": "markdown",
   "metadata": {},
   "source": [
    "#### 水蒸気拡散（水蒸気圧勾配・固体内）"
   ]
  },
  {
   "cell_type": "code",
   "execution_count": 28,
   "metadata": {},
   "outputs": [],
   "source": [
    "def cal_vapour_permeance_pressure_byCell( cell_mns, cell_pls, nx_dir ):\n",
    "    return cal_vapour_permeance_pressure( dp = sum_resistance( val_mns=cell_mns.dp, val_pls=cell_pls.dp, len_mns=cell_mns.dx, len_pls=cell_pls.dx ),\\\n",
    "                                         dpv = cell_pls.vapour.pv - cell_mns.vapour.pv,\\\n",
    "                                         dx2 = cell_mns.dx / 2.0 + cell_pls.dx / 2.0 )"
   ]
  },
  {
   "cell_type": "markdown",
   "metadata": {},
   "source": [
    "#### 対流による水蒸気移動"
   ]
  },
  {
   "cell_type": "code",
   "execution_count": 29,
   "metadata": {},
   "outputs": [],
   "source": [
    "def cal_vapour_transfer_pressure_byCell( cell_mns, cell_pls, nx ):\n",
    "    # mns側が空気である場合（mnsのセルにairがセットされている場合）\n",
    "    if hasattr(cell_mns, 'air'):\n",
    "        return cal_vapour_transfer_pressure( aldm = cal_transmittance( cell_mns.aldm, cell_pls.dp, cell_pls.dx ),\\\n",
    "                                            pv_air = cell_mns.air.pv,\\\n",
    "                                            pv_wall= cell_pls.vapour.pv )\n",
    "    # pls側が空気である場合（plsのセルにairがセットされている場合）\n",
    "    elif hasattr(cell_pls, 'air'):\n",
    "        return - cal_vapour_transfer_pressure( aldm = cal_transmittance( cell_pls.aldm, cell_mns.dp, cell_mns.dx ),\\\n",
    "                                              pv_air = cell_pls.air.pv,\\\n",
    "                                              pv_wall= cell_mns.vapour.pv )"
   ]
  },
  {
   "cell_type": "markdown",
   "metadata": {},
   "source": [
    "#### 液水移動"
   ]
  },
  {
   "cell_type": "code",
   "execution_count": 19,
   "metadata": {},
   "outputs": [],
   "source": [
    "def cal_liquid_conduction_potential_byCell( cell_mns, cell_pls, nx_dir ):\n",
    "    return cal_liquid_conduction_potential(ldml= sum_resistance( val_mns=cell_mns.ldml, val_pls=cell_pls.ldml, len_mns=cell_mns.dx, len_pls=cell_pls.dx ),\\\n",
    "                                           dmiu = self.cell_pls.water.miu - self.cell_mns.water.miu,\\\n",
    "                                           dx2  = cell_mns.dx / 2.0 + cell_pls.dx / 2.0,\\\n",
    "                                           nx   = nx_dir )"
   ]
  },
  {
   "cell_type": "markdown",
   "metadata": {},
   "source": [
    "\n",
    "<br />\n",
    "<br />\n",
    "\n",
    "## 3. 境界面を自動的に判別する場合  \n",
    "2節を応用し、材料の境界面を自動的に判別し、用いる流量計算の式を自動的に変更する式について示す。"
   ]
  },
  {
   "cell_type": "markdown",
   "metadata": {},
   "source": [
    "#### 熱移動"
   ]
  },
  {
   "cell_type": "code",
   "execution_count": 30,
   "metadata": {},
   "outputs": [],
   "source": [
    "def cal_qs(cell_mns, cell_pls ):\n",
    "    # 両方のセルがともに多孔質材料である場合\n",
    "    if hasattr(cell_mns, 'material') and hasattr(cell_pls, 'material'):\n",
    "        return cal_heat_conduction_byCell( cell_mns, cell_pls )\n",
    "    # 一方が空気境界である場合\n",
    "    elif hasattr(cell_pls, 'air') or hasattr(cell_mns, 'air'):\n",
    "        return cal_heat_transfer_byCell( cell_mns, cell_pls )\n",
    "    else:\n",
    "        raise NameError('Cellクラスの設定が適切ではありません。')"
   ]
  },
  {
   "cell_type": "markdown",
   "metadata": {},
   "source": [
    "#### 水蒸気移動"
   ]
  },
  {
   "cell_type": "code",
   "execution_count": 31,
   "metadata": {},
   "outputs": [],
   "source": [
    "def cal_jv( cell_mns, cell_pls, nx_dir ):\n",
    "    # 両方のセルがともに多孔質材料である場合\n",
    "    if hasattr(cell_mns, 'material') and hasattr(cell_pls, 'material'):\n",
    "        return cal_vapour_permeance_pressure_byCell( cell_mns, cell_pls, nx_dir )\n",
    "    # 一方が空気境界である場合\n",
    "    elif hasattr(cell_pls, 'air') or hasattr(cell_mns, 'air'):\n",
    "        return cal_vapour_transfer_pressure_byCell( cell_mns, cell_pls, nx )\n",
    "    else:\n",
    "        raise NameError('Cellクラスの設定が適切ではありません。')"
   ]
  },
  {
   "cell_type": "markdown",
   "metadata": {},
   "source": [
    "#### 液水移動"
   ]
  },
  {
   "cell_type": "code",
   "execution_count": 32,
   "metadata": {},
   "outputs": [],
   "source": [
    "def cal_jl( cell_mns, cell_pls, nx_dir ):\n",
    "    # 両方のセルがともに多孔質材料である場合\n",
    "    if hasattr(cell_mns, 'material') and hasattr(cell_pls, 'material'):\n",
    "        return cal_liquid_conduction_potential_byCell( cell_mns, cell_pls, nx_dir )\n",
    "    # 一方が空気境界である場合\n",
    "    elif hasattr(cell_pls, 'air') or hasattr(cell_mns, 'air'):\n",
    "        return 0.0\n",
    "    else:\n",
    "        raise NameError('Cellクラスの設定が適切ではありません。')"
   ]
  },
  {
   "cell_type": "markdown",
   "metadata": {},
   "source": [
    "\n",
    "<br />\n",
    "<br />\n",
    "\n",
    "## 4. クラスを用いた流量計算\n",
    "\n",
    "3節までの計算を流用し、流量をクラスによって管理する方法について示す。\n",
    "流量をクラスで管理する場合、第三種境界条件における流量計算結果のみならず第二種境界条件を考慮する必要がある。\n",
    "\n",
    "- 第二種境界条件；一定値を与える方法  \n",
    "- 第三種境界条件；両端のセル情報から流量を計算する方法  \n",
    "\n",
    "特に外壁表面などでは第二種と第三種境界条件を組み合わせた条件などが存在する。（日射や降雨が当たる場合など）  \n",
    "そのため流量の管理モジュールは以下の三種類を有する必要がある。\n",
    "\n",
    "- 第二種境界条件\n",
    "- 第三種境界条件（流量計算）  \n",
    "- 第二種＋第三種境界条件  \n",
    "\n",
    "クラス化して管理するとmainプログラムが整理され見やすくなる分、計算方法がカプセル化され分かりづらくなるため使用には注意が必要である。\n"
   ]
  },
  {
   "cell_type": "markdown",
   "metadata": {},
   "source": [
    "### 第二種境界条件  \n",
    "\n",
    "第二種境界条件のクラスではそれぞれ熱流・水蒸気流・液水流を保持するだけのクラスとする。\n"
   ]
  },
  {
   "cell_type": "code",
   "execution_count": 23,
   "metadata": {},
   "outputs": [],
   "source": [
    "class NeumannBoundaryCondition():\n",
    "    \n",
    "    def __init__( self ):\n",
    "        \n",
    "        self.qs = 0.0\n",
    "        self.jv = 0.0\n",
    "        self.jl = 0.0\n",
    "        \n",
    "    # qs\n",
    "    \n",
    "    def set_qs(self, qs):\n",
    "        self.qs = qs\n",
    "\n",
    "    # jv\n",
    "    \n",
    "    def set_jv(self, jv):\n",
    "        self.jv = jv\n",
    "    \n",
    "    # jl\n",
    "    \n",
    "    def set_jl(self, jl):\n",
    "        self.jl = jl\n",
    "    "
   ]
  },
  {
   "cell_type": "markdown",
   "metadata": {},
   "source": [
    "### 第三種境界条件\n",
    "第三種境界条件では上述の3節までの式を用い流量をプロパティ化した。"
   ]
  },
  {
   "cell_type": "code",
   "execution_count": 24,
   "metadata": {},
   "outputs": [],
   "source": [
    "class RobinBoundaryCondition():\n",
    "    \n",
    "    def __init__( self, cell_mns, cell_pls, nx ):\n",
    "        \n",
    "        self.cell_mns = cell_mns\n",
    "        self.cell_pls = cell_pls\n",
    "        self.nx  = nx\n",
    "        \n",
    "    ################################\n",
    "    # 熱流計算\n",
    "    \n",
    "    def cal_heat_conduction( self ):\n",
    "        return cal_qs(self.cell_mns, self.cell_pls)\n",
    "    \n",
    "    qs = property(cal_heat_conduction)\n",
    "    \n",
    "    ################################\n",
    "    # 水蒸気流計算（水蒸気圧差）\n",
    "    \n",
    "    def cal_vapour_permeance( self ):\n",
    "        return cal_jv( self.cell_mns, self.cell_pls, self.nx )\n",
    "    \n",
    "    jv = property(cal_vapour_permeance)\n",
    "    \n",
    "    ################################\n",
    "    # 液水流計算（水分化学ポテンシャル差）\n",
    "    \n",
    "    def cal_liquid_conduction( self ):\n",
    "        return cal_jl( self.cell_mns, self.cell_pls, self.nx )\n",
    "    \n",
    "    jl = property(cal_liquid_conduction)\n",
    "    "
   ]
  },
  {
   "cell_type": "markdown",
   "metadata": {},
   "source": [
    "### 第二種 + 第三種境界条件  \n",
    "\n",
    "熱伝達＋日射というような形の境界条件の場合こちらを用いる。（等価外気温の形を用いても良いが）  \n",
    "\n",
    "基本構造は第二種と第三種のクラスの組み合わせである。"
   ]
  },
  {
   "cell_type": "code",
   "execution_count": 25,
   "metadata": {},
   "outputs": [],
   "source": [
    "class CombinationBoundaryCondition():\n",
    "    \n",
    "    def __init__( self, cell_mns, cell_pls, nx ):\n",
    "        self.neumann = NeumannBoundaryCondition()\n",
    "        self.robin   = RobinBoundaryCondition(cell_mns, cell_pls, nx)\n",
    "        \n",
    "    # Neumann qs\n",
    "    def set_qs(self, qs):\n",
    "        self.neumann.set_qs(qs)\n",
    "\n",
    "    # Neumann jv\n",
    "    def set_jv(self, jv):\n",
    "        self.neumann.set_jv(jv)\n",
    "    \n",
    "    # Neumann jl\n",
    "    def set_jl(self, jl):\n",
    "        self.neumann.set_jl(jl)\n",
    "    \n",
    "    ################################\n",
    "    # 熱流計算\n",
    "    \n",
    "    def sum_heat_conduction( self ):\n",
    "        return self.neumann.qs + self.robin.qs\n",
    "    \n",
    "    qs = property(sum_heat_conduction)\n",
    "    \n",
    "    # 水蒸気流計算（水蒸気圧差）\n",
    "    \n",
    "    def sum_vapour_permeance( self ):\n",
    "        return self.neumann.jv + self.robin.jv\n",
    "    \n",
    "    jv = property(sum_vapour_permeance)\n",
    "    \n",
    "    # 液水流計算（水分化学ポテンシャル差）\n",
    "    \n",
    "    def sum_liquid_conduction( self ):\n",
    "        return self.neumann.jl + self.robin.jl\n",
    "        \n",
    "    jl = property(sum_liquid_conduction)\n",
    "    "
   ]
  },
  {
   "cell_type": "code",
   "execution_count": null,
   "metadata": {},
   "outputs": [],
   "source": []
  }
 ],
 "metadata": {
  "kernelspec": {
   "display_name": "Python 3",
   "language": "python",
   "name": "python3"
  },
  "language_info": {
   "codemirror_mode": {
    "name": "ipython",
    "version": 3
   },
   "file_extension": ".py",
   "mimetype": "text/x-python",
   "name": "python",
   "nbconvert_exporter": "python",
   "pygments_lexer": "ipython3",
   "version": "3.6.5"
  }
 },
 "nbformat": 4,
 "nbformat_minor": 2
}
