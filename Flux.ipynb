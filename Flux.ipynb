{
 "cells": [
  {
   "cell_type": "markdown",
   "metadata": {},
   "source": [
    "## 流量を管理するモジュール"
   ]
  },
  {
   "cell_type": "markdown",
   "metadata": {},
   "source": [
    "#### 重力加速度"
   ]
  },
  {
   "cell_type": "code",
   "execution_count": 1,
   "metadata": {},
   "outputs": [],
   "source": [
    "def grav():\n",
    "    return 9.806650"
   ]
  },
  {
   "cell_type": "markdown",
   "metadata": {},
   "source": [
    "### 熱伝導（フーリエの法則）  \n",
    "定義：$\\dot q = -\\lambda\\nabla・T$  \n",
    "$\\dot q$：単位時間当たりの熱流量の密度[W/m2]  \n",
    "$\\lambda$：熱伝導率[W/mK]  \n",
    "$T$：絶対温度[K]  "
   ]
  },
  {
   "cell_type": "markdown",
   "metadata": {},
   "source": [
    "#### 差分化その1：$\\dot q = -\\lambda_{ave.}\\frac{T_{l+1}-T_{l}}{dx_{l+1}+dx_{l}}$  \n",
    "$\\lambda_{ave.}$：平均の熱伝導率  \n",
    "$l, l+1$：ある点のセル・隣接する点のセル  \n",
    "$dx$：セルの質点からセル境界までの距離"
   ]
  },
  {
   "cell_type": "markdown",
   "metadata": {},
   "source": [
    "物性値の調和平均：\n",
    "$\\lambda_{ave}=\\frac{\\lambda_{l+1} dx_{l+1} + \\lambda_{l} dx_{l} }{ dx_{l+1} + dx_{l} }$  \n",
    "物性値を材料の長さに応じて調和平均化する。熱伝導率の差が小さい時は問題ないが、差が大きくなるとその2のように熱抵抗の和として考えるのが妥当"
   ]
  },
  {
   "cell_type": "code",
   "execution_count": 2,
   "metadata": {},
   "outputs": [],
   "source": [
    "def mean_average( val_mns, val_pls, len_mns, len_pls ):\n",
    "    return ( val_mns * len_mns + val_pls * len_pls ) / ( len_mns + len_pls )"
   ]
  },
  {
   "cell_type": "code",
   "execution_count": 3,
   "metadata": {},
   "outputs": [],
   "source": [
    "def heat_conduction_v1( lamL1, lamL, tempL1, tempL, dxL1, dxL ):\n",
    "    lamAve = mean_average( val_mns = lamL, val_pls = lamL1, len_mns = dxL, len_pls = dxL1 )\n",
    "    return - lamAve * ( tempL1 - tempL ) / ( dxL1 + dxL )"
   ]
  },
  {
   "cell_type": "code",
   "execution_count": 5,
   "metadata": {},
   "outputs": [
    {
     "data": {
      "text/plain": [
       "54.99999999999999"
      ]
     },
     "execution_count": 5,
     "metadata": {},
     "output_type": "execute_result"
    }
   ],
   "source": [
    "#　使用例\n",
    "heat_conduction_v1( 0.1, 1.0, 20.0, 22.0, 0.01, 0.01 )"
   ]
  },
  {
   "cell_type": "markdown",
   "metadata": {},
   "source": [
    "#### 差分化その2：$\\dot q = -K(T_{l+1}-T_{l})$  \n",
    "$K$：熱貫流率[W/K]  \n",
    "一般的にはこちらを採用。異種材料間の熱の移動は熱抵抗値の和として計算。"
   ]
  },
  {
   "cell_type": "markdown",
   "metadata": {},
   "source": [
    "熱貫流率：\n",
    "$K = \\frac{ 1 } { \\frac{ dx_{l+1} } { \\lambda_{l+1} } + \\frac{ dx_{l} }{ \\lambda_{l} } } $  "
   ]
  },
  {
   "cell_type": "code",
   "execution_count": 7,
   "metadata": {},
   "outputs": [],
   "source": [
    "def transmittance( val_mns, val_pls, len_mns, len_pls ):\n",
    "    return 1.0 / ( len_mns / val_mns + len_pls / val_pls )"
   ]
  },
  {
   "cell_type": "code",
   "execution_count": 8,
   "metadata": {},
   "outputs": [],
   "source": [
    "def heat_conduction_v2( lamL1, lamL, tempL1, tempL, dxL1, dxL ):\n",
    "    K = transmittance( val_mns = lamL, val_pls = lamL1, len_mns = dxL, len_pls = dxL1 )\n",
    "    return - K * ( tempL1 - tempL )"
   ]
  },
  {
   "cell_type": "code",
   "execution_count": 9,
   "metadata": {},
   "outputs": [
    {
     "data": {
      "text/plain": [
       "18.181818181818183"
      ]
     },
     "execution_count": 9,
     "metadata": {},
     "output_type": "execute_result"
    }
   ],
   "source": [
    "#　使用例\n",
    "heat_conduction_v2( 0.1, 1.0, 20.0, 22.0, 0.01, 0.01 )"
   ]
  },
  {
   "cell_type": "markdown",
   "metadata": {},
   "source": [
    "#### 差分化その3：$\\dot q = -\\lambda_{ave.}\\frac{\\Delta T}{\\Delta x2}$  \n",
    "$\\Delta T$：質点間の温度差[K]  \n",
    "$\\Delta x2$：質点間の距離[m]  \n",
    "平均の熱伝導率、温度差などをあらかじめ計算している場合はこちらを用いる。"
   ]
  },
  {
   "cell_type": "code",
   "execution_count": 11,
   "metadata": {},
   "outputs": [],
   "source": [
    "def heat_conduction_v3( lam, dtemp, dx2 ):\n",
    "    return - lam * dtemp / dx2"
   ]
  },
  {
   "cell_type": "code",
   "execution_count": 12,
   "metadata": {},
   "outputs": [
    {
     "data": {
      "text/plain": [
       "18.18"
      ]
     },
     "execution_count": 12,
     "metadata": {},
     "output_type": "execute_result"
    }
   ],
   "source": [
    "# 使用例  \n",
    "heat_conduction_v3( 9.090, -2.0, 1.0 )"
   ]
  },
  {
   "cell_type": "markdown",
   "metadata": {},
   "source": [
    "### 熱伝達  \n",
    "定義：$\\dot q = \\alpha(T_{air} - T_{wall})$  \n",
    "空気に接する壁表面には空気の熱伝達層が存在すると考えた場合の熱流。空気から壁表面への熱流を正とした。  \n",
    "$\\dot q$：単位時間当たりの熱流量の密度[W/m2]  \n",
    "$\\alpha$：熱伝達率[W/m2K]  \n",
    "$T_{air}$：空気の絶対温度[K]  \n",
    "$T_{wall}$：壁表面の絶対温度[K]  "
   ]
  },
  {
   "cell_type": "code",
   "execution_count": 13,
   "metadata": {},
   "outputs": [],
   "source": [
    "def heat_transfer( alpha, temp_air, temp_wall ):\n",
    "    return alpha * ( temp_air - temp_wall )"
   ]
  },
  {
   "cell_type": "code",
   "execution_count": 14,
   "metadata": {},
   "outputs": [
    {
     "data": {
      "text/plain": [
       "46.5"
      ]
     },
     "execution_count": 14,
     "metadata": {},
     "output_type": "execute_result"
    }
   ],
   "source": [
    "# 使用例\n",
    "heat_transfer( 9.3, 20.0, 15.0 )"
   ]
  },
  {
   "cell_type": "markdown",
   "metadata": {},
   "source": [
    "## 水蒸気移動  \n",
    "元原理：Fickの拡散法則"
   ]
  },
  {
   "cell_type": "markdown",
   "metadata": {},
   "source": [
    "### 水蒸気移動（水蒸気圧勾配・固体内）  \n",
    "定義：$J_v = -\\lambda^{'}_{p}\\nabla・P_v$  \n",
    "$J_v$：気相水分流量[kg/m2s]  \n",
    "$\\lambda^{'}_{p}$：水蒸気圧勾配に関する気相水分伝導率[kg/msPa]  \n",
    "$P_v$：水蒸気圧[Pa]  "
   ]
  },
  {
   "cell_type": "code",
   "execution_count": 12,
   "metadata": {},
   "outputs": [],
   "source": [
    "def vapourTransfer_pressure( ldp, dpv, dx2 ):\n",
    "    return - ldp * dpv /dx2"
   ]
  },
  {
   "cell_type": "markdown",
   "metadata": {},
   "source": [
    "## 液水移動  \n",
    "原理：ダルシー則"
   ]
  },
  {
   "cell_type": "markdown",
   "metadata": {},
   "source": [
    "### 液水移動（水分化学ポテンシャル勾配・固体内）  \n",
    "定義：$J_l = -\\lambda^{'}_{\\mu_l}(\\nabla・\\mu - n_x g)$    \n",
    "$J_l$：液相水分流量[kg/m2s]  \n",
    "$\\lambda^{'}_{\\mu l}$：水分化学ポテンシャル勾配に関する液相水分伝導率[kg/ms(J/kg)]  \n",
    "$\\mu$：液水の化学ポテンシャル[J/kg]  \n",
    "$n_x$：重力加速度に対する応答（重力加速度に対して水平なら1、垂直なら0）"
   ]
  },
  {
   "cell_type": "code",
   "execution_count": 13,
   "metadata": {},
   "outputs": [],
   "source": [
    "def liquidTransfer_potential( ldml, dmiu, dx2, nx ):\n",
    "    return - ldml * ( dmiu / dx2 - nx * grav() )"
   ]
  },
  {
   "cell_type": "code",
   "execution_count": null,
   "metadata": {},
   "outputs": [],
   "source": []
  }
 ],
 "metadata": {
  "kernelspec": {
   "display_name": "Python 3",
   "language": "python",
   "name": "python3"
  },
  "language_info": {
   "codemirror_mode": {
    "name": "ipython",
    "version": 3
   },
   "file_extension": ".py",
   "mimetype": "text/x-python",
   "name": "python",
   "nbconvert_exporter": "python",
   "pygments_lexer": "ipython3",
   "version": "3.6.5"
  }
 },
 "nbformat": 4,
 "nbformat_minor": 2
}
