{
 "cells": [
  {
   "cell_type": "code",
   "execution_count": 1,
   "metadata": {},
   "outputs": [
    {
     "name": "stdout",
     "output_type": "stream",
     "text": [
      "Importing Jupyter notebook from gas_water.ipynb\n",
      "Importing Jupyter notebook from moisture_conversion.ipynb\n",
      "Importing Jupyter notebook from vapour_pressure.ipynb\n",
      "Importing Jupyter notebook from property_conversion.ipynb\n",
      "Importing Jupyter notebook from liquid_water.ipynb\n"
     ]
    }
   ],
   "source": [
    "import nbimporter\n",
    "import gas_water\n",
    "import moisture_conversion as mc\n",
    "import property_conversion  as prop"
   ]
  },
  {
   "cell_type": "markdown",
   "metadata": {},
   "source": [
    "# 液水の状態を保持するモジュール"
   ]
  },
  {
   "cell_type": "markdown",
   "metadata": {},
   "source": [
    "液水の状態を保持するクラスを作成する。  \n",
    "液水の状態を表す方法として以下の3つの方法が挙げられる。  \n",
    "\n",
    "- $temp$ 絶対温度, K\n",
    "- $\\phi$ 含水率, %  \n",
    "- $\\mu$ 水分化学ポテンシャル, J kg<sup>-1<sup>  \n",
    "- $P_l$ 溶液の圧力, Pa  \n",
    "\n",
    "多孔質材料中では吸着力によりある量の液水が保持される。この時、液水の保持量（含水率）と液水の状態量（水分化学ポテンシャル）は材料に応じた相関がある。（平衡含水率関係）  \n",
    "しかしこの平衡関係は材料ごとに異なるため、平衡関係を用いる際に材料の情報を入力する必要がある。ここでは水分化学ポテンシャル（液相）から含水率を決定するクラスと、含水率から水分化学ポテンシャル（液相）を決定するクラスの2つについて示す。"
   ]
  },
  {
   "cell_type": "markdown",
   "metadata": {},
   "source": [
    "## クラス定義"
   ]
  },
  {
   "cell_type": "markdown",
   "metadata": {},
   "source": [
    "### 1) 含水率ベース（気液平衡状態）"
   ]
  },
  {
   "cell_type": "code",
   "execution_count": 2,
   "metadata": {},
   "outputs": [],
   "source": [
    "class PhiBasedWater():\n",
    "    \n",
    "    def __init__(self, temp, phi):\n",
    "        self._temp = temp\n",
    "        self._phi  = phi\n",
    "        \n",
    "    def set_material(self, material_name):\n",
    "        self.material_name = material_name\n",
    "    \n",
    "    # temp\n",
    "    \n",
    "    def set_temp(self, temp):\n",
    "        self._temp = temp\n",
    "    \n",
    "    def get_temp(self):\n",
    "        return self._temp\n",
    "    \n",
    "    temp = property(get_temp, set_temp)\n",
    "\n",
    "    # phi\n",
    "    \n",
    "    def set_phi(self, phi):\n",
    "        self._phi = phi\n",
    "        \n",
    "    def get_phi(self):\n",
    "        return self._phi\n",
    "    \n",
    "    phi = property(get_phi, set_phi)\n",
    "    \n",
    "    # miu\n",
    "    \n",
    "    def set_miu(self, miu):\n",
    "        self._phi = prop.Kernel_Material_WaterAdsorption( self.material_name ).getPhi( MiuBasedWater(self.temp, miu) )\n",
    "    \n",
    "    def get_miu(self):\n",
    "        return prop.Kernel_Material_WaterAdsorption( self.material_name ).getMiuByPhi( self )\n",
    "    \n",
    "    miu = property(get_miu, set_miu)\n",
    "    "
   ]
  },
  {
   "cell_type": "markdown",
   "metadata": {},
   "source": [
    "### 2) 水分化学ポテンシャルベース（気液平衡状態）"
   ]
  },
  {
   "cell_type": "code",
   "execution_count": 3,
   "metadata": {},
   "outputs": [],
   "source": [
    "class MiuBasedWater():\n",
    "    \n",
    "    def __init__(self, temp, miu):\n",
    "        self._temp = temp\n",
    "        self._miu  = miu\n",
    "    \n",
    "    def set_material(self, material_name):\n",
    "        self.material_name = material_name\n",
    "        \n",
    "    # temp\n",
    "    \n",
    "    def set_temp(self, temp):\n",
    "        self._temp = temp\n",
    "    \n",
    "    def get_temp(self):\n",
    "        return self._temp\n",
    "    \n",
    "    temp = property(get_temp, set_temp)\n",
    "\n",
    "    # miu\n",
    "    \n",
    "    def set_miu(self, miu):\n",
    "        self._miu = miu\n",
    "        \n",
    "    def get_miu(self):\n",
    "        return self._miu\n",
    "    \n",
    "    miu = property(get_miu, set_miu)\n",
    "    \n",
    "    # phi\n",
    "    \n",
    "    def set_phi(self, phi):\n",
    "        self._miu = prop.Kernel_Material_WaterAdsorption( self.material_name ).getMiuByPhi( PhiBasedWater(self.temp, phi) )\n",
    "    \n",
    "    def get_phi(self):\n",
    "        return prop.Kernel_Material_WaterAdsorption( self.material_name ).getPhi( self )\n",
    "    \n",
    "    phi = property(get_phi, set_phi)\n",
    "    "
   ]
  },
  {
   "cell_type": "markdown",
   "metadata": {},
   "source": [
    "## 使い方"
   ]
  },
  {
   "cell_type": "markdown",
   "metadata": {},
   "source": [
    "変数の宣言  \n",
    "例として、\n",
    "水蒸気の状態量を\n",
    "\n",
    "- 絶対温度 300 K\n",
    "- 相対湿度 0.9999(99.99%)  \n",
    "\n",
    "とする。"
   ]
  },
  {
   "cell_type": "code",
   "execution_count": 4,
   "metadata": {},
   "outputs": [],
   "source": [
    "vapour =  gas_water.RHBasedMoisture(temp=300.0, rh=0.9999)"
   ]
  },
  {
   "cell_type": "markdown",
   "metadata": {},
   "source": [
    "材料の名前を'BentheimerSandstone'として気液平衡が成り立つとすると、  \n",
    "液水のクラスは以下のように定義される。"
   ]
  },
  {
   "cell_type": "code",
   "execution_count": 5,
   "metadata": {},
   "outputs": [],
   "source": [
    "water1 = MiuBasedWater( vapour.temp, vapour.miu)"
   ]
  },
  {
   "cell_type": "code",
   "execution_count": 6,
   "metadata": {},
   "outputs": [],
   "source": [
    "water1.set_material('BentheimerSandstone')"
   ]
  },
  {
   "cell_type": "markdown",
   "metadata": {},
   "source": [
    "水分化学ポテンシャルの取得"
   ]
  },
  {
   "cell_type": "code",
   "execution_count": 7,
   "metadata": {},
   "outputs": [
    {
     "data": {
      "text/plain": [
       "-13.848383372093412"
      ]
     },
     "execution_count": 7,
     "metadata": {},
     "output_type": "execute_result"
    }
   ],
   "source": [
    "water1.miu"
   ]
  },
  {
   "cell_type": "markdown",
   "metadata": {},
   "source": [
    "含水率の取得"
   ]
  },
  {
   "cell_type": "code",
   "execution_count": 8,
   "metadata": {},
   "outputs": [
    {
     "name": "stdout",
     "output_type": "stream",
     "text": [
      "Importing Jupyter notebook from bentheimer_sandstone.ipynb\n",
      "Importing Jupyter notebook from van_genuchten.ipynb\n"
     ]
    },
    {
     "data": {
      "text/plain": [
       "0.13286027466257927"
      ]
     },
     "execution_count": 8,
     "metadata": {},
     "output_type": "execute_result"
    }
   ],
   "source": [
    "water1.phi"
   ]
  },
  {
   "cell_type": "markdown",
   "metadata": {},
   "source": [
    "含水率を与えて置き換え"
   ]
  },
  {
   "cell_type": "code",
   "execution_count": 9,
   "metadata": {},
   "outputs": [],
   "source": [
    "water1.set_phi( 0.10 )"
   ]
  },
  {
   "cell_type": "code",
   "execution_count": 10,
   "metadata": {},
   "outputs": [
    {
     "data": {
      "text/plain": [
       "-20.29806887366382"
      ]
     },
     "execution_count": 10,
     "metadata": {},
     "output_type": "execute_result"
    }
   ],
   "source": [
    "water1.miu"
   ]
  },
  {
   "cell_type": "markdown",
   "metadata": {},
   "source": [
    "同様に、含水率基準で考えると"
   ]
  },
  {
   "cell_type": "code",
   "execution_count": 11,
   "metadata": {},
   "outputs": [],
   "source": [
    "water2 = PhiBasedWater( vapour.temp, 0.1)"
   ]
  },
  {
   "cell_type": "code",
   "execution_count": 12,
   "metadata": {},
   "outputs": [],
   "source": [
    "water2.set_material('BentheimerSandstone')"
   ]
  },
  {
   "cell_type": "markdown",
   "metadata": {},
   "source": [
    "含水率の取得"
   ]
  },
  {
   "cell_type": "code",
   "execution_count": 13,
   "metadata": {},
   "outputs": [
    {
     "data": {
      "text/plain": [
       "0.1"
      ]
     },
     "execution_count": 13,
     "metadata": {},
     "output_type": "execute_result"
    }
   ],
   "source": [
    "water2.phi"
   ]
  },
  {
   "cell_type": "markdown",
   "metadata": {},
   "source": [
    "水分化学ポテンシャルを取得"
   ]
  },
  {
   "cell_type": "code",
   "execution_count": 14,
   "metadata": {},
   "outputs": [
    {
     "data": {
      "text/plain": [
       "-20.29806887366382"
      ]
     },
     "execution_count": 14,
     "metadata": {},
     "output_type": "execute_result"
    }
   ],
   "source": [
    "water2.miu"
   ]
  },
  {
   "cell_type": "markdown",
   "metadata": {},
   "source": [
    "任意の水分化学ポテンシャルを与えて置き換え"
   ]
  },
  {
   "cell_type": "code",
   "execution_count": 15,
   "metadata": {},
   "outputs": [],
   "source": [
    "water2.set_miu(-13.848383372093412)"
   ]
  },
  {
   "cell_type": "code",
   "execution_count": 16,
   "metadata": {},
   "outputs": [
    {
     "data": {
      "text/plain": [
       "0.13286027466257927"
      ]
     },
     "execution_count": 16,
     "metadata": {},
     "output_type": "execute_result"
    }
   ],
   "source": [
    "water2.phi"
   ]
  },
  {
   "cell_type": "code",
   "execution_count": null,
   "metadata": {},
   "outputs": [],
   "source": []
  }
 ],
 "metadata": {
  "kernelspec": {
   "display_name": "Python 3",
   "language": "python",
   "name": "python3"
  },
  "language_info": {
   "codemirror_mode": {
    "name": "ipython",
    "version": 3
   },
   "file_extension": ".py",
   "mimetype": "text/x-python",
   "name": "python",
   "nbconvert_exporter": "python",
   "pygments_lexer": "ipython3",
   "version": "3.6.5"
  }
 },
 "nbformat": 4,
 "nbformat_minor": 2
}
