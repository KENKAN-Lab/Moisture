{
 "cells": [
  {
   "cell_type": "code",
   "execution_count": 1,
   "metadata": {},
   "outputs": [
    {
     "name": "stdout",
     "output_type": "stream",
     "text": [
      "Importing Jupyter notebook from gas_water.ipynb\n",
      "Importing Jupyter notebook from moisture_conversion.ipynb\n",
      "Importing Jupyter notebook from vapour_pressure.ipynb\n",
      "Importing Jupyter notebook from property_conversion.ipynb\n",
      "Importing Jupyter notebook from liquid_water.ipynb\n"
     ]
    }
   ],
   "source": [
    "import nbimporter\n",
    "import gas_water\n",
    "import property_conversion  as prop"
   ]
  },
  {
   "cell_type": "markdown",
   "metadata": {},
   "source": [
    "# 液水の状態を保持するモジュール"
   ]
  },
  {
   "cell_type": "markdown",
   "metadata": {},
   "source": [
    "液水の状態を保持するクラスを作成する。  \n",
    "液水の状態を表す方法として以下の3つの方法が挙げられる。  \n",
    "\n",
    "- $temp$ 絶対温度, K\n",
    "- $\\phi$ 含水率, %  \n",
    "- $\\mu$ 水分化学ポテンシャル, J kg<sup>-1</sup>  \n",
    "- $P_l$ 溶液の圧力, Pa  \n",
    "\n",
    "多孔質材料中では吸着力によりある量の液水が保持される。この時、液水の保持量（含水率）と液水の状態量（水分化学ポテンシャル）は材料に応じた相関がある。（平衡含水率関係）  \n",
    "しかしこの平衡関係は材料ごとに異なるため、平衡関係を用いる際に材料の情報を入力する必要がある。このモジュールでは、液水の状態を水分化学ポテンシャル（液相）を基準とし含水率を決定するクラスと、含水率を基準として水分化学ポテンシャル（液相）を決定するクラスの2つについて示す。"
   ]
  },
  {
   "cell_type": "markdown",
   "metadata": {},
   "source": [
    "## クラス定義"
   ]
  },
  {
   "cell_type": "markdown",
   "metadata": {},
   "source": [
    "### 1) 含水率ベース（気液平衡状態）"
   ]
  },
  {
   "cell_type": "code",
   "execution_count": 2,
   "metadata": {},
   "outputs": [],
   "source": [
    "class PhiBasedWater():\n",
    "    \n",
    "    def __init__(self, temp, phi):\n",
    "        self._temp = temp\n",
    "        self._phi  = phi\n",
    "        \n",
    "    def set_material(self, material_name):\n",
    "        self.material_name = material_name\n",
    "    \n",
    "    # temp\n",
    "    \n",
    "    def set_temp(self, temp):\n",
    "        self._temp = temp\n",
    "    \n",
    "    def get_temp(self):\n",
    "        return self._temp\n",
    "    \n",
    "    temp = property(get_temp, set_temp)\n",
    "\n",
    "    # phi\n",
    "    \n",
    "    def set_phi(self, phi):\n",
    "        self._phi = phi\n",
    "        \n",
    "    def get_phi(self):\n",
    "        return self._phi\n",
    "    \n",
    "    phi = property(get_phi, set_phi)\n",
    "    \n",
    "    # miu\n",
    "    \n",
    "    def set_miu(self, miu):\n",
    "        self._phi = prop.Kernel_Material_WaterAdsorption( self.material_name ).getPhi( MiuBasedWater(self.temp, miu) )\n",
    "    \n",
    "    def get_miu(self):\n",
    "        return prop.Kernel_Material_WaterAdsorption( self.material_name ).getMiuByPhi( self )\n",
    "    \n",
    "    miu = property(get_miu, set_miu)\n",
    "    \n",
    "    # dphi\n",
    "    \n",
    "    def get_dphi(self):\n",
    "        return prop.Kernel_Material_WaterAdsorption( self.material_name ).getDPhi( self )\n",
    "    \n",
    "    dphi = property(get_dphi)\n",
    "    "
   ]
  },
  {
   "cell_type": "markdown",
   "metadata": {},
   "source": [
    "### 2) 水分化学ポテンシャルベース（気液平衡状態）"
   ]
  },
  {
   "cell_type": "code",
   "execution_count": 3,
   "metadata": {},
   "outputs": [],
   "source": [
    "class MiuBasedWater():\n",
    "    \n",
    "    def __init__(self, temp, miu):\n",
    "        self._temp = temp\n",
    "        self._miu  = miu\n",
    "    \n",
    "    def set_material(self, material_name):\n",
    "        self.material_name = material_name\n",
    "        \n",
    "    # temp\n",
    "    \n",
    "    def set_temp(self, temp):\n",
    "        self._temp = temp\n",
    "    \n",
    "    def get_temp(self):\n",
    "        return self._temp\n",
    "    \n",
    "    temp = property(get_temp, set_temp)\n",
    "\n",
    "    # miu\n",
    "    \n",
    "    def set_miu(self, miu):\n",
    "        self._miu = miu\n",
    "        \n",
    "    def get_miu(self):\n",
    "        return self._miu\n",
    "    \n",
    "    miu = property(get_miu, set_miu)\n",
    "    \n",
    "    # phi\n",
    "    \n",
    "    def set_phi(self, phi):\n",
    "        self._miu = prop.Kernel_Material_WaterAdsorption( self.material_name ).getMiuByPhi( PhiBasedWater(self.temp, phi) )\n",
    "    \n",
    "    def get_phi(self):\n",
    "        return prop.Kernel_Material_WaterAdsorption( self.material_name ).getPhi( self )\n",
    "    \n",
    "    phi = property(get_phi, set_phi)\n",
    "    \n",
    "    # dphi\n",
    "    \n",
    "    def get_dphi(self):\n",
    "        return prop.Kernel_Material_WaterAdsorption( self.material_name ).getDPhi( self )\n",
    "    \n",
    "    dphi = property(get_dphi)\n",
    "    "
   ]
  },
  {
   "cell_type": "markdown",
   "metadata": {},
   "source": [
    "## 使い方"
   ]
  },
  {
   "cell_type": "markdown",
   "metadata": {},
   "source": [
    "変数の宣言  \n",
    "例として、\n",
    "水蒸気の状態量を\n",
    "\n",
    "- 絶対温度 300 K\n",
    "- 相対湿度 0.9999(99.99%)  \n",
    "\n",
    "とする。"
   ]
  },
  {
   "cell_type": "code",
   "execution_count": 4,
   "metadata": {},
   "outputs": [],
   "source": [
    "vapour =  gas_water.RHBasedMoisture(temp=300.0, rh=0.9999)"
   ]
  },
  {
   "cell_type": "markdown",
   "metadata": {},
   "source": [
    "材料の名前を'BentheimerSandstone'として気液平衡が成り立つとすると、  \n",
    "液水のクラスは以下のように定義される。"
   ]
  },
  {
   "cell_type": "code",
   "execution_count": 5,
   "metadata": {},
   "outputs": [],
   "source": [
    "water1 = MiuBasedWater( vapour.temp, vapour.miu)"
   ]
  },
  {
   "cell_type": "code",
   "execution_count": 6,
   "metadata": {},
   "outputs": [],
   "source": [
    "water1.set_material('BentheimerSandstone')"
   ]
  },
  {
   "cell_type": "markdown",
   "metadata": {},
   "source": [
    "水分化学ポテンシャルの取得"
   ]
  },
  {
   "cell_type": "code",
   "execution_count": 7,
   "metadata": {},
   "outputs": [
    {
     "data": {
      "text/plain": [
       "-13.848383372093412"
      ]
     },
     "execution_count": 7,
     "metadata": {},
     "output_type": "execute_result"
    }
   ],
   "source": [
    "water1.miu"
   ]
  },
  {
   "cell_type": "markdown",
   "metadata": {},
   "source": [
    "含水率の取得"
   ]
  },
  {
   "cell_type": "code",
   "execution_count": 8,
   "metadata": {},
   "outputs": [
    {
     "name": "stdout",
     "output_type": "stream",
     "text": [
      "Importing Jupyter notebook from bentheimer_sandstone.ipynb\n",
      "Importing Jupyter notebook from van_genuchten.ipynb\n"
     ]
    },
    {
     "data": {
      "text/plain": [
       "0.13286027466257927"
      ]
     },
     "execution_count": 8,
     "metadata": {},
     "output_type": "execute_result"
    }
   ],
   "source": [
    "water1.phi"
   ]
  },
  {
   "cell_type": "markdown",
   "metadata": {},
   "source": [
    "含水率を与えて置き換え"
   ]
  },
  {
   "cell_type": "code",
   "execution_count": 9,
   "metadata": {},
   "outputs": [],
   "source": [
    "water1.set_phi( 0.10 )"
   ]
  },
  {
   "cell_type": "code",
   "execution_count": 10,
   "metadata": {},
   "outputs": [
    {
     "data": {
      "text/plain": [
       "-20.29806887366382"
      ]
     },
     "execution_count": 10,
     "metadata": {},
     "output_type": "execute_result"
    }
   ],
   "source": [
    "water1.miu"
   ]
  },
  {
   "cell_type": "markdown",
   "metadata": {},
   "source": [
    "同様に、含水率基準で考えると"
   ]
  },
  {
   "cell_type": "code",
   "execution_count": 11,
   "metadata": {},
   "outputs": [],
   "source": [
    "water2 = PhiBasedWater( vapour.temp, 0.1)"
   ]
  },
  {
   "cell_type": "code",
   "execution_count": 12,
   "metadata": {},
   "outputs": [],
   "source": [
    "water2.set_material('BentheimerSandstone')"
   ]
  },
  {
   "cell_type": "markdown",
   "metadata": {},
   "source": [
    "含水率の取得"
   ]
  },
  {
   "cell_type": "code",
   "execution_count": 13,
   "metadata": {},
   "outputs": [
    {
     "data": {
      "text/plain": [
       "0.1"
      ]
     },
     "execution_count": 13,
     "metadata": {},
     "output_type": "execute_result"
    }
   ],
   "source": [
    "water2.phi"
   ]
  },
  {
   "cell_type": "markdown",
   "metadata": {},
   "source": [
    "水分化学ポテンシャルを取得"
   ]
  },
  {
   "cell_type": "code",
   "execution_count": 14,
   "metadata": {},
   "outputs": [
    {
     "data": {
      "text/plain": [
       "-20.29806887366382"
      ]
     },
     "execution_count": 14,
     "metadata": {},
     "output_type": "execute_result"
    }
   ],
   "source": [
    "water2.miu"
   ]
  },
  {
   "cell_type": "markdown",
   "metadata": {},
   "source": [
    "任意の水分化学ポテンシャルを与えて置き換え"
   ]
  },
  {
   "cell_type": "code",
   "execution_count": 15,
   "metadata": {},
   "outputs": [],
   "source": [
    "water2.set_miu(-13.848383372093412)"
   ]
  },
  {
   "cell_type": "code",
   "execution_count": 16,
   "metadata": {},
   "outputs": [
    {
     "data": {
      "text/plain": [
       "0.13286027466257927"
      ]
     },
     "execution_count": 16,
     "metadata": {},
     "output_type": "execute_result"
    }
   ],
   "source": [
    "water2.phi"
   ]
  },
  {
   "cell_type": "code",
   "execution_count": null,
   "metadata": {},
   "outputs": [],
   "source": []
  },
  {
   "cell_type": "markdown",
   "metadata": {},
   "source": [
    "## Description"
   ]
  },
  {
   "cell_type": "markdown",
   "metadata": {},
   "source": [
    "一般には液水とはその場の水分が飽和水蒸気圧を超えることで生じるが、多孔質材料中では材料の吸着力・毛管力などの影響により飽和水蒸気圧以下で液水が保持されることがある。  \n",
    "（松本衛：新建築学大系10によれば多孔質材料中では水分は  \n",
    "- 1.固体実質部の結晶内部や空隙の界面に存在する水分（収着および吸着水）  \n",
    "- 2.ゲル構造の固体内にオスモティック（浸透圧力による）に保持される水分   \n",
    "- 3.固体内の毛細管に、毛細管力で保持される水分（毛管水）  \n",
    "- 4.大きな毛細管、空隙に存在する重力水   \n",
    "- 5.空隙内に存在する水蒸気。  \n",
    "に大別される。）  \n",
    "\n",
    "ここで平衡状態における水分の状態量と、そのときの含水率の関係式を一般に建築などの分野では平衡含水率、土壌やその他の分野では水分特性曲線や水分保持曲線、吸着等温線などと呼称する。  \n",
    "この関係式は多孔質材料ごとに固有の値を示すため、デシケータ法、チャンバー法、加圧板法など様々な方法によって測定を行う。  \n",
    "\n",
    "一方で液水の状態量は以下の3つの方法で表現が可能である。 \n",
    "\n",
    "- $\\phi$ 含水率, %  \n",
    "- $\\mu$ 水分化学ポテンシャル, J kg<sup>-1</sup>  \n",
    "- $P_l$ 溶液の圧力, Pa  \n",
    "    \n",
    "一般に水分化学ポテンシャルと溶液の圧力は同一の状態量を表しており、エネルギーであるか圧力であるかの違いである。  \n",
    "それぞれの物理的意味は以下のように表される。  \n",
    "\n",
    "### $\\phi$ ：含水率  \n",
    "空間1m<sup>3</sup>あたりに含まれる液水の割合を百分率で表したものを含水率と呼ぶ。  \n",
    "絶対湿度同様、液水が蒸発または移動しない限り、温度が変わっても変化しない量である。  \n",
    "\n",
    "### $\\mu$：水分化学ポテンシャル  \n",
    "化学ポテンシャルはJ.W.Gibbsにより提唱された状態変数の一つであり、1molあたりのギブスの自由エネルギーと定義される。\n",
    "（※ただし1kg当たりのエネルギー量として定義されることが多い。）  \n",
    "液水の化学ポテンシャルは水蒸気の化学ポテンシャルと基本的な考え方は同じであるが、塩や高分子などを含むことで水の濃度が減少した場合にはその限りではなくなる。（いわゆる蒸気圧降下）  \n",
    "上述のように、化学ポテンシャルと含水率には吸着力によってある特定の関係が成り立つが、吸湿時と放湿時にはこの関係性が異なっており、この現象のことを吸放湿履歴（単に履歴現象ということも）と呼ぶ。ただし履歴現象はメカニズムおよび測定が難しく、解析には含めないことが多い。  \n",
    "以上から、液水の水分化学ポテンシャルは平衡含水率関係$f(\\phi)$を用いて以下のように表される。  \n",
    "\n",
    "$\\mu = f(\\phi)$\n",
    "\n",
    "ただし、一般に材料の微小部分においては局所平衡が成り立ち、水蒸気と液水の状態量（化学ポテンシャル）が平衡すると仮定することで、水蒸気の化学ポテンシャル同様以下の式で表することができる。\n",
    "\n",
    "$\\mu = R_v T log(RH)$ [J/kg] \n",
    "\n",
    "Rvは水蒸気の気体定数である。\n",
    "\n",
    "### $P_l$：液水の圧力  \n",
    "土壌の分野では液水の状態量を圧力として定義することが多い。  \n",
    "一般にこの圧力は水分化学ポテンシャルと等価であり、水の密度$\\rho_w$を用いることで以下のように表される。  \n",
    "\n",
    "$P_l = \\rho_w \\mu$\n"
   ]
  },
  {
   "cell_type": "code",
   "execution_count": null,
   "metadata": {},
   "outputs": [],
   "source": []
  }
 ],
 "metadata": {
  "kernelspec": {
   "display_name": "Python 3",
   "language": "python",
   "name": "python3"
  },
  "language_info": {
   "codemirror_mode": {
    "name": "ipython",
    "version": 3
   },
   "file_extension": ".py",
   "mimetype": "text/x-python",
   "name": "python",
   "nbconvert_exporter": "python",
   "pygments_lexer": "ipython3",
   "version": "3.6.5"
  }
 },
 "nbformat": 4,
 "nbformat_minor": 2
}
