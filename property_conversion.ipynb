{
 "cells": [
  {
   "cell_type": "code",
   "execution_count": 1,
   "metadata": {},
   "outputs": [],
   "source": [
    "import numpy as np\n",
    "import importlib\n",
    "import nbimporter"
   ]
  },
  {
   "cell_type": "markdown",
   "metadata": {},
   "source": [
    "## ファイルから物性値を取得し、流量計算に適した形に換算するモジュール"
   ]
  },
  {
   "cell_type": "markdown",
   "metadata": {},
   "source": [
    "### 1. 物性値ファイルをインポートするモジュール"
   ]
  },
  {
   "cell_type": "markdown",
   "metadata": {},
   "source": [
    "#### 1.1 物性名とモジュール名の結びつけ  \n",
    "プログラム内名称　：　ファイル名  \n",
    "BenteimerSandstone　：　bentheimer_sandstone  \n",
    "Concrete　：　Concrete_Goran"
   ]
  },
  {
   "cell_type": "code",
   "execution_count": 2,
   "metadata": {},
   "outputs": [],
   "source": [
    "def getModuleName( name ):\n",
    "    try:\n",
    "        return {\n",
    "            'BentheimerSandstone': 'bentheimer_sandstone',\n",
    "            'Concrete': 'concrete_goran',\n",
    "        }[name]\n",
    "    except:\n",
    "        raise ValueError('物性リストに登録されていない物性名が指定されました。')    "
   ]
  },
  {
   "cell_type": "markdown",
   "metadata": {},
   "source": [
    "#### 1.2 インポートすべきモジュール名をもとに物性値計算を定義した外部ファイルをインポートする"
   ]
  },
  {
   "cell_type": "code",
   "execution_count": 3,
   "metadata": {},
   "outputs": [],
   "source": [
    "def importModule( moduleName ):\n",
    "    try:\n",
    "        return importlib.import_module( moduleName )\n",
    "    except:\n",
    "        raise ImportError('物性リストに登録されている外部モジュールが見つかりません。')"
   ]
  },
  {
   "cell_type": "code",
   "execution_count": 4,
   "metadata": {},
   "outputs": [
    {
     "name": "stdout",
     "output_type": "stream",
     "text": [
      "Importing Jupyter notebook from bentheimer_sandstone.ipynb\n",
      "Importing Jupyter notebook from liquid_water.ipynb\n",
      "Importing Jupyter notebook from gas_water.ipynb\n",
      "Importing Jupyter notebook from moisture_conversion.ipynb\n",
      "Importing Jupyter notebook from vapour_pressure.ipynb\n",
      "Importing Jupyter notebook from property_conversion.ipynb\n",
      "Importing Jupyter notebook from van_genuchten.ipynb\n"
     ]
    },
    {
     "data": {
      "text/plain": [
       "<module 'bentheimer_sandstone' (<nbimporter.NotebookLoader object at 0x000001C815BEA7F0>)>"
      ]
     },
     "execution_count": 4,
     "metadata": {},
     "output_type": "execute_result"
    }
   ],
   "source": [
    "# 例\n",
    "importModule( 'bentheimer_sandstone' )"
   ]
  },
  {
   "cell_type": "markdown",
   "metadata": {},
   "source": [
    "### 2. 取得した物性値を計算用に換算するクラス  \n",
    "各物性値ファイルに存在する物性値を元の形式のまま取得してくるクラス。  \n",
    "\n",
    "#### 実験から熱水分物性値として考えられるもの  \n",
    "【参考】建築材料の熱・空気・湿気物性値，日本建築学会，丸善株式会社，2001など"
   ]
  },
  {
   "cell_type": "markdown",
   "metadata": {},
   "source": [
    "### 2.1 材料実質部の空隙率・密度・比熱などの物性値を取得するクラス"
   ]
  },
  {
   "cell_type": "code",
   "execution_count": 11,
   "metadata": {},
   "outputs": [],
   "source": [
    "class Kernel_MaterialProperty():\n",
    "    # 材料実質部の空隙・密度・比熱などの情報を提供するクラス\n",
    "    \n",
    "    def __init__( self, name ):\n",
    "        \n",
    "        # 物性名称からインポートすべきモジュール名称を検索する。\n",
    "        moduleName = getModuleName( name )\n",
    "        \n",
    "        # インポートすべきモジュールをインポートする。モジュールが存在しなければエラー。\n",
    "        module = importModule( moduleName )\n",
    "        \n",
    "        if ( 'getCRow' in dir( module ) ):\n",
    "            self.getCRow = module.getCRow\n",
    "        else:\n",
    "            # どちらも存在しない場合は関数を追加しない。\n",
    "            pass\n",
    "        \n",
    "        if ( 'psi' in dir( module ) ):\n",
    "            self.getPsi = module.psi\n",
    "        else:\n",
    "            pass\n",
    "        \n",
    "        if ( 'row' in dir( module ) ):\n",
    "            self.getRow = module.row\n",
    "        else:\n",
    "            pass\n",
    "        \n",
    "        if ( 'C' in dir( module ) ):\n",
    "            self.getC = module.C\n",
    "        else:\n",
    "            pass"
   ]
  },
  {
   "cell_type": "code",
   "execution_count": 12,
   "metadata": {},
   "outputs": [
    {
     "name": "stdout",
     "output_type": "stream",
     "text": [
      "Importing Jupyter notebook from concrete_goran.ipynb\n"
     ]
    }
   ],
   "source": [
    "# 使用例\n",
    "a = Kernel_MaterialProperty('Concrete')"
   ]
  },
  {
   "cell_type": "code",
   "execution_count": 13,
   "metadata": {},
   "outputs": [
    {
     "data": {
      "text/plain": [
       "0.392"
      ]
     },
     "execution_count": 13,
     "metadata": {},
     "output_type": "execute_result"
    }
   ],
   "source": [
    "a.getPsi()"
   ]
  },
  {
   "cell_type": "markdown",
   "metadata": {},
   "source": [
    "### 2.2 材料の水分特性（吸着力）などの情報を取得するクラス"
   ]
  },
  {
   "cell_type": "code",
   "execution_count": 14,
   "metadata": {},
   "outputs": [],
   "source": [
    "class Kernel_Material_WaterAdsorption():\n",
    "    # 材料実質部の空隙・密度・比熱などの情報を提供するクラス\n",
    "    \n",
    "    def __init__( self, name ):\n",
    "        \n",
    "        # 物性名称からインポートすべきモジュール名称を検索する。\n",
    "        moduleName = getModuleName( name )\n",
    "        \n",
    "        # インポートすべきモジュールをインポートする。モジュールが存在しなければエラー。\n",
    "        module = importModule( moduleName )\n",
    "        \n",
    "        if( 'getPhi' in dir( module ) ):\n",
    "            self.getPhi = module.getPhi\n",
    "        else:\n",
    "            pass\n",
    "        \n",
    "        if( 'getDPhi' in dir( module ) ):\n",
    "            self.getDPhi = module.getDPhi\n",
    "        else:\n",
    "            pass\n",
    "\n",
    "        if( 'getMiuByPhi' in dir( module ) ):\n",
    "            self.getMiuByPhi = module.getMiuByPhi\n",
    "        else:\n",
    "            pass"
   ]
  },
  {
   "cell_type": "markdown",
   "metadata": {},
   "source": [
    "### 2.3 材料特性・含水状態からの熱・水分の移動係数を取得・換算するクラス"
   ]
  },
  {
   "cell_type": "markdown",
   "metadata": {},
   "source": [
    "#### 熱物性値  \n",
    "$\\dot q$：単位時間当たりの熱流量の密度[W/m2]  \n",
    "$\\rho_0$：密度[kg/m3]  \n",
    "$c_0$：比熱[J/kg K]  \n",
    "$c_0\\rho_0$：容積熱容量[J/m3 K]  \n",
    "\n",
    "$\\lambda$：熱伝導率[W/mK]  \n",
    "定義：$\\dot q = -\\lambda・grad\\space T$  \n",
    "\n",
    "$R$：熱抵抗[Km2/W]  "
   ]
  },
  {
   "cell_type": "markdown",
   "metadata": {},
   "source": [
    "#### 水分物性値  \n",
    "$\\dot m_v$：単位時間当たりの水蒸気流量の密度[kg/m2 s]  \n",
    "$\\dot m_m$：単位時間当たりの水分流量の密度[kg/m2 s]  \n",
    "$\\phi$：含水率[m3/m3]  \n",
    "他標記として$w$[kg/m3]、$u$[kg/kg]など  \n",
    "$S$：飽和度[-]  "
   ]
  },
  {
   "cell_type": "markdown",
   "metadata": {},
   "source": [
    "#### 気相水分伝導率  \n",
    "$\\delta_p$：透湿率[kg/m Pa s]　文中記号DP  \n",
    "定義：$m_v = -\\delta_p・grad\\space p_v$  \n",
    "\n",
    "$Z_p$：湿気抵抗[m2Pa s/kg]  \n",
    "$\\delta_v$：水蒸気の拡散係数[m2/s]  \n",
    "定義：$\\dot m_v = -\\delta_v・grad\\space \\rho_v$\n",
    "\n",
    "$k_T$：温度勾配水分伝導率[kg/m K s]  \n",
    "定義：$\\dot m_m = -k_T・grad\\space T$  \n",
    "\n",
    "$D_T$：温度勾配水分拡散係数[m2/K s]  \n",
    "定義：$\\dot m_m = -\\rho_0 D_T・grad\\space T$  \n",
    "\n",
    "$\\lambda^{'}_{\\mu g}$：水分化学ポテンシャル勾配に対する気相水分伝導率[kg/ms (J/kg)]  \n",
    "定義：$\\dot m_v = -\\lambda^{'}_{\\mu g}・grad\\space \\mu$\n",
    "\n",
    "$\\lambda^{'}_{Tg}$：温度勾配に対する気相水分伝導率[kg/ms K]  \n",
    "定義：$\\dot m_v = -\\lambda^{'}_{Tg}・grad\\space \\mu$"
   ]
  },
  {
   "cell_type": "markdown",
   "metadata": {},
   "source": [
    "#### 液相水分伝導率  \n",
    "$k_m$：水分伝導率[kg/m Pa s]  \n",
    "定義：$\\dot m_m = -k_m・grad\\space s$\n",
    "\n",
    "$D_w$：水分拡散係数[m2/s]  \n",
    "定義：$\\dot m_m = -\\rho_0 D_w・grad\\space u$  \n",
    "\n",
    "$\\lambda^{'}_{\\mu l}$：水分化学ポテンシャル勾配に対する液相水分伝導率[kg/ms (J/kg)]  \n",
    "定義：$\\dot m_v = -\\lambda^{'}_{\\mu l}・grad\\space \\mu$"
   ]
  },
  {
   "cell_type": "markdown",
   "metadata": {},
   "source": [
    "#### 空気の拡散係数  \n",
    "$k_a$：透気率[m2/Ks]  \n",
    "\n",
    "\n",
    "※新しい基準で物性値を測定した場合、本クラスに書き加えること\n"
   ]
  },
  {
   "cell_type": "markdown",
   "metadata": {},
   "source": [
    "#### 水の気体定数"
   ]
  },
  {
   "cell_type": "code",
   "execution_count": 5,
   "metadata": {},
   "outputs": [],
   "source": [
    "def Rv():\n",
    "    return 8316.0/18.016"
   ]
  },
  {
   "cell_type": "markdown",
   "metadata": {},
   "source": [
    "#### 水の密度"
   ]
  },
  {
   "cell_type": "code",
   "execution_count": 6,
   "metadata": {},
   "outputs": [],
   "source": [
    "def roww():\n",
    "    return 1000.0"
   ]
  },
  {
   "cell_type": "markdown",
   "metadata": {},
   "source": [
    "#### 重力加速度"
   ]
  },
  {
   "cell_type": "code",
   "execution_count": null,
   "metadata": {},
   "outputs": [],
   "source": [
    "def grav():\n",
    "    return 9.806650"
   ]
  },
  {
   "cell_type": "markdown",
   "metadata": {},
   "source": [
    "$C_r$：水の比熱(specific heat of water)[J/(kg・K)]"
   ]
  },
  {
   "cell_type": "code",
   "execution_count": 7,
   "metadata": {},
   "outputs": [],
   "source": [
    "def Cr():\n",
    "    return 4.18605E+3"
   ]
  },
  {
   "cell_type": "markdown",
   "metadata": {},
   "source": [
    "#### 水蒸気圧を水分化学ポテンシャルで偏微分したもの  $\\frac{\\partial P_v}{\\partial \\mu}$"
   ]
  },
  {
   "cell_type": "code",
   "execution_count": 8,
   "metadata": {},
   "outputs": [],
   "source": [
    "def getDPDM( temp, miu ):\n",
    "    return vp.Pvs( temp ) * np.exp( miu / Rv() / temp ) / Rv() / temp"
   ]
  },
  {
   "cell_type": "markdown",
   "metadata": {},
   "source": [
    "#### 水蒸気圧を温度で偏微分したもの  $\\frac{\\partial P_v}{\\partial T}$"
   ]
  },
  {
   "cell_type": "code",
   "execution_count": 9,
   "metadata": {},
   "outputs": [],
   "source": [
    "def getDPDT( temp, miu ):\n",
    "    return np.exp( miu / Rv() / temp ) * ( vp.DPvs( temp ) - vp.Pvs( temp ) * miu / Rv() / ( temp**2 ) )"
   ]
  },
  {
   "cell_type": "markdown",
   "metadata": {},
   "source": [
    "#### 材料の実質部の熱容量に液水の熱容量を加える関数"
   ]
  },
  {
   "cell_type": "code",
   "execution_count": 10,
   "metadata": {},
   "outputs": [],
   "source": [
    "def getCRow_addWater( crow, phi ):\n",
    "    return crow + Cr() * roww() * phi"
   ]
  },
  {
   "cell_type": "code",
   "execution_count": 15,
   "metadata": {},
   "outputs": [],
   "source": [
    "class Kernel_TransferCoefficient():\n",
    "    # このクラスは Material そのものを表すのではなくて、あくまで CROW 等の物性を計算するアルゴリズムを提供するだけなので、\n",
    "    # 名前に Kernel とつけました。\n",
    "    \n",
    "    def __init__( self, name ):\n",
    "        \n",
    "        # 物性名称からインポートすべきモジュール名称を検索する。\n",
    "        moduleName = getModuleName( name )\n",
    "        \n",
    "        # インポートすべきモジュールをインポートする。モジュールが存在しなければエラー。\n",
    "        module = importModule( moduleName )\n",
    "        \n",
    "        # 熱伝導率（固体実質部）\n",
    "        if( 'getLAM' in dir( module ) ):\n",
    "            self.getLAM = module.getLAM\n",
    "        else:\n",
    "            pass\n",
    "\n",
    "        # 液相水分伝導率\n",
    "        if( 'getDw' in dir( module ) ):\n",
    "            self.getDw = module.getDw\n",
    "        else:\n",
    "            pass\n",
    "\n",
    "        if( 'getLDML' in dir(module) ):\n",
    "            self.getLDML = module.getLDML\n",
    "        elif( 'getDw' in dir( module ) ):\n",
    "            # 本クラスに Dw を計算する式が存在すれば、LDML の計算を Dw を用いて行う。\n",
    "            # getDwByRH が定義されていれば、getDwByMiu も定義されていれはずなので、ここでは getDwByMiu 関数のみ検索する。\n",
    "            self.getLDML = lambda c : roww() / grav() * self.getDw( c )\n",
    "        else:\n",
    "            pass        \n",
    "        \n",
    "        # 気相水分伝導率\n",
    "        if( 'getDP' in dir( module ) ):\n",
    "            self.getDP = module.getDP\n",
    "        elif( 'getLDMG' in dir( module ) and 'getLDTG' in dir(module) ):\n",
    "            self.getDP = lambda c : ( self.getLDMG( c ) / getDPDM( c.temp, c.miu )  +  self.getLDTG( c ) / getDPDT( c.temp, c.miu ) ) / 2.0\n",
    "        else:\n",
    "            pass\n",
    "        \n",
    "        if( 'getLDMG' in dir( module ) ):\n",
    "            self.getLDMG = module.getLDMG\n",
    "        elif( 'getDP' in dir( module ) ):\n",
    "            # 本クラスに DP を計算する式が存在すれば、LDMG の計算を DP を用いて行う。\n",
    "            # getDPByRH が定義されていれば、getDPByMiu も定義されていれはずなので、ここでは getDPByMiu 関数のみ検索する。\n",
    "            self.getLDMG = lambda c : getDPDM( c.temp, c.miu ) * self.getDP( c )\n",
    "        else:\n",
    "            pass\n",
    "        \n",
    "        if( 'getLDTG' in dir(module) ):\n",
    "            self.getLDTG = module.getLDTG\n",
    "        elif( 'getDP' in dir( module ) ):\n",
    "            # 本クラスに DP を計算する式が存在すれば、LDTG の計算を DP を用いて行う。\n",
    "            # getDPByRH が定義されていれば、getDPByMiu も定義されていれはずなので、ここでは getDPByMiu 関数のみ検索する。\n",
    "            self.getLDTG = lambda c : getDPDT( c.temp, c.miu ) * self.getDP( c )\n",
    "        else:\n",
    "            pass\n"
   ]
  },
  {
   "cell_type": "markdown",
   "metadata": {},
   "source": [
    "## 使用例"
   ]
  },
  {
   "cell_type": "code",
   "execution_count": 16,
   "metadata": {},
   "outputs": [],
   "source": [
    "# 使用例\n",
    "material_prop = Kernel_MaterialProperty('Concrete')\n",
    "water_prop = Kernel_Material_WaterAdsorption('Concrete')\n",
    "trans_coeff = Kernel_TransferCoefficient('Concrete')"
   ]
  },
  {
   "cell_type": "code",
   "execution_count": 17,
   "metadata": {},
   "outputs": [],
   "source": [
    "import liquid_water\n",
    "import vapour_pressure as vp\n",
    "c = liquid_water.MiuBasedWater( temp = 293.15, miu = -10.0 )\n",
    "c.set_material(material_name = 'Concrete')"
   ]
  },
  {
   "cell_type": "code",
   "execution_count": 18,
   "metadata": {},
   "outputs": [
    {
     "data": {
      "text/plain": [
       "2533520.0"
      ]
     },
     "execution_count": 18,
     "metadata": {},
     "output_type": "execute_result"
    }
   ],
   "source": [
    "material_prop.getCRow()"
   ]
  },
  {
   "cell_type": "code",
   "execution_count": 19,
   "metadata": {},
   "outputs": [
    {
     "data": {
      "text/plain": [
       "0.155014590963049"
      ]
     },
     "execution_count": 19,
     "metadata": {},
     "output_type": "execute_result"
    }
   ],
   "source": [
    "water_prop.getPhi( c )"
   ]
  },
  {
   "cell_type": "code",
   "execution_count": 20,
   "metadata": {},
   "outputs": [
    {
     "data": {
      "text/plain": [
       "8.845623961863231e-10"
      ]
     },
     "execution_count": 20,
     "metadata": {},
     "output_type": "execute_result"
    }
   ],
   "source": [
    "trans_coeff.getLDML( c )"
   ]
  },
  {
   "cell_type": "code",
   "execution_count": 21,
   "metadata": {},
   "outputs": [
    {
     "data": {
      "text/plain": [
       "3.9191568164576734e-14"
      ]
     },
     "execution_count": 21,
     "metadata": {},
     "output_type": "execute_result"
    }
   ],
   "source": [
    "trans_coeff .getLDTG( c )"
   ]
  },
  {
   "cell_type": "code",
   "execution_count": 22,
   "metadata": {},
   "outputs": [
    {
     "data": {
      "text/plain": [
       "4.675339581854365e-18"
      ]
     },
     "execution_count": 22,
     "metadata": {},
     "output_type": "execute_result"
    }
   ],
   "source": [
    "trans_coeff .getLDMG( c )"
   ]
  },
  {
   "cell_type": "code",
   "execution_count": 23,
   "metadata": {},
   "outputs": [
    {
     "data": {
      "text/plain": [
       "2.7053443725309775e-16"
      ]
     },
     "execution_count": 23,
     "metadata": {},
     "output_type": "execute_result"
    }
   ],
   "source": [
    "trans_coeff .getDP( c )"
   ]
  },
  {
   "cell_type": "code",
   "execution_count": null,
   "metadata": {},
   "outputs": [],
   "source": []
  }
 ],
 "metadata": {
  "kernelspec": {
   "display_name": "Python 3",
   "language": "python",
   "name": "python3"
  },
  "language_info": {
   "codemirror_mode": {
    "name": "ipython",
    "version": 3
   },
   "file_extension": ".py",
   "mimetype": "text/x-python",
   "name": "python",
   "nbconvert_exporter": "python",
   "pygments_lexer": "ipython3",
   "version": "3.6.4"
  }
 },
 "nbformat": 4,
 "nbformat_minor": 2
}
