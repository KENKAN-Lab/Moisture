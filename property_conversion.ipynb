{
 "cells": [
  {
   "cell_type": "code",
   "execution_count": 1,
   "metadata": {},
   "outputs": [
    {
     "name": "stdout",
     "output_type": "stream",
     "text": [
      "Importing Jupyter notebook from vapour_pressure.ipynb\n"
     ]
    }
   ],
   "source": [
    "import numpy as np\n",
    "import importlib\n",
    "import nbimporter\n",
    "\n",
    "import vapour_pressure as vp"
   ]
  },
  {
   "cell_type": "markdown",
   "metadata": {},
   "source": [
    "### 物性値を取得するクラス  \n",
    "各物性値ファイルに存在する物性値を元の形式のまま取得してくるクラス。  \n",
    "\n",
    "#### 実験から熱水分物性値として考えられるもの  \n",
    "【参考】建築材料の熱・空気・湿気物性値，日本建築学会，丸善株式会社，2001など\n",
    "\n",
    "#### 熱物性値  \n",
    "$\\dot q$：単位時間当たりの熱流量の密度[W/m2]  \n",
    "$\\rho_0$：密度[kg/m3]  \n",
    "$c_0$：比熱[J/kg K]  \n",
    "$c_0\\rho_0$：容積熱容量[J/m3 K]  \n",
    "\n",
    "$\\lambda$：熱伝導率[W/mK]  \n",
    "定義：$\\dot q = -\\lambda・grad\\space T$  \n",
    "\n",
    "$R$：熱抵抗[Km2/W]  \n",
    "\n",
    "#### 水分物性値  \n",
    "$\\dot m_v$：単位時間当たりの水蒸気流量の密度[kg/m2 s]  \n",
    "$\\dot m_m$：単位時間当たりの水分流量の密度[kg/m2 s]  \n",
    "$\\phi$：含水率[m3/m3]  \n",
    "他標記として$w$[kg/m3]、$u$[kg/kg]など  \n",
    "$S$：飽和度[-]  \n",
    "#### 気相水分伝導率  \n",
    "$\\delta_p$：透湿率[kg/m Pa s]　文中記号DP  \n",
    "定義：$m_v = -\\delta_p・grad\\space p_v$  \n",
    "\n",
    "$Z_p$：湿気抵抗[m2Pa s/kg]  \n",
    "$\\delta_v$：水蒸気の拡散係数[m2/s]  \n",
    "定義：$\\dot m_v = -\\delta_v・grad\\space \\rho_v$\n",
    "\n",
    "$k_T$：温度勾配水分伝導率[kg/m K s]  \n",
    "定義：$\\dot m_m = -k_T・grad\\space T$  \n",
    "\n",
    "$D_T$：温度勾配水分拡散係数[m2/K s]  \n",
    "定義：$\\dot m_m = -\\rho_0 D_T・grad\\space T$  \n",
    "\n",
    "$\\lambda^{'}_{\\mu g}$：水分化学ポテンシャル勾配に対する気相水分伝導率[kg/ms (J/kg)]  \n",
    "定義：$\\dot m_v = -\\lambda^{'}_{\\mu g}・grad\\space \\mu$\n",
    "\n",
    "$\\lambda^{'}_{Tg}$：温度勾配に対する気相水分伝導率[kg/ms K]  \n",
    "定義：$\\dot m_v = -\\lambda^{'}_{Tg}・grad\\space \\mu$\n",
    "\n",
    "#### 液相水分伝導率  \n",
    "$k_m$：水分伝導率[kg/m Pa s]  \n",
    "定義：$\\dot m_m = -k_m・grad\\space s$\n",
    "\n",
    "$D_w$：水分拡散係数[m2/s]  \n",
    "定義：$\\dot m_m = -\\rho_0 D_w・grad\\space u$  \n",
    "\n",
    "$\\lambda^{'}_{\\mu l}$：水分化学ポテンシャル勾配に対する液相水分伝導率[kg/ms (J/kg)]  \n",
    "定義：$\\dot m_v = -\\lambda^{'}_{\\mu l}・grad\\space \\mu$\n",
    "\n",
    "#### 空気の拡散係数  \n",
    "$k_a$：透気率[m2/Ks]  \n",
    "\n",
    "\n",
    "※新しい基準で物性値を測定した場合、本クラスに書き加えること\n"
   ]
  },
  {
   "cell_type": "markdown",
   "metadata": {},
   "source": [
    "### 取得した物性値を流量計算に適した形に換算するクラス"
   ]
  },
  {
   "cell_type": "markdown",
   "metadata": {},
   "source": [
    "#### 物性名からインポートすべきモジュール名を検索する"
   ]
  },
  {
   "cell_type": "code",
   "execution_count": 2,
   "metadata": {},
   "outputs": [],
   "source": [
    "def getModuleName( name ):\n",
    "    try:\n",
    "        return {\n",
    "            'BentheimerSandstone': 'bentheimer_sandstone',        \n",
    "        }[name]\n",
    "    except:\n",
    "        raise ValueError('物性リストに登録されていない物性名が指定されました。')    "
   ]
  },
  {
   "cell_type": "markdown",
   "metadata": {},
   "source": [
    "#### インポートすべきモジュール名をもとに物性値計算を定義した外部ファイルをインポートする"
   ]
  },
  {
   "cell_type": "code",
   "execution_count": 3,
   "metadata": {},
   "outputs": [],
   "source": [
    "def importModule( moduleName ):\n",
    "    try:\n",
    "        return importlib.import_module( moduleName )\n",
    "    except:\n",
    "        raise ImportError('物性リストに登録されている外部モジュールが見つかりません。')"
   ]
  },
  {
   "cell_type": "markdown",
   "metadata": {},
   "source": [
    "#### 水の気体定数"
   ]
  },
  {
   "cell_type": "code",
   "execution_count": 4,
   "metadata": {},
   "outputs": [],
   "source": [
    "def Rv():\n",
    "    return 8316.0/18.016"
   ]
  },
  {
   "cell_type": "markdown",
   "metadata": {},
   "source": [
    "#### 水の密度"
   ]
  },
  {
   "cell_type": "code",
   "execution_count": 5,
   "metadata": {},
   "outputs": [],
   "source": [
    "def row():\n",
    "    return 1000.0"
   ]
  },
  {
   "cell_type": "markdown",
   "metadata": {},
   "source": [
    "#### 重力加速度"
   ]
  },
  {
   "cell_type": "code",
   "execution_count": 6,
   "metadata": {},
   "outputs": [],
   "source": [
    "def grav():\n",
    "    return 9.806650"
   ]
  },
  {
   "cell_type": "code",
   "execution_count": 7,
   "metadata": {},
   "outputs": [],
   "source": [
    "def getDPDM( temp, miu ):\n",
    "    return vp.Pvs( temp ) * np.exp( miu / Rv() / temp ) / Rv() / temp"
   ]
  },
  {
   "cell_type": "code",
   "execution_count": 8,
   "metadata": {},
   "outputs": [],
   "source": [
    "def getDPDT( temp, miu ):\n",
    "    return np.exp( miu / Rv() / temp ) * ( vp.DPvs( temp ) - vp.Pvs( temp ) * miu / Rv() / ( temp**2 ) )"
   ]
  },
  {
   "cell_type": "code",
   "execution_count": 9,
   "metadata": {},
   "outputs": [],
   "source": [
    "class MaterialKernel():\n",
    "    # このクラスは Material そのものを表すのではなくて、あくまで CROW 等の物性を計算するアルゴリズムを提供するだけなので、\n",
    "    # 名前に Kernel とつけました。\n",
    "    \n",
    "    def __init__( self, name ):\n",
    "        \n",
    "        # 物性名称からインポートすべきモジュール名称を検索する。\n",
    "        moduleName = getModuleName( name )\n",
    "        \n",
    "        # インポートすべきモジュールをインポートする。モジュールが存在しなければエラー。\n",
    "        module = importModule( moduleName )\n",
    "        \n",
    "        if ( 'getCRow' in dir( module ) ):\n",
    "            self.getCRow = module.getCRow\n",
    "        else:\n",
    "            # どちらも存在しない場合は関数を追加しない。\n",
    "            pass\n",
    "        # 以下、同じ。\n",
    "        \n",
    "        if( 'getLAM' in dir( module ) ):\n",
    "            self.getLAM = module.getLAM\n",
    "        else:\n",
    "            pass\n",
    "\n",
    "        if( 'getPhi' in dir( module ) ):\n",
    "            self.getPhi = module.getPhi\n",
    "        else:\n",
    "            pass\n",
    "\n",
    "        if( 'getDw' in dir( module ) ):\n",
    "            self.getDw = module.getDw\n",
    "        else:\n",
    "            pass\n",
    "\n",
    "        if( 'getDP' in dir( module ) ):\n",
    "            self.getDP = module.getDP\n",
    "        else:\n",
    "            pass\n",
    "\n",
    "        if( 'getDPhi' in dir( module ) ):\n",
    "            self.getDPhi = module.getDPhi\n",
    "        else:\n",
    "            pass\n",
    "\n",
    "        if( 'getMiuByPhi' in dir( module ) ):\n",
    "            self.getMiuByPhi = module.getMiuByPhi\n",
    "        else:\n",
    "            pass\n",
    "        \n",
    "        if( 'getLDMG' in dir( module ) ):\n",
    "            self.getLDMG = module.getLDMG\n",
    "        elif( 'getDP' in dir( module ) ):\n",
    "            # 本クラスに DP を計算する式が存在すれば、LDMG の計算を DP を用いて行う。\n",
    "            # getDPByRH が定義されていれば、getDPByMiu も定義されていれはずなので、ここでは getDPByMiu 関数のみ検索する。\n",
    "            self.getLDMG = lambda c : getDPDM( c.temp, c.miu ) * self.getDP( c )\n",
    "        else:\n",
    "            pass\n",
    "        \n",
    "        if( 'getLDTG' in dir(module) ):\n",
    "            self.getLDTG = module.getLDTG\n",
    "        elif( 'getDP' in dir( module ) ):\n",
    "            # 本クラスに DP を計算する式が存在すれば、LDTG の計算を DP を用いて行う。\n",
    "            # getDPByRH が定義されていれば、getDPByMiu も定義されていれはずなので、ここでは getDPByMiu 関数のみ検索する。\n",
    "            self.getLDTG = lambda c : getDPDT( c.temp, c.miu ) * self.getDP( c )\n",
    "        else:\n",
    "            pass\n",
    "\n",
    "        if( 'getLDML' in dir(module) ):\n",
    "            self.getLDML = module.getLDML\n",
    "        elif( 'getDw' in dir( module ) ):\n",
    "            # 本クラスに Dw を計算する式が存在すれば、LDML の計算を Dw を用いて行う。\n",
    "            # getDwByRH が定義されていれば、getDwByMiu も定義されていれはずなので、ここでは getDwByMiu 関数のみ検索する。\n",
    "            self.getLDML = lambda c : row() / grav() * self.getDw( c )\n",
    "        else:\n",
    "            pass        "
   ]
  },
  {
   "cell_type": "code",
   "execution_count": 10,
   "metadata": {},
   "outputs": [
    {
     "name": "stdout",
     "output_type": "stream",
     "text": [
      "Importing Jupyter notebook from bentheimer_sandstone.ipynb\n",
      "Importing Jupyter notebook from van_genuchten.ipynb\n"
     ]
    }
   ],
   "source": [
    "m = MaterialKernel('BentheimerSandstone')"
   ]
  },
  {
   "cell_type": "code",
   "execution_count": 11,
   "metadata": {},
   "outputs": [],
   "source": [
    "# 無くても良い（他のモデュールに実装されている）\n",
    "class HydrothermalInfo():\n",
    "    def temp( self, initial = 0.0 ):\n",
    "        self.temp = initial \n",
    "    def RH( self, initial = 0.0 ):\n",
    "        self.rh = initial  \n",
    "    def miu( self, initial = 0.0 ):\n",
    "        self.miu = initial  \n",
    "    def pv( self, initial = 0.0 ):\n",
    "        self.pv = initial \n",
    "    def phi( self, initial = 0.0 ):\n",
    "        self.phi = initial "
   ]
  },
  {
   "cell_type": "code",
   "execution_count": 12,
   "metadata": {},
   "outputs": [],
   "source": [
    "c = HydrothermalInfo()\n",
    "c.temp( 293.15 ) \n",
    "c.miu( -10.0 ) \n",
    "c.phi( 0.22 )"
   ]
  },
  {
   "cell_type": "code",
   "execution_count": 13,
   "metadata": {},
   "outputs": [
    {
     "data": {
      "text/plain": [
       "0.16098357394272111"
      ]
     },
     "execution_count": 13,
     "metadata": {},
     "output_type": "execute_result"
    }
   ],
   "source": [
    "m.getPhi( c )"
   ]
  },
  {
   "cell_type": "code",
   "execution_count": 14,
   "metadata": {},
   "outputs": [
    {
     "data": {
      "text/plain": [
       "1.3935469734779378e-06"
      ]
     },
     "execution_count": 14,
     "metadata": {},
     "output_type": "execute_result"
    }
   ],
   "source": [
    "m.getLDML( c )"
   ]
  },
  {
   "cell_type": "code",
   "execution_count": null,
   "metadata": {},
   "outputs": [],
   "source": []
  }
 ],
 "metadata": {
  "kernelspec": {
   "display_name": "Python 3",
   "language": "python",
   "name": "python3"
  },
  "language_info": {
   "codemirror_mode": {
    "name": "ipython",
    "version": 3
   },
   "file_extension": ".py",
   "mimetype": "text/x-python",
   "name": "python",
   "nbconvert_exporter": "python",
   "pygments_lexer": "ipython3",
   "version": "3.6.5"
  }
 },
 "nbformat": 4,
 "nbformat_minor": 2
}
