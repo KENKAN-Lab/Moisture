{
 "cells": [
  {
   "cell_type": "code",
   "execution_count": 63,
   "metadata": {},
   "outputs": [],
   "source": [
    "import pandas as pd"
   ]
  },
  {
   "cell_type": "markdown",
   "metadata": {},
   "source": [
    "# データの入出力に関する使い方  "
   ]
  },
  {
   "cell_type": "markdown",
   "metadata": {},
   "source": [
    "## 本モジュールの趣旨  \n",
    "\n",
    "本モジュールにはデータの入出力に関する例や便利な関数を示す。  \n",
    "このモジュールを使うことを特に推奨するわけではないが、私のメモとしての意味合いも含め残しておく。  \n",
    "csvファイルの入出力に関しては、pythonの標準リスト、numpy、pandasそれぞれを使った方法があるだろう。  \n",
    "ただし計算上ではpandasを使うことはないため、出力時は少なくともpandasを使わない方が良いと考えられる。  \n",
    "ここではデータの扱いに関しては入力時と出力時で用いるモジュールを以下のように分離した。  \n",
    "特に\n",
    "\n",
    "- データを入力する際にはpandas  \n",
    "- データを出力する際には計算時間ごとにwriteを用いてcsvに書き出す  \n",
    "- もしくはデータをpandasに保持した後、まとめてcsvに書き出す\n",
    "\n",
    "ことが便利であろう。"
   ]
  },
  {
   "cell_type": "markdown",
   "metadata": {},
   "source": [
    "## 0. まとめ  \n",
    "\n",
    "以下の1章、2章ではpandasの使い方やcsvモジュールの使用例および私の勉強例をまとめた。  \n",
    "しかし非常に雑多な使用例となったため、ここに実計算で使うと思われる方法を簡単にまとめる。"
   ]
  },
  {
   "cell_type": "markdown",
   "metadata": {},
   "source": [
    "### 0.1 pandasによるデータの読み込み方法"
   ]
  },
  {
   "cell_type": "markdown",
   "metadata": {},
   "source": [
    "inputファイル中にあるsample.csvファイルを読み込む。  \n",
    "行および列の見出しがある場合、列はindex_col、行はheaderを指定する。（見出しがない場合、index_col = -1,  header = -1）とする。  \n",
    "なおファイル中に日本語がある場合、encodingをして日本語に対応させておく。"
   ]
  },
  {
   "cell_type": "code",
   "execution_count": 64,
   "metadata": {},
   "outputs": [],
   "source": [
    "df = pd.read_csv( 'input_data/sample.csv', encoding = 'SHIFT-JIS' , index_col = 0,  header = 1 )"
   ]
  },
  {
   "cell_type": "markdown",
   "metadata": {},
   "source": [
    "インポートしたデータが行ごとにデータ化する場合は以下の関数を用いることで辞書型に変更できる。  \n",
    "file_name：importしたデータをまとめた変数名（辞書型）  \n",
    "df：importしたデータのDataFrame名"
   ]
  },
  {
   "cell_type": "code",
   "execution_count": 65,
   "metadata": {},
   "outputs": [],
   "source": [
    "def convert_import_data( file_name, df ):\n",
    "    for name in df.columns:\n",
    "        file_name[name] = df[name].values.tolist()\n",
    "    return "
   ]
  },
  {
   "cell_type": "markdown",
   "metadata": {},
   "source": [
    "#### 使用例  "
   ]
  },
  {
   "cell_type": "code",
   "execution_count": 66,
   "metadata": {},
   "outputs": [
    {
     "name": "stdout",
     "output_type": "stream",
     "text": [
      "length [1.0, 0.001, 0.001, 0.001, 0.001, 0.001, 0.005, 0.005, 0.005, 0.005, 0.005]\n",
      "temp [20.5, 20.5, 20.5, 20.5, 20.5, 20.5, 10.0, 10.0, 10.0, 10.0, 10.0]\n"
     ]
    }
   ],
   "source": [
    "import_file = {}\n",
    "convert_import_data( import_file, df )\n",
    "print( 'length', import_file['length'] ) \n",
    "print( 'temp', import_file['temp'] ) "
   ]
  },
  {
   "cell_type": "markdown",
   "metadata": {},
   "source": [
    "### 0.2 csvモジュールによるデータの書き出し方法"
   ]
  },
  {
   "cell_type": "markdown",
   "metadata": {},
   "source": [
    "csvモジュールを用いたデータの書き出し例を以下に示す。  \n",
    "基本はリスト型のデータを書き出すことになる。  \n",
    "ファイルをどの形式で開くか（mode）については留意したい。（2.1節参照）\n",
    "基本 mode = 'a'としておけば追記形式で書いていける。"
   ]
  },
  {
   "cell_type": "code",
   "execution_count": 67,
   "metadata": {},
   "outputs": [],
   "source": [
    "# ファイルの初期化\n",
    "f = open('output_data/test.csv', mode = 'w', newline = '' )\n",
    "# ファイルを追記形式'a'でOPEN\n",
    "f = open('output_data/test.csv', mode = 'a', newline = '' )\n",
    "csvwriter = csv.writer(f)\n",
    "\n",
    "# 各計算結果の表題をつける\n",
    "title = [ 'T(' + str(i) + ')' for i in range (10)]\n",
    "title.insert(0, 'time') \n",
    "csvwriter.writerow(title)\n",
    "\n",
    "# 計算 + データの書き込み\n",
    "for i in range(20):\n",
    "    temp = [ 293.15 + i + j for j in range(10) ]\n",
    "    temp.insert(0, i)\n",
    "    csvwriter.writerow(temp)\n",
    "\n",
    "f.close()"
   ]
  },
  {
   "cell_type": "markdown",
   "metadata": {},
   "source": [
    "なおpandasで書き込む場合は以下のようになる。  \n",
    "（比較のため追記形式で書いた）"
   ]
  },
  {
   "cell_type": "code",
   "execution_count": 68,
   "metadata": {},
   "outputs": [],
   "source": [
    "df = pd.read_csv( 'output_data/test.csv', encoding = 'SHIFT-JIS' , index_col = 0,  header = 0 )\n",
    "df.to_csv('output_data/test.csv', mode = 'a')"
   ]
  },
  {
   "cell_type": "markdown",
   "metadata": {},
   "source": [
    "## 1. データの読み込み  "
   ]
  },
  {
   "cell_type": "markdown",
   "metadata": {},
   "source": [
    "### 1.1 ファイルのopenとpandasのDataFrameへの格納  \n",
    "まずはcsvファイルのopen方法について記す。  \n",
    "ここではsampleファイルとして、壁体の構成を示したcsvファイルをpandasのDataFrameを用いて開いてみる。  \n",
    "csvファイルを開く場合、read_csvコマンドを用い、csvファイルの保管されている場所を示す。  \n",
    "また日本語が含まれている場合encordする必要があるため、encoding = 'SHIFT-JIS'と書いておくと良い。 \n",
    "\n",
    "参考：pandasでcsv/tsvファイル読み込み（read_csv, read_table）　https://note.nkmk.me/python-pandas-read-csv-tsv/"
   ]
  },
  {
   "cell_type": "code",
   "execution_count": 2,
   "metadata": {},
   "outputs": [],
   "source": [
    "df = pd.read_csv( 'input_data/sample.csv', encoding = 'SHIFT-JIS' )"
   ]
  },
  {
   "cell_type": "code",
   "execution_count": 3,
   "metadata": {},
   "outputs": [
    {
     "data": {
      "text/html": [
       "<div>\n",
       "<style scoped>\n",
       "    .dataframe tbody tr th:only-of-type {\n",
       "        vertical-align: middle;\n",
       "    }\n",
       "\n",
       "    .dataframe tbody tr th {\n",
       "        vertical-align: top;\n",
       "    }\n",
       "\n",
       "    .dataframe thead th {\n",
       "        text-align: right;\n",
       "    }\n",
       "</style>\n",
       "<table border=\"1\" class=\"dataframe\">\n",
       "  <thead>\n",
       "    <tr style=\"text-align: right;\">\n",
       "      <th></th>\n",
       "      <th>壁体の構成</th>\n",
       "      <th>Unnamed: 1</th>\n",
       "      <th>Unnamed: 2</th>\n",
       "    </tr>\n",
       "  </thead>\n",
       "  <tbody>\n",
       "    <tr>\n",
       "      <th>0</th>\n",
       "      <td>NaN</td>\n",
       "      <td>length</td>\n",
       "      <td>temp</td>\n",
       "    </tr>\n",
       "    <tr>\n",
       "      <th>1</th>\n",
       "      <td>P(0)</td>\n",
       "      <td>1</td>\n",
       "      <td>20.5</td>\n",
       "    </tr>\n",
       "    <tr>\n",
       "      <th>2</th>\n",
       "      <td>P(1)</td>\n",
       "      <td>0.001</td>\n",
       "      <td>20.5</td>\n",
       "    </tr>\n",
       "    <tr>\n",
       "      <th>3</th>\n",
       "      <td>P(2)</td>\n",
       "      <td>0.001</td>\n",
       "      <td>20.5</td>\n",
       "    </tr>\n",
       "    <tr>\n",
       "      <th>4</th>\n",
       "      <td>P(3)</td>\n",
       "      <td>0.001</td>\n",
       "      <td>20.5</td>\n",
       "    </tr>\n",
       "    <tr>\n",
       "      <th>5</th>\n",
       "      <td>P(4)</td>\n",
       "      <td>0.001</td>\n",
       "      <td>20.5</td>\n",
       "    </tr>\n",
       "    <tr>\n",
       "      <th>6</th>\n",
       "      <td>P(5)</td>\n",
       "      <td>0.001</td>\n",
       "      <td>20.5</td>\n",
       "    </tr>\n",
       "    <tr>\n",
       "      <th>7</th>\n",
       "      <td>P(6)</td>\n",
       "      <td>0.005</td>\n",
       "      <td>10</td>\n",
       "    </tr>\n",
       "    <tr>\n",
       "      <th>8</th>\n",
       "      <td>P(7)</td>\n",
       "      <td>0.005</td>\n",
       "      <td>10</td>\n",
       "    </tr>\n",
       "    <tr>\n",
       "      <th>9</th>\n",
       "      <td>P(8)</td>\n",
       "      <td>0.005</td>\n",
       "      <td>10</td>\n",
       "    </tr>\n",
       "    <tr>\n",
       "      <th>10</th>\n",
       "      <td>P(9)</td>\n",
       "      <td>0.005</td>\n",
       "      <td>10</td>\n",
       "    </tr>\n",
       "    <tr>\n",
       "      <th>11</th>\n",
       "      <td>P(10)</td>\n",
       "      <td>0.005</td>\n",
       "      <td>10</td>\n",
       "    </tr>\n",
       "  </tbody>\n",
       "</table>\n",
       "</div>"
      ],
      "text/plain": [
       "    壁体の構成 Unnamed: 1 Unnamed: 2\n",
       "0     NaN     length       temp\n",
       "1    P(0)          1       20.5\n",
       "2    P(1)      0.001       20.5\n",
       "3    P(2)      0.001       20.5\n",
       "4    P(3)      0.001       20.5\n",
       "5    P(4)      0.001       20.5\n",
       "6    P(5)      0.001       20.5\n",
       "7    P(6)      0.005         10\n",
       "8    P(7)      0.005         10\n",
       "9    P(8)      0.005         10\n",
       "10   P(9)      0.005         10\n",
       "11  P(10)      0.005         10"
      ]
     },
     "execution_count": 3,
     "metadata": {},
     "output_type": "execute_result"
    }
   ],
   "source": [
    "df"
   ]
  },
  {
   "cell_type": "markdown",
   "metadata": {},
   "source": [
    "ファイルを単に開いただけの場合、行(row)と列(column)が上手く整理できておらずこのままだと使用しづらい。  \n",
    "そのため、index（見出し）が列(column)にある場合はindex_col = '列番号'を指定し書くとindexが作成される。  "
   ]
  },
  {
   "cell_type": "code",
   "execution_count": 4,
   "metadata": {},
   "outputs": [],
   "source": [
    "df = pd.read_csv( 'input_data/sample.csv', encoding = 'SHIFT-JIS' , index_col=0 )"
   ]
  },
  {
   "cell_type": "code",
   "execution_count": 5,
   "metadata": {},
   "outputs": [
    {
     "data": {
      "text/html": [
       "<div>\n",
       "<style scoped>\n",
       "    .dataframe tbody tr th:only-of-type {\n",
       "        vertical-align: middle;\n",
       "    }\n",
       "\n",
       "    .dataframe tbody tr th {\n",
       "        vertical-align: top;\n",
       "    }\n",
       "\n",
       "    .dataframe thead th {\n",
       "        text-align: right;\n",
       "    }\n",
       "</style>\n",
       "<table border=\"1\" class=\"dataframe\">\n",
       "  <thead>\n",
       "    <tr style=\"text-align: right;\">\n",
       "      <th></th>\n",
       "      <th>Unnamed: 1</th>\n",
       "      <th>Unnamed: 2</th>\n",
       "    </tr>\n",
       "    <tr>\n",
       "      <th>壁体の構成</th>\n",
       "      <th></th>\n",
       "      <th></th>\n",
       "    </tr>\n",
       "  </thead>\n",
       "  <tbody>\n",
       "    <tr>\n",
       "      <th>NaN</th>\n",
       "      <td>length</td>\n",
       "      <td>temp</td>\n",
       "    </tr>\n",
       "    <tr>\n",
       "      <th>P(0)</th>\n",
       "      <td>1</td>\n",
       "      <td>20.5</td>\n",
       "    </tr>\n",
       "    <tr>\n",
       "      <th>P(1)</th>\n",
       "      <td>0.001</td>\n",
       "      <td>20.5</td>\n",
       "    </tr>\n",
       "    <tr>\n",
       "      <th>P(2)</th>\n",
       "      <td>0.001</td>\n",
       "      <td>20.5</td>\n",
       "    </tr>\n",
       "    <tr>\n",
       "      <th>P(3)</th>\n",
       "      <td>0.001</td>\n",
       "      <td>20.5</td>\n",
       "    </tr>\n",
       "    <tr>\n",
       "      <th>P(4)</th>\n",
       "      <td>0.001</td>\n",
       "      <td>20.5</td>\n",
       "    </tr>\n",
       "    <tr>\n",
       "      <th>P(5)</th>\n",
       "      <td>0.001</td>\n",
       "      <td>20.5</td>\n",
       "    </tr>\n",
       "    <tr>\n",
       "      <th>P(6)</th>\n",
       "      <td>0.005</td>\n",
       "      <td>10</td>\n",
       "    </tr>\n",
       "    <tr>\n",
       "      <th>P(7)</th>\n",
       "      <td>0.005</td>\n",
       "      <td>10</td>\n",
       "    </tr>\n",
       "    <tr>\n",
       "      <th>P(8)</th>\n",
       "      <td>0.005</td>\n",
       "      <td>10</td>\n",
       "    </tr>\n",
       "    <tr>\n",
       "      <th>P(9)</th>\n",
       "      <td>0.005</td>\n",
       "      <td>10</td>\n",
       "    </tr>\n",
       "    <tr>\n",
       "      <th>P(10)</th>\n",
       "      <td>0.005</td>\n",
       "      <td>10</td>\n",
       "    </tr>\n",
       "  </tbody>\n",
       "</table>\n",
       "</div>"
      ],
      "text/plain": [
       "      Unnamed: 1 Unnamed: 2\n",
       "壁体の構成                      \n",
       "NaN       length       temp\n",
       "P(0)           1       20.5\n",
       "P(1)       0.001       20.5\n",
       "P(2)       0.001       20.5\n",
       "P(3)       0.001       20.5\n",
       "P(4)       0.001       20.5\n",
       "P(5)       0.001       20.5\n",
       "P(6)       0.005         10\n",
       "P(7)       0.005         10\n",
       "P(8)       0.005         10\n",
       "P(9)       0.005         10\n",
       "P(10)      0.005         10"
      ]
     },
     "execution_count": 5,
     "metadata": {},
     "output_type": "execute_result"
    }
   ],
   "source": [
    "df"
   ]
  },
  {
   "cell_type": "markdown",
   "metadata": {},
   "source": [
    "同様に行(row)についてもヘッダーがある場合は、header = '行番号'を指定し書くとheaderが作成される。  \n",
    "※ヘッダーがない場合、header = -1を指定しよう。 "
   ]
  },
  {
   "cell_type": "code",
   "execution_count": 6,
   "metadata": {},
   "outputs": [],
   "source": [
    "df = pd.read_csv( 'input_data/sample.csv', encoding = 'SHIFT-JIS' , index_col = 0,  header = 1 )"
   ]
  },
  {
   "cell_type": "code",
   "execution_count": 7,
   "metadata": {},
   "outputs": [
    {
     "data": {
      "text/html": [
       "<div>\n",
       "<style scoped>\n",
       "    .dataframe tbody tr th:only-of-type {\n",
       "        vertical-align: middle;\n",
       "    }\n",
       "\n",
       "    .dataframe tbody tr th {\n",
       "        vertical-align: top;\n",
       "    }\n",
       "\n",
       "    .dataframe thead th {\n",
       "        text-align: right;\n",
       "    }\n",
       "</style>\n",
       "<table border=\"1\" class=\"dataframe\">\n",
       "  <thead>\n",
       "    <tr style=\"text-align: right;\">\n",
       "      <th></th>\n",
       "      <th>length</th>\n",
       "      <th>temp</th>\n",
       "    </tr>\n",
       "  </thead>\n",
       "  <tbody>\n",
       "    <tr>\n",
       "      <th>P(0)</th>\n",
       "      <td>1.000</td>\n",
       "      <td>20.5</td>\n",
       "    </tr>\n",
       "    <tr>\n",
       "      <th>P(1)</th>\n",
       "      <td>0.001</td>\n",
       "      <td>20.5</td>\n",
       "    </tr>\n",
       "    <tr>\n",
       "      <th>P(2)</th>\n",
       "      <td>0.001</td>\n",
       "      <td>20.5</td>\n",
       "    </tr>\n",
       "    <tr>\n",
       "      <th>P(3)</th>\n",
       "      <td>0.001</td>\n",
       "      <td>20.5</td>\n",
       "    </tr>\n",
       "    <tr>\n",
       "      <th>P(4)</th>\n",
       "      <td>0.001</td>\n",
       "      <td>20.5</td>\n",
       "    </tr>\n",
       "    <tr>\n",
       "      <th>P(5)</th>\n",
       "      <td>0.001</td>\n",
       "      <td>20.5</td>\n",
       "    </tr>\n",
       "    <tr>\n",
       "      <th>P(6)</th>\n",
       "      <td>0.005</td>\n",
       "      <td>10.0</td>\n",
       "    </tr>\n",
       "    <tr>\n",
       "      <th>P(7)</th>\n",
       "      <td>0.005</td>\n",
       "      <td>10.0</td>\n",
       "    </tr>\n",
       "    <tr>\n",
       "      <th>P(8)</th>\n",
       "      <td>0.005</td>\n",
       "      <td>10.0</td>\n",
       "    </tr>\n",
       "    <tr>\n",
       "      <th>P(9)</th>\n",
       "      <td>0.005</td>\n",
       "      <td>10.0</td>\n",
       "    </tr>\n",
       "    <tr>\n",
       "      <th>P(10)</th>\n",
       "      <td>0.005</td>\n",
       "      <td>10.0</td>\n",
       "    </tr>\n",
       "  </tbody>\n",
       "</table>\n",
       "</div>"
      ],
      "text/plain": [
       "       length  temp\n",
       "P(0)    1.000  20.5\n",
       "P(1)    0.001  20.5\n",
       "P(2)    0.001  20.5\n",
       "P(3)    0.001  20.5\n",
       "P(4)    0.001  20.5\n",
       "P(5)    0.001  20.5\n",
       "P(6)    0.005  10.0\n",
       "P(7)    0.005  10.0\n",
       "P(8)    0.005  10.0\n",
       "P(9)    0.005  10.0\n",
       "P(10)   0.005  10.0"
      ]
     },
     "execution_count": 7,
     "metadata": {},
     "output_type": "execute_result"
    }
   ],
   "source": [
    "df"
   ]
  },
  {
   "cell_type": "markdown",
   "metadata": {},
   "source": [
    "### 1.2 DataFrameを用いた値の抽出  \n",
    "次にDataFrameから必要な各要素を抽出する。  \n",
    "ここでは熱水分移動プログラムを使用するに当たり最低限必要なDataFrameの基本的な操作方法のみを示す。  \n",
    "参考：pandasの使い方（２）　DataFrameの生成　：　http://python-remrin.hatenadiary.jp/entry/2017/05/08/212120　（中段当たり）\n",
    "\n",
    "詳細なDataFrameに関する各操作は以下のURLを参照されたし。  \n",
    "ゆるふわPandasチートシート　：　https://qiita.com/tanemaki/items/2ed05e258ef4c9e6caac"
   ]
  },
  {
   "cell_type": "markdown",
   "metadata": {},
   "source": [
    "#### 1.2.1 行・列の名前から値を取得する方法  \n",
    "行および列の値の取得方法いくつか存在する。  \n",
    "例えば'length'行を取得したい場合、"
   ]
  },
  {
   "cell_type": "code",
   "execution_count": 8,
   "metadata": {},
   "outputs": [
    {
     "data": {
      "text/plain": [
       "P(0)     1.000\n",
       "P(1)     0.001\n",
       "P(2)     0.001\n",
       "P(3)     0.001\n",
       "P(4)     0.001\n",
       "P(5)     0.001\n",
       "P(6)     0.005\n",
       "P(7)     0.005\n",
       "P(8)     0.005\n",
       "P(9)     0.005\n",
       "P(10)    0.005\n",
       "Name: length, dtype: float64"
      ]
     },
     "execution_count": 8,
     "metadata": {},
     "output_type": "execute_result"
    }
   ],
   "source": [
    "df.length"
   ]
  },
  {
   "cell_type": "markdown",
   "metadata": {},
   "source": [
    "もしくは"
   ]
  },
  {
   "cell_type": "code",
   "execution_count": 9,
   "metadata": {},
   "outputs": [
    {
     "data": {
      "text/plain": [
       "P(0)     1.000\n",
       "P(1)     0.001\n",
       "P(2)     0.001\n",
       "P(3)     0.001\n",
       "P(4)     0.001\n",
       "P(5)     0.001\n",
       "P(6)     0.005\n",
       "P(7)     0.005\n",
       "P(8)     0.005\n",
       "P(9)     0.005\n",
       "P(10)    0.005\n",
       "Name: length, dtype: float64"
      ]
     },
     "execution_count": 9,
     "metadata": {},
     "output_type": "execute_result"
    }
   ],
   "source": [
    "df['length']"
   ]
  },
  {
   "cell_type": "markdown",
   "metadata": {},
   "source": [
    "といった指定方法ができる。列に関しては少し書くことが増えdf.log['index名']とし、以下のように記述する。"
   ]
  },
  {
   "cell_type": "code",
   "execution_count": 10,
   "metadata": {},
   "outputs": [
    {
     "data": {
      "text/plain": [
       "length     1.0\n",
       "temp      20.5\n",
       "Name: P(0), dtype: float64"
      ]
     },
     "execution_count": 10,
     "metadata": {},
     "output_type": "execute_result"
    }
   ],
   "source": [
    "df.loc['P(0)']"
   ]
  },
  {
   "cell_type": "markdown",
   "metadata": {},
   "source": [
    "#### 1.2.2 行・列の位置から値を取得する方法  \n",
    "n列目を取り出す方法は、df.iloc[n]を用いて以下のように表す。  \n",
    "参考：　pandasで任意の位置の値を取得・変更するat, iat, loc, iloc　：　https://note.nkmk.me/python-pandas-at-iat-loc-iloc/"
   ]
  },
  {
   "cell_type": "code",
   "execution_count": 11,
   "metadata": {},
   "outputs": [
    {
     "data": {
      "text/plain": [
       "length     0.001\n",
       "temp      20.500\n",
       "Name: P(1), dtype: float64"
      ]
     },
     "execution_count": 11,
     "metadata": {},
     "output_type": "execute_result"
    }
   ],
   "source": [
    "df.iloc[1]"
   ]
  },
  {
   "cell_type": "markdown",
   "metadata": {},
   "source": [
    "n行目だけを取り出したい場合は、同様にilocを用いるが列についての指定はしないので、列の指定を[ : , n ]とする。"
   ]
  },
  {
   "cell_type": "code",
   "execution_count": 12,
   "metadata": {},
   "outputs": [
    {
     "data": {
      "text/plain": [
       "P(0)     1.000\n",
       "P(1)     0.001\n",
       "P(2)     0.001\n",
       "P(3)     0.001\n",
       "P(4)     0.001\n",
       "P(5)     0.001\n",
       "P(6)     0.005\n",
       "P(7)     0.005\n",
       "P(8)     0.005\n",
       "P(9)     0.005\n",
       "P(10)    0.005\n",
       "Name: length, dtype: float64"
      ]
     },
     "execution_count": 12,
     "metadata": {},
     "output_type": "execute_result"
    }
   ],
   "source": [
    "df.iloc[:, 0]"
   ]
  },
  {
   "cell_type": "markdown",
   "metadata": {},
   "source": [
    "ピンポイントである場所の値を指定したいときは、"
   ]
  },
  {
   "cell_type": "code",
   "execution_count": 13,
   "metadata": {},
   "outputs": [
    {
     "data": {
      "text/plain": [
       "20.5"
      ]
     },
     "execution_count": 13,
     "metadata": {},
     "output_type": "execute_result"
    }
   ],
   "source": [
    "df.iloc[ 4, 1 ]"
   ]
  },
  {
   "cell_type": "markdown",
   "metadata": {},
   "source": [
    "index名、header名からでも同様の指定ができるが、この場合接頭辞のiは省く。"
   ]
  },
  {
   "cell_type": "code",
   "execution_count": 14,
   "metadata": {},
   "outputs": [
    {
     "data": {
      "text/plain": [
       "20.5"
      ]
     },
     "execution_count": 14,
     "metadata": {},
     "output_type": "execute_result"
    }
   ],
   "source": [
    "df.loc['P(4)', 'temp']"
   ]
  },
  {
   "cell_type": "markdown",
   "metadata": {},
   "source": [
    "### 1.3 pandasからnumpyおよびpython標準リストへの変換\n",
    "\n",
    "pandasとnumpyを比較した場合、一般に数値計算では遅くなる傾向にあると考えられる。  \n",
    "そのためpandasからnumpyもしくはpythonの標準リストへの変換方法を知っておくことは大切であろう。  \n",
    "（ただし熱水分移動解析プログラムにおいてそこまでnumpyに優位性があるかどうかは疑問である。）\n",
    "\n",
    "参考：pandas.DataFrame, SeriesとPython標準のリストを相互に変換　https://note.nkmk.me/python-pandas-list/"
   ]
  },
  {
   "cell_type": "markdown",
   "metadata": {},
   "source": [
    "pandas.DataFrame, pandas.Seriesをリスト型に直接変換するメソッドは無いため、values属性で取得できるNumPy配列ndarrayを経由して、ndarrayのtolist()メソッドでリストに変換する。"
   ]
  },
  {
   "cell_type": "code",
   "execution_count": 15,
   "metadata": {},
   "outputs": [
    {
     "name": "stdout",
     "output_type": "stream",
     "text": [
      "[[1.0, 20.5], [0.001, 20.5], [0.001, 20.5], [0.001, 20.5], [0.001, 20.5], [0.001, 20.5], [0.005, 10.0], [0.005, 10.0], [0.005, 10.0], [0.005, 10.0], [0.005, 10.0]]\n"
     ]
    }
   ],
   "source": [
    "df_list = df.values.tolist()\n",
    "print(df_list)"
   ]
  },
  {
   "cell_type": "markdown",
   "metadata": {},
   "source": [
    "value属性ではラベル（行名、列名）があっても無視される。  \n",
    "ただし上記の場合、2次元配列が非常にややこしくなっている。（列数が非常に多い）  \n",
    "そのため行と列を転置すると良いだろう。  \n",
    "転置はpandasで以下のように行う。"
   ]
  },
  {
   "cell_type": "code",
   "execution_count": 16,
   "metadata": {},
   "outputs": [
    {
     "data": {
      "text/html": [
       "<div>\n",
       "<style scoped>\n",
       "    .dataframe tbody tr th:only-of-type {\n",
       "        vertical-align: middle;\n",
       "    }\n",
       "\n",
       "    .dataframe tbody tr th {\n",
       "        vertical-align: top;\n",
       "    }\n",
       "\n",
       "    .dataframe thead th {\n",
       "        text-align: right;\n",
       "    }\n",
       "</style>\n",
       "<table border=\"1\" class=\"dataframe\">\n",
       "  <thead>\n",
       "    <tr style=\"text-align: right;\">\n",
       "      <th></th>\n",
       "      <th>P(0)</th>\n",
       "      <th>P(1)</th>\n",
       "      <th>P(2)</th>\n",
       "      <th>P(3)</th>\n",
       "      <th>P(4)</th>\n",
       "      <th>P(5)</th>\n",
       "      <th>P(6)</th>\n",
       "      <th>P(7)</th>\n",
       "      <th>P(8)</th>\n",
       "      <th>P(9)</th>\n",
       "      <th>P(10)</th>\n",
       "    </tr>\n",
       "  </thead>\n",
       "  <tbody>\n",
       "    <tr>\n",
       "      <th>length</th>\n",
       "      <td>1.0</td>\n",
       "      <td>0.001</td>\n",
       "      <td>0.001</td>\n",
       "      <td>0.001</td>\n",
       "      <td>0.001</td>\n",
       "      <td>0.001</td>\n",
       "      <td>0.005</td>\n",
       "      <td>0.005</td>\n",
       "      <td>0.005</td>\n",
       "      <td>0.005</td>\n",
       "      <td>0.005</td>\n",
       "    </tr>\n",
       "    <tr>\n",
       "      <th>temp</th>\n",
       "      <td>20.5</td>\n",
       "      <td>20.500</td>\n",
       "      <td>20.500</td>\n",
       "      <td>20.500</td>\n",
       "      <td>20.500</td>\n",
       "      <td>20.500</td>\n",
       "      <td>10.000</td>\n",
       "      <td>10.000</td>\n",
       "      <td>10.000</td>\n",
       "      <td>10.000</td>\n",
       "      <td>10.000</td>\n",
       "    </tr>\n",
       "  </tbody>\n",
       "</table>\n",
       "</div>"
      ],
      "text/plain": [
       "        P(0)    P(1)    P(2)    P(3)    P(4)    P(5)    P(6)    P(7)    P(8)  \\\n",
       "length   1.0   0.001   0.001   0.001   0.001   0.001   0.005   0.005   0.005   \n",
       "temp    20.5  20.500  20.500  20.500  20.500  20.500  10.000  10.000  10.000   \n",
       "\n",
       "          P(9)   P(10)  \n",
       "length   0.005   0.005  \n",
       "temp    10.000  10.000  "
      ]
     },
     "execution_count": 16,
     "metadata": {},
     "output_type": "execute_result"
    }
   ],
   "source": [
    "df.T"
   ]
  },
  {
   "cell_type": "markdown",
   "metadata": {},
   "source": [
    "変換してみると、"
   ]
  },
  {
   "cell_type": "code",
   "execution_count": 17,
   "metadata": {},
   "outputs": [
    {
     "name": "stdout",
     "output_type": "stream",
     "text": [
      "[[1.0, 0.001, 0.001, 0.001, 0.001, 0.001, 0.005, 0.005, 0.005, 0.005, 0.005], [20.5, 20.5, 20.5, 20.5, 20.5, 20.5, 10.0, 10.0, 10.0, 10.0, 10.0]]\n"
     ]
    }
   ],
   "source": [
    "df_list = df.T.values.tolist()\n",
    "print(df_list)"
   ]
  },
  {
   "cell_type": "markdown",
   "metadata": {},
   "source": [
    "こうするとリストとして抽出がしやすくなる。  \n",
    "よってlenghtとtempを以下のように抽出した。"
   ]
  },
  {
   "cell_type": "code",
   "execution_count": 18,
   "metadata": {},
   "outputs": [
    {
     "name": "stdout",
     "output_type": "stream",
     "text": [
      "[1.0, 0.001, 0.001, 0.001, 0.001, 0.001, 0.005, 0.005, 0.005, 0.005, 0.005]\n",
      "[20.5, 20.5, 20.5, 20.5, 20.5, 20.5, 10.0, 10.0, 10.0, 10.0, 10.0]\n"
     ]
    }
   ],
   "source": [
    "length = df_list[0]\n",
    "temp = df_list[1] \n",
    "print(length)\n",
    "print(temp)"
   ]
  },
  {
   "cell_type": "markdown",
   "metadata": {},
   "source": [
    "#### 補足  \n",
    "上述の方法を用いてcsvファイルのヘッダー名をそのまま用いてリスト化すると簡便になるだろう。  \n",
    "...と思い、自動で変数を生成する方法を模索したが、あまり適切ではないのだろう。  \n",
    "辞書型で変数ごとにリストを作成するのが最も適切で見やすくなるものと考えらえれる。  \n",
    "\n",
    "例）"
   ]
  },
  {
   "cell_type": "code",
   "execution_count": 19,
   "metadata": {},
   "outputs": [],
   "source": [
    "import_data = {}\n",
    "for name in df.columns:\n",
    "    import_data[name] = df[name]"
   ]
  },
  {
   "cell_type": "code",
   "execution_count": 20,
   "metadata": {},
   "outputs": [
    {
     "data": {
      "text/plain": [
       "P(0)     1.000\n",
       "P(1)     0.001\n",
       "P(2)     0.001\n",
       "P(3)     0.001\n",
       "P(4)     0.001\n",
       "P(5)     0.001\n",
       "P(6)     0.005\n",
       "P(7)     0.005\n",
       "P(8)     0.005\n",
       "P(9)     0.005\n",
       "P(10)    0.005\n",
       "Name: length, dtype: float64"
      ]
     },
     "execution_count": 20,
     "metadata": {},
     "output_type": "execute_result"
    }
   ],
   "source": [
    "import_data['length']"
   ]
  },
  {
   "cell_type": "markdown",
   "metadata": {},
   "source": [
    "pandasのDataFrameではなく標準リストを使いたい場合、"
   ]
  },
  {
   "cell_type": "code",
   "execution_count": 21,
   "metadata": {},
   "outputs": [],
   "source": [
    "import_data = {}\n",
    "for name in df.columns:\n",
    "    import_data[name] = df[name].values.tolist()"
   ]
  },
  {
   "cell_type": "code",
   "execution_count": 22,
   "metadata": {},
   "outputs": [
    {
     "data": {
      "text/plain": [
       "[1.0, 0.001, 0.001, 0.001, 0.001, 0.001, 0.005, 0.005, 0.005, 0.005, 0.005]"
      ]
     },
     "execution_count": 22,
     "metadata": {},
     "output_type": "execute_result"
    }
   ],
   "source": [
    "import_data['length']"
   ]
  },
  {
   "cell_type": "markdown",
   "metadata": {},
   "source": [
    "一応関数化しておくと以下のようになるだろう。  \n",
    "variableには辞書型の変数名、dfにはpandasのDataFrameを入力すればよいものとして、"
   ]
  },
  {
   "cell_type": "code",
   "execution_count": 23,
   "metadata": {},
   "outputs": [],
   "source": [
    "def convert_import_data( file_name, df ):\n",
    "    for name in df.columns:\n",
    "        file_name[name] = df[name].values.tolist()\n",
    "    return \n"
   ]
  },
  {
   "cell_type": "code",
   "execution_count": 24,
   "metadata": {},
   "outputs": [
    {
     "name": "stdout",
     "output_type": "stream",
     "text": [
      "length =  [1.0, 0.001, 0.001, 0.001, 0.001, 0.001, 0.005, 0.005, 0.005, 0.005, 0.005]\n",
      "temp =  [20.5, 20.5, 20.5, 20.5, 20.5, 20.5, 10.0, 10.0, 10.0, 10.0, 10.0]\n"
     ]
    }
   ],
   "source": [
    "# 使用例\n",
    "test = {}\n",
    "convert_import_data( test, df )\n",
    "print('length = ', test['length'])\n",
    "print('temp = ', test['temp'])"
   ]
  },
  {
   "cell_type": "markdown",
   "metadata": {},
   "source": [
    "\n",
    "<br/>\n",
    "\n",
    "## 2. データの書き込み\n",
    "\n",
    "計算結果をcsvファイルとして書き込むタイミングについては以下の2通りが考えられる。  \n",
    "\n",
    "- 一つは計算ごとにファイルにデータを書き込んでいく方法  \n",
    "- もう一つは計算結果をpandasなどで保持し、計算終了後に書き込む方法\n",
    "\n",
    "この2種に大別されるだろう。  \n",
    "計算時間の短縮を考えた場合、ファイルの操作回数が少ない後者の方が良いが、  \n",
    "数年にわたる計算や2次元の計算を行う場合では、後者の方法を用いるとメモリ不足に陥ることもあるだろう。  \n",
    "\n",
    "そこで2.1節ではcsvモジュールを用いたデータの書き込み方法を、2.2節ではpandasなどを用いた計算結果の書き込み方法を示す。"
   ]
  },
  {
   "cell_type": "markdown",
   "metadata": {},
   "source": [
    "### 2.1 python標準モジュールを用いたデータの書き込み"
   ]
  },
  {
   "cell_type": "markdown",
   "metadata": {},
   "source": [
    "#### 2.1.1 ファイルの生成\n",
    "\n",
    "ファイルの生成はコマンドopen() によって行う。\n",
    "open()内の最初の引数はファイル名の入った文字列である。  \n",
    "二つめの引数も文字列で、ファイルをどのように使うかを示す数個の文字が入る。   \n",
    "\n",
    "mode は、  \n",
    "\n",
    "- ファイルが読み出し専用なら 'r' \n",
    "- 書き込み専用 (同名の既存のファイルがあれば消去されます) なら 'w'   \n",
    "- ファイルに追記する場合は'a'　…　ファイルに書き込まれた内容は自動的にファイルの終端に追加されます。   \n",
    "- 読み書き両用に開く場合は'r+'　　\n",
    "\n",
    "mode 引数は省略可能で、省略された場合には 'r' であると仮定される。"
   ]
  },
  {
   "cell_type": "code",
   "execution_count": 25,
   "metadata": {},
   "outputs": [],
   "source": [
    "f = open('output_data/test.csv','a')\n",
    "f.close()"
   ]
  },
  {
   "cell_type": "markdown",
   "metadata": {},
   "source": [
    "#### 2.1.1 csvコマンド用いたデータの書き込み\n",
    "\n",
    "データを書き出す最も簡単な方法はcsvモジュールを用いる方法だろう。  \n",
    "最も単純な使い方は以下を以下に示す。"
   ]
  },
  {
   "cell_type": "code",
   "execution_count": 26,
   "metadata": {},
   "outputs": [],
   "source": [
    "import csv\n",
    "test = [ 'test', 'temp', 'file', 'data', 'time' ]\n",
    "\n",
    "f = open('output_data/test.csv', 'w')\n",
    "csvwriter = csv.writer(f)\n",
    "csvwriter.writerow(test)\n",
    "\n",
    "f.close()"
   ]
  },
  {
   "cell_type": "markdown",
   "metadata": {},
   "source": [
    "この形ではリスト型のデータをそのままcsvファイルとして書き出すことができる。  \n",
    "ただしこの書き方のままだとデータを書き出すごとに改行がなされるため、openのところに ( ,newline='' ) を書くことで改行を無くすことができる。  \n",
    "計算結果（温度や湿度など）は大体のものがリスト化されていると考えられるが、一般に書き出したデータの時刻を追記する必要があるので、リストの最初に計算結果時刻を挿入しておくことが良いだろう。（insertを使う）\n",
    "また、１行だけ書き込むときにはwriterow、複数行を書き込むときにはwriterowsを使用すれば良い。"
   ]
  },
  {
   "cell_type": "markdown",
   "metadata": {},
   "source": [
    "実際の書き込み例を以下に示す。"
   ]
  },
  {
   "cell_type": "code",
   "execution_count": 27,
   "metadata": {},
   "outputs": [],
   "source": [
    "# ファイルの初期化\n",
    "f = open('output_data/test.csv', 'w')\n",
    "f.close()\n",
    "\n",
    "# ファイルを追記形式'a'でOPEN\n",
    "f = open('output_data/test.csv', 'a', newline = '' )\n",
    "csvwriter = csv.writer(f)\n",
    "\n",
    "# 各計算結果の表題をつける\n",
    "title = [ 'T(' + str(i) + ')' for i in range (10)]\n",
    "title.insert(0, 'time') \n",
    "csvwriter.writerow(title)\n",
    "\n",
    "# 計算 + データの書き込み\n",
    "for i in range(20):\n",
    "    temp = [ 293.15 + i + j for j in range(10) ]\n",
    "    temp.insert(0, i)\n",
    "    csvwriter.writerow(temp)\n",
    "\n",
    "f.close()\n"
   ]
  },
  {
   "cell_type": "markdown",
   "metadata": {},
   "source": [
    "### 2.2 pandasを用いたデータの書き込み"
   ]
  },
  {
   "cell_type": "markdown",
   "metadata": {},
   "source": [
    "pandasで書き込む場合、データを書き込むごとにindex名（header名？）が必ず書き込まれる。  \n",
    "そのためpandasを用いる場合、DataFrameが完成した後（計算終了後）にまとめて書き出すのが一般的となるだろう。  \n",
    "一例として、まず計算結果をDataFrameに保持してみる。"
   ]
  },
  {
   "cell_type": "code",
   "execution_count": 28,
   "metadata": {},
   "outputs": [
    {
     "data": {
      "text/html": [
       "<div>\n",
       "<style scoped>\n",
       "    .dataframe tbody tr th:only-of-type {\n",
       "        vertical-align: middle;\n",
       "    }\n",
       "\n",
       "    .dataframe tbody tr th {\n",
       "        vertical-align: top;\n",
       "    }\n",
       "\n",
       "    .dataframe thead th {\n",
       "        text-align: right;\n",
       "    }\n",
       "</style>\n",
       "<table border=\"1\" class=\"dataframe\">\n",
       "  <thead>\n",
       "    <tr style=\"text-align: right;\">\n",
       "      <th></th>\n",
       "      <th>T(0)</th>\n",
       "      <th>T(1)</th>\n",
       "      <th>T(2)</th>\n",
       "      <th>T(3)</th>\n",
       "      <th>T(4)</th>\n",
       "      <th>T(5)</th>\n",
       "      <th>T(6)</th>\n",
       "      <th>T(7)</th>\n",
       "      <th>T(8)</th>\n",
       "      <th>T(9)</th>\n",
       "    </tr>\n",
       "  </thead>\n",
       "  <tbody>\n",
       "    <tr>\n",
       "      <th>0</th>\n",
       "      <td>293.15</td>\n",
       "      <td>294.15</td>\n",
       "      <td>295.15</td>\n",
       "      <td>296.15</td>\n",
       "      <td>297.15</td>\n",
       "      <td>298.15</td>\n",
       "      <td>299.15</td>\n",
       "      <td>300.15</td>\n",
       "      <td>301.15</td>\n",
       "      <td>302.15</td>\n",
       "    </tr>\n",
       "    <tr>\n",
       "      <th>1</th>\n",
       "      <td>294.15</td>\n",
       "      <td>295.15</td>\n",
       "      <td>296.15</td>\n",
       "      <td>297.15</td>\n",
       "      <td>298.15</td>\n",
       "      <td>299.15</td>\n",
       "      <td>300.15</td>\n",
       "      <td>301.15</td>\n",
       "      <td>302.15</td>\n",
       "      <td>303.15</td>\n",
       "    </tr>\n",
       "    <tr>\n",
       "      <th>2</th>\n",
       "      <td>295.15</td>\n",
       "      <td>296.15</td>\n",
       "      <td>297.15</td>\n",
       "      <td>298.15</td>\n",
       "      <td>299.15</td>\n",
       "      <td>300.15</td>\n",
       "      <td>301.15</td>\n",
       "      <td>302.15</td>\n",
       "      <td>303.15</td>\n",
       "      <td>304.15</td>\n",
       "    </tr>\n",
       "    <tr>\n",
       "      <th>3</th>\n",
       "      <td>296.15</td>\n",
       "      <td>297.15</td>\n",
       "      <td>298.15</td>\n",
       "      <td>299.15</td>\n",
       "      <td>300.15</td>\n",
       "      <td>301.15</td>\n",
       "      <td>302.15</td>\n",
       "      <td>303.15</td>\n",
       "      <td>304.15</td>\n",
       "      <td>305.15</td>\n",
       "    </tr>\n",
       "    <tr>\n",
       "      <th>4</th>\n",
       "      <td>297.15</td>\n",
       "      <td>298.15</td>\n",
       "      <td>299.15</td>\n",
       "      <td>300.15</td>\n",
       "      <td>301.15</td>\n",
       "      <td>302.15</td>\n",
       "      <td>303.15</td>\n",
       "      <td>304.15</td>\n",
       "      <td>305.15</td>\n",
       "      <td>306.15</td>\n",
       "    </tr>\n",
       "    <tr>\n",
       "      <th>5</th>\n",
       "      <td>298.15</td>\n",
       "      <td>299.15</td>\n",
       "      <td>300.15</td>\n",
       "      <td>301.15</td>\n",
       "      <td>302.15</td>\n",
       "      <td>303.15</td>\n",
       "      <td>304.15</td>\n",
       "      <td>305.15</td>\n",
       "      <td>306.15</td>\n",
       "      <td>307.15</td>\n",
       "    </tr>\n",
       "    <tr>\n",
       "      <th>6</th>\n",
       "      <td>299.15</td>\n",
       "      <td>300.15</td>\n",
       "      <td>301.15</td>\n",
       "      <td>302.15</td>\n",
       "      <td>303.15</td>\n",
       "      <td>304.15</td>\n",
       "      <td>305.15</td>\n",
       "      <td>306.15</td>\n",
       "      <td>307.15</td>\n",
       "      <td>308.15</td>\n",
       "    </tr>\n",
       "    <tr>\n",
       "      <th>7</th>\n",
       "      <td>300.15</td>\n",
       "      <td>301.15</td>\n",
       "      <td>302.15</td>\n",
       "      <td>303.15</td>\n",
       "      <td>304.15</td>\n",
       "      <td>305.15</td>\n",
       "      <td>306.15</td>\n",
       "      <td>307.15</td>\n",
       "      <td>308.15</td>\n",
       "      <td>309.15</td>\n",
       "    </tr>\n",
       "    <tr>\n",
       "      <th>8</th>\n",
       "      <td>301.15</td>\n",
       "      <td>302.15</td>\n",
       "      <td>303.15</td>\n",
       "      <td>304.15</td>\n",
       "      <td>305.15</td>\n",
       "      <td>306.15</td>\n",
       "      <td>307.15</td>\n",
       "      <td>308.15</td>\n",
       "      <td>309.15</td>\n",
       "      <td>310.15</td>\n",
       "    </tr>\n",
       "    <tr>\n",
       "      <th>9</th>\n",
       "      <td>302.15</td>\n",
       "      <td>303.15</td>\n",
       "      <td>304.15</td>\n",
       "      <td>305.15</td>\n",
       "      <td>306.15</td>\n",
       "      <td>307.15</td>\n",
       "      <td>308.15</td>\n",
       "      <td>309.15</td>\n",
       "      <td>310.15</td>\n",
       "      <td>311.15</td>\n",
       "    </tr>\n",
       "    <tr>\n",
       "      <th>10</th>\n",
       "      <td>303.15</td>\n",
       "      <td>304.15</td>\n",
       "      <td>305.15</td>\n",
       "      <td>306.15</td>\n",
       "      <td>307.15</td>\n",
       "      <td>308.15</td>\n",
       "      <td>309.15</td>\n",
       "      <td>310.15</td>\n",
       "      <td>311.15</td>\n",
       "      <td>312.15</td>\n",
       "    </tr>\n",
       "    <tr>\n",
       "      <th>11</th>\n",
       "      <td>304.15</td>\n",
       "      <td>305.15</td>\n",
       "      <td>306.15</td>\n",
       "      <td>307.15</td>\n",
       "      <td>308.15</td>\n",
       "      <td>309.15</td>\n",
       "      <td>310.15</td>\n",
       "      <td>311.15</td>\n",
       "      <td>312.15</td>\n",
       "      <td>313.15</td>\n",
       "    </tr>\n",
       "    <tr>\n",
       "      <th>12</th>\n",
       "      <td>305.15</td>\n",
       "      <td>306.15</td>\n",
       "      <td>307.15</td>\n",
       "      <td>308.15</td>\n",
       "      <td>309.15</td>\n",
       "      <td>310.15</td>\n",
       "      <td>311.15</td>\n",
       "      <td>312.15</td>\n",
       "      <td>313.15</td>\n",
       "      <td>314.15</td>\n",
       "    </tr>\n",
       "    <tr>\n",
       "      <th>13</th>\n",
       "      <td>306.15</td>\n",
       "      <td>307.15</td>\n",
       "      <td>308.15</td>\n",
       "      <td>309.15</td>\n",
       "      <td>310.15</td>\n",
       "      <td>311.15</td>\n",
       "      <td>312.15</td>\n",
       "      <td>313.15</td>\n",
       "      <td>314.15</td>\n",
       "      <td>315.15</td>\n",
       "    </tr>\n",
       "    <tr>\n",
       "      <th>14</th>\n",
       "      <td>307.15</td>\n",
       "      <td>308.15</td>\n",
       "      <td>309.15</td>\n",
       "      <td>310.15</td>\n",
       "      <td>311.15</td>\n",
       "      <td>312.15</td>\n",
       "      <td>313.15</td>\n",
       "      <td>314.15</td>\n",
       "      <td>315.15</td>\n",
       "      <td>316.15</td>\n",
       "    </tr>\n",
       "    <tr>\n",
       "      <th>15</th>\n",
       "      <td>308.15</td>\n",
       "      <td>309.15</td>\n",
       "      <td>310.15</td>\n",
       "      <td>311.15</td>\n",
       "      <td>312.15</td>\n",
       "      <td>313.15</td>\n",
       "      <td>314.15</td>\n",
       "      <td>315.15</td>\n",
       "      <td>316.15</td>\n",
       "      <td>317.15</td>\n",
       "    </tr>\n",
       "    <tr>\n",
       "      <th>16</th>\n",
       "      <td>309.15</td>\n",
       "      <td>310.15</td>\n",
       "      <td>311.15</td>\n",
       "      <td>312.15</td>\n",
       "      <td>313.15</td>\n",
       "      <td>314.15</td>\n",
       "      <td>315.15</td>\n",
       "      <td>316.15</td>\n",
       "      <td>317.15</td>\n",
       "      <td>318.15</td>\n",
       "    </tr>\n",
       "    <tr>\n",
       "      <th>17</th>\n",
       "      <td>310.15</td>\n",
       "      <td>311.15</td>\n",
       "      <td>312.15</td>\n",
       "      <td>313.15</td>\n",
       "      <td>314.15</td>\n",
       "      <td>315.15</td>\n",
       "      <td>316.15</td>\n",
       "      <td>317.15</td>\n",
       "      <td>318.15</td>\n",
       "      <td>319.15</td>\n",
       "    </tr>\n",
       "    <tr>\n",
       "      <th>18</th>\n",
       "      <td>311.15</td>\n",
       "      <td>312.15</td>\n",
       "      <td>313.15</td>\n",
       "      <td>314.15</td>\n",
       "      <td>315.15</td>\n",
       "      <td>316.15</td>\n",
       "      <td>317.15</td>\n",
       "      <td>318.15</td>\n",
       "      <td>319.15</td>\n",
       "      <td>320.15</td>\n",
       "    </tr>\n",
       "    <tr>\n",
       "      <th>19</th>\n",
       "      <td>312.15</td>\n",
       "      <td>313.15</td>\n",
       "      <td>314.15</td>\n",
       "      <td>315.15</td>\n",
       "      <td>316.15</td>\n",
       "      <td>317.15</td>\n",
       "      <td>318.15</td>\n",
       "      <td>319.15</td>\n",
       "      <td>320.15</td>\n",
       "      <td>321.15</td>\n",
       "    </tr>\n",
       "  </tbody>\n",
       "</table>\n",
       "</div>"
      ],
      "text/plain": [
       "      T(0)    T(1)    T(2)    T(3)    T(4)    T(5)    T(6)    T(7)    T(8)  \\\n",
       "0   293.15  294.15  295.15  296.15  297.15  298.15  299.15  300.15  301.15   \n",
       "1   294.15  295.15  296.15  297.15  298.15  299.15  300.15  301.15  302.15   \n",
       "2   295.15  296.15  297.15  298.15  299.15  300.15  301.15  302.15  303.15   \n",
       "3   296.15  297.15  298.15  299.15  300.15  301.15  302.15  303.15  304.15   \n",
       "4   297.15  298.15  299.15  300.15  301.15  302.15  303.15  304.15  305.15   \n",
       "5   298.15  299.15  300.15  301.15  302.15  303.15  304.15  305.15  306.15   \n",
       "6   299.15  300.15  301.15  302.15  303.15  304.15  305.15  306.15  307.15   \n",
       "7   300.15  301.15  302.15  303.15  304.15  305.15  306.15  307.15  308.15   \n",
       "8   301.15  302.15  303.15  304.15  305.15  306.15  307.15  308.15  309.15   \n",
       "9   302.15  303.15  304.15  305.15  306.15  307.15  308.15  309.15  310.15   \n",
       "10  303.15  304.15  305.15  306.15  307.15  308.15  309.15  310.15  311.15   \n",
       "11  304.15  305.15  306.15  307.15  308.15  309.15  310.15  311.15  312.15   \n",
       "12  305.15  306.15  307.15  308.15  309.15  310.15  311.15  312.15  313.15   \n",
       "13  306.15  307.15  308.15  309.15  310.15  311.15  312.15  313.15  314.15   \n",
       "14  307.15  308.15  309.15  310.15  311.15  312.15  313.15  314.15  315.15   \n",
       "15  308.15  309.15  310.15  311.15  312.15  313.15  314.15  315.15  316.15   \n",
       "16  309.15  310.15  311.15  312.15  313.15  314.15  315.15  316.15  317.15   \n",
       "17  310.15  311.15  312.15  313.15  314.15  315.15  316.15  317.15  318.15   \n",
       "18  311.15  312.15  313.15  314.15  315.15  316.15  317.15  318.15  319.15   \n",
       "19  312.15  313.15  314.15  315.15  316.15  317.15  318.15  319.15  320.15   \n",
       "\n",
       "      T(9)  \n",
       "0   302.15  \n",
       "1   303.15  \n",
       "2   304.15  \n",
       "3   305.15  \n",
       "4   306.15  \n",
       "5   307.15  \n",
       "6   308.15  \n",
       "7   309.15  \n",
       "8   310.15  \n",
       "9   311.15  \n",
       "10  312.15  \n",
       "11  313.15  \n",
       "12  314.15  \n",
       "13  315.15  \n",
       "14  316.15  \n",
       "15  317.15  \n",
       "16  318.15  \n",
       "17  319.15  \n",
       "18  320.15  \n",
       "19  321.15  "
      ]
     },
     "execution_count": 28,
     "metadata": {},
     "output_type": "execute_result"
    }
   ],
   "source": [
    "# index名だけ書いた空のDataFrameを作成\n",
    "df = pd.DataFrame( index=[ 'T(' + str(i) + ')' for i in range (10) ], columns=[] )\n",
    "\n",
    "# 計算 + データの書き込み\n",
    "for i in range(20):\n",
    "    df[i] = [ 293.15 + i + j for j in range(10) ]\n",
    "    \n",
    "# データの確認\n",
    "df.T"
   ]
  },
  {
   "cell_type": "markdown",
   "metadata": {},
   "source": [
    "計算結果の出力はto_csvで書き出せる。  \n",
    "（見やすさのため転置(.T)を行った）  \n",
    "なおデータを追加する場合、csvモジュールと同様にto_csvコマンドに（mode='a'）を追加すればよい。}"
   ]
  },
  {
   "cell_type": "code",
   "execution_count": 29,
   "metadata": {},
   "outputs": [],
   "source": [
    "df.T.to_csv('output_data/test.csv')"
   ]
  },
  {
   "cell_type": "markdown",
   "metadata": {},
   "source": [
    "余談だがDataFrameのデータ容量はinfo()にて確認することができる。"
   ]
  },
  {
   "cell_type": "code",
   "execution_count": 30,
   "metadata": {},
   "outputs": [
    {
     "name": "stdout",
     "output_type": "stream",
     "text": [
      "<class 'pandas.core.frame.DataFrame'>\n",
      "Index: 10 entries, T(0) to T(9)\n",
      "Data columns (total 20 columns):\n",
      "0     10 non-null float64\n",
      "1     10 non-null float64\n",
      "2     10 non-null float64\n",
      "3     10 non-null float64\n",
      "4     10 non-null float64\n",
      "5     10 non-null float64\n",
      "6     10 non-null float64\n",
      "7     10 non-null float64\n",
      "8     10 non-null float64\n",
      "9     10 non-null float64\n",
      "10    10 non-null float64\n",
      "11    10 non-null float64\n",
      "12    10 non-null float64\n",
      "13    10 non-null float64\n",
      "14    10 non-null float64\n",
      "15    10 non-null float64\n",
      "16    10 non-null float64\n",
      "17    10 non-null float64\n",
      "18    10 non-null float64\n",
      "19    10 non-null float64\n",
      "dtypes: float64(20)\n",
      "memory usage: 2.0+ KB\n"
     ]
    }
   ],
   "source": [
    "df.info()"
   ]
  },
  {
   "cell_type": "code",
   "execution_count": null,
   "metadata": {},
   "outputs": [],
   "source": []
  }
 ],
 "metadata": {
  "kernelspec": {
   "display_name": "Python 3",
   "language": "python",
   "name": "python3"
  },
  "language_info": {
   "codemirror_mode": {
    "name": "ipython",
    "version": 3
   },
   "file_extension": ".py",
   "mimetype": "text/x-python",
   "name": "python",
   "nbconvert_exporter": "python",
   "pygments_lexer": "ipython3",
   "version": "3.6.5"
  }
 },
 "nbformat": 4,
 "nbformat_minor": 2
}
