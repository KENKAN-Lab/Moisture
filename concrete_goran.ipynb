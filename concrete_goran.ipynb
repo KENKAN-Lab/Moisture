{
 "cells": [
  {
   "cell_type": "code",
   "execution_count": 1,
   "metadata": {},
   "outputs": [
    {
     "name": "stdout",
     "output_type": "stream",
     "text": [
      "Importing Jupyter notebook from vapour_pressure.ipynb\n"
     ]
    }
   ],
   "source": [
    "import nbimporter\n",
    "import numpy as np\n",
    "import matplotlib.pyplot as plt\n",
    "import vapour_pressure as vp"
   ]
  },
  {
   "cell_type": "markdown",
   "metadata": {},
   "source": [
    "### Goranの測定したConcrete（コンクリート）の物性値  \n",
    "参考：Goran?  \n",
    "建築材料の熱・空気・湿気物性値"
   ]
  },
  {
   "cell_type": "markdown",
   "metadata": {},
   "source": [
    "$\\psi$：空隙率(porosity)[-]  "
   ]
  },
  {
   "cell_type": "code",
   "execution_count": 2,
   "metadata": {},
   "outputs": [],
   "source": [
    "def psi():\n",
    "    return 0.392"
   ]
  },
  {
   "cell_type": "markdown",
   "metadata": {},
   "source": [
    "$C$：材料の比熱(specific heat)[J/(kg・K)]  "
   ]
  },
  {
   "cell_type": "code",
   "execution_count": 3,
   "metadata": {},
   "outputs": [],
   "source": [
    "def C():\n",
    "    return 1100.0"
   ]
  },
  {
   "cell_type": "markdown",
   "metadata": {},
   "source": [
    "$\\rho$：材料の密度(density)[kg/m3]"
   ]
  },
  {
   "cell_type": "code",
   "execution_count": 4,
   "metadata": {},
   "outputs": [],
   "source": [
    "def row():\n",
    "    return 2303.2"
   ]
  },
  {
   "cell_type": "markdown",
   "metadata": {},
   "source": [
    "$\\rho_w$：水の密度(moisture density)[kg/m3]"
   ]
  },
  {
   "cell_type": "code",
   "execution_count": 5,
   "metadata": {},
   "outputs": [],
   "source": [
    "def roww():\n",
    "    return 1000.0"
   ]
  },
  {
   "cell_type": "markdown",
   "metadata": {},
   "source": [
    "$C_r$：水の比熱(specific heat of water)[J/(kg・K)]"
   ]
  },
  {
   "cell_type": "code",
   "execution_count": 6,
   "metadata": {},
   "outputs": [],
   "source": [
    "def Cr():\n",
    "    return 4.18605E+3"
   ]
  },
  {
   "cell_type": "markdown",
   "metadata": {},
   "source": [
    "#### 熱容量"
   ]
  },
  {
   "cell_type": "code",
   "execution_count": 26,
   "metadata": {},
   "outputs": [],
   "source": [
    "def getCRow():\n",
    "    return C() * row()"
   ]
  },
  {
   "cell_type": "markdown",
   "metadata": {},
   "source": [
    "## Functions"
   ]
  },
  {
   "cell_type": "markdown",
   "metadata": {},
   "source": [
    "#### 材料の温度・水分情報の入力(なくても良い?)"
   ]
  },
  {
   "cell_type": "code",
   "execution_count": 7,
   "metadata": {},
   "outputs": [],
   "source": [
    "class HydrothermalInfo():\n",
    "    def temp( self, initial = 0.0 ):\n",
    "        self.temp = initial \n",
    "    def RH( self, initial = 0.0 ):\n",
    "        self.rh = initial  \n",
    "    def miu( self, initial = 0.0 ):\n",
    "        self.miu = initial  \n",
    "    def pv( self, initial = 0.0 ):\n",
    "        self.pv = initial \n",
    "    def phi( self, initial = 0.0 ):\n",
    "        self.phi = initial "
   ]
  },
  {
   "cell_type": "markdown",
   "metadata": {},
   "source": [
    "#### 熱伝導率"
   ]
  },
  {
   "cell_type": "code",
   "execution_count": 9,
   "metadata": {},
   "outputs": [],
   "source": [
    "def getLAM( c ):\n",
    "    phi = getPhi( c )\n",
    "    return 1.3 + 3.5 * phi"
   ]
  },
  {
   "cell_type": "markdown",
   "metadata": {},
   "source": [
    "#### 平衡含水率"
   ]
  },
  {
   "cell_type": "code",
   "execution_count": 10,
   "metadata": {},
   "outputs": [],
   "source": [
    "def getPhi( c ):\n",
    "    if c.miu > - 1.0e-3 :\n",
    "        phi = 0.24120 * c.miu + 0.159720\n",
    "    elif np.log10( -c.miu ) < 3.7680:\n",
    "        phi = 0.16390 + 0.035180 / ( np.log10(-c.miu) - 4.95930 )\n",
    "    elif np.log10( -c.miu ) < 5.2980:\n",
    "        phi = -3.0654540 + 2.2674670 * np.log10( -c.miu ) \\\n",
    "        -5.208352e-1 * np.log10( -c.miu ) ** 2.0 + 3.833344e-2 * np.log10( -c.miu ) ** 3.0\n",
    "    elif np.log10( -c.miu ) < 10.16940:\n",
    "        phi = -0.00980 + 0.063950 / ( np.log10( -c.miu ) - 3.64410 )\n",
    "    else:\n",
    "        phi = 0.0\n",
    "    return phi"
   ]
  },
  {
   "cell_type": "markdown",
   "metadata": {},
   "source": [
    "#### 含水率から水分化学ポテンシャル"
   ]
  },
  {
   "cell_type": "code",
   "execution_count": 11,
   "metadata": {},
   "outputs": [],
   "source": [
    "def getMiuByPhi( c ):\n",
    "    PHI1 = 0.159470\n",
    "    PHI0 = 0.13430\n",
    "      \n",
    "    if c.phi > PHI1:\n",
    "        miu = - 1.0e-3\n",
    "    elif PHI1 >= c.phi and c.phi >= PHI0 :\n",
    "        miu = ( -1.0 ) * 10.0 ** ( 4.95930 + 0.035180 / ( c.phi - 0.16390 ) )\n",
    "    else: \n",
    "        miu = ( -1.0 ) * 10.0 ** ( 3.7680 )\n",
    "    return miu"
   ]
  },
  {
   "cell_type": "markdown",
   "metadata": {},
   "source": [
    "#### 水分化学ポテンシャル勾配に対する液相水分伝導率$\\lambda^{'}_{\\mu l}$"
   ]
  },
  {
   "cell_type": "code",
   "execution_count": 12,
   "metadata": {},
   "outputs": [],
   "source": [
    "def getLDML( c ):\n",
    "    phi = getPhi( c )\n",
    "    return np.exp( - 75.102120 + 350.0070 * phi )"
   ]
  },
  {
   "cell_type": "markdown",
   "metadata": {},
   "source": [
    "#### 温度勾配に対する気相水分伝導率$\\lambda^{'}_{T g}$"
   ]
  },
  {
   "cell_type": "code",
   "execution_count": 13,
   "metadata": {},
   "outputs": [],
   "source": [
    "def getLDTG( c ):\n",
    "    DPVS  = vp.DPvs( c.temp )\n",
    "    DPVSS = vp.DPvs( 293.16 )\n",
    "    phi = getPhi( c )\n",
    "    \n",
    "    if   phi < 0.0000010:\n",
    "        LDTG  = 0.0\n",
    "    elif phi < 0.032964 :\n",
    "        FTLDT = -9.87290 - 0.0101010 / phi\n",
    "    elif phi < 0.1278 :\n",
    "        FTLDT = -10.489310 + 10.38831 * phi - 56.457320 * phi ** 2.0 + 806.5875 * phi ** 3.0\n",
    "    else:\n",
    "        FTLDT = - 8063.50 * ( phi - 0.1300 ) ** 2.0 - 8.3610\n",
    "      \n",
    "    if phi < 0.00001:\n",
    "        LDTG=0.0\n",
    "    else:\n",
    "        FTLDT  = FTLDT\n",
    "        LDTG = 10.0 ** FTLDT * DPVS / DPVSS\n",
    "        \n",
    "    return LDTG"
   ]
  },
  {
   "cell_type": "markdown",
   "metadata": {},
   "source": [
    "#### 水分化学ポテンシャル勾配に対する気相水分伝導率$\\lambda^{'}_{\\mu g}$"
   ]
  },
  {
   "cell_type": "code",
   "execution_count": 14,
   "metadata": {},
   "outputs": [],
   "source": [
    "def getLDMG( c ):\n",
    "    RV = 8316.960 / 18.0160\n",
    "    LDTG = getLDTG( c )\n",
    "    dpvs = vp.DPvs( c.temp )\n",
    "    pvs  = vp.Pvs ( c.temp )\n",
    "    return LDTG / ( RV * c.temp * dpvs / pvs - c.miu / c.temp )"
   ]
  },
  {
   "cell_type": "markdown",
   "metadata": {},
   "source": [
    "#### 含水率の水分化学ポテンシャル微分"
   ]
  },
  {
   "cell_type": "code",
   "execution_count": 15,
   "metadata": {},
   "outputs": [],
   "source": [
    "def getDPhi( c ):\n",
    "    if   c.miu > -1.0e-3:\n",
    "        dphi = 0.24120\n",
    "    elif np.log10( -c.miu ) < 3.7680:\n",
    "        dphi = -0.035180 / ( np.log10( -c.miu ) - 4.95930 )  \\\n",
    "                / ( np.log10( -c.miu ) - 4.95930 ) / c.miu / np.log( 10.0 )\n",
    "    elif np.log10( -c.miu ) < 5.2980:\n",
    "        dphi = ( 2.2674670 - 1.04167040 * np.log10( -c.miu ) \\\n",
    "                + 1.1500032e-1 * np.log10( -c.miu ) ** 2.0) / c.miu / np.log( 10.0 )\n",
    "    elif np.log10( -c.miu ) < 10.16940:\n",
    "        dphi = -0.063950 / ( np.log10( -c.miu ) -3.64410 )  \\\n",
    "                / ( np.log10( -c.miu ) - 3.64410 ) / c.miu / np.log( 10.0 )\n",
    "    else:\n",
    "        dphi = 0.0\n",
    "    return dphi"
   ]
  },
  {
   "cell_type": "markdown",
   "metadata": {},
   "source": [
    "### Example"
   ]
  },
  {
   "cell_type": "code",
   "execution_count": 16,
   "metadata": {},
   "outputs": [],
   "source": [
    "c = HydrothermalInfo()\n",
    "c.temp( 293.15 ) \n",
    "c.miu( -10.0 ) \n",
    "c.phi( 0.30 )"
   ]
  },
  {
   "cell_type": "code",
   "execution_count": 17,
   "metadata": {},
   "outputs": [
    {
     "data": {
      "text/plain": [
       "3182418.8285008715"
      ]
     },
     "execution_count": 17,
     "metadata": {},
     "output_type": "execute_result"
    }
   ],
   "source": [
    "getCRow( c )"
   ]
  },
  {
   "cell_type": "code",
   "execution_count": 18,
   "metadata": {},
   "outputs": [
    {
     "data": {
      "text/plain": [
       "1.8425510683706716"
      ]
     },
     "execution_count": 18,
     "metadata": {},
     "output_type": "execute_result"
    }
   ],
   "source": [
    "getLAM( c )"
   ]
  },
  {
   "cell_type": "code",
   "execution_count": 19,
   "metadata": {},
   "outputs": [
    {
     "data": {
      "text/plain": [
       "0.155014590963049"
      ]
     },
     "execution_count": 19,
     "metadata": {},
     "output_type": "execute_result"
    }
   ],
   "source": [
    "getPhi( c )"
   ]
  },
  {
   "cell_type": "code",
   "execution_count": 20,
   "metadata": {},
   "outputs": [
    {
     "data": {
      "text/plain": [
       "-0.001"
      ]
     },
     "execution_count": 20,
     "metadata": {},
     "output_type": "execute_result"
    }
   ],
   "source": [
    "getMiuByPhi( c )"
   ]
  },
  {
   "cell_type": "code",
   "execution_count": 21,
   "metadata": {},
   "outputs": [
    {
     "data": {
      "text/plain": [
       "8.845623961863231e-10"
      ]
     },
     "execution_count": 21,
     "metadata": {},
     "output_type": "execute_result"
    }
   ],
   "source": [
    "getLDML( c )"
   ]
  },
  {
   "cell_type": "code",
   "execution_count": 22,
   "metadata": {},
   "outputs": [
    {
     "data": {
      "text/plain": [
       "3.9191568164576734e-14"
      ]
     },
     "execution_count": 22,
     "metadata": {},
     "output_type": "execute_result"
    }
   ],
   "source": [
    "getLDTG( c )"
   ]
  },
  {
   "cell_type": "code",
   "execution_count": 23,
   "metadata": {},
   "outputs": [
    {
     "data": {
      "text/plain": [
       "4.675339581854365e-18"
      ]
     },
     "execution_count": 23,
     "metadata": {},
     "output_type": "execute_result"
    }
   ],
   "source": [
    "getLDMG( c )"
   ]
  },
  {
   "cell_type": "code",
   "execution_count": 24,
   "metadata": {},
   "outputs": [
    {
     "data": {
      "text/plain": [
       "9.74637969893945e-05"
      ]
     },
     "execution_count": 24,
     "metadata": {},
     "output_type": "execute_result"
    }
   ],
   "source": [
    "getDPhi( c )"
   ]
  },
  {
   "cell_type": "code",
   "execution_count": 25,
   "metadata": {},
   "outputs": [
    {
     "data": {
      "image/png": "[encoded data removed]",
      "text/plain": [
       "<matplotlib.figure.Figure at 0x1d36b603ac8>"
      ]
     },
     "metadata": {},
     "output_type": "display_data"
    }
   ],
   "source": [
    "#######################################\n",
    "###     物性値の確認     ###\n",
    "###     グラフの描画      ###\n",
    "plt.figure(figsize = (15.0, 6))\n",
    "plt.xscale(\"log\")\n",
    "#plt.yscale(\"log\")\n",
    "plt.grid(which=\"both\")\n",
    "plt.xlabel(\"-chemical potential[J/kg]\", fontsize = 15)\n",
    "plt.ylabel(\"phi[-]\", fontsize = 15)\n",
    "\n",
    "L = 100000\n",
    "b = [ HydrothermalInfo() for i in range( L )] \n",
    "[ b[i].miu( -1000 * i - 0.1 ) for i in range ( L ) ]\n",
    "[ b[i].temp( 293.15 ) for i in range ( L ) ]\n",
    "miu = [ -b[i].miu for i in range( L ) ]\n",
    "phi = [ getPhi( b[i] ) for i in range ( L ) ]\n",
    "plt.plot( miu, phi )\n",
    "plt.show()\n",
    "###########################"
   ]
  },
  {
   "cell_type": "code",
   "execution_count": null,
   "metadata": {},
   "outputs": [],
   "source": []
  }
 ],
 "metadata": {
  "kernelspec": {
   "display_name": "Python 3",
   "language": "python",
   "name": "python3"
  },
  "language_info": {
   "codemirror_mode": {
    "name": "ipython",
    "version": 3
   },
   "file_extension": ".py",
   "mimetype": "text/x-python",
   "name": "python",
   "nbconvert_exporter": "python",
   "pygments_lexer": "ipython3",
   "version": "3.6.4"
  }
 },
 "nbformat": 4,
 "nbformat_minor": 2
}
