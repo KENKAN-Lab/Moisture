{
 "cells": [
  {
   "cell_type": "code",
   "execution_count": null,
   "metadata": {},
   "outputs": [],
   "source": [
    "import numpy as np\n",
    "#import matplotlib.pyplot as plt"
   ]
  },
  {
   "cell_type": "markdown",
   "metadata": {},
   "source": [
    "### 温度とポテンシャルから水蒸気圧・飽和水蒸気圧を求める"
   ]
  },
  {
   "cell_type": "code",
   "execution_count": null,
   "metadata": {},
   "outputs": [],
   "source": [
    "def Pv(Tem, Miu):\n",
    "    Rv = 8316.96/18.016\n",
    "    RH = np.exp(Miu/Rv/Tem)\n",
    "    Pv = RH *Pvs(Tem)    \n",
    "    return Pv\n",
    "    \n",
    "def Pvs(Tem):\n",
    "    EW =-5800.22060/Tem + 1.3914993 -4.8640239E-2*Tem + 4.1764768E-5*(Tem**2.0)\\\n",
    "    -1.4452093E-8*(Tem**3.0)+6.5459673*np.log(Tem)\n",
    "    return np.exp(EW) \n",
    "\n",
    "def DPvs(Tem):\n",
    "    DP=10.795740*273.160/Tem/Tem-5.0280/Tem/np.log(10.0)\\\n",
    "    +(1.50475E-4)*8.2969/273.16*np.log(10.0)\\\n",
    "    *(10.0**(-8.29690*(Tem/273.160 -1.0)))\\\n",
    "    +(0.42873E-3)*4.769550*273.160/Tem/Tem*np.log(10.0)\\\n",
    "    *(10.0**(4.769550*(1.0 -273.160/Tem)))\n",
    "    DPvs = Pvs(Tem) *DP*np.log(10.0)\n",
    "    return DPvs"
   ]
  },
  {
   "cell_type": "code",
   "execution_count": null,
   "metadata": {},
   "outputs": [],
   "source": [
    "###     計算・グラフの描画      ###\n",
    "#plt.xscale(\"log\")\n",
    "#plt.yscale(\"log\")\n",
    "#plt.grid(which=\"both\")\n",
    "#miu = np.array([-10000.0,-1000.0,-100.0,-10.0,-1.0])\n",
    "#tem = np.array([293.15]*5)\n",
    "#y  = Pv_cal(tem,miu)\n",
    "\n",
    "###     グラフの描画    ###\n",
    "#plt.plot(miu,y)\n",
    "#plt.show()\n",
    "###########################"
   ]
  }
 ],
 "metadata": {
  "kernelspec": {
   "display_name": "Python 3",
   "language": "python",
   "name": "python3"
  },
  "language_info": {
   "codemirror_mode": {
    "name": "ipython",
    "version": 3
   },
   "file_extension": ".py",
   "mimetype": "text/x-python",
   "name": "python",
   "nbconvert_exporter": "python",
   "pygments_lexer": "ipython3",
   "version": "3.6.4"
  }
 },
 "nbformat": 4,
 "nbformat_minor": 2
}
