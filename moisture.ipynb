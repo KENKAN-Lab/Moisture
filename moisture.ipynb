{
 "cells": [
  {
   "cell_type": "code",
   "execution_count": 1,
   "metadata": {},
   "outputs": [
    {
     "name": "stdout",
     "output_type": "stream",
     "text": [
      "Importing Jupyter notebook from moisture_conversion.ipynb\n",
      "Importing Jupyter notebook from vapour_pressure.ipynb\n"
     ]
    }
   ],
   "source": [
    "import nbimporter\n",
    "import moisture_conversion as mc"
   ]
  },
  {
   "cell_type": "markdown",
   "metadata": {},
   "source": [
    "# 温度・水分の状態を保持するモジュール"
   ]
  },
  {
   "cell_type": "code",
   "execution_count": 2,
   "metadata": {},
   "outputs": [],
   "source": [
    "class MiuBasedMoisture():\n",
    "    \n",
    "    def __init__(self, temp, miu):\n",
    "        self.temp = temp\n",
    "        self.miu = miu\n",
    "    \n",
    "    # temp\n",
    "    \n",
    "    def set_temp(self, temp):\n",
    "        self.temp = temp\n",
    "    \n",
    "    def get_temp(self):\n",
    "        return self.temp\n",
    "\n",
    "    # miu\n",
    "    \n",
    "    def set_miu(self, miu):\n",
    "        self.miu = miu\n",
    "        \n",
    "    def get_miu(self):\n",
    "        return self.miu\n",
    "    \n",
    "    # pv\n",
    "    \n",
    "    def set_pv(self, pv):\n",
    "        self.miu = mc.convertPV2Miu(self.temp, pv)\n",
    "    \n",
    "    def get_pv(self):\n",
    "        return mc.convertMiu2Pv(self.temp, self.miu)\n",
    "    \n",
    "    # RH\n",
    "    \n",
    "    def set_RH(self, rh):\n",
    "        self.miu = mc.convertRH2Miu(self.temp, rh)\n",
    "        \n",
    "    def get_RH(self):\n",
    "        return mc.convertMiu2RH(self.temp, self.miu)    "
   ]
  },
  {
   "cell_type": "code",
   "execution_count": null,
   "metadata": {},
   "outputs": [],
   "source": []
  }
 ],
 "metadata": {
  "kernelspec": {
   "display_name": "Python 3",
   "language": "python",
   "name": "python3"
  },
  "language_info": {
   "codemirror_mode": {
    "name": "ipython",
    "version": 3
   },
   "file_extension": ".py",
   "mimetype": "text/x-python",
   "name": "python",
   "nbconvert_exporter": "python",
   "pygments_lexer": "ipython3",
   "version": "3.6.5"
  }
 },
 "nbformat": 4,
 "nbformat_minor": 2
}
