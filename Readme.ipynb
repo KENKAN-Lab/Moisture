{
 "cells": [
  {
   "cell_type": "code",
   "execution_count": null,
   "metadata": {},
   "outputs": [],
   "source": []
  },
  {
   "cell_type": "markdown",
   "metadata": {},
   "source": [
    "<br />\n",
    "\n",
    "# 1-D Heat and Moisture Transfer Calculation  \n",
    "\n",
    "<br />\n"
   ]
  },
  {
   "cell_type": "markdown",
   "metadata": {},
   "source": [
    "## 1. Overview\n",
    "本プログラムは前進型有限差分法を用いた多孔質材料内の熱・水分の移動計算を行うものである。  \n",
    "空気や塩の移動や結氷といった現象への拡張も可能であるが、ここでは一般的な熱と水分（水蒸気・液水）の移動計算までの使用方法について述べる。本プログラムでは以下の計算が行える。  \n",
    "\n",
    "### 本プログラムでできること\n",
    "\n",
    "#### 計算内容（収支式）  \n",
    "- 熱計算  \n",
    "- 熱、水分計算（蒸気拡散支配領域）  \n",
    "- 熱・水分計算（液水領域を含む）  \n",
    "\n",
    "#### 流量計算方法  \n",
    "- 熱（固体熱伝導）（水分の相変化熱）  \n",
    "- 水蒸気（圧力基準　or 水分化学ポテンシャル基準）（絶対湿度基準も実装予定）  \n",
    "- 液水（圧力基準　or 水分化学ポテンシャル基準）  \n",
    "\n",
    "#### 境界条件  \n",
    "- 第一種境界条件（温湿度固定）  \n",
    "- 第二種境界条件（流量固定）  \n",
    "- 第三種境界条件（セル間の流量計算）  \n"
   ]
  },
  {
   "cell_type": "markdown",
   "metadata": {},
   "source": [
    "## 2. Dependency  \n",
    "本プログラムの使用するにあたり必要な作業環境およびモジュールについて説明する。"
   ]
  },
  {
   "cell_type": "markdown",
   "metadata": {},
   "source": [
    "### 2.1 使用言語\n",
    "- python ver.3.6"
   ]
  },
  {
   "cell_type": "markdown",
   "metadata": {},
   "source": [
    "### 2.2 作業環境  \n",
    "- jupyternotebook  \n",
    "    ※nbimporterの導入が必須\n"
   ]
  },
  {
   "cell_type": "markdown",
   "metadata": {},
   "source": [
    "### 2.3 必要なライブラリ  \n",
    "- numpy\n",
    "- matplotlib  \n"
   ]
  },
  {
   "cell_type": "markdown",
   "metadata": {},
   "source": [
    "### 2.4 各モジュール（ファイル）の説明  \n",
    "\n",
    "各モジュールの内容、および必要なファイル・ライブラリは以下に示すとおりである。\n",
    "\n",
    "#### 各モジュールを統括するファイル\n",
    "- 1D_heat_moisture_main.ipynb  \n",
    "    内容；各モジュールを用いることでセルのセッティング、流量計算、収支計算までの一連の流れを示す。  \n",
    "    必要ファイル；以下全てのモジュール  \n",
    "  \n",
    "  \n",
    "#### Cellを構成するモジュール群\n",
    "- gas_water.ipynb  \n",
    "    内容；気体（水蒸気）の状態量・物質量を保持するモジュール  \n",
    "    必要ファイル；moisture_conversion.ipynb  \n",
    "\n",
    "\n",
    "- liquid_water.ipynb  \n",
    "    内容；液体（純水）の状態量・物理量を保持するモジュール  \n",
    "    必要ファイル；property_conversion.ipynb  \n",
    "\n",
    "\n",
    "- solid_material.ipynb  \n",
    "    内容；固体（材料骨格部）の状態量・物理量を保持するモジュール  \n",
    "    必要ファイル；property_conversion.ipynb  \n",
    "\n",
    "\n",
    "#### 流量計算に関するモジュール\n",
    "- flux.ipynb  \n",
    "    内容；熱・水分の流量計算式を管理するモジュール  \n",
    "    必要ファイル；なし\n",
    "   \n",
    "\n",
    "#### 収支計算に関するモジュール  \n",
    "- balance_equation.ipynb  \n",
    "    内容；熱・水分の収支計算式を管理するモジュール  \n",
    "    必要ファイル；なし\n",
    "\n",
    "\n",
    "#### 材料の物性値に関するモジュール群   \n",
    "- property_conversion.ipynb  \n",
    "    内容；各物性値ファイルから必要な情報を取得し、流量計算に適した形に変換するモジュール  \n",
    "    必要ファイル；vapour_pressure, 各種物性値ファイル\n",
    "\n",
    "\n",
    "- van_genuchten.ipynb  \n",
    "    内容；mualeam - vanGenuchtenの水分特性曲線から不飽和透水係数を算出するモデル  \n",
    "    必要ファイル；なし  \n",
    "\n",
    "\n",
    "#### 水分の状態量・物質量の変換に関するモジュール群  \n",
    "⇒gas_waterモジュールに加えても良い気がする\n",
    "\n",
    "- vapour_pressure.ipynb  \n",
    "    内容；温度と水分化学ポテンシャルから水蒸気圧・飽和水蒸気圧・水蒸気圧の温度微分を求めるモジュール  \n",
    "    必要ファイル；なし\n",
    "    \n",
    "\n",
    "- moisture_conversion.ipynb\n",
    "    内容；水蒸気の水分状態（相対湿度・絶対湿度・水蒸気圧・水分化学ポテンシャル）を変換するモジュール  \n",
    "    必要ファイル；vapour_pressure.ipynb \n",
    "\n"
   ]
  },
  {
   "cell_type": "markdown",
   "metadata": {},
   "source": [
    "## 3. Description\n",
    "\n",
    "プログラムの基本的な考え方を以下に示す。  \n",
    "計算では壁体を局所平衡が成り立つよう分割する。このとき分割された壁体の1つをセルと呼称する。  \n",
    "セルは固体・液体・気体の3相から成り立つ。  \n",
    "材料の物性値はセルごとに決定される。  \n",
    "セル間の流量は互いのセルの状態量および物性値を用いることで計算される。  \n"
   ]
  },
  {
   "cell_type": "markdown",
   "metadata": {},
   "source": [
    "<img src=\"picture/readme_no1.jpg\" width= 60%>  "
   ]
  },
  {
   "cell_type": "markdown",
   "metadata": {},
   "source": [
    "### 3.1 セルとは  \n",
    "\n",
    "- セルとは複数の要素によって構成され、その要素数に制約はない。\n",
    "- 主な構成要素は固体（材料骨格部・氷・塩結晶）、液体（水・溶液）、気体（空気・水蒸気）である。\n",
    "- それぞれの構成要素は異なる物理量・状態量を保持している。\n",
    "- ただし一般にセル内では局所平衡が成り立ち、3相の温度や水分の状態は平衡しているものと仮定する。 \n",
    "- 材料の物性値および各種移動係数は\n",
    "水分伝導率などの各種移動係数は、固体と液体、気体全ての物理量に影響を受けるため、各要素が保持するというよりはセルが有する情報とする。"
   ]
  },
  {
   "cell_type": "markdown",
   "metadata": {},
   "source": [
    "### 3.2 流量計算  \n",
    "- 流れとは、隣り合う2つのセルが熱力学的非平衡状態になった際に生じるものである。  \n",
    "- 基本的に熱や物質の流れは隣接するセルのうち、同じ要素の間で生じるものである。（隣接するセル間では液水と材料の間で熱伝導は生じない）\n",
    "- \n",
    "\n",
    "\n",
    "- セルの質点の置き方について\n",
    "    セルの分割方法、質点の分割の仕方についてはいくつか方法が考えられる。\n",
    "    - 質点を全てセルの中心に置く方法（収支計算が簡単）　⇔　\n",
    "    - 質点を全てセルの端に置く方法（流量計算が簡単）　⇔　異なる材料の水分収支を解く際に平衡含水率をどうするのかが難しい\n",
    "    - 境界面のセルのみ質点を端に置き、他はすべてセルの中央に置く方法（質点間の距離計算が複雑）　⇒　計算結果はきれいだがプログラムが膨大に\n",
    "    - 質点を全てセルの中心に置き、境界面のセルのみ体積を半分にする方法（体積の計算が複雑）"
   ]
  },
  {
   "cell_type": "markdown",
   "metadata": {},
   "source": [
    "### 3.3 境界条件  \n",
    "壁の境界（端のセル）では境界内部で成り立つ方程式だけでは解を決定できないため、補助的な拘束条件を課す必要がある。  \n",
    "境界条件は主に三種類存在し以下のように分類できる。\n",
    "\n",
    "- 第一種境界条件（境界温湿度固定）  \n",
    "- 第二種境界条件（流量固定）  \n",
    "- 第三種境界条件（境界に隣接するからの流量計算）   \n",
    "\n",
    "第三種境界条件を用いて空気と壁表面の流量計算を行う場合、セルクラスと同様に空気もクラス化することで流量の計算を行うことが好ましい。\n",
    "この際セルクラスと同様、空気のクラスには空気の物性値および対流伝達率（または総合伝達率など）を保持する。"
   ]
  },
  {
   "cell_type": "markdown",
   "metadata": {},
   "source": [
    "### 3.4 収支計算"
   ]
  },
  {
   "cell_type": "markdown",
   "metadata": {},
   "source": [
    "### 3.5 エラーチェック"
   ]
  },
  {
   "cell_type": "markdown",
   "metadata": {},
   "source": [
    "### 3.6 計算のフローチャート   \n",
    "本プログラムにおける基本的な計算手順は以下のようになる。  \n",
    "\n",
    "<img src=\"caluculationMethod.jpg\" width= 60%>  \n"
   ]
  },
  {
   "cell_type": "code",
   "execution_count": null,
   "metadata": {},
   "outputs": [],
   "source": []
  },
  {
   "cell_type": "markdown",
   "metadata": {},
   "source": [
    "## 4. Demo"
   ]
  },
  {
   "cell_type": "code",
   "execution_count": null,
   "metadata": {},
   "outputs": [],
   "source": []
  },
  {
   "cell_type": "markdown",
   "metadata": {},
   "source": [
    "## 5. License"
   ]
  },
  {
   "cell_type": "code",
   "execution_count": null,
   "metadata": {},
   "outputs": [],
   "source": []
  },
  {
   "cell_type": "markdown",
   "metadata": {},
   "source": [
    "## 6. Authors"
   ]
  },
  {
   "cell_type": "code",
   "execution_count": null,
   "metadata": {},
   "outputs": [],
   "source": []
  },
  {
   "cell_type": "markdown",
   "metadata": {},
   "source": [
    "## 7. References"
   ]
  },
  {
   "cell_type": "code",
   "execution_count": null,
   "metadata": {},
   "outputs": [],
   "source": []
  }
 ],
 "metadata": {
  "kernelspec": {
   "display_name": "Python 3",
   "language": "python",
   "name": "python3"
  },
  "language_info": {
   "codemirror_mode": {
    "name": "ipython",
    "version": 3
   },
   "file_extension": ".py",
   "mimetype": "text/x-python",
   "name": "python",
   "nbconvert_exporter": "python",
   "pygments_lexer": "ipython3",
   "version": "3.6.5"
  }
 },
 "nbformat": 4,
 "nbformat_minor": 2
}
