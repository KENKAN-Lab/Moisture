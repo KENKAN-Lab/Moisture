{
 "cells": [
  {
   "cell_type": "code",
   "execution_count": 1,
   "metadata": {},
   "outputs": [
    {
     "name": "stdout",
     "output_type": "stream",
     "text": [
      "Importing Jupyter notebook from property_conversion.ipynb\n",
      "Importing Jupyter notebook from liquid_water.ipynb\n",
      "Importing Jupyter notebook from gas_water.ipynb\n",
      "Importing Jupyter notebook from moisture_conversion.ipynb\n",
      "Importing Jupyter notebook from vapour_pressure.ipynb\n"
     ]
    }
   ],
   "source": [
    "import nbimporter\n",
    "import property_conversion  as prop"
   ]
  },
  {
   "cell_type": "markdown",
   "metadata": {},
   "source": [
    "# 材料実質部の状態を保持するモジュール"
   ]
  },
  {
   "cell_type": "markdown",
   "metadata": {},
   "source": [
    "材料実質部の状態を保持するクラスを作成する。  \n",
    "本クラスは基本的に熱・水分・物質移動および変換のための変数を保持するモジュールである。  \n",
    "そのため材料実質部はその構成が変化しない場合に限り、熱のみの情報を有する。\n",
    "\n",
    "- $temp$ 絶対温度, K\n",
    "\n",
    "また、材料はその固有の物性として\n",
    "\n",
    "- $\\psi$ 空隙率, %\n",
    "- $C$ 比熱, [J/(kg・K)]  \n",
    "- $\\rho$ 密度, [kg/m3]  \n",
    "- $c\\rho$ 熱容量, [J/(m3・K)]  \n",
    "\n",
    "などを有し、これらは材料物性値ファイルから読み取り専用で読み込むことができる。"
   ]
  },
  {
   "cell_type": "markdown",
   "metadata": {},
   "source": [
    "## クラス定義"
   ]
  },
  {
   "cell_type": "markdown",
   "metadata": {},
   "source": [
    "### 1) 含水率ベース（気液平衡状態）"
   ]
  },
  {
   "cell_type": "code",
   "execution_count": 2,
   "metadata": {},
   "outputs": [],
   "source": [
    "class TempBased():\n",
    "    \n",
    "    def __init__(self, temp, material_name):\n",
    "        self._temp = temp\n",
    "        self.name  = material_name\n",
    "    \n",
    "    # temp\n",
    "    \n",
    "    def set_temp(self, temp):\n",
    "        self._temp = temp\n",
    "    \n",
    "    def get_temp(self):\n",
    "        return self._temp\n",
    "    \n",
    "    temp = property(get_temp, set_temp)\n",
    "\n",
    "    # psi\n",
    "    \n",
    "    def get_psi(self):\n",
    "        return prop.Kernel_MaterialProperty( self.name ).getPsi()\n",
    "    \n",
    "    psi = property(get_psi)\n",
    "    \n",
    "    # C\n",
    "        \n",
    "    def get_C(self):\n",
    "        return prop.Kernel_MaterialProperty( self.name ).getC()\n",
    "    \n",
    "    c = property(get_C)\n",
    "    \n",
    "    # row\n",
    "        \n",
    "    def get_row(self):\n",
    "        return prop.Kernel_MaterialProperty( self.name ).getRow()\n",
    "    \n",
    "    row = property(get_row)\n",
    "    \n",
    "    # crow\n",
    "    \n",
    "    def get_crow(self):\n",
    "        return prop.Kernel_MaterialProperty( self.name ).getCRow()\n",
    "    \n",
    "    crow = property(get_crow)\n",
    "    "
   ]
  },
  {
   "cell_type": "markdown",
   "metadata": {},
   "source": [
    "## 使い方"
   ]
  },
  {
   "cell_type": "markdown",
   "metadata": {},
   "source": [
    "変数の宣言  \n",
    "\n",
    "- 絶対温度 293.15 K\n",
    "- 材料名 BentheimerSandstone  \n",
    "\n",
    "とする。"
   ]
  },
  {
   "cell_type": "code",
   "execution_count": 3,
   "metadata": {},
   "outputs": [],
   "source": [
    "skeleton =  TempBased( 293.15, 'BentheimerSandstone')"
   ]
  },
  {
   "cell_type": "markdown",
   "metadata": {},
   "source": [
    "材料温度の取得"
   ]
  },
  {
   "cell_type": "code",
   "execution_count": 4,
   "metadata": {},
   "outputs": [
    {
     "data": {
      "text/plain": [
       "293.15"
      ]
     },
     "execution_count": 4,
     "metadata": {},
     "output_type": "execute_result"
    }
   ],
   "source": [
    "skeleton.temp"
   ]
  },
  {
   "cell_type": "markdown",
   "metadata": {},
   "source": [
    "材料物性値の取得  \n",
    "- 空隙率"
   ]
  },
  {
   "cell_type": "code",
   "execution_count": 5,
   "metadata": {},
   "outputs": [
    {
     "name": "stdout",
     "output_type": "stream",
     "text": [
      "Importing Jupyter notebook from bentheimer_sandstone.ipynb\n",
      "Importing Jupyter notebook from van_genuchten.ipynb\n"
     ]
    },
    {
     "data": {
      "text/plain": [
       "0.23"
      ]
     },
     "execution_count": 5,
     "metadata": {},
     "output_type": "execute_result"
    }
   ],
   "source": [
    "skeleton.psi"
   ]
  },
  {
   "cell_type": "markdown",
   "metadata": {},
   "source": [
    "- 比熱"
   ]
  },
  {
   "cell_type": "code",
   "execution_count": 6,
   "metadata": {},
   "outputs": [
    {
     "data": {
      "text/plain": [
       "750.0"
      ]
     },
     "execution_count": 6,
     "metadata": {},
     "output_type": "execute_result"
    }
   ],
   "source": [
    "skeleton.c"
   ]
  },
  {
   "cell_type": "markdown",
   "metadata": {},
   "source": [
    "- 密度"
   ]
  },
  {
   "cell_type": "code",
   "execution_count": 7,
   "metadata": {},
   "outputs": [
    {
     "data": {
      "text/plain": [
       "1479.25"
      ]
     },
     "execution_count": 7,
     "metadata": {},
     "output_type": "execute_result"
    }
   ],
   "source": [
    "skeleton.row"
   ]
  },
  {
   "cell_type": "markdown",
   "metadata": {},
   "source": [
    "- 熱容量"
   ]
  },
  {
   "cell_type": "code",
   "execution_count": 8,
   "metadata": {},
   "outputs": [
    {
     "data": {
      "text/plain": [
       "1109437.5"
      ]
     },
     "execution_count": 8,
     "metadata": {},
     "output_type": "execute_result"
    }
   ],
   "source": [
    "skeleton.crow"
   ]
  },
  {
   "cell_type": "code",
   "execution_count": null,
   "metadata": {},
   "outputs": [],
   "source": []
  }
 ],
 "metadata": {
  "kernelspec": {
   "display_name": "Python 3",
   "language": "python",
   "name": "python3"
  },
  "language_info": {
   "codemirror_mode": {
    "name": "ipython",
    "version": 3
   },
   "file_extension": ".py",
   "mimetype": "text/x-python",
   "name": "python",
   "nbconvert_exporter": "python",
   "pygments_lexer": "ipython3",
   "version": "3.6.5"
  }
 },
 "nbformat": 4,
 "nbformat_minor": 2
}
