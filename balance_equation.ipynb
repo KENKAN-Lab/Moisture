{
 "cells": [
  {
   "cell_type": "code",
   "execution_count": 1,
   "metadata": {},
   "outputs": [],
   "source": [
    "import numpy as np"
   ]
  },
  {
   "cell_type": "markdown",
   "metadata": {},
   "source": [
    "$C_r$：水の比熱(specific heat of water)[J/(kg・K)]"
   ]
  },
  {
   "cell_type": "code",
   "execution_count": 2,
   "metadata": {},
   "outputs": [],
   "source": [
    "def Cr():\n",
    "    return 4.18605E+3"
   ]
  },
  {
   "cell_type": "markdown",
   "metadata": {},
   "source": [
    "$\\rho_w$：水の密度(density of water)[kg/m3]"
   ]
  },
  {
   "cell_type": "code",
   "execution_count": 3,
   "metadata": {},
   "outputs": [],
   "source": [
    "def roww():\n",
    "    return 1000.0"
   ]
  },
  {
   "cell_type": "markdown",
   "metadata": {},
   "source": [
    "## 熱・水分の収支計算をするモジュール  \n",
    "\n",
    "あるセルの情報とセルに流出入する流量、時間差分を入力することで微小時間後の熱・水分の収支を計算するモジュール。  \n",
    "\n",
    "流量に関してはmns側はセルに流入する方向が正、pls側はセルから流出する方が正、となっている。\n",
    "\n",
    "熱に関しては局所平衡が成り立っていることが前提となり、固相と液相・気相の温度は一致する。  \n",
    "また、蒸発潜熱については水分の蒸発量を水蒸気の収支量から算出することで計算した。\n",
    "\n",
    "水分の収支計算は、\n",
    "\n",
    "- 含水率ベース（高含水率域）\n",
    "- 水分化学ポテンシャルベース（中間）\n",
    "- 水蒸気圧ベース（低含水率域）\n",
    "\n",
    "の3種類が一般的であるが、含水状態によってそれぞれ使い分けが必要である。  \n",
    "それぞれの特徴については私（高取）の知る限りでは、以下のような認識である。\n",
    "\n",
    "- 含水率ベース：低含水域においては変化量が非常に小さいため使用が困難。\n",
    "- 水分化学ポテンシャルベース：広い範囲で使用可能だが、非常に高含水な領域（RH>0.99999、miu>-7）や非常に低含水な領域（RH<0.2）のような状況下では$\\frac{\\partial\\mu}{\\partial \\psi}$が発散するため計算が困難になる。\n",
    "- 水蒸気圧ベース：高含水域においては発散しやすくなる。\n",
    "\n",
    "そのため、ここでは水分化学ポテンシャルベースでの収支計算を基本としクラスを作成した。\n"
   ]
  },
  {
   "cell_type": "code",
   "execution_count": 12,
   "metadata": {},
   "outputs": [],
   "source": [
    "class MiuBased():\n",
    "\n",
    "    def __init__( self, cell, flux_mns, flux_pls, dt ):\n",
    "        self.cell     = cell\n",
    "        self.dt       = dt\n",
    "        self.flux_mns = flux_mns\n",
    "        self.flux_pls = flux_pls\n",
    "         \n",
    "    # 熱収支計算\n",
    "    def cal_ntemp( self ):\n",
    "        if hasattr(self.cell, 'water'):\n",
    "            crow_self = self.cell.material.crow + Cr() * roww() * self.cell.water.phi\n",
    "            W_self    = -(self.flux_mns.jv - self.flux_pls.jv)\n",
    "        else:\n",
    "            crow_self = self.cell.material.crow\n",
    "            W_self    = 0.0\n",
    "        return cal_newtemp(crow = crow_self,\\\n",
    "                           temp = self.cell.material.temp,\\\n",
    "                           dq   = self.flux_mns.qs - self.flux_pls.qs,\\\n",
    "                           W    = W_self,\\\n",
    "                           dx   = self.cell.dx,\\\n",
    "                           dt   = self.dt )\n",
    "    \n",
    "    temp = property(cal_ntemp)\n",
    "        \n",
    "    # 水分収支計算\n",
    "    def cal_nmiu( self ):\n",
    "        return cal_newmiu(dphi = self.cell.water.dphi,\\\n",
    "                          miu  = self.cell.water.miu,\\\n",
    "                          djw  = ( self.flux_mns.jv + self.flux_mns.jl ) - ( self.flux_pls.jv + self.flux_pls.jl ),\\\n",
    "                          dx   = self.cell.dx,\\\n",
    "                          dt   = self.dt )\n",
    "    \n",
    "    miu = property(cal_nmiu)\n",
    "    "
   ]
  },
  {
   "cell_type": "markdown",
   "metadata": {},
   "source": [
    "### 熱収支式  "
   ]
  },
  {
   "cell_type": "markdown",
   "metadata": {},
   "source": [
    "  \n",
    "基礎方程式：$c\\rho\\frac{\\partial T}{\\partial t} = -\\nabla・q + rW$  \n",
    "\n",
    "時間差分解：$T_{t+1} = T_{t} + \\frac{(q(x)-q(x+1) - rW )}{dx}\\frac{dt}{c\\rho}$  \n"
   ]
  },
  {
   "cell_type": "code",
   "execution_count": 5,
   "metadata": {},
   "outputs": [],
   "source": [
    "def ratent_heat( temp ):\n",
    "    return ( 597.5 - 0.559 * ( temp - 273.16 ) ) * 4186.05"
   ]
  },
  {
   "cell_type": "code",
   "execution_count": 10,
   "metadata": {},
   "outputs": [
    {
     "data": {
      "text/plain": [
       "2454388.2360195"
      ]
     },
     "execution_count": 10,
     "metadata": {},
     "output_type": "execute_result"
    }
   ],
   "source": [
    "#使用例\n",
    "ratent_heat( 293.15 )"
   ]
  },
  {
   "cell_type": "code",
   "execution_count": 6,
   "metadata": {},
   "outputs": [],
   "source": [
    "def cal_newtemp( crow, temp, dq, W, dx, dt ):\n",
    "    return temp + ( dq - ratent_heat( temp ) * W ) / dx * ( dt / crow )"
   ]
  },
  {
   "cell_type": "code",
   "execution_count": 11,
   "metadata": {},
   "outputs": [
    {
     "data": {
      "text/plain": [
       "283.1499959837815"
      ]
     },
     "execution_count": 11,
     "metadata": {},
     "output_type": "execute_result"
    }
   ],
   "source": [
    "# 使用例\n",
    "cal_newtemp( crow = 1109437.5, temp = 283.15, dq = -45.0, W = -1.7861334003233654e-07, dx = 0.1, dt = 0.01 )"
   ]
  },
  {
   "cell_type": "markdown",
   "metadata": {},
   "source": [
    "\n",
    "### 水分収支式  \n",
    "基礎方程式：$\\frac{\\partial[(\\phi_{0}-\\psi)\\rho_{v}+\\rho_{w}\\psi]}{\\partial t} = -\\nabla・J_w$  \n",
    "\n",
    "$\\phi_{0}$：絶乾時の材料の空隙率[-]  \n",
    "$\\psi$：含水率[-]  \n",
    "$\\phi_{0}-\\psi$：含水率$\\psi$の時の空隙率[-]  \n",
    "$\\rho_w, \\rho_v$：それぞれ液水、水蒸気の密度[kg/m3]  \n",
    "$J_w$：液水の流量\n",
    "\n",
    "#### 水分化学ポテンシャルベース  \n",
    "\n",
    "$\\rho_{w}\\frac{\\partial\\psi}{\\partial \\mu}\\frac{\\partial\\mu}{\\partial t} = -\\nabla・J_w$  \n",
    "\n",
    "時間差分解：$\\mu_{t+1} = \\mu_{t} + \\frac{J_w(x) -J_w(x+1)}{dx} \\frac{\\partial\\mu}{\\partial \\psi} \\frac{dt}{\\rho_{w}}$  "
   ]
  },
  {
   "cell_type": "code",
   "execution_count": 7,
   "metadata": {},
   "outputs": [],
   "source": [
    "def cal_newmiu( dphi, miu, djw, dx, dt ):\n",
    "    return miu + djw / dx / dphi * ( dt / roww() )"
   ]
  },
  {
   "cell_type": "markdown",
   "metadata": {},
   "source": [
    "\n",
    "#### 含水率ベース（高含水域）  \n",
    "$\\rho_w >> \\rho_v,　\\rho_w \\approx const$、より高含水域では、水分の収支式を以下のように近似できる。  \n",
    "\n",
    "$\\rho_{w}\\frac{\\partial\\psi}{\\partial t} = -\\nabla・J_w$  \n",
    "\n",
    "時間差分解：$\\phi_{t+1} = \\phi_{t} - \\frac{J_w(x) -J_w(x+1)}{dx} \\frac{dt}{\\rho_{w}}$"
   ]
  },
  {
   "cell_type": "code",
   "execution_count": 8,
   "metadata": {},
   "outputs": [],
   "source": [
    "def cal_newphi( phi, djw, dx, dt ):\n",
    "    return phi + djw / dx * ( dt / roww() )"
   ]
  },
  {
   "cell_type": "markdown",
   "metadata": {},
   "source": [
    "\n",
    "#### ハイグロスコピック（蒸気拡散支配領域）    \n",
    "\n",
    "$(\\phi_0\\gamma'+\\kappa) \\frac{\\partial X}{\\partial t} - \\nu \\frac{\\partial T}{\\partial t} = \\lambda'_x\\frac{\\partial^2 X}{\\partial x^2}$  \n",
    "\n",
    "$- r\\kappa \\frac{\\partial X}{\\partial t}  + (c\\rho +r\\nu) \\frac{\\partial T}{\\partial t} = \\lambda \\frac{\\partial^2 T}{\\partial x^2}$  \n",
    "\n",
    "ただし  \n",
    "$\\kappa = \\rho_w (\\frac{\\partial \\psi}{\\partial X})_T$,　  $\\nu = \\rho_w(\\frac{\\partial \\psi}{\\partial T})_X$  \n",
    "\n",
    "$\\gamma'$：乾燥空気の密度[kg/m3]"
   ]
  },
  {
   "cell_type": "code",
   "execution_count": null,
   "metadata": {},
   "outputs": [],
   "source": []
  }
 ],
 "metadata": {
  "kernelspec": {
   "display_name": "Python 3",
   "language": "python",
   "name": "python3"
  },
  "language_info": {
   "codemirror_mode": {
    "name": "ipython",
    "version": 3
   },
   "file_extension": ".py",
   "mimetype": "text/x-python",
   "name": "python",
   "nbconvert_exporter": "python",
   "pygments_lexer": "ipython3",
   "version": "3.6.5"
  }
 },
 "nbformat": 4,
 "nbformat_minor": 2
}
