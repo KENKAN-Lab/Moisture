{
 "cells": [
  {
   "cell_type": "code",
   "execution_count": 5,
   "metadata": {},
   "outputs": [],
   "source": [
    "import numpy as np"
   ]
  },
  {
   "cell_type": "markdown",
   "metadata": {},
   "source": [
    "### 熱・水分の収支を計算するクラス  \n",
    "#### 熱収支式  \n",
    "基礎方程式：$c\\rho\\frac{\\partial T}{\\partial t} = -\\nabla・q$  \n",
    "\n",
    "時間差分解：$T_{t+1} = T_{t} - \\frac{q(x)-q(x+1)}{dx}\\frac{dt}{c\\rho}$  \n",
    "\n",
    "#### 水分収支式  \n",
    "基礎方程式：$\\frac{\\partial[(\\phi_{0}-\\psi)\\rho_{v}+\\rho_{w}\\psi]}{\\partial t} = -\\nabla・J_w$  \n",
    "\n",
    "$\\phi_{0}$：絶乾時の材料の空隙率[-]  \n",
    "$\\psi$：含水率[-]  \n",
    "$\\phi_{0}-\\psi$：含水率$\\psi$の時の空隙率[-]  \n",
    "$\\rho_w, \\rho_v$：それぞれ液水、水蒸気の密度[kg/m3]  \n",
    "$J_w$：液水の流量\n",
    "\n",
    "#### 高含水域（含水率ベース）  \n",
    "$\\rho_w >> \\rho_v,　\\rho_w \\approx const$、より高含水域では、水分の収支式を以下のように近似できる。  \n",
    "\n",
    "$\\rho_{w}\\frac{\\partial\\psi}{\\partial t} = -\\nabla・J_w$  \n",
    "\n",
    "時間差分解：$\\phi_{t+1} = \\phi_{t} - \\frac{J_w(x) -J_w(x+1)}{dx} \\frac{dt}{\\rho_{w}}$\n",
    "\n",
    "#### 高含水域（水分化学ポテンシャルベース）    \n",
    "\n",
    "$\\rho_{w}\\frac{\\partial\\psi}{\\partial \\mu}\\frac{\\partial\\mu}{\\partial t} = -\\nabla・J_w$  \n",
    "\n",
    "時間差分解：$\\mu_{t+1} = \\mu_{t} - \\frac{J_w(x) -J_w(x+1)}{dx} \\frac{\\partial\\mu}{\\partial \\psi} \\frac{dt}{\\rho_{w}}$  \n",
    "\n",
    "#### 蒸気拡散支配領域（ハイグロスコピック）    \n",
    "\n",
    "$(\\phi_0\\gamma'+\\kappa) \\frac{\\partial X}{\\partial t} - \\nu \\frac{\\partial T}{\\partial t} = \\lambda'_x\\frac{\\partial^2 X}{\\partial x^2}$  \n",
    "\n",
    "$- r\\kappa \\frac{\\partial X}{\\partial t}  + (c\\rho +r\\nu) \\frac{\\partial T}{\\partial t} = \\lambda \\frac{\\partial^2 T}{\\partial x^2}$  \n",
    "\n",
    "ただし  \n",
    "$\\kappa = \\rho_w (\\frac{\\partial \\psi}{\\partial X})_T$,　  $\\nu = \\rho_w(\\frac{\\partial \\psi}{\\partial T})_X$  \n",
    "\n",
    "$\\gamma'$：乾燥空気の密度[kg/m3]\n",
    "\n"
   ]
  },
  {
   "cell_type": "code",
   "execution_count": 6,
   "metadata": {},
   "outputs": [],
   "source": [
    "class Calculation():\n",
    "\n",
    "    roww = 1000.0\n",
    "    \n",
    "    def __init__(dx, dt):\n",
    "        self.dx  = dx\n",
    "        self.dt  = dt\n",
    "    \n",
    "    def newtem(tem, dq, crow):\n",
    "        return tem - dq/ self.dx* (self.dt/crow)\n",
    "    \n",
    "    def newphi(phi,dj):\n",
    "        return phi - dj/ self.dx* (self.dt/self.roww)\n",
    "    \n",
    "    def newmiu(miu,dj,dphi):\n",
    "        return miu - dj/ self.dx* (self.dt/self.roww) /dphi\n",
    "    "
   ]
  },
  {
   "cell_type": "code",
   "execution_count": null,
   "metadata": {},
   "outputs": [],
   "source": []
  }
 ],
 "metadata": {
  "kernelspec": {
   "display_name": "Python 3",
   "language": "python",
   "name": "python3"
  },
  "language_info": {
   "codemirror_mode": {
    "name": "ipython",
    "version": 3
   },
   "file_extension": ".py",
   "mimetype": "text/x-python",
   "name": "python",
   "nbconvert_exporter": "python",
   "pygments_lexer": "ipython3",
   "version": "3.6.4"
  }
 },
 "nbformat": 4,
 "nbformat_minor": 2
}
