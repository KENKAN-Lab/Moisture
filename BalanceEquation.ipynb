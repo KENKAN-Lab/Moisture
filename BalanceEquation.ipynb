{
 "cells": [
  {
   "cell_type": "code",
   "execution_count": 5,
   "metadata": {},
   "outputs": [],
   "source": [
    "import numpy as np"
   ]
  },
  {
   "cell_type": "markdown",
   "metadata": {},
   "source": [
    "## 熱・水分の収支計算をするクラス  "
   ]
  },
  {
   "cell_type": "code",
   "execution_count": 12,
   "metadata": {},
   "outputs": [],
   "source": [
    "class Calculation():\n",
    "\n",
    "    def __init__( self, cell, dt ):\n",
    "        self.cell     = cell\n",
    "        self.dt       = dt\n",
    "         \n",
    "    # 熱・水分収支計算\n",
    "    def differenceOfFlux( self, flux_mns, flux_pls ):\n",
    "        self.flux_mns = flux_mns\n",
    "        self.flux_pls = flux_pls\n",
    "    \n",
    "    def newTemp( self ):\n",
    "        self.W = self.flux_mns.jv - self.flux_pls.jv\n",
    "        self.temp = cal_newTemp( crow = self.cell.crow, temp = self.cell.temp, dq = ( self.flux_mns.qs - self.flux_pls.qs ),\\\n",
    "                                dx = self.cell.dx, W = self.W, dt = self.dt )\n",
    "    def newTemp_NoMoisture( self ):\n",
    "        self.temp = cal_newTemp_noMoisture( crow = self.cell.crow, temp = self.cell.temp, dq = ( self.flux_mns.qs - self.flux_pls.qs ),\\\n",
    "                                           dx = self.cell.dx, dt = self.dt )\n",
    "        \n",
    "    def newMiu( self ):\n",
    "        self.djw = ( self.flux_mns.jv + self.flux_mns.jl ) - ( self.flux_pls.jv + self.flux_pls.jl )\n",
    "        self.miu = cal_newMiu( dphi = self.cell.dphi, miu = self.cell.miu, djw = self.djw, dx = self.cell.dx, dt = self.dt )\n",
    "        \n",
    "    # 境界セルの計算\n",
    "    # 熱収支\n",
    "    def boundaryCell_temp( self, boundaryFlux, boundary ):\n",
    "        if boundary.heatcondition  == 'dirichlit':\n",
    "            self.temp = boundary.temp\n",
    "        elif boundary.heatcondition == 'neumann':\n",
    "            self.dqs  = neumann_Heat( self.cell, boundaryFlux, boundary.qs )\n",
    "            self.temp = cal_newTemp( self.cell.crow, self.cell.temp, self.dqs, self.cell.dx, self.djv, self.dt )\n",
    "        elif boundary.heatcondition ==  'robin':\n",
    "            self.dqs  = robin_Heat_Air( AL = boundary.al, tempOut = boundary.temp, cell = self.cell, flux = boundaryFlux )\n",
    "            self.temp = cal_newTemp( crow = self.cell.crow, temp = self.cell.temp, dq = self.dqs,\\\n",
    "                                    dx = self.cell.dx, W = self.djv, dt = self.dt )  # 水の収支から必ず先に解くべし\n",
    "        else :\n",
    "            raise ValueError(\"境界条件クラスboundaryのsetHeatConditionにはdirichlit, neumann,robinのいずれかを入力してください\" )\n",
    "            \n",
    "    # 水分収支\n",
    "    def boundaryCell_Miu( self, boundaryFlux, boundary ):\n",
    "        if   boundary.vapourcondition == 'dirichlit':\n",
    "            self.miu = boundary.miu\n",
    "        elif boundary.vapourcondition == 'neumann':\n",
    "            self.djv  = neumann_Vapour( self.cell, boundaryFlux, boundary.jv )\n",
    "        elif boundary.vapourcondition == 'robin':\n",
    "            self.djv  = robin_Vapour_Air( boundary.aldp, boundary.pv, self.cell, boundaryFlux )\n",
    "        else :\n",
    "            raise ValueError(\"境界条件クラスboundaryのsetVapourConditionにはdirichlit, neumann,robinのいずれかを入力してください\" )\n",
    "            \n",
    "        if   boundary.liquidcondition == 'dirichlit':\n",
    "            self.miu = boundary.miu\n",
    "        elif boundary.liquidcondition == 'neumann':\n",
    "            self.djl  = neumann_Liquid( self.cell, boundaryFlux, boundary.jl )\n",
    "        else :\n",
    "            raise ValueError(\"境界条件クラスboundaryのsetVapourConditionにはdirichlit, neumann,robinのいずれかを入力してください\" )\n",
    "        \n",
    "        self.miu = cal_newMiu( dphi = self.cell.dphi, miu = self.cell.miu, djw = self.djv + self.djl, dx = self.cell.dx, dt = self.dt )\n",
    "    "
   ]
  },
  {
   "cell_type": "code",
   "execution_count": null,
   "metadata": {},
   "outputs": [],
   "source": [
    "c = Calculation(0.01, 0.1 )"
   ]
  },
  {
   "cell_type": "markdown",
   "metadata": {},
   "source": [
    "### 熱収支式  \n",
    "#### 水分収支無し  \n",
    "\n",
    "基礎方程式：$c\\rho\\frac{\\partial T}{\\partial t} = -\\nabla・q$  \n",
    "\n",
    "時間差分解：$T_{t+1} = T_{t} - \\frac{q(x)-q(x+1)}{dx}\\frac{dt}{c\\rho}$  "
   ]
  },
  {
   "cell_type": "code",
   "execution_count": null,
   "metadata": {},
   "outputs": [],
   "source": [
    "def cal_newTemp_noMoisture( crow, temp, dq, dx, dt ):\n",
    "    return temp + dq / dx * ( dt / crow )"
   ]
  },
  {
   "cell_type": "markdown",
   "metadata": {},
   "source": [
    "#### 水分収支あり  \n",
    "基礎方程式：$c\\rho\\frac{\\partial T}{\\partial t} = -\\nabla・q + rW$  \n",
    "\n",
    "時間差分解：$T_{t+1} = T_{t} - \\frac{(q(x)-q(x+1) - rW )}{dx}\\frac{dt}{c\\rho}$  \n"
   ]
  },
  {
   "cell_type": "code",
   "execution_count": 6,
   "metadata": {},
   "outputs": [],
   "source": [
    "def cal_newTemp( crow, temp, dq, W, dx, dt ):\n",
    "    r = ratentHeat( temp )\n",
    "    return temp + ( dq + r * W ) / dx * ( dt / crow )"
   ]
  },
  {
   "cell_type": "code",
   "execution_count": 5,
   "metadata": {},
   "outputs": [],
   "source": [
    "def ratentHeat( temp ):\n",
    "    return ( 597.5 - 0.559 * ( temp - 273.16 ) ) * 4186.05"
   ]
  },
  {
   "cell_type": "markdown",
   "metadata": {},
   "source": [
    "\n",
    "### 水分収支式  \n",
    "基礎方程式：$\\frac{\\partial[(\\phi_{0}-\\psi)\\rho_{v}+\\rho_{w}\\psi]}{\\partial t} = -\\nabla・J_w$  \n",
    "\n",
    "$\\phi_{0}$：絶乾時の材料の空隙率[-]  \n",
    "$\\psi$：含水率[-]  \n",
    "$\\phi_{0}-\\psi$：含水率$\\psi$の時の空隙率[-]  \n",
    "$\\rho_w, \\rho_v$：それぞれ液水、水蒸気の密度[kg/m3]  \n",
    "$J_w$：液水の流量\n",
    "\n",
    "#### 水分化学ポテンシャルベース  \n",
    "\n",
    "$\\rho_{w}\\frac{\\partial\\psi}{\\partial \\mu}\\frac{\\partial\\mu}{\\partial t} = -\\nabla・J_w$  \n",
    "\n",
    "時間差分解：$\\mu_{t+1} = \\mu_{t} - \\frac{J_w(x) -J_w(x+1)}{dx} \\frac{\\partial\\mu}{\\partial \\psi} \\frac{dt}{\\rho_{w}}$  "
   ]
  },
  {
   "cell_type": "code",
   "execution_count": 7,
   "metadata": {},
   "outputs": [],
   "source": [
    "def cal_newMiu( dphi, miu, djw, dx, dt ):\n",
    "    roww = 1000.0\n",
    "    return miu + djw / dx / dphi * ( dt / roww )"
   ]
  },
  {
   "cell_type": "markdown",
   "metadata": {},
   "source": [
    "\n",
    "#### 含水率ベース（高含水域）  \n",
    "$\\rho_w >> \\rho_v,　\\rho_w \\approx const$、より高含水域では、水分の収支式を以下のように近似できる。  \n",
    "\n",
    "$\\rho_{w}\\frac{\\partial\\psi}{\\partial t} = -\\nabla・J_w$  \n",
    "\n",
    "時間差分解：$\\phi_{t+1} = \\phi_{t} - \\frac{J_w(x) -J_w(x+1)}{dx} \\frac{dt}{\\rho_{w}}$"
   ]
  },
  {
   "cell_type": "code",
   "execution_count": null,
   "metadata": {},
   "outputs": [],
   "source": [
    "def cal_newPhi( phi, djw, dx, dt ):\n",
    "    roww = 1000.0\n",
    "    return phi + djw / dx * ( dt / roww )"
   ]
  },
  {
   "cell_type": "markdown",
   "metadata": {},
   "source": [
    "\n",
    "#### ハイグロスコピック（蒸気拡散支配領域）    \n",
    "\n",
    "$(\\phi_0\\gamma'+\\kappa) \\frac{\\partial X}{\\partial t} - \\nu \\frac{\\partial T}{\\partial t} = \\lambda'_x\\frac{\\partial^2 X}{\\partial x^2}$  \n",
    "\n",
    "$- r\\kappa \\frac{\\partial X}{\\partial t}  + (c\\rho +r\\nu) \\frac{\\partial T}{\\partial t} = \\lambda \\frac{\\partial^2 T}{\\partial x^2}$  \n",
    "\n",
    "ただし  \n",
    "$\\kappa = \\rho_w (\\frac{\\partial \\psi}{\\partial X})_T$,　  $\\nu = \\rho_w(\\frac{\\partial \\psi}{\\partial T})_X$  \n",
    "\n",
    "$\\gamma'$：乾燥空気の密度[kg/m3]"
   ]
  },
  {
   "cell_type": "code",
   "execution_count": 1,
   "metadata": {},
   "outputs": [],
   "source": [
    "# 未実装"
   ]
  },
  {
   "cell_type": "markdown",
   "metadata": {},
   "source": [
    "### 境界条件を計算する関数群"
   ]
  },
  {
   "cell_type": "markdown",
   "metadata": {},
   "source": [
    "### 境界条件のクラス  \n",
    "cellクラスと同様に構造体として値を保持するだけのクラス  \n",
    "境界の温度・湿度情報、境界の流量情報を保持する  \n",
    "Dirichlet境界条件  \n",
    "Neumann境界条件  \n",
    "Robin境界条件  \n",
    "に対応する（2018/07/18時点）  \n",
    "それぞれheatcondition, vapourcondition, liquidconditionには  \n",
    "\"dirichlet\", \"neumann\", \"robin\"のいずれかを入力すること"
   ]
  },
  {
   "cell_type": "code",
   "execution_count": 3,
   "metadata": {},
   "outputs": [],
   "source": [
    "class BoundaryCondition():\n",
    "    \n",
    "    def __init__( self, position ):\n",
    "        self.position = position\n",
    "        \n",
    "    ######################################\n",
    "    # 境界条件情報\n",
    "    # 熱境界情報\n",
    "    def setHeatCondition( self, initial ):\n",
    "        self.heatcondition = initial\n",
    "    def setVapourCondition( self, initial ):\n",
    "        self.vapourcondition = initial\n",
    "    def setLiquidCondition( self, initial ):\n",
    "        self.liquidcondition = initial\n",
    "     \n",
    "    ######################################\n",
    "    # 温度情報\n",
    "    def setTemp( self, initial = 0.0 ):\n",
    "        self.temp = initial\n",
    "        \n",
    "    ######################################\n",
    "    # 水蒸気の情報\n",
    "    def setRH( self, initial = 0.0  ):\n",
    "        self.rh = initial\n",
    "    def setMiu( self, initial = 0.0 ):\n",
    "        self.miu = initial \n",
    "    def setPv( self, initial = 0.0 ):\n",
    "        self.pv = initial\n",
    "        \n",
    "    ######################################\n",
    "    # 流量の情報\n",
    "    def setQs( self, initial = 0.0 ):\n",
    "        self.qs = initial\n",
    "    def setJv( self, initial = 0.0 ):\n",
    "        self.jv = initial \n",
    "    def setJl( self, initial = 0.0 ):\n",
    "        self.jl = initial \n",
    "        \n",
    "    ######################################\n",
    "    # 伝達率\n",
    "    def setAL( self, initial = 0.0 ):\n",
    "        self.al = initial\n",
    "    def setALDP( self, initial = 0.0 ):\n",
    "        self.aldp = initial\n",
    "        "
   ]
  },
  {
   "cell_type": "markdown",
   "metadata": {},
   "source": [
    "#### 熱伝達  \n",
    "定義：$\\dot q = -\\alpha \\Delta T$    \n",
    "$\\alpha$：熱伝達率[W/m2K]"
   ]
  },
  {
   "cell_type": "code",
   "execution_count": 4,
   "metadata": {},
   "outputs": [],
   "source": [
    "def heatConvection( AL= 0.0, dtemp= 0.0 ):\n",
    "    return AL * dtemp"
   ]
  },
  {
   "cell_type": "markdown",
   "metadata": {},
   "source": [
    "#### 水分伝達（水蒸気圧勾配）  \n",
    "定義：$J_v = -\\alpha^{'}_{p}\\Delta P_v$  \n",
    "$J_v$：気相水分流量[kg/m2s]  \n",
    "$\\alpha^{'}_{p}$：水分伝達率[kg/m2sPa]  \n",
    "$P_v$：水蒸気圧[Pa]"
   ]
  },
  {
   "cell_type": "code",
   "execution_count": 5,
   "metadata": {},
   "outputs": [],
   "source": [
    "def vapourConvection_pressure( ALDP= 0.0, dpv= 0.0 ):\n",
    "    return ALDP * dpv"
   ]
  },
  {
   "cell_type": "markdown",
   "metadata": {},
   "source": [
    "#### 第一種境界条件  \n",
    "端のセルにある温度・水分状態を与える"
   ]
  },
  {
   "cell_type": "markdown",
   "metadata": {},
   "source": [
    "#### 第二境界条件\n",
    "端のセルにある流量を与える"
   ]
  },
  {
   "cell_type": "code",
   "execution_count": 8,
   "metadata": {},
   "outputs": [],
   "source": [
    "def neumann_Heat( cell, flux, qs, dt ):\n",
    "    if cell.position == 0:\n",
    "        dq = qs - flux.qs\n",
    "    else :\n",
    "        dq = flux.qs - qs\n",
    "    return cal_newTemp( cell.crow, cell.temp, dq, cell.dx, dt )\n",
    "\n",
    "def neumann_Liquid( cell, flux, jl ):\n",
    "    if cell.position == 0:\n",
    "        djl = jl - flux.jl\n",
    "    else :\n",
    "        djl = flux.jl - jl\n",
    "    return djl\n",
    "\n",
    "def neumann_Vapour( cell, flux, jv ):\n",
    "    if cell.position == 0:\n",
    "        djv = jv - flux.jv\n",
    "    else :\n",
    "        djv = flux.jv - jv\n",
    "    return djv\n"
   ]
  },
  {
   "cell_type": "markdown",
   "metadata": {},
   "source": [
    "#### 第三種境界条件  \n",
    "端に隣接するセルにある温度・水分状態を与えることで流量計算を行う  \n",
    "\n",
    "関数：robin_Heat_Air( AL, tempOut, cell, flux, qs, dt )  \n",
    "…空気との熱伝達を行う場合  \n",
    "\n",
    "関数：robin_Water_Air( ALD, pvOut, cell, flux, jv, jl, dt )  \n",
    "…空気との水分伝達を行う場合  \n",
    "\n",
    "※ 一定塩濃度の塩溶液と接する...といったような場合は第一種境界条件で良い"
   ]
  },
  {
   "cell_type": "code",
   "execution_count": 10,
   "metadata": {},
   "outputs": [],
   "source": [
    "def robin_Heat_Air( AL, tempOut, cell, flux ):\n",
    "    if cell.position == 0:\n",
    "        dtemp = tempOut - cell.temp\n",
    "        qb = heatConvection( AL, dtemp )\n",
    "        dq = qb - flux.qs\n",
    "    else:\n",
    "        dtemp = cell.temp - tempOut\n",
    "        qb = heatConvection( AL, dtemp )\n",
    "        dq = flux.qs - qb\n",
    "    return dq\n",
    "\n",
    "def robin_Vapour_Air( ALDP, pvOut, cell, flux ):\n",
    "    if cell.position == 0:\n",
    "        dpv = pvOut - cell.pv\n",
    "        jvb = vapourConvection_pressure( ALDP, dpv )\n",
    "        djv = jvb - flux.jv\n",
    "    else:\n",
    "        dpv = cell.pv - pvOut \n",
    "        jvb = vapourConvection_pressure( ALDP, dpv )\n",
    "        djv = flux.jv - jvb\n",
    "    return djv"
   ]
  },
  {
   "cell_type": "code",
   "execution_count": null,
   "metadata": {},
   "outputs": [],
   "source": []
  }
 ],
 "metadata": {
  "kernelspec": {
   "display_name": "Python 3",
   "language": "python",
   "name": "python3"
  },
  "language_info": {
   "codemirror_mode": {
    "name": "ipython",
    "version": 3
   },
   "file_extension": ".py",
   "mimetype": "text/x-python",
   "name": "python",
   "nbconvert_exporter": "python",
   "pygments_lexer": "ipython3",
   "version": "3.6.4"
  }
 },
 "nbformat": 4,
 "nbformat_minor": 2
}
